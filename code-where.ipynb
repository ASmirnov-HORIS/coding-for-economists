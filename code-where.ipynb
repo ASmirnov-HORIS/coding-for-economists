{
 "cells": [
  {
   "cell_type": "markdown",
   "metadata": {},
   "source": [
    "# Writing code\n",
    "\n",
    "In this chapter, we'll look at the different options for writing code.\n",
    "\n",
    "In previous chapters, we briefly met some ways to write (and run) code. Here, we'll be a bit more systematic so that, by the end of the chapter, you'll be comfortable writing scripts, notebooks, and even markdown with executable code chunks. Scripts and notebooks are by far the most common ways to run code.\n",
    "\n",
    "| What | How to use  | Prerequisites | Pros | Cons\n",
    "|------|----------------|---------------|---------------|---------------|\n",
    "| Script, eg `script.py`   |   1. Run `python script.py` on the command line; 2. 'Run in interactive window' in an integrated development environment (IDE)         | 1. Python installation,  2. Python installation + an IDE with Python support, eg Visual Studio Code. | Can be run all-in-one or step-by-step as needed. Very powerful tools available to aid coding in scripts. De facto standard for production-quality code. Can be imported by other scripts. | Not very good if you want to have lots of text alongside code.\n",
    "| Jupyter Notebook, eg `notebook.ipynb`   | 1.  In the same folder as the file, run `jupyter lab` on the command line, which will open a browser window, then follow the options to open the relevant file, 2. Open the file with Visual Studio Code.     |    1. Python installation with jupyter lab installed (install by running `pip install jupyterlab` on the command line), 2. Everything in 1 + Visual Studio Code and the VS Code Jupyter extension.  | Code and text can alternate in the same document. Rich outputs of code can be integrated into document. Can export to PDF, HTML, and more, with control over whether code inputs/outputs are shown. Can be run all-in-one or step-by-step as needed. | Fussy to use with version control. Code and text cannot be mixed in same 'cell'. Not easy to import in other code files.\n",
    "| Markdown with executable code chunks, eg `markdown_script.md`   | To produce markdown output, use `codebraid pandoc --from markdown --to markdown markdown_script.md` on the command line. (**jupytext** is a good alternative to codebraid.)  | Installations of Python, codebraid (a Python package), and pandoc (an application). | Allows for true mixing of text and code. Can export to wide variety of other formats, such as PDF and HTML, with control over whether code inputs/outputs are shown. | Must be run all-in-one so cannot see outputs of individual code-chunks as you go. Cannot be imported by other code files.\n",
    "\n",
    "Some of these options make use of the command line, a way to issue text-based instructions to your computer. Remember, the command line (aka the terminal) can be accessed via the Terminal app on Mac, the Command Prompt app on Windows, or `ctrl+alt+t` in Linux. To open up the command line within Visual Studio Code, you can use the ``⌃+` `` keyboard shortcut (Mac) or ``ctrl+` `` (Windows), or click \"View > Terminal\".\n",
    "\n",
    "```{tip}\n",
    "The command line is covered in more detail in a subsequent chapter.\n",
    "```\n",
    "\n",
    "*Markdown* is mentioned too. Markdown is, like HTML, a mark-up language: a way of specifying rich text options (such as links, including an image, displaying bullets, italics) using simple text commands. What this means is that by using a few extra symbols, Markdown creates a document with rich features. For example, here is the markdown syntax for showing different text styles:\n",
    "\n",
    "```markdown\n",
    "*this is displayed in italics*\n",
    "**this is displayed in bold**\n",
    "```\n",
    "\n",
    "Markdown also supports LaTeX equations. Because all you need to write markdown is a simple text editor, it has found huge popularity in the coding and academic communities. Sites like github use it. Viewing markdown is less easy, but the **markdown-all-in-one** extension of VS Code can show a preview of how it will look.\n",
    "\n",
    "Let's look at each of these ways to run code in more detail using a common example: Hello World!"
   ]
  },
  {
   "cell_type": "markdown",
   "metadata": {},
   "source": [
    "## Scripts\n",
    "\n",
    "We already met scripts, but let's have a recap. Create a new file in Visual Studio Code called `hello_world.py`. In the Visual Studio Code editor, add a single line to the file:\n",
    "\n",
    "```python\n",
    "print('Hello World!')\n",
    "```\n",
    "\n",
    "Save the file. Right-click and, to run the script, you can either use 'Run current file in interactive window' or 'Run current file in terminal'. These two methods of running the script: in the IDE or in the terminal. As an alternative for the latter, you can open up the terminal yourself and run\n",
    "\n",
    "```bash\n",
    "python hello_world.py\n",
    "```"
   ]
  },
  {
   "cell_type": "markdown",
   "metadata": {},
   "source": [
    "## Jupyter Notebooks\n",
    "\n",
    "Jupyter Notebooks are for experimentation, tinkering, and keeping notes and code together. They are the lab books of the coding world. The name, 'Jupyter', is a reference to the three original languages supported by Jupyter, which are Julia, Python, and R, and to Galileo's notebooks recording the discovery of the moons of Jupiter. Jupyter notebooks now support a vast number of languages beyond the original three, including Ruby, Haskell, Go, Scala, Octave, Java, and [more](https://github.com/jupyter/jupyter/wiki/Jupyter-kernels).\n",
    "\n",
    "To get started with Jupyter Notebooks, you'll need to have a Python installation and to run `pip install jupyterlab` on the command line.\n",
    "\n",
    "Create a new file in Visual Studio Code and save it as `hello_world.ipynb`. The notebook interface should automatically load and you'll see options to create cells with plus signs labelled 'Code' and 'Markdown'. A cell is an independent chunk of either code or text. Text cells have markdown in them. Create a markdown cell containing the following:\n",
    "\n",
    "```markdown\n",
    "# This is a title\n",
    "\n",
    "## This is a subtitle\n",
    "\n",
    "This notebook demonstrates printing 'hello world!' to screen.\n",
    "```\n",
    "\n",
    "Now, for the next cell, choose code and write in `print('hello world!')`. To run the notebook, you can choose to run all cells (usually a double play button at the top of the notebook page) or just each cell at a time (a play button beside a cell). 'Running' a markdown cell will render the markdown in display mode; running a code cell will execute it and insert the output below. When you play the code cell, you should see the 'hello world!' message appear.\n",
    "\n",
    "Without going into too many details here, Jupyter Notebook cells can do some special actions too: like accept tags that hide code input (only showing the output), give you help info on a command if you run it ending by `?`, or time a cell with `%%timeit`. To see a short description of the most useful Notebook information, type `%quickref` in a cell and run it.\n",
    "\n",
    "Although Visual Studio Code is very convenient for using notebooks, Jupyter Lab is an alternative that has quite a few more options, for example exporting to HTML, PDF, and markdown with code outputs included. To try this out, open a terminal window in the folder that contains your '.ipynb' file. Type `jupyter lab`. This should open a browser window with some options such as Python and any other languages you might have installed. Choose Python and then select `hello_world.ipynb`. If you run the notebook, you can then use the 'File->Export As' options to export the text, code, and code outputs (including figures, if there were any) as HTML, LaTeX, PDF, slides, markdown, and more-though some of these depend on other applications and settings. Once you've finished running your Jupyter Lab session, you can shut it down in the terminal with `ctrl+c`.\n",
    "\n",
    "Jupyter Notebooks are versatile and popular for early exploration of ideas, especially in fields like data science. This entire book is written in a combination of Jupyter Notebooks and executable markdown (more on that in a moment), and Jupyter Notebooks can easily be run in the cloud using a browser too (via Binder or Google Colab) without any prior installation. Although it's not got very much code in, the page you're reading now can be loaded into Google Colab as a Jupyter Notebook by clicking 'Colab' under the rocket icon at the top of the page.\n",
    "\n",
    "You can also try a Jupyter Notebook out without installing anything online at [https://jupyter.org/try](https://jupyter.org/try). Click on Try Classic Notebook for a tutorial."
   ]
  },
  {
   "source": [
    "## Markdown with executable code chunks"
   ],
   "cell_type": "markdown",
   "metadata": {}
  }
 ],
 "metadata": {
  "language_info": {
   "name": "python",
   "nbconvert_exporter": "python",
   "version": "3.8.6"
  },
  "orig_nbformat": 2,
  "kernelspec": {
   "name": "python386jvsc74a57bd0a723953a921d3d66a26057d9d3b423b845ee567ba5efd2daaf047bd46dbfed26",
   "display_name": "Python 3.8.6 64-bit ('codeforecon': conda)"
  }
 },
 "nbformat": 4,
 "nbformat_minor": 2
}