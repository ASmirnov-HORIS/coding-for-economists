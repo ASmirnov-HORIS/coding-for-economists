{
 "cells": [
  {
   "cell_type": "markdown",
   "metadata": {},
   "source": [
    "# Geo-Spatial Visualisation\n"
   ]
  },
  {
   "cell_type": "markdown",
   "metadata": {},
   "source": [
    "## Introduction\n",
    "\n",
    "In this chapter, you'll learn the basics of geospatial visualisation using code. If you're new to geospatial analysis, you should look at the introduction page first.\n",
    "\n",
    "You should be aware when following this chapter that installing geographic analysis packages isn't always the easiest and things can and do go wrong! (Some geospatial analysis courses recommend running everything in a Docker container.)\n",
    "\n",
    "### Imports and packages\n",
    "\n",
    "We'll be using [**geopandas**](https://geopandas.org/index.html), the go-to package for vector spatial analysis in Python. The easiest way to install this package is using `conda install geopandas`; if you want to install it via pip then look at the [install instructions](https://geopandas.org/install.html). \n",
    "\n",
    "Let's import some of the packages we'll be using:"
   ]
  },
  {
   "cell_type": "code",
   "execution_count": null,
   "metadata": {},
   "outputs": [],
   "source": [
    "import matplotlib.pyplot as plt\n",
    "import pandas as pd\n",
    "import os\n",
    "import numpy as np\n",
    "import geopandas as gpd"
   ]
  },
  {
   "cell_type": "code",
   "execution_count": null,
   "metadata": {},
   "outputs": [],
   "source": [
    "# TODO hide cell\n",
    "# Set max rows displayed for readability\n",
    "pd.set_option('display.max_rows', 6)\n",
    "# Plot settings\n",
    "plt.style.use('plot_style.txt')\n",
    "# For this page, use data limits and bigger default fig size\n",
    "plt.style.use({'axes.autolimit_mode': 'data', 'figure.figsize': (10, 8)})"
   ]
  },
  {
   "source": [
    "## Maps\n",
    "\n",
    "If you've looked at the introductory page on geospatial analysis, you'll know it's easy to make basic maps: you just need to load a shapefile and use the `.plot` method."
   ],
   "cell_type": "markdown",
   "metadata": {}
  },
  {
   "cell_type": "code",
   "execution_count": null,
   "metadata": {},
   "outputs": [],
   "source": [
    "df = gpd.read_file(os.path.join('data', 'geo', 'uk_lad', 'Local_Authority_Districts__May_2020__UK_BUC.shp'))\n",
    "df.plot();"
   ]
  },
  {
   "source": [
    "As it goes, this is not very attractive, so let's see some options for customisation that will make it a little better. It's rare that you'll want to include the axes on maps, and these can be turned off by turning everything to do with the axes off. There are two ways to do further manipulations of the figure axis: calling plot returns an axis object or we can create one and then pass `ax=ax_name` to plot as a keyword argument. Colour can be changed using the `color=` keyword."
   ],
   "cell_type": "markdown",
   "metadata": {}
  },
  {
   "cell_type": "code",
   "execution_count": null,
   "metadata": {},
   "outputs": [],
   "source": [
    "ax = df.plot(color='#2ca25f')\n",
    "ax.axis('off');"
   ]
  },
  {
   "source": [
    "The lines that divide up the different local authority districts are faint. They can be controlled with the `edgecolor` and `linewidth` keywords. We can also change the background using the `fig.patch.set_facecolor` method, and add a scale using an extra package, [**matplotlib-scalebar**](https://github.com/ppinard/matplotlib-scalebar)."
   ],
   "cell_type": "markdown",
   "metadata": {}
  },
  {
   "cell_type": "code",
   "execution_count": null,
   "metadata": {},
   "outputs": [],
   "source": [
    "from matplotlib_scalebar.scalebar import ScaleBar\n",
    "\n",
    "fig, ax = plt.subplots()\n",
    "df.plot(color='#2ca25f', edgecolor='k', linewidth=0.2,\n",
    "        facecolor='blue',\n",
    "        ax=ax)\n",
    "ax.axis('off')\n",
    "fig.patch.set_facecolor('#9ecae1')\n",
    "# Create scale bar\n",
    "scalebar = ScaleBar(1, box_alpha=0,\n",
    "                    location='lower right', length_fraction=0.25,\n",
    "                    font_properties={'size':12})\n",
    "ax.add_artist(scalebar)\n",
    "plt.show()"
   ]
  },
  {
   "source": [
    "## Choropleths"
   ],
   "cell_type": "markdown",
   "metadata": {}
  },
  {
   "source": [
    "A choropleth map shows different areas in colours according to a statistic that represents an aggregate summary of a geographic characteristic within each area. Population density or per-capita income are good examples of characteristics. The statistic shown might be unique values, equal intervals, quantiles, or the Fisher-Jenks natural breaks.\n",
    "\n",
    "First, though, let's create a basic choropleth."
   ],
   "cell_type": "markdown",
   "metadata": {}
  },
  {
   "cell_type": "code",
   "execution_count": null,
   "metadata": {},
   "outputs": [],
   "source": [
    "pay = pd.read_csv('/Users/arthurturrell/Desktop/ashe_lad_median_pay_2020.csv')\n",
    "pay = pay.rename(columns={'lad': 'LAD20CD'})"
   ]
  },
  {
   "cell_type": "code",
   "execution_count": null,
   "metadata": {},
   "outputs": [],
   "source": [
    "df = df.merge(pay, on=['LAD20CD'], how='inner')"
   ]
  },
  {
   "cell_type": "code",
   "execution_count": null,
   "metadata": {},
   "outputs": [],
   "source": [
    "col = 'Log median weekly pay (2020 GBP)'\n",
    "df[col] = np.log(df['Median weekly pay (2020 GBP)'])\n",
    "\n",
    "fig, ax = plt.subplots()\n",
    "ax.set_title(col, loc='left')\n",
    "df.plot(ax=ax, column=col, legend=True,\n",
    "        legend_kwds={'label': '',\n",
    "                     'shrink': 0.6},\n",
    "        vmin=round(df[col].min()),\n",
    "        vmax=round(df[col].max()),\n",
    "        )\n",
    "ax.axis('off')\n",
    "plt.tight_layout()\n",
    "plt.show();"
   ]
  },
  {
   "source": [
    "This used **geopandas**. There's a dedicated plotting tool called [**geoplot**]() as well."
   ],
   "cell_type": "markdown",
   "metadata": {}
  },
  {
   "cell_type": "code",
   "execution_count": null,
   "metadata": {},
   "outputs": [],
   "source": [
    "import geoplot as gplt\n",
    "import geoplot.crs as gcrs\n",
    "\n",
    "gplt.choropleth(df.to_crs('EPSG:4326'), hue=col,\n",
    "                projection=gcrs.AlbersEqualArea(),\n",
    "                cmap='viridis', legend=True);"
   ]
  },
  {
   "source": [
    "Another way to create choropleths is to split the variable into a distinct number of ranges according to a scheme. In the below, we use `scheme='Quantiles'` with `k=4` to produce a choropleth with four distinct groups."
   ],
   "cell_type": "markdown",
   "metadata": {}
  },
  {
   "cell_type": "code",
   "execution_count": null,
   "metadata": {},
   "outputs": [],
   "source": [
    "fig, ax = plt.subplots(figsize=(8, 10))\n",
    "ax.set_title(col, loc='left')\n",
    "ax.axis('off')\n",
    "df.plot(ax=ax, column=col, legend=True,\n",
    "        scheme='Quantiles', k=4,\n",
    "        legend_kwds={'loc': 2});"
   ]
  },
  {
   "source": [
    "A third kind of choropleth has distinct levels based on pre-existing categories. Our data doesn't have any of those, so let's generate some just to show how it works."
   ],
   "cell_type": "markdown",
   "metadata": {}
  },
  {
   "source": [
    "https://darribas.org/gds_course/content/bD/lab_D.html"
   ],
   "cell_type": "markdown",
   "metadata": {}
  },
  {
   "cell_type": "code",
   "execution_count": null,
   "metadata": {},
   "outputs": [],
   "source": [
    "df['cat_col'] = df['LAD20CD'].apply(lambda x: x[0])\n",
    "df.iloc[:5, -3:]"
   ]
  },
  {
   "cell_type": "code",
   "execution_count": null,
   "metadata": {},
   "outputs": [],
   "source": [
    "fig, ax = plt.subplots()\n",
    "df.plot(column='cat_col', categorical=True,\n",
    "        ax=ax, legend=True,\n",
    "        legend_kwds={'loc': 1, 'frameon': True})\n",
    "ax.set_axis_off()\n",
    "plt.show()"
   ]
  },
  {
   "source": [
    "This is useful for plotting streets of different types."
   ],
   "cell_type": "markdown",
   "metadata": {}
  },
  {
   "source": [
    "## Cartogram"
   ],
   "cell_type": "markdown",
   "metadata": {}
  },
  {
   "cell_type": "code",
   "execution_count": null,
   "metadata": {},
   "outputs": [],
   "source": [
    "df_wales = df[df['LAD20CD'].str.contains('W')].to_crs('EPSG:4326').fillna(0.)\n",
    "\n",
    "ax = gplt.cartogram(\n",
    "    df_wales, scale='Median weekly pay (2020 GBP)', projection=gcrs.AlbersEqualArea(),\n",
    ")\n",
    "gplt.polyplot(df_wales, facecolor='lightgray', edgecolor='white', linewidth=0.5, ax=ax)"
   ]
  },
  {
   "source": [
    "## Quadtree"
   ],
   "cell_type": "markdown",
   "metadata": {}
  },
  {
   "source": [
    "## KDE plot"
   ],
   "cell_type": "markdown",
   "metadata": {}
  }
 ],
 "metadata": {
  "celltoolbar": "Tags",
  "kernelspec": {
   "display_name": "codeforecon",
   "language": "python",
   "name": "codeforecon"
  },
  "language_info": {
   "codemirror_mode": {
    "name": "ipython",
    "version": 3
   },
   "file_extension": ".py",
   "mimetype": "text/x-python",
   "name": "python",
   "nbconvert_exporter": "python",
   "pygments_lexer": "ipython3",
   "version": "3.8.6-final"
  },
  "widgets": {
   "application/vnd.jupyter.widget-state+json": {
    "state": {},
    "version_major": 2,
    "version_minor": 0
   }
  }
 },
 "nbformat": 4,
 "nbformat_minor": 4
}