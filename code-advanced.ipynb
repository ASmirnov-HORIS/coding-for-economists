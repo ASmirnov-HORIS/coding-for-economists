{
 "cells": [
  {
   "cell_type": "markdown",
   "metadata": {},
   "source": [
    "# Advanced Coding"
   ]
  },
  {
   "cell_type": "markdown",
   "metadata": {},
   "source": [
    "## Introduction\n",
    "\n",
    "This chapter covers some more advanced programming concepts. It's not strictly necessary to master the content of this chapter for subsequent chapters but it's here in case you want a deeper understanding or in case you find that you eventually need to draw on more sophisticated programming tools and concepts.\n",
    "\n",
    "```{note}\n",
    "You can safely skip this chapter and come back to it later.\n",
    "```\n",
    "\n",
    "This chapter has benefitted from the online book [*Research Software Engineering with Python*](https://merely-useful.github.io/py-rse/), the [official Python documentation](https://www.python.org/), "
   ]
  },
  {
   "source": [
    "## Truthy and falsy values\n",
    "\n",
    "Python objects can be used in expressions that will return a boolean value, such as when a list, `listy`, is used with `if listy`. Built-in Python objects that are empty are usually evaluated as `False`, and are said to be 'Falsy'. In contrast, when these built-in objects are not empty, they evaluate as `True` and are said to be 'truthy'.\n",
    "\n",
    "(If you are building your own classes, you can define this behaviour for them through the `__bool__` dunder method.)\n",
    "\n",
    "Let's see some examples:"
   ],
   "cell_type": "markdown",
   "metadata": {}
  },
  {
   "cell_type": "code",
   "execution_count": null,
   "metadata": {},
   "outputs": [],
   "source": [
    "def bool_check_var(input_variable):\n",
    "    if not (input_variable):\n",
    "        print('Falsy')\n",
    "    else:\n",
    "        print('Truthy')\n",
    "\n",
    "listy = []\n",
    "other_listy = [1, 2, 3]\n",
    "\n",
    "\n",
    "bool_check_var(listy)"
   ]
  },
  {
   "cell_type": "code",
   "execution_count": null,
   "metadata": {},
   "outputs": [],
   "source": [
    "bool_check_var(other_listy)"
   ]
  },
  {
   "source": [
    "The method we defined doesn't just operate on lists; it'll work for many various other truthy and falsy objects:"
   ],
   "cell_type": "markdown",
   "metadata": {}
  },
  {
   "cell_type": "code",
   "execution_count": null,
   "metadata": {},
   "outputs": [],
   "source": [
    "bool_check_var(0)"
   ]
  },
  {
   "cell_type": "code",
   "execution_count": null,
   "metadata": {},
   "outputs": [],
   "source": [
    "bool_check_var([0, 0, 0])"
   ]
  },
  {
   "source": [
    "Note that zero was falsy, its the nothing of a float, but a list of three zeros is not an empty list, so it evaluates as truthy."
   ],
   "cell_type": "markdown",
   "metadata": {}
  },
  {
   "cell_type": "code",
   "execution_count": null,
   "metadata": {},
   "outputs": [],
   "source": [
    "bool_check_var({})"
   ]
  },
  {
   "cell_type": "code",
   "execution_count": null,
   "metadata": {},
   "outputs": [],
   "source": [
    "bool_check_var(None)"
   ]
  },
  {
   "source": [
    "Knowing what is truthy or falsy is useful in practice; imagine you'd like to default to a specific behaviour if a list called `list_vals` doesn't have any values in. You now know you can do it simply with `if list_vals`."
   ],
   "cell_type": "markdown",
   "metadata": {}
  },
  {
   "source": [
    "## Iterators\n",
    "\n",
    "An iterator is an object that contains a countable number of values that a single command, `next`, iterates through. Before that's possible though, we need to take a countable group of some kind and use the `iter` keyword on it to turn it into an iterator. Let's see an example with some text:"
   ],
   "cell_type": "markdown",
   "metadata": {}
  },
  {
   "cell_type": "code",
   "execution_count": null,
   "metadata": {},
   "outputs": [],
   "source": [
    "text_lst = [\"Mumbai\", \"Delhi\", \"Bangalore\"]\n",
    "\n",
    "myiterator = iter(text_lst)"
   ]
  },
  {
   "source": [
    "Okay, nothing has happened yet, but that's because we didn't call it yet. To get the next iteration, whatever it is, use `next`:"
   ],
   "cell_type": "markdown",
   "metadata": {}
  },
  {
   "cell_type": "code",
   "execution_count": null,
   "metadata": {},
   "outputs": [],
   "source": [
    "next(myiterator)"
   ]
  },
  {
   "cell_type": "code",
   "execution_count": null,
   "metadata": {},
   "outputs": [],
   "source": [
    "next(myiterator)"
   ]
  },
  {
   "cell_type": "code",
   "execution_count": null,
   "metadata": {},
   "outputs": [],
   "source": [
    "next(myiterator)"
   ]
  },
  {
   "source": [
    "Alright, we've been through all of the values so... what's going to happen `next`!?"
   ],
   "cell_type": "markdown",
   "metadata": {}
  },
  {
   "cell_type": "code",
   "execution_count": null,
   "metadata": {},
   "outputs": [],
   "source": [
    "next(myiterator)"
   ]
  },
  {
   "source": [
    "Iterating beyond the end raises a `StopIteration` error. You can build your own iterators (here we used a built-in object type, the `list`, to give an iteratory of type `list_iterator`)."
   ],
   "cell_type": "markdown",
   "metadata": {}
  },
  {
   "source": [
    "## Generators\n",
    "\n",
    "Generator functions return 'lazy' iterators. They are lazy because they do not store their contents in memory. This has *big* advantages for some oprations in specific situations: datasets larger than can fit into your computer's memory, or a complex function that needs to maintain an internal state every time it’s called.\n",
    "\n",
    "To give an idea of how and when they work, imagine that (exogeneously) integers are really costly, taking as much as 10 MB of space to store (the real figure is more like 128 bytes). We will write a function, \"firstn\", that represents the first $n$ non-negative integers, where $n$ is large. The most naive possible way of doing this would be to build the full list in memory like so:"
   ],
   "cell_type": "markdown",
   "metadata": {}
  },
  {
   "cell_type": "code",
   "execution_count": null,
   "metadata": {},
   "outputs": [],
   "source": [
    "def first_n_naive(n):\n",
    "    \"\"\"Build and return a list\"\"\"\n",
    "    num, nums = 0, []\n",
    "    while num < n:\n",
    "        nums.append(num)\n",
    "        num += 1\n",
    "    return nums\n",
    "\n",
    "\n",
    "sum_of_first_n = sum(first_n_naive(1000000))\n",
    "sum_of_first_n"
   ]
  },
  {
   "source": [
    "Note that `nums` stores *every* number before returning all of them. In our imagined case, this is completely infeasible because we don't have enough computer space to keep all $n$ 10MB integers in memory.\n",
    "\n",
    "Now we'll rewrite the list-based function as a generator-based function:"
   ],
   "cell_type": "markdown",
   "metadata": {}
  },
  {
   "cell_type": "code",
   "execution_count": null,
   "metadata": {},
   "outputs": [],
   "source": [
    "def first_n_generator(n):\n",
    "    \"\"\"A generator that yields items instead of returning a list\"\"\"\n",
    "    num = 0\n",
    "    while num < n:\n",
    "        yield num\n",
    "        num += 1\n",
    "\n",
    "sum_of_first_n = sum(first_n_generator(1000000))\n",
    "sum_of_first_n"
   ]
  },
  {
   "source": [
    "Now, instead of creating an enormous list that has to be stored in memory, we `yield` up each number as it is 'generated'. The cleverness that's going on here is that  the 'state; of the function is remembered from one call to the next. This means that when `next` is called on a generator object (either explicitly or implicitly, as in this example), the previously yielded variable `num` is incremented, and then yielded again.\n",
    "\n",
    "That was a fairly contrived example but there are plenty of practical ones. Working with pipelines that process very large datasets is a classic use case. For example, imagine you have a csv file that's far too big to fit in memory, i.e. open all at once, but you'd like to check the contents of each row and perhaps process them. The code below would `yield` each row in turn.\n",
    "\n",
    "```python\n",
    "def csv_reader(file_name):\n",
    "    for row in open(file_name, \"r\"):\n",
    "        yield row\n",
    "```"
   ],
   "cell_type": "markdown",
   "metadata": {}
  },
  {
   "source": [
    "An even more concise way of defining this is via a *generator expression*, which syntactically looks a lot like a *list comprehension* but is a generator rather than a list. The example we just saw would be written as:\n",
    "\n",
    "```python\n",
    "csv_gen = (row for row in open(file_name))\n",
    "```\n",
    "\n",
    "It's easier to see the difference in the below example which clearly shows the analogy between *list comprehensions* and *generator comprehensions*."
   ],
   "cell_type": "markdown",
   "metadata": {}
  },
  {
   "cell_type": "code",
   "execution_count": null,
   "metadata": {},
   "outputs": [],
   "source": [
    "sq_nums_lc = [num**2 for num in range(2, 6)]\n",
    "sq_nums_lc"
   ]
  },
  {
   "cell_type": "code",
   "execution_count": null,
   "metadata": {},
   "outputs": [],
   "source": [
    "sq_nums_gc = (num**2 for num in range(2, 6))\n",
    "sq_nums_gc"
   ]
  },
  {
   "source": [
    "The latter is a generator object and we can only access individual values calling `next` on it."
   ],
   "cell_type": "markdown",
   "metadata": {}
  },
  {
   "cell_type": "code",
   "execution_count": null,
   "metadata": {},
   "outputs": [],
   "source": [
    "next(sq_nums_gc)"
   ]
  },
  {
   "source": [
    "Note that for small numbers of entries, lists may actually be faster and more efficient than generators-but for large numbers of entries, generators will almost always win out."
   ],
   "cell_type": "markdown",
   "metadata": {}
  },
  {
   "source": [
    "## Inner functions\n",
    "\n",
    "Python supports functions within functions within ... (and so on). Here's a simple (if unnecessary!) example:"
   ],
   "cell_type": "markdown",
   "metadata": {}
  },
  {
   "cell_type": "code",
   "execution_count": null,
   "metadata": {},
   "outputs": [],
   "source": [
    "from datetime import datetime\n",
    "\n",
    "\n",
    "def print_time_now():\n",
    "    def get_curr_time():\n",
    "        return datetime.now().strftime(\"%H:%M\")\n",
    "    \n",
    "    now = get_curr_time()\n",
    "    print(now)\n",
    "\n",
    "\n",
    "print_time_now()"
   ]
  },
  {
   "source": [
    "## Decorators\n",
    "\n",
    "Decorators 'decorate' functions, they adorn them, modifying them as they execute. Let's say we want to run some numerical functions but we'd like to add ten on to whatever results we get. We could do it like this:"
   ],
   "cell_type": "markdown",
   "metadata": {}
  },
  {
   "cell_type": "code",
   "execution_count": null,
   "metadata": {},
   "outputs": [],
   "source": [
    "def multiply(num_one, num_two):\n",
    "    return num_one*num_two\n",
    "\n",
    "\n",
    "def add_ten(in_num):\n",
    "    return in_num + 10\n",
    "\n",
    "\n",
    "answer = add_ten(multiply(3, 4))\n",
    "answer"
   ]
  },
  {
   "source": [
    "This is fine for a one-off but a bit tedious if we're going to be using `add_ten` a lot, and on many functions. Decorators allow for a more general solution that can be applied, in this case, to any `inner` function that has two arguments and returns a numeric value."
   ],
   "cell_type": "markdown",
   "metadata": {}
  },
  {
   "cell_type": "code",
   "execution_count": null,
   "metadata": {},
   "outputs": [],
   "source": [
    "def add_ten(func):\n",
    "    def inner(a, b):\n",
    "        return func(a, b) + 10\n",
    "    return inner\n",
    "\n",
    "\n",
    "@add_ten\n",
    "def multiply(num_one, num_two):\n",
    "    return num_one*num_two\n",
    "\n",
    "\n",
    "multiply(3, 4)"
   ]
  },
  {
   "source": [
    "We can use the same decorator for a different function (albeit one of the same form) now."
   ],
   "cell_type": "markdown",
   "metadata": {}
  },
  {
   "cell_type": "code",
   "execution_count": null,
   "metadata": {},
   "outputs": [],
   "source": [
    "@add_ten\n",
    "def divide(num_one, num_two):\n",
    "    return num_one/num_two\n",
    "\n",
    "\n",
    "divide(10, 5)"
   ]
  },
  {
   "source": [
    "But the magic of decorators is such that we can define them for much more general cases, regardless of the number of arguments or even keyword arguments:"
   ],
   "cell_type": "markdown",
   "metadata": {}
  },
  {
   "cell_type": "code",
   "execution_count": null,
   "metadata": {},
   "outputs": [],
   "source": [
    "def add_ten(func):\n",
    "    def inner(*args, **kwargs):\n",
    "        print('Function has been decorated!')\n",
    "        print('Adding ten...')\n",
    "        return func(*args, **kwargs) + 10\n",
    "    return inner\n",
    "\n",
    "\n",
    "@add_ten\n",
    "def combine_three_nums(a, b, c):\n",
    "    return a*b-c\n",
    "\n",
    "@add_ten\n",
    "def combine_four_nums(a, b, c, d=0):\n",
    "    return a*b-c-d\n",
    "\n",
    "\n",
    "combine_three_nums(1, 2, 2)"
   ]
  },
  {
   "source": [
    "Let's now see it applied to a function with a different number of (keyword) arguments:"
   ],
   "cell_type": "markdown",
   "metadata": {}
  },
  {
   "cell_type": "code",
   "execution_count": null,
   "metadata": {},
   "outputs": [],
   "source": [
    "combine_four_nums(3, 4, 2, d=2)"
   ]
  },
  {
   "source": [
    "Decorators can be chained too (and order matters):"
   ],
   "cell_type": "markdown",
   "metadata": {}
  },
  {
   "cell_type": "code",
   "execution_count": null,
   "metadata": {},
   "outputs": [],
   "source": [
    "def dividing_line(func):\n",
    "    def inner(*args, **kwargs):\n",
    "        print(''.join(['-']*30))\n",
    "        out = func(*args, **kwargs)\n",
    "        return out\n",
    "    return inner\n",
    "\n",
    "\n",
    "@dividing_line\n",
    "@add_ten\n",
    "def multiply(num_one, num_two):\n",
    "    return num_one*num_two\n",
    "\n",
    "\n",
    "multiply(3, 5)"
   ]
  },
  {
   "source": [
    "## Errors and exceptions\n",
    "\n",
    "When a programme goes wrong, it throws up an error and halts. You won't be coding for long before you hit one of these errors, which have special names depending on what triggered them.\n",
    "\n",
    "Let's see a real-life error in action:"
   ],
   "cell_type": "markdown",
   "metadata": {}
  },
  {
   "cell_type": "code",
   "execution_count": null,
   "metadata": {},
   "outputs": [],
   "source": [
    "denom = 0\n",
    "\n",
    "print(1/denom)"
   ]
  },
  {
   "source": [
    "Oh no! We got a `ZeroDivisionError` and our programme crashed. Note that the error includes a 'Traceback' to show which line went wrong, which is helpful for debugging.\n",
    "\n",
    "In practice, there are often times when we know that an error *could* arise, and we would like to specify what should happen when it does (rather than having the programme crash). \n",
    "\n",
    "We can use *exceptions* to do this. These come in a `try` ... `except` pattern, which looks like an `if` ... `else` pattern but applies to errors. If no errors occur inside the `try` block, the `except` block isn’t run but *if* something goes wrong inside the `try` then the `except` block is executed. Let's see an example:"
   ],
   "cell_type": "markdown",
   "metadata": {}
  },
  {
   "cell_type": "code",
   "execution_count": null,
   "metadata": {},
   "outputs": [],
   "source": [
    "for denom in [-5, 0, 5]:\n",
    "    try:\n",
    "        result = 1/denom\n",
    "        print(f'1/{denom} == {result}')\n",
    "    except:\n",
    "        print(f'Cannot divide by {denom}')"
   ]
  },
  {
   "source": [
    "Now we can see two differences. First: the code executed just fine *without* halting. Second: when we hit the error, the `except` block was executed and told us what was going on.\n",
    "\n",
    "In this case, we wrote an informative message about the error but it's convenient to use Python's built in messages where we can. In the below, not only do we send our own message about the error but we add info on what caused the error for the language too:"
   ],
   "cell_type": "markdown",
   "metadata": {}
  },
  {
   "cell_type": "code",
   "execution_count": null,
   "metadata": {},
   "outputs": [],
   "source": [
    "for denom in [-5, 0, 5]:\n",
    "    try:\n",
    "        result = 1/denom\n",
    "        print(f'1/{denom} == {result}')\n",
    "    except Exception as error:\n",
    "        print(f'{denom} has no reciprocal; error is: {error}')"
   ]
  },
  {
   "source": [
    "Sadly, division by zero is just one of the many errors you might encounter. What if a function is likely to end up running into several different errors? We can have multiple `except` clauses to catch these:"
   ],
   "cell_type": "markdown",
   "metadata": {}
  },
  {
   "cell_type": "code",
   "execution_count": null,
   "metadata": {},
   "outputs": [],
   "source": [
    "numbers = [-5, 0, 5]\n",
    "for i in [0, 1, 2, 3]:\n",
    "    try:\n",
    "        denom = numbers[i]\n",
    "        result = 1/denom\n",
    "        print(f'1/{denom} == {result}')\n",
    "    except IndexError as error:\n",
    "        print(f'index {i} out of range; error is {error}')\n",
    "    except ZeroDivisionError as error:\n",
    "        print(f'{denom} has no reciprocal; error is: {error}')"
   ]
  },
  {
   "source": [
    "A full list of built-in errors may be [found here](https://docs.python.org/3/library/exceptions.html#exception-hierarchy) and they are nested in classes (eg `ZeroDivisionError` is a special case of a `ArithmeticError`)."
   ],
   "cell_type": "markdown",
   "metadata": {}
  },
  {
   "source": [
    "Where do these errors come from anyway? What tells the programming language to throw a tantrum when it encounters certain combinations of values and operations.\n",
    "\n",
    "The answer is that the person or people who wrote the code that's 'under the hood' can specify when such errors should be raised. Remember, the philosophy of Python is that things should faily loudly (so that they do not cause issues downstream). Here's an example of some code that raises its own errors using the `raise` keyword:"
   ],
   "cell_type": "markdown",
   "metadata": {}
  },
  {
   "cell_type": "code",
   "execution_count": null,
   "metadata": {},
   "outputs": [],
   "source": [
    "for number in [1, 0, -1]:\n",
    "    try:\n",
    "        if number < 0:\n",
    "            raise ValueError(f'no negatives: {number}')\n",
    "        print(number)\n",
    "    except ValueError as error:\n",
    "        print(f'exception: {error}')"
   ]
  },
  {
   "source": [
    "A `ValueError` is a built-in type of error and there are plenty of ones to choose from for your case. Some big or specialised libraries define their own types of error too.\n",
    "\n",
    "One very clever feature of Python's exception handling is \"throw low, catch high\", which means that even if an error gets thrown way deep down in the middle of a code block, the catching exception can be used some way away. Here's an example: the error arises *within* the `sum_reciprocals` function, but is caught elsewhere."
   ],
   "cell_type": "markdown",
   "metadata": {}
  },
  {
   "cell_type": "code",
   "execution_count": null,
   "metadata": {},
   "outputs": [],
   "source": [
    "def sum_reciprocals(values):\n",
    "    result = 0\n",
    "    for v in values:\n",
    "        result += 1/v\n",
    "    return result\n",
    "\n",
    "numbers = [-1, 0, 1]\n",
    "try:\n",
    "    one_over = sum_reciprocals(numbers)\n",
    "except ArithmeticError as error:\n",
    "    print(f'Error trying to sum reciprocals: {error}')"
   ]
  }
 ],
 "metadata": {
  "celltoolbar": "Tags",
  "kernelspec": {
   "display_name": "codeforecon",
   "language": "python",
   "name": "codeforecon"
  },
  "language_info": {
   "codemirror_mode": {
    "name": "ipython",
    "version": 3
   },
   "file_extension": ".py",
   "mimetype": "text/x-python",
   "name": "python",
   "nbconvert_exporter": "python",
   "pygments_lexer": "ipython3",
   "version": "3.8.6-final"
  },
  "widgets": {
   "application/vnd.jupyter.widget-state+json": {
    "state": {},
    "version_major": 2,
    "version_minor": 0
   }
  }
 },
 "nbformat": 4,
 "nbformat_minor": 4
}