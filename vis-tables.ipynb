{
 "cells": [
  {
   "attachments": {},
   "cell_type": "markdown",
   "metadata": {},
   "source": [
    "(vis-tables)=\n",
    "# Tables\n"
   ]
  },
  {
   "attachments": {},
   "cell_type": "markdown",
   "metadata": {},
   "source": [
    "## Introduction\n",
    "\n",
    "The humble table is a vastly underloved and underappreciated element of communicating analysis. While it may not be as visually engaging as a vivid graph (and is far less good for a general audience), it has the advantage of being able to convey exact numerical information. It's also an essential part of some analysis: for example, when writing economics papers, there is usually a \"table 1\" that contains descriptive statistics.\n",
    "\n",
    "Unfortunately, Python is a bit weaker on tables than it ought to be. As ever, **pandas** is the Swiss Army Knife of data analysis and can produce tables in a wide range of formats—so, in this chapter, we'll be looking at *creating tables with **pandas***. While **pandas** isn't perfect for crafting tables, using it for them means you can benefit from its incredible number of output formats. However, **pandas** is not your *only* option—you can also create visually exciting tables using **matplotlib**, as we'll see.\n",
    "\n",
    "For more on best practice for tables, check out the advice of the UK government's [Analysis Function](https://analysisfunction.civilservice.gov.uk/policy-store/data-visualisation-tables/).\n",
    "\n",
    "As ever, we'll start by importing some key packages and initialising any settings:"
   ]
  },
  {
   "cell_type": "code",
   "execution_count": null,
   "metadata": {},
   "outputs": [],
   "source": [
    "import numpy as np\n",
    "import pandas as pd\n",
    "import matplotlib.pyplot as plt\n",
    "\n",
    "# Set seed for random numbers\n",
    "seed_for_prng = 78557\n",
    "prng = np.random.default_rng(\n",
    "    seed_for_prng\n",
    ")  # prng=probabilistic random number generator"
   ]
  },
  {
   "cell_type": "code",
   "execution_count": null,
   "id": "51a55374",
   "metadata": {
    "tags": [
     "remove-cell"
    ]
   },
   "outputs": [],
   "source": [
    "import matplotlib_inline.backend_inline\n",
    "\n",
    "# Plot settings\n",
    "plt.style.use(\n",
    "    \"https://github.com/aeturrell/coding-for-economists/raw/main/plot_style.txt\"\n",
    ")\n",
    "matplotlib_inline.backend_inline.set_matplotlib_formats(\"svg\")\n",
    "\n",
    "# Set max rows displayed for readability\n",
    "pd.set_option(\"display.max_rows\", 6)\n",
    "pd.set_option(\"display.max_columns\", 7)"
   ]
  },
  {
   "attachments": {},
   "cell_type": "markdown",
   "metadata": {},
   "source": [
    "## Creating tables with **pandas**"
   ]
  },
  {
   "attachments": {},
   "cell_type": "markdown",
   "metadata": {},
   "source": [
    "### Getting data\n",
    "\n",
    "We'll use the *penguins* dataset to demonstrate the use of **pandas** in creating tables. These data come with the **seaborn** package, which you'll need:"
   ]
  },
  {
   "cell_type": "code",
   "execution_count": null,
   "metadata": {},
   "outputs": [],
   "source": [
    "import seaborn as sns\n",
    "\n",
    "pen = sns.load_dataset(\"penguins\")\n",
    "pen.head()"
   ]
  },
  {
   "attachments": {},
   "cell_type": "markdown",
   "metadata": {},
   "source": [
    "### Preparing your table in **pandas**\n",
    "\n",
    "There are a few operations that you'll want to do again, and again, and again to create tables. A cross-tab is one such operation! A cross-tab is just a count of the number of elements split by two groupings. Rather than just display this using the `pd.crosstab` function, we can add totals or percentages using the `margins=` and `normalize=` commands.\n",
    "\n",
    "In the below, we'll use margins and normalisation so that each row sums to 1, and the last row shows the probability mass over islands."
   ]
  },
  {
   "cell_type": "code",
   "execution_count": null,
   "metadata": {},
   "outputs": [],
   "source": [
    "pd.crosstab(pen[\"species\"], pen[\"island\"], margins=True, normalize=\"index\")"
   ]
  },
  {
   "attachments": {},
   "cell_type": "markdown",
   "metadata": {},
   "source": [
    "The neat thing about the cross-tabs that come out is that they are themselves **pandas** dataframes.\n",
    "\n",
    "Of course, the usual **pandas** functions can be used to create any table you need:"
   ]
  },
  {
   "cell_type": "code",
   "execution_count": null,
   "metadata": {},
   "outputs": [],
   "source": [
    "pen_summary = (\n",
    "    pen\n",
    "    .groupby([\"species\", \"island\"])\n",
    "    .agg(\n",
    "        median_bill=(\"bill_length_mm\", \"median\"),\n",
    "        mean_bill=(\"bill_length_mm\", \"mean\"),\n",
    "        std_flipper=(\"flipper_length_mm\", \"std\"),\n",
    "    )\n",
    ")\n",
    "pen_summary"
   ]
  },
  {
   "attachments": {},
   "cell_type": "markdown",
   "metadata": {},
   "source": [
    "For reasons that will become apparent later, we'll replace one of these values with a missing value (`pd.NA`)."
   ]
  },
  {
   "cell_type": "code",
   "execution_count": null,
   "metadata": {},
   "outputs": [],
   "source": [
    "pen_summary.iloc[2, 1] = pd.NA"
   ]
  },
  {
   "attachments": {},
   "cell_type": "markdown",
   "metadata": {},
   "source": [
    "The table we just saw, `pen_summary`, is not what you'd call publication quality. The numbers have lots of superfluous digits. The names are useful for when you're doing analysis, but might not be so obvious to someone coming to this table for the first time. So let's see what we can do to clean it up a bit.\n",
    "\n",
    "First, those numbers. We can apply number rounding quickly using `.round`."
   ]
  },
  {
   "cell_type": "code",
   "execution_count": null,
   "metadata": {},
   "outputs": [],
   "source": [
    "pen_summary.round(2)"
   ]
  },
  {
   "attachments": {},
   "cell_type": "markdown",
   "metadata": {},
   "source": [
    "This returns another dataframe. To change the names of the columns, you can just use one of the standard approaches:"
   ]
  },
  {
   "cell_type": "code",
   "execution_count": null,
   "metadata": {},
   "outputs": [],
   "source": [
    "pen_sum_clean = (\n",
    "    pen_summary\n",
    "    .rename(columns={\"median_bill\": \"Median bill length (mm)\", \"mean_bill\": \"Mean bill length (mm)\", \"std_flipper\": \"Std. deviation of flipper length\"})\n",
    ")\n",
    "pen_sum_clean"
   ]
  },
  {
   "attachments": {},
   "cell_type": "markdown",
   "metadata": {},
   "source": [
    "### Styling a **pandas** dataframe\n",
    "\n",
    "As well as making direct modifications to a dataframe, you can apply *styles*. These are much more versatile ways to achieve styling of a table.\n",
    "\n",
    "Behind the scenes, when a table is displayed on a webpage like this, HTML (the language most of the internet is in) is used. Styling is a way of modifying the default HTML for showing tables so that they look nicer or better.\n",
    "\n",
    "In the example below, you can see some of the options that are available:\n",
    "\n",
    "- `precision` is like `.round`\n",
    "- `na_rep` sets how missing values are rendered\n",
    "- `thousands` sets the separator between every thousand (for readability)\n",
    "- `formatter` gives fine-grained control over the formatting of individual columns\n",
    "\n"
   ]
  },
  {
   "cell_type": "code",
   "execution_count": null,
   "metadata": {},
   "outputs": [],
   "source": [
    "pen_styled = (\n",
    "    pen_sum_clean.style\n",
    "    .format(precision=3, na_rep='Value missing', thousands=\",\",\n",
    "            formatter={\n",
    "                \"Mean bill length (mm)\": \"{:.1f}\",\n",
    "                \"Std. deviation of flipper length (mm)\": lambda x: \"{:,.0f} um\".format(x*1e3)\n",
    "                }\n",
    "            )\n",
    ")\n",
    "pen_styled"
   ]
  },
  {
   "cell_type": "code",
   "execution_count": null,
   "metadata": {},
   "outputs": [],
   "source": [
    "pen_styled.to_latex()"
   ]
  },
  {
   "attachments": {},
   "cell_type": "markdown",
   "metadata": {},
   "source": [
    "### Limitations of tables in **pandas**"
   ]
  },
  {
   "attachments": {},
   "cell_type": "markdown",
   "metadata": {},
   "source": [
    "## Creating tables with **matplotlib**"
   ]
  }
 ],
 "metadata": {
  "celltoolbar": "Tags",
  "kernelspec": {
   "display_name": "Python 3.8.12 ('codeforecon')",
   "language": "python",
   "name": "python3"
  },
  "language_info": {
   "codemirror_mode": {
    "name": "ipython",
    "version": 3
   },
   "file_extension": ".py",
   "mimetype": "text/x-python",
   "name": "python",
   "nbconvert_exporter": "python",
   "pygments_lexer": "ipython3",
   "version": "3.8.13"
  },
  "vscode": {
   "interpreter": {
    "hash": "c4570b151692b3082981c89d172815ada9960dee4eb0bedb37dc10c95601d3bd"
   }
  }
 },
 "nbformat": 4,
 "nbformat_minor": 4
}
