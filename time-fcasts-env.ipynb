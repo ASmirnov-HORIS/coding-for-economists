{
 "cells": [
  {
   "cell_type": "markdown",
   "id": "homeless-rendering",
   "metadata": {},
   "source": [
    "# Forecasting Environments\n",
    "\n",
    "In this chapter, we're going to do a tour of forecasting *environments*: that is, the set of slices of time that you might need to put together when doing any forecast exercise. There won't be too much code in this chapter: we're just laying the theoretical groundwork here.\n",
    "\n",
    "Let's start with some definitions. Features, or regressors, are labelled by $k = 0, \\dots, K-1$ and time by $t = 0, \\dots, T-1$. Note that this means there are $T$ time periods and $K$ features. We'll label different slices of time by an index $\\mu$ beginning from $\\mu=1$, and we'll give these slices of time different labels: IS for in-sample and OS for out-of-sample. The target variable (the number we are trying to forecast) is $\\left\\{y_{t+h}\\right\\}_{t=0}^{t=T-1}$, where $h$ is the number of time steps ahead we wish to forecast. Let $\\left\\{x_{tk}\\right\\}_{t=0}^{t=T-1}$ represent feature (or regressor) $k$. This is a bit simplistic because of real-time data timeliness, but in general a forecast implies $h>0$ (otherwise we're doing a nowcast).\n",
    "\n",
    "## Two Period Forecast\n",
    "\n",
    "The most simple forecast you can imagine is if we have two periods (each of which may be made up of more than one value of $t$). The important thing is that the $t$ in the first, \"in-sample\" period do not overlap with the $t$ in the second, \"out-of-sample\" period. That's because we *only want to use information in the in-sample period to forecast the out-of-sample period*. There are some cases where you may want to \"forecast\" the in-sample period, but if you're interested in the real-world performance of your forecast, this is the setup you need.\n",
    "\n",
    "In this world of a single in-sample period and a single out-of-sample period, $\\mu=1$, and we could get drop that notation and just use IS and OS. But we'll leave it in to make the contrast with what's to come clearer.\n",
    "\n",
    "The exercise is to use a model, $f$, that is trained to predict $\\{y_{t+h}, t:\\mu_{\\text{IS}}=1\\}$ using $\\{x_{tk}, t:\\mu_{\\text{IS}}=1\\}$ to forecast $\\{y_{t+h}, t:\\mu_\\text{OS}=1\\}$ using $\\{x_{tk}, t:\\mu_{\\text{OS}}=1\\}$. It's actually easier to see it with a picture:"
   ]
  },
  {
   "cell_type": "code",
   "execution_count": null,
   "id": "printable-humanity",
   "metadata": {
    "tags": [
     "hide-input"
    ]
   },
   "outputs": [],
   "source": [
    "import numpy as np\n",
    "import pandas as pd\n",
    "import matplotlib.pyplot as plt\n",
    "\n",
    "# Plot settings\n",
    "plt.style.use(\n",
    "    \"https://github.com/aeturrell/coding-for-economists/raw/main/plot_style.txt\"\n",
    ")\n",
    "# Set max rows displayed for readability\n",
    "pd.set_option(\"display.max_rows\", 15)\n",
    "\n",
    "from plotnine import ggplot, geom_point, aes, stat_smooth, facet_wrap\n",
    "from plotnine import (\n",
    "    options,\n",
    "    geom_tile,\n",
    "    scale_size,\n",
    "    scale_x_continuous,\n",
    "    scale_y_continuous,\n",
    ")\n",
    "import pandas as pd\n",
    "import numpy as np\n",
    "\n",
    "s = 1\n",
    "alpha = 4\n",
    "T = 10\n",
    "\n",
    "options.set_option(\"figure_size\", (12, 3))\n",
    "options.set_option(\"dpi\", 150)\n",
    "\n",
    "\n",
    "def in_sample_block_e(mu, s, alpha, T):\n",
    "    xf = pd.DataFrame({\"t\": np.arange(0, mu * s + alpha, s)})\n",
    "    xf[r\"$\\mu$\"] = [mu] * (mu * s + alpha - 0)\n",
    "    xf[\"sample\"] = \"in-sample\"\n",
    "    return xf\n",
    "\n",
    "\n",
    "def os_sample_block_e(mu, s, alpha, T):\n",
    "    xf = pd.DataFrame({\"t\": np.arange(mu * s + alpha, T, s)})\n",
    "    xf[r\"$\\mu$\"] = [mu] * (T - (mu * s + alpha))\n",
    "    xf[\"sample\"] = \"out-of-sample\"\n",
    "    return xf\n",
    "\n",
    "\n",
    "def in_sample_block_r(mu, s, alpha, T):\n",
    "    xf = pd.DataFrame({\"t\": np.arange((mu - 1) * s, mu * s + alpha, s)})\n",
    "    xf[r\"$\\mu$\"] = [mu] * (mu * s + alpha - (mu - 1) * s)\n",
    "    xf[\"sample\"] = \"in-sample\"\n",
    "    return xf\n",
    "\n",
    "\n",
    "def os_sample_block_r(mu, s, alpha, T):\n",
    "    xf = pd.DataFrame({\"t\": np.arange(mu * s + alpha, T, s)})\n",
    "    xf[r\"$\\mu$\"] = [mu] * (T - (mu * s + alpha))\n",
    "    xf[\"sample\"] = \"out-of-sample\"\n",
    "    return xf\n",
    "\n",
    "\n",
    "(\n",
    "    ggplot(aes(\"t\", \"sample\", r\"$\\mu$\"))\n",
    "    + geom_tile(\n",
    "        in_sample_block_e(1, s, alpha, T), aes(width=0.95, height=0.95, fill=\"sample\")\n",
    "    )\n",
    "    + geom_tile(\n",
    "        os_sample_block_e(1, s, alpha, T), aes(width=0.95, height=0.95, fill=\"sample\")\n",
    "    )\n",
    "    + scale_x_continuous(breaks=range(11))\n",
    ")"
   ]
  },
  {
   "cell_type": "markdown",
   "id": "tested-frontier",
   "metadata": {},
   "source": [
    "In this case, the in-sample period runs from $t=0$ to $t=4$, while the out-of-sample period runs from $t=5$ to $t=9$. $T=10$.\n",
    "\n",
    "Let's see how it works with some fake data, and we'll assume $h=3$ in this case."
   ]
  },
  {
   "cell_type": "code",
   "execution_count": null,
   "id": "optical-meditation",
   "metadata": {},
   "outputs": [],
   "source": [
    "import string\n",
    "\n",
    "horizon = 3\n",
    "num = 10 + horizon\n",
    "\n",
    "df = pd.DataFrame(\n",
    "    np.array(\n",
    "        [\n",
    "            range(num),\n",
    "            list(string.ascii_lowercase)[:num],\n",
    "            list(string.ascii_lowercase)[num : 2 * num],\n",
    "        ]\n",
    "    ).T,\n",
    "    columns=[\"Time\", \"y\", \"x\"],\n",
    ")\n",
    "df[r\"$y_{t+h}$\"] = df[\"y\"].shift(-horizon)\n",
    "df"
   ]
  },
  {
   "cell_type": "markdown",
   "id": "explicit-queen",
   "metadata": {},
   "source": [
    "What we have here is a dataset with a time index and y and x values. $y_{t+h}$ has been added as a feature by shifting the $y$ variable back by $h=3$ steps. We're not going to be able to predict those NaN values, so the first thing to do is to drop those variables. Second, we'll want to add in which parts are in-sample and which are out-of-sample."
   ]
  },
  {
   "cell_type": "code",
   "execution_count": null,
   "id": "celtic-relationship",
   "metadata": {},
   "outputs": [],
   "source": [
    "df = df.dropna()\n",
    "df[\"sample\"] = df[\"Time\"].apply(lambda x: \"IS\" if int(x) < 5 else \"OS\")\n",
    "df = df.set_index(\"Time\")\n",
    "df"
   ]
  },
  {
   "cell_type": "markdown",
   "id": "canadian-chair",
   "metadata": {},
   "source": [
    "Note how the sample can either be IS or OS-but not both.\n",
    "\n",
    "Now, if we were doing a forecast, we'd select the IS part to do our initial model building by running something like\n",
    "\n",
    "```python\n",
    "model = ols.fit(X=df.loc[df[\"sample\"]==\"IS\",\"x\"],\n",
    "                y=df.loc[df[\"sample\"]==\"IS\",r\"$y_{t+h}$\"])\n",
    "```\n",
    "\n",
    "This would then be used to predict the out of sample values:\n",
    "\n",
    "```python\n",
    "y_t_plus_h_os = model.predict(X=df.loc[df[\"sample\"]==\"OS\",\"x\"])\n",
    "```\n",
    "\n",
    "To know how good the estimate was, we'd then compare it with the true value. Typically, a value like the root mean square error is used for this, given by\n",
    "\n",
    "$$\n",
    "{\\displaystyle \\operatorname {RMSE} ={\\sqrt {\\frac {\\sum _{t=0}^{T-1}({\\hat {y}}_{t+h}-y_{t+h})^{2}}{T}}}.}\n",
    "$$\n",
    "\n",
    "where $\\hat{y}_{t+h}$ is the predicted value, equivalent to the object `y_t_plus_h_os` above.\n",
    "\n",
    "### An Example Two Period Forecast\n",
    "\n",
    "Let's see a real example of this in action."
   ]
  },
  {
   "cell_type": "markdown",
   "id": "edf0c1c6",
   "metadata": {},
   "source": [
    "## Expanding Window\n",
    "\n",
    "In an expanding window forecast exercise, multiple forecasts are made. In each, the in-sample period grows over time. Necessarily (given finite data), the out-of-sample period shrinks over time. The overall out-of-sample forecast is given by the unique union of the out-of-sample forecasts that are trained on the most information. To make this clear, let's first define it mathematically and then with a diagram.\n",
    "\n",
    "We index the different forecasts (synoymous with different models $f_\\mu$) by $\\mu$. The starting size of the window will be $s + \\alpha$ where $s$ is the step size and $\\alpha$ is a parameter that adjusts window size. For arbitrary $z_t$, the $\\mu$th in-sample slice of time series data is: \n",
    "$$\n",
    "I_{\\mu}(\\vec{z}) = \\left\\{z_t  \\right\\}_{t=0}^{t=\\mu\\cdot s + \\alpha -1}\n",
    "$$\n",
    "Applied to the features, this is the slice that will be used to train (aka fit) model $f_\\mu$.\n",
    "\n",
    "Likewise, the out-of-sample set is:\n",
    "$$\n",
    "O_{\\mu}(\\vec{z}) = \\left\\{z_t \\right\\}^{t=T-1}_{t=\\mu\\cdot s + \\alpha}\n",
    "$$\n",
    "\n",
    "We can visualise this like so:"
   ]
  },
  {
   "cell_type": "code",
   "execution_count": null,
   "id": "0e43316e",
   "metadata": {},
   "outputs": [],
   "source": [
    "# TODO: hide-input tag\n",
    "from plotnine import ggtitle\n",
    "\n",
    "s = 1\n",
    "alpha = 2\n",
    "T = 10\n",
    "max_mu = int((T - 1 + 1 - alpha) / s)\n",
    "\n",
    "(\n",
    "    ggplot(aes(\"t\", r\"$\\mu$\", \"sample\"))\n",
    "    + [\n",
    "        geom_tile(\n",
    "            in_sample_block_e(mu, s, alpha, T),\n",
    "            aes(width=0.95, height=0.95, fill=\"sample\"),\n",
    "        )\n",
    "        for mu in range(1, max_mu)\n",
    "    ]\n",
    "    + [\n",
    "        geom_tile(\n",
    "            os_sample_block_e(mu, s, alpha, T),\n",
    "            aes(width=0.95, height=0.95, fill=\"sample\"),\n",
    "        )\n",
    "        for mu in range(1, max_mu)\n",
    "    ]\n",
    "    + scale_x_continuous(breaks=range(T + 1))\n",
    "    + scale_y_continuous(breaks=range(1, max_mu))\n",
    "    + ggtitle(\"Expanding Window\")\n",
    ")"
   ]
  },
  {
   "cell_type": "markdown",
   "id": "a802fce8",
   "metadata": {},
   "source": [
    "## Rolling Window\n",
    "\n"
   ]
  },
  {
   "cell_type": "code",
   "execution_count": null,
   "id": "4275efa6",
   "metadata": {},
   "outputs": [],
   "source": [
    "# TODO: hide-input tag\n",
    "from plotnine import ggtitle\n",
    "\n",
    "s = 1\n",
    "alpha = 2\n",
    "window_size = s + alpha\n",
    "T = 10\n",
    "max_mu = int((T - 1 + 1 - alpha) / s)\n",
    "\n",
    "(\n",
    "    ggplot(aes(\"t\", r\"$\\mu$\", \"sample\"))\n",
    "    + [\n",
    "        geom_tile(\n",
    "            in_sample_block_r(mu, s, alpha, T),\n",
    "            aes(width=0.95, height=0.95, fill=\"sample\"),\n",
    "        )\n",
    "        for mu in range(1, max_mu)\n",
    "    ]\n",
    "    + [\n",
    "        geom_tile(\n",
    "            os_sample_block_r(mu, s, alpha, T),\n",
    "            aes(width=0.95, height=0.95, fill=\"sample\"),\n",
    "        )\n",
    "        for mu in range(1, max_mu)\n",
    "    ]\n",
    "    + scale_x_continuous(breaks=range(T + 1))\n",
    "    + scale_y_continuous(breaks=range(1, max_mu))\n",
    "    + ggtitle(\"Rolling Window\")\n",
    ")"
   ]
  },
  {
   "cell_type": "markdown",
   "id": "49e0057d",
   "metadata": {},
   "source": [
    "Unions"
   ]
  },
  {
   "cell_type": "code",
   "execution_count": null,
   "id": "a4f5226d",
   "metadata": {},
   "outputs": [],
   "source": [
    "script_I = pd.concat(\n",
    "    [in_sample_block_r(mu, s, alpha, T) for mu in range(1, max_mu)], axis=0\n",
    ")\n",
    "need to track which get used in final script_I visually too\n",
    "# def script_is_e(s, alpha, df):\n",
    "script_I[~script_I[\"t\"].duplicated(keep=\"first\")]"
   ]
  },
  {
   "cell_type": "code",
   "execution_count": null,
   "id": "2255d46a",
   "metadata": {},
   "outputs": [],
   "source": []
  }
 ],
 "metadata": {
  "interpreter": {
   "hash": "671f4d32165728098ed6607f79d86bfe6b725b450a30021a55936f1af379a247"
  },
  "jupytext": {
   "cell_metadata_filter": "-all",
   "formats": "md:myst"
  },
  "kernelspec": {
   "display_name": "Python 3.8.6 64-bit ('codeforecon': conda)",
   "name": "python3"
  },
  "language_info": {
   "codemirror_mode": {
    "name": "ipython",
    "version": 3
   },
   "file_extension": ".py",
   "mimetype": "text/x-python",
   "name": "python",
   "nbconvert_exporter": "python",
   "pygments_lexer": "ipython3",
   "version": "3.8.6"
  }
 },
 "nbformat": 4,
 "nbformat_minor": 5
}
