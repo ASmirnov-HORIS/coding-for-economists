{
 "cells": [
  {
   "cell_type": "markdown",
   "metadata": {},
   "source": [
    "(time-nowcasting)=\n",
    "# Introduction to Nowcasting\n",
    "\n",
    "Nowcasting is the prediction of economic indicators in the present, the very near future, and the very recent past—usually in a context where there is a lag in collecting and compiling information on that economic indicators and only partial information is available. For GDP, it can take over a year after the end of the so-called reference period for the final version of the data to be released. The two times you'll most often hear about nowcasting are in the context of the weather and GDP, two variables that people care deeply about!\n",
    "\n",
    "For most of this Chapter, we'll see an example of coding up a nowcast following an example based on Federal Reserve Board economist Chad Fulton's [notes](http://www.chadfulton.com/topics/statespace_large_dynamic_factor_models.html).\n",
    "\n",
    "Let's import the packages we'll need for this chapter:"
   ]
  },
  {
   "cell_type": "code",
   "execution_count": null,
   "metadata": {},
   "outputs": [],
   "source": [
    "import numpy as np\n",
    "import pandas as pd\n",
    "import statsmodels.api as sm\n",
    "from statsmodels.graphics import tsaplots\n",
    "from rich import inspect\n",
    "from numpy.random import Generator, PCG64\n",
    "import matplotlib.pyplot as plt\n",
    "import matplotlib as mpl\n",
    "import matplotlib.dates as mdates\n",
    "import warnings\n",
    "\n",
    "# Plot settings\n",
    "plt.style.use(\n",
    "    \"https://github.com/aeturrell/coding-for-economists/raw/main/plot_style.txt\"\n",
    ")\n",
    "mpl.rcParams.update({\"lines.linewidth\": 1.2})\n",
    "# Set max rows displayed for readability\n",
    "pd.set_option(\"display.max_rows\", 8)\n",
    "\n",
    "# Set seed for random numbers\n",
    "seed_for_prng = 78557\n",
    "prng = Generator(PCG64(seed_for_prng))\n",
    "warnings.filterwarnings('ignore')"
   ]
  },
  {
   "cell_type": "markdown",
   "metadata": {},
   "source": [
    "## Nowcasting\n",
    "\n",
    "We need to begin with some definitions. A *reference period* is the time period of interest to the nowcast, ie the time period for which you would like to estimate a data point. The *data vintage* is the time when the data were issued, and this could be before or after the reference period—indeed, for data that are revised, it can be some time *after* the reference period. Finally, the *frequency* is how often reference periods occur. For nowcasting GDP, the frequency is typically quarterly.\n",
    "\n",
    "There are three parts to a typical nowcast:\n",
    "\n",
    "1. the forecast (the estimate of the data point shortly *before* the reference period)\n",
    "2. the nowcast (the estimate of the data point *during* the reference period)\n",
    "3. the backcast (the estimate of the data point *after* the reference period)\n"
   ]
  },
  {
   "cell_type": "code",
   "execution_count": null,
   "metadata": {},
   "outputs": [],
   "source": [
    "# TODO remove input\n",
    "\n",
    "line_pos = [0, 3, 9, 12]\n",
    "colors = plt.rcParams['axes.prop_cycle'].by_key()['color']\n",
    "labels = [r\"$t-1$\", r\"$t$\", r\"$t+1 \\longrightarrow$\"]\n",
    "\n",
    "text_height_1 = 5\n",
    "text_height_2 = 2\n",
    "\n",
    "fig, ax = plt.subplots(figsize=(5, 2))\n",
    "ax.set_xlim(line_pos[0], line_pos[-1])\n",
    "ax.set_ylim(line_pos[0], 6)\n",
    "ax.axvline(3, color=\"k\", linestyle=\":\")\n",
    "ax.axvline(9, color=\"k\", linestyle=\":\")\n",
    "ax.annotate(\"Forecast\", xy=(1.5, text_height_1), ha=\"center\")\n",
    "ax.annotate(\"True Nowcast\", xy=(6, text_height_1), ha=\"center\")\n",
    "ax.annotate(\"Backcast\", xy=(10.5, text_height_1), ha=\"center\")\n",
    "ax.annotate(\"Reference period\", xy=(6, text_height_2), ha=\"center\")\n",
    "ax.axvspan(xmin=line_pos[0], xmax=line_pos[1], facecolor=colors[0], alpha=0.3)\n",
    "ax.axvspan(xmin=line_pos[1], xmax=line_pos[2], facecolor=colors[1], alpha=0.3)\n",
    "ax.axvspan(xmin=line_pos[2], xmax=line_pos[3], facecolor=colors[2], alpha=0.3)\n",
    "ax.set_xticks(line_pos[1:])\n",
    "ax.set_xticklabels(labels)\n",
    "ax.set_yticklabels([])\n",
    "ax.set_yticks([])\n",
    "ax.set_xlabel(\"Time (reference period)\")\n",
    "ax.spines['right'].set_visible(True)\n",
    "ax.spines['top'].set_visible(True)\n",
    "ax.set_title(\"The different periods of a nowcast\", fontsize=10)\n",
    "plt.show()"
   ]
  },
  {
   "cell_type": "markdown",
   "metadata": {},
   "source": [
    "In the above figure, the model is the same for the three different sub-periods, the only difference is whether the target event has happened yet.\n",
    "\n",
    "Nowcasting is, in many ways, more complicated than forecasting. With forecasting, it's often the case that the *information set*, $\\Omega$, that you're using is fixed at a point in time (say, at time $t-1$), and you plug that information into a model, $f$, to try and predict your target variable, $y$, at $y_{t}$. With nowcasting, the problem becomes *dynamic*. We could be at $t-1$, $t$, or even $t+1$ (and anything inbetween) but we still want to use the *same* model to nowcast the value of $y$ at $t$! This is a tall order for any model; it has to cover input data that are changing over time. \n",
    "\n",
    "Nowcasts should be able to be constructed *whenever* new data are available; that is whenever the *information set*, $\\Omega$, is updated. And this could happen several times through the nowcasting period (in forecast, nowcast, or backcasting periods).\n",
    "\n",
    "Nowcasts have to deal with two particular challenges:\n",
    "\n",
    "- Nowcasts should be able to deal with mixed frequency data, so as to take information that is released between and within reference periods.\n",
    "- Nowcasts should be able to deal with \"ragged edges\" in the data; that is, different variables in the information set have different release frequencies so making a nowcast at any point in time will inevitably collect an information set that has some data missing.\n",
    "\n",
    "As a concrete example of the new data that arrive during the period of operation of a nowcast (and these two challenges), let's imagine we are trying to nowcast quarterly GDP but that every month there is a survey of growth expectations and every three weeks on a Monday there is a release on sales (which has some predictive power for GDP). And then let's imagine we are trying to take a nowcast."
   ]
  },
  {
   "cell_type": "code",
   "execution_count": null,
   "metadata": {},
   "outputs": [],
   "source": [
    "# TODO remove input\n",
    "\n",
    "time_min = \"30-11-2019\"\n",
    "periods = 50\n",
    "weekly_range = pd.date_range(\"01-01-2020\", freq=\"W\", periods=periods)\n",
    "months = mdates.MonthLocator(interval=1)\n",
    "months_fmt = mdates.DateFormatter('%b')\n",
    "\n",
    "weeks = mdates.WeekdayLocator(byweekday=mdates.MO)\n",
    "\n",
    "date_lines = [(weekly_range.min() - pd.DateOffset(months=1)).to_period(\"Q\"),\n",
    "              (weekly_range.min() + pd.DateOffset(months=1)).to_period(\"Q\"),\n",
    "              (weekly_range.min() + pd.DateOffset(months=5)).to_period(\"Q\"),\n",
    "              (weekly_range.min() + pd.DateOffset(months=8)).to_period(\"Q\")]\n",
    "\n",
    "locs_release_sales = pd.date_range(time_min, freq=\"W-MON\", periods=periods)\n",
    "locs_survey = pd.date_range(time_min, freq=\"M\", periods=periods)\n",
    "\n",
    "text_height = 7\n",
    "\n",
    "fig, ax = plt.subplots(figsize=(7, 2))\n",
    "ax.set_xlim(weekly_range.min()-pd.DateOffset(months=1), weekly_range.max())\n",
    "ax.set_ylim(0, 8)\n",
    "for date_val in date_lines:\n",
    "    ax.axvline(date_val, color=\"k\", linestyle=\":\", alpha=0.3)\n",
    "annotations = [\"  Q1\", \"  Q2 (ref. period)\", \"  Q3\", \"  Q4\"]\n",
    "for i, tation in enumerate(annotations):\n",
    "    ax.annotate(tation, xy=(date_lines[i], text_height), ha=\"left\", fontsize=9)\n",
    "ax.annotate(\"  (Q1 GDP\\n  1st estimate released)\", xy=(date_lines[2], 6), ha=\"left\", va=\"center\", fontsize=7)\n",
    "ax.annotate(\"  (Q2 GDP 1st estimate released)\", xy=(date_lines[3], 6), ha=\"left\", va=\"center\", fontsize=7)\n",
    "for val in locs_release_sales[::3]:\n",
    "    ax.annotate(\"Sales Release\", xy=(val, 0), xytext=(val, 1), fontsize=6, rotation=90, ha=\"center\")\n",
    "for val in locs_survey:\n",
    "    ax.annotate(\"Survey\", xy=(val, 0), xytext=(val, 3), fontsize=6, rotation=90, ha=\"center\")\n",
    "ax.spines['right'].set_visible(False)\n",
    "ax.spines['top'].set_visible(False)\n",
    "ax.spines['left'].set_visible(False)\n",
    "ax.xaxis.set_major_locator(months)\n",
    "ax.xaxis.set_major_formatter(months_fmt)\n",
    "ax.xaxis.set_minor_locator(weeks)\n",
    "ax.yaxis.set_ticks([])\n",
    "ax.yaxis.set_ticklabels([])\n",
    "ax.tick_params(axis='x', which=\"minor\", bottom=True)\n",
    "ax.set_title(\"An example of high-frequency information releases relevant to a GDP nowcast\", fontsize=10)\n",
    "plt.show()"
   ]
  },
  {
   "cell_type": "markdown",
   "metadata": {},
   "source": [
    "In the above example we have three time series, all with different frequencies: the GDP 1st estimate releases (quarterly, but with a 1 quarter lag) and this we would use as an auto-regressive term in a model, the sales releases that come out every 3 weeks on a Monday, and the once-a-month survey releases. (In the diagram, the smaller tick marks denote every Monday.)\n",
    "\n",
    "A good nowcasting model needs to be able to incorporate all of the information in the example above, *and* be able to run at any point in time shown."
   ]
  },
  {
   "cell_type": "markdown",
   "metadata": {},
   "source": [
    "There are a range of methods for nowcasting around, but the most popular broad classes are probably:\n",
    "\n",
    "- *bridge models*, which use timely indicators to forecast a target variable. They create a \"bridge\" between higher-frequency series and the target variables by regressing the target variables on the higher frequency indicators. They tend to produce iterated forecasts and the high-frequency series are likely to be aggregated to low frequency.\n",
    "- *MIDAS*, or mixed-data sampling regressions which use a multi-step forecast and weight high frequency indicators using a special type of polynomial of lags and include leads of the high-frequency indicators. There is not, typically, any time aggregation.\n",
    "- *dynamic factor models*, which suppose that a small number of unobserved “factors” can be used to explain a substantial portion of the variation and dynamics in a larger number of observed variables, and (most usefully for nowcasting) variables that are lower frequency can be estimated from the high-frequency indicators.\n",
    "\n",
    "\n",
    "TODO Quote this paper on differences: A comparison of MIDAS and bridge equations"
   ]
  }
 ],
 "metadata": {
  "interpreter": {
   "hash": "671f4d32165728098ed6607f79d86bfe6b725b450a30021a55936f1af379a247"
  },
  "kernelspec": {
   "display_name": "Python 3.8.6 64-bit ('codeforecon': conda)",
   "name": "python3"
  },
  "language_info": {
   "codemirror_mode": {
    "name": "ipython",
    "version": 3
   },
   "file_extension": ".py",
   "mimetype": "text/x-python",
   "name": "python",
   "nbconvert_exporter": "python",
   "pygments_lexer": "ipython3",
   "version": "3.8.12"
  }
 },
 "nbformat": 4,
 "nbformat_minor": 2
}
