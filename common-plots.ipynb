{
 "cells": [
  {
   "cell_type": "markdown",
   "metadata": {},
   "source": [
    "# Common Plots\n",
    "\n",
    "## Introduction\n",
    "\n",
    "In this chapter, we'll look at some of the most common plots that you might want to make--and how to create them using the most popular libraries. If you need an introduction to these libraries, see the previous chapter.\n",
    "\n",
    "Bear in mind that for many of the **matplotlib** examples, using the `df.plot.*` syntax can get the plot you want more quickly! To be more comprehensive, the solution for any kind of data is shown in the examples below.\n",
    "\n",
    "Throughout, we'll assume that the data are in a tidy format (one row per observation, one variable per column). Remember that all Altair plots can be made interactive by adding `.interactive()` at the end.\n",
    "\n",
    "First, though, let's import the libraries we'll need."
   ]
  },
  {
   "cell_type": "code",
   "execution_count": null,
   "metadata": {},
   "outputs": [],
   "source": [
    "import numpy as np\n",
    "import pandas as pd\n",
    "import seaborn as sns\n",
    "import matplotlib.pyplot as plt\n",
    "from plotnine import *\n",
    "import altair as alt\n",
    "from vega_datasets import data\n",
    "\n",
    "# Set seed for reproducibility\n",
    "np.random.seed(10)\n",
    "# Set max rows displayed for readability\n",
    "pd.set_option('display.max_rows', 6)\n",
    "# Nicer matplotlib fonts\n",
    "plt.style.use({'mathtext.fontset': 'stix',\n",
    "               'font.family': 'STIXGeneral',\n",
    "               'figure.figsize': (10, 5.5),\n",
    "               'xtick.labelsize': 20,\n",
    "               'ytick.labelsize': 20,\n",
    "               'font.size': 20})"
   ]
  },
  {
   "cell_type": "markdown",
   "metadata": {},
   "source": [
    "## Scatter plot\n",
    "\n",
    "In this example, we see a simple scatter plot with categories using the cars data:"
   ]
  },
  {
   "cell_type": "code",
   "execution_count": null,
   "metadata": {},
   "outputs": [],
   "source": [
    "cars = data.cars()\n",
    "cars.head()"
   ]
  },
  {
   "source": [
    "### Matplotlib"
   ],
   "cell_type": "markdown",
   "metadata": {}
  },
  {
   "cell_type": "code",
   "execution_count": null,
   "metadata": {},
   "outputs": [],
   "source": [
    "colormap = plt.cm.Set1\n",
    "colorst = [colormap(i) for i in\n",
    "           np.linspace(0, 0.9, len(cars['Origin'].unique()))]\n",
    "fig, ax = plt.subplots()\n",
    "for i, origin in enumerate(cars['Origin'].unique()):\n",
    "    cars_sub = cars[cars['Origin'] == origin]\n",
    "    ax.scatter(cars_sub['Horsepower'],\n",
    "               cars_sub['Miles_per_Gallon'],\n",
    "               color=colorst[i],\n",
    "               label=origin,\n",
    "               edgecolor='grey')\n",
    "ax.set_ylabel('Miles per Gallon')\n",
    "ax.set_xlabel('Horsepower')\n",
    "ax.legend()\n",
    "plt.show()"
   ]
  },
  {
   "source": [
    "### Seaborn\n",
    "\n",
    "In this first example, I'll also show how to tweak the labels by using the underlying matplolib `Axes` object, here called `ax`."
   ],
   "cell_type": "markdown",
   "metadata": {}
  },
  {
   "cell_type": "code",
   "execution_count": null,
   "metadata": {},
   "outputs": [],
   "source": [
    "fig, ax = plt.subplots()\n",
    "sns.scatterplot(data=cars,\n",
    "                x=\"Horsepower\",\n",
    "                y=\"Miles_per_Gallon\",\n",
    "                hue=\"Origin\",\n",
    "                ax=ax)\n",
    "ax.set_ylabel('Miles per Gallon')\n",
    "ax.set_xlabel('Horsepower')\n",
    "plt.show()"
   ]
  },
  {
   "source": [
    "### Plotnine"
   ],
   "cell_type": "markdown",
   "metadata": {}
  },
  {
   "cell_type": "code",
   "execution_count": null,
   "metadata": {},
   "outputs": [],
   "source": [
    "(\n",
    "    ggplot(cars, aes(x=\"Horsepower\",\n",
    "                     y=\"Miles_per_Gallon\",\n",
    "                     color='Origin'))\n",
    "    + geom_point()\n",
    "    + ylab('Miles per Gallon')\n",
    ")"
   ]
  },
  {
   "source": [
    "### Altair\n",
    "\n",
    "For this first example, we'll also show how to make the altair plot interactive with movable axes and more info on mouse-hover."
   ],
   "cell_type": "markdown",
   "metadata": {}
  },
  {
   "cell_type": "code",
   "execution_count": null,
   "metadata": {},
   "outputs": [],
   "source": [
    "alt.Chart(cars).mark_circle(size=60).encode(\n",
    "    x='Horsepower',\n",
    "    y='Miles_per_Gallon',\n",
    "    color='Origin',\n",
    "    tooltip=['Name', 'Origin', 'Horsepower', 'Miles_per_Gallon']\n",
    ").interactive()"
   ]
  },
  {
   "source": [
    "## Bubble plot\n",
    "\n",
    "This is a scatter plot where the size of the point carries an extra dimension of information."
   ],
   "cell_type": "markdown",
   "metadata": {}
  },
  {
   "source": [
    "### Matplotlib\n",
    "\n"
   ],
   "cell_type": "markdown",
   "metadata": {}
  },
  {
   "cell_type": "code",
   "execution_count": null,
   "metadata": {},
   "outputs": [],
   "source": [
    "fig, ax = plt.subplots()\n",
    "scat = ax.scatter(cars['Horsepower'],\n",
    "               cars['Miles_per_Gallon'],\n",
    "               s = cars['Displacement'],\n",
    "               alpha=0.4)\n",
    "ax.set_ylabel('Miles per Gallon')\n",
    "ax.set_xlabel('Horsepower')\n",
    "ax.legend(*scat.legend_elements(prop=\"sizes\", num=4), loc=\"upper right\", title=\"Displacement\", frameon=False)\n",
    "plt.show()"
   ]
  },
  {
   "source": [
    "### Seaborn\n",
    "\n"
   ],
   "cell_type": "markdown",
   "metadata": {}
  },
  {
   "cell_type": "code",
   "execution_count": null,
   "metadata": {},
   "outputs": [],
   "source": [
    "sns.scatterplot(data=cars,\n",
    "                x=\"Horsepower\",\n",
    "                y=\"Miles_per_Gallon\",\n",
    "                size=\"Displacement\");"
   ]
  },
  {
   "source": [
    "### Plotnine"
   ],
   "cell_type": "markdown",
   "metadata": {}
  },
  {
   "cell_type": "code",
   "execution_count": null,
   "metadata": {},
   "outputs": [],
   "source": [
    "(\n",
    "    ggplot(cars, aes(x=\"Horsepower\",\n",
    "                     y=\"Miles_per_Gallon\",\n",
    "                     size='Displacement'))\n",
    "    + geom_point()\n",
    ")"
   ]
  },
  {
   "source": [
    "### Altair\n"
   ],
   "cell_type": "markdown",
   "metadata": {}
  },
  {
   "cell_type": "code",
   "execution_count": null,
   "metadata": {},
   "outputs": [],
   "source": [
    "alt.Chart(cars).mark_circle().encode(\n",
    "    x='Horsepower',\n",
    "    y='Miles_per_Gallon',\n",
    "    size='Displacement'\n",
    ")"
   ]
  },
  {
   "source": [
    "## Line plot\n",
    "\n",
    "First, let's get some data on GDP growth:"
   ],
   "cell_type": "markdown",
   "metadata": {}
  },
  {
   "cell_type": "code",
   "execution_count": null,
   "metadata": {},
   "outputs": [],
   "source": [
    "import pandas_datareader.data as web\n",
    "\n",
    "ts_start_date = pd.to_datetime('1999-01-01')\n",
    "\n",
    "df = pd.concat([web.DataReader('ticker=RGDP' + x, 'econdb', start=ts_start_date) for x in ['US', 'UK']], axis=1)\n",
    "df.columns = ['US', 'UK']\n",
    "df.index.name = 'Date'\n",
    "df = 100*df.pct_change(4)\n",
    "df = pd.melt(df.reset_index(),\n",
    "             id_vars=['Date'],\n",
    "             value_vars=df.columns,\n",
    "             value_name='Real GDP growth, %',\n",
    "             var_name='Country')\n",
    "df = df.set_index('Date')\n",
    "df.head()"
   ]
  },
  {
   "source": [
    "### Matplotlib\n",
    "\n",
    "Note that **Matplotlib** prefers data to be one variable per column, in which case we could have just run\n",
    "\n",
    "```python\n",
    "fig, ax = plt.subplots()\n",
    "df.plot(ax=ax)\n",
    "ax.set_title('Real GDP growth, %', loc='right')\n",
    "ax.yaxis.tick_right()\n",
    "```\n",
    "\n",
    "but we are working with tidy data here, so we'll do the plotting slightly differently."
   ],
   "cell_type": "markdown",
   "metadata": {}
  },
  {
   "cell_type": "code",
   "execution_count": null,
   "metadata": {},
   "outputs": [],
   "source": [
    "colormap = plt.cm.Set1\n",
    "colorst = [colormap(i) for i in\n",
    "           np.linspace(0, 0.9, len(df['Country'].unique()))]\n",
    "fig, ax = plt.subplots()\n",
    "for i, country in enumerate(df['Country'].unique()):\n",
    "    df_sub = df[df['Country'] == country]\n",
    "    ax.plot(df_sub.index,\n",
    "               df_sub['Real GDP growth, %'],\n",
    "               color=colorst[i],\n",
    "               label=country,\n",
    "               lw=2)\n",
    "ax.set_title('Real GDP growth, %', loc='right')\n",
    "ax.yaxis.tick_right()\n",
    "ax.legend()\n",
    "plt.show()"
   ]
  },
  {
   "source": [
    "### Seaborn\n",
    "\n",
    "Note that **seaborn** prefers not to work with an index value so we use `df.reset_index()` to make the 'date' index column into a regular column in the snippet below:"
   ],
   "cell_type": "markdown",
   "metadata": {}
  },
  {
   "cell_type": "code",
   "execution_count": null,
   "metadata": {},
   "outputs": [],
   "source": [
    "fig, ax = plt.subplots()\n",
    "sns.lineplot(x=\"Date\", y=\"Real GDP growth, %\",\n",
    "             hue=\"Country\",\n",
    "             data=df.reset_index(),\n",
    "             ax=ax)\n",
    "ax.yaxis.tick_right()\n",
    "plt.show()"
   ]
  },
  {
   "source": [
    "### Plotnine"
   ],
   "cell_type": "markdown",
   "metadata": {}
  },
  {
   "cell_type": "code",
   "execution_count": null,
   "metadata": {},
   "outputs": [],
   "source": [
    "(\n",
    "    ggplot(df.reset_index(), aes(x='Date',\n",
    "                                 y='Real GDP growth, %',\n",
    "                                 color='Country'))\n",
    "    + geom_line()\n",
    ")"
   ]
  },
  {
   "source": [
    "### Altair"
   ],
   "cell_type": "markdown",
   "metadata": {}
  },
  {
   "cell_type": "code",
   "execution_count": null,
   "metadata": {},
   "outputs": [],
   "source": [
    "alt.Chart(df.reset_index()).mark_line().encode(\n",
    "    x='Date:T',\n",
    "    y='Real GDP growth, %',\n",
    "    color='Country',\n",
    "    strokeDash='Country',\n",
    ")"
   ]
  },
  {
   "source": [
    "## Bar chart\n",
    "\n",
    "Let's see a bar chart, using the 'barley' dataset."
   ],
   "cell_type": "markdown",
   "metadata": {}
  },
  {
   "cell_type": "code",
   "execution_count": null,
   "metadata": {},
   "outputs": [],
   "source": [
    "barley = data.barley()\n",
    "barley = pd.DataFrame(barley.groupby(['site'])['yield'].sum())\n",
    "barley.head()"
   ]
  },
  {
   "source": [
    "### Matplotlib\n",
    "\n",
    "Just remove the 'h' in `ax.barh` to get a vertical plot."
   ],
   "cell_type": "markdown",
   "metadata": {}
  },
  {
   "cell_type": "code",
   "execution_count": null,
   "metadata": {},
   "outputs": [],
   "source": [
    "fig, ax = plt.subplots()\n",
    "ax.barh(barley['yield'].index, barley['yield'], 0.35)\n",
    "ax.set_xlabel('Yield')\n",
    "plt.show()"
   ]
  },
  {
   "source": [
    "### Seaborn\n",
    "\n",
    "Just switch x and y variables to get a vertical plot."
   ],
   "cell_type": "markdown",
   "metadata": {}
  },
  {
   "cell_type": "code",
   "execution_count": null,
   "metadata": {},
   "outputs": [],
   "source": [
    "sns.catplot(\n",
    "    data=barley.reset_index(),\n",
    "    kind=\"bar\",\n",
    "    y=\"site\", x=\"yield\",\n",
    ")"
   ]
  },
  {
   "source": [
    "### Plotnine\n",
    "\n",
    "Just omit `coord_flip()` to get a vertical plot."
   ],
   "cell_type": "markdown",
   "metadata": {}
  },
  {
   "cell_type": "code",
   "execution_count": null,
   "metadata": {},
   "outputs": [],
   "source": [
    "(\n",
    "    ggplot(barley.reset_index(), aes(x='site', y='yield'))\n",
    "    + geom_col()\n",
    "    + coord_flip()\n",
    ")"
   ]
  },
  {
   "source": [
    "### Altair\n",
    "\n",
    "Just switch x and y to get a vertical plot."
   ],
   "cell_type": "markdown",
   "metadata": {}
  },
  {
   "cell_type": "code",
   "execution_count": null,
   "metadata": {},
   "outputs": [],
   "source": [
    "alt.Chart(barley.reset_index()).mark_bar().encode(\n",
    "    y='site',\n",
    "    x='yield',\n",
    ").properties(\n",
    "    width=alt.Step(40)  # controls width of bar.\n",
    ")"
   ]
  },
  {
   "source": [
    "## Grouped bar chart\n",
    "\n"
   ],
   "cell_type": "markdown",
   "metadata": {}
  },
  {
   "cell_type": "code",
   "execution_count": null,
   "metadata": {},
   "outputs": [],
   "source": [
    "barley = data.barley()\n",
    "barley = pd.DataFrame(barley.groupby(['site', 'year'])['yield'].sum()).reset_index()\n",
    "barley.head()"
   ]
  },
  {
   "source": [
    "### Matplotlib"
   ],
   "cell_type": "markdown",
   "metadata": {}
  },
  {
   "cell_type": "code",
   "execution_count": null,
   "metadata": {},
   "outputs": [],
   "source": [
    "labels = barley['site'].unique()\n",
    "y = np.arange(len(labels))  # the label locations\n",
    "width = 0.35  # the width of the bars\n",
    "\n",
    "fig, ax = plt.subplots()\n",
    "ax.barh(y - width/2, barley.loc[barley['year'] == 1931, 'yield'], width, label='1931')\n",
    "ax.barh(y + width/2, barley.loc[barley['year'] == 1932, 'yield'], width, label='1932')\n",
    "\n",
    "# Add some text for labels, title and custom x-axis tick labels, etc.\n",
    "ax.set_xlabel('Yield')\n",
    "ax.set_yticks(x)\n",
    "ax.set_yticklabels(labels)\n",
    "ax.legend(frameon=False)\n",
    "plt.show()"
   ]
  },
  {
   "source": [
    "### Seaborn"
   ],
   "cell_type": "markdown",
   "metadata": {}
  },
  {
   "cell_type": "code",
   "execution_count": null,
   "metadata": {},
   "outputs": [],
   "source": [
    "sns.catplot(\n",
    "    data=barley,\n",
    "    kind=\"bar\",\n",
    "    y=\"site\", x=\"yield\",\n",
    "    hue=\"year\"\n",
    ")"
   ]
  },
  {
   "source": [
    "### Plotnine"
   ],
   "cell_type": "markdown",
   "metadata": {}
  },
  {
   "cell_type": "code",
   "execution_count": null,
   "metadata": {},
   "outputs": [],
   "source": [
    "(\n",
    "    ggplot(barley, aes(x='site', y='yield', fill='factor(year)'))\n",
    "    + geom_col(position='dodge')\n",
    "    + coord_flip()\n",
    ")"
   ]
  },
  {
   "source": [
    "### Altair\n"
   ],
   "cell_type": "markdown",
   "metadata": {}
  },
  {
   "cell_type": "code",
   "execution_count": null,
   "metadata": {},
   "outputs": [],
   "source": [
    "alt.Chart(barley.reset_index()).mark_bar().encode(\n",
    "    y='year:O',\n",
    "    x='yield',\n",
    "    color='year:N',\n",
    "    row='site:N'\n",
    ").properties(\n",
    "    width=alt.Step(40)  # controls width of bar.\n",
    ")"
   ]
  },
  {
   "source": [
    "## Stacked bar chart\n",
    "\n"
   ],
   "cell_type": "markdown",
   "metadata": {}
  },
  {
   "source": [
    "### Matplotlib "
   ],
   "cell_type": "markdown",
   "metadata": {}
  },
  {
   "cell_type": "code",
   "execution_count": null,
   "metadata": {},
   "outputs": [],
   "source": [
    "labels = barley['site'].unique()\n",
    "y = np.arange(len(labels))  # the label locations\n",
    "width = 0.35  # the width (or height) of the bars\n",
    "\n",
    "fig, ax = plt.subplots()\n",
    "ax.barh(y, barley.loc[barley['year'] == 1931, 'yield'], width, label='1931')\n",
    "ax.barh(y, barley.loc[barley['year'] == 1932, 'yield'], width, label='1932', left=barley.loc[barley['year'] == 1931, 'yield'])\n",
    "\n",
    "# Add some text for labels, title and custom x-axis tick labels, etc.\n",
    "ax.set_xlabel('Yield')\n",
    "ax.set_yticks(x)\n",
    "ax.set_yticklabels(labels)\n",
    "ax.legend(frameon=False)\n",
    "plt.show()"
   ]
  },
  {
   "source": [
    "### Seaborn\n",
    "\n",
    "As far as I know, there's no easy way of doing this."
   ],
   "cell_type": "markdown",
   "metadata": {}
  },
  {
   "source": [
    "### Plotnine\n",
    "\n"
   ],
   "cell_type": "markdown",
   "metadata": {}
  },
  {
   "cell_type": "code",
   "execution_count": null,
   "metadata": {},
   "outputs": [],
   "source": [
    "(\n",
    "    ggplot(barley, aes(x='site', y='yield', fill='factor(year)'))\n",
    "    + geom_col()\n",
    "    + coord_flip()\n",
    ")"
   ]
  },
  {
   "source": [
    "### Altair"
   ],
   "cell_type": "markdown",
   "metadata": {}
  },
  {
   "cell_type": "code",
   "execution_count": null,
   "metadata": {},
   "outputs": [],
   "source": [
    "alt.Chart(barley.reset_index()).mark_bar().encode(\n",
    "    y='site',\n",
    "    x='yield',\n",
    "    color='year:N',\n",
    ").properties(\n",
    "    width=alt.Step(40)  # controls width of bar.\n",
    ")"
   ]
  },
  {
   "source": [
    "## Kernel density estimate\n",
    "\n",
    "We'll use the diamonds dataset to demonstrate this."
   ],
   "cell_type": "markdown",
   "metadata": {}
  },
  {
   "cell_type": "code",
   "execution_count": null,
   "metadata": {},
   "outputs": [],
   "source": [
    "diamonds = sns.load_dataset(\"diamonds\").sample(1000)\n",
    "diamonds.head()"
   ]
  },
  {
   "source": [
    "### Matplotlib\n",
    "\n",
    "Technically, there is a way to do this but it's pretty inelegant if you want a quick plot. That's because **matplotlib** doesn't do the density estimation itself. [Jake Vanderplas](https://jakevdp.github.io/PythonDataScienceHandbook/05.13-kernel-density-estimation.html) has a nice example but as it relies on a few extra libraries, I won't reproduce it here."
   ],
   "cell_type": "markdown",
   "metadata": {}
  },
  {
   "source": [
    "### Seaborn\n",
    "\n"
   ],
   "cell_type": "markdown",
   "metadata": {}
  },
  {
   "cell_type": "code",
   "execution_count": null,
   "metadata": {},
   "outputs": [],
   "source": [
    "sns.displot(diamonds,\n",
    "            x=\"carat\", kind=\"kde\", hue='cut',\n",
    "            fill=True);"
   ]
  },
  {
   "source": [
    "### Plotnine\n",
    "\n"
   ],
   "cell_type": "markdown",
   "metadata": {}
  },
  {
   "cell_type": "code",
   "execution_count": null,
   "metadata": {},
   "outputs": [],
   "source": [
    "(\n",
    "   ggplot(diamonds, aes(x='carat', fill = 'cut', colour = 'cut')) +\n",
    "   geom_density(alpha=0.5)\n",
    ")"
   ]
  },
  {
   "source": [
    "### Altair"
   ],
   "cell_type": "markdown",
   "metadata": {}
  },
  {
   "cell_type": "code",
   "execution_count": null,
   "metadata": {},
   "outputs": [],
   "source": [
    "alt.Chart(diamonds).transform_density(\n",
    "    density='carat',\n",
    "    as_=['carat', 'density'],\n",
    "    groupby=['cut']\n",
    ").mark_area(fillOpacity=0.5).encode(\n",
    "    x='carat:Q',\n",
    "    y='density:Q',\n",
    "    color='cut:N',\n",
    ")"
   ]
  },
  {
   "source": [
    "## Histogram or probability density function\n",
    "\n",
    "For this, let's go back to the penguins dataset."
   ],
   "cell_type": "markdown",
   "metadata": {}
  },
  {
   "cell_type": "code",
   "execution_count": null,
   "metadata": {},
   "outputs": [],
   "source": [
    "penguins = sns.load_dataset(\"penguins\")\n",
    "penguins.head()"
   ]
  },
  {
   "source": [
    "### Matplotlib\n",
    "\n",
    "The `density=` keyword parameter decides whether to create counts or a probability density function."
   ],
   "cell_type": "markdown",
   "metadata": {}
  },
  {
   "cell_type": "code",
   "execution_count": null,
   "metadata": {},
   "outputs": [],
   "source": [
    "fig, ax = plt.subplots()\n",
    "ax.hist(penguins['flipper_length_mm'], bins=30, density=True, edgecolor='k')\n",
    "ax.set_xlabel('Flipper length (mm)')\n",
    "ax.set_ylabel('Probability density')\n",
    "fig.tight_layout()\n",
    "plt.show()"
   ]
  },
  {
   "source": [
    "### Seaborn"
   ],
   "cell_type": "markdown",
   "metadata": {}
  },
  {
   "cell_type": "code",
   "execution_count": null,
   "metadata": {},
   "outputs": [],
   "source": [
    "sns.histplot(data=penguins, x=\"flipper_length_mm\", bins=30, stat='density');"
   ]
  },
  {
   "source": [
    "### Plotnine\n",
    "\n"
   ],
   "cell_type": "markdown",
   "metadata": {}
  },
  {
   "cell_type": "code",
   "execution_count": null,
   "metadata": {},
   "outputs": [],
   "source": [
    "(\n",
    "    ggplot(penguins, aes(x='flipper_length_mm', y='stat(density)'))\n",
    "    + geom_histogram(bins=30) # specify the binwidth\n",
    ")"
   ]
  },
  {
   "source": [
    "### Altair\n",
    "\n"
   ],
   "cell_type": "markdown",
   "metadata": {}
  },
  {
   "cell_type": "code",
   "execution_count": null,
   "metadata": {},
   "outputs": [],
   "source": [
    "alt.Chart(penguins).mark_bar().encode(\n",
    "    alt.X(\"flipper_length_mm:Q\", bin=True),\n",
    "    y='count()',\n",
    ")"
   ]
  },
  {
   "source": [
    "## Marginal histograms\n",
    "\n"
   ],
   "cell_type": "markdown",
   "metadata": {}
  },
  {
   "source": [
    "### Maplotlib\n",
    "\n",
    "[Jaker Vanderplas's excellent notes](https://jakevdp.github.io/PythonDataScienceHandbook/04.08-multiple-subplots.html) have a great example of this, but now there's an easier way to do it with Matplotlib's new `constrained_layout` options."
   ],
   "cell_type": "markdown",
   "metadata": {}
  },
  {
   "cell_type": "code",
   "execution_count": null,
   "metadata": {},
   "outputs": [],
   "source": [
    "fig = plt.figure(constrained_layout=True)\n",
    "# Create a layout with 3 panels in the given ratios\n",
    "axes_dict = fig.subplot_mosaic([['.', 'histx'], ['histy', 'scat']],\n",
    "                         gridspec_kw={'width_ratios': [1, 7],\n",
    "                                      'height_ratios': [2, 7]})\n",
    "# Glue all the relevant axes together\n",
    "axes_dict['histy'].invert_xaxis()\n",
    "axes_dict['histx'].sharex(axes_dict['scat'])\n",
    "axes_dict['histy'].sharey(axes_dict['scat'])\n",
    "# Plot the data\n",
    "axes_dict['scat'].scatter(penguins['bill_length_mm'], penguins['bill_depth_mm'])\n",
    "axes_dict['histx'].hist(penguins['bill_length_mm'])\n",
    "axes_dict['histy'].hist(penguins['bill_depth_mm'], orientation='horizontal');"
   ]
  },
  {
   "source": [
    "### Seaborn"
   ],
   "cell_type": "markdown",
   "metadata": {}
  },
  {
   "cell_type": "code",
   "execution_count": null,
   "metadata": {},
   "outputs": [],
   "source": [
    "sns.jointplot(data=penguins, x=\"bill_length_mm\", y=\"bill_depth_mm\");"
   ]
  },
  {
   "source": [
    "### Plotnine\n",
    "\n",
    "I couldn't find an easy way to do this in plotnine but you can make rug plots, which have some similarities in terms of information conveyed."
   ],
   "cell_type": "markdown",
   "metadata": {}
  },
  {
   "cell_type": "code",
   "execution_count": null,
   "metadata": {},
   "outputs": [],
   "source": [
    "(ggplot(penguins, aes(x='bill_length_mm', y='bill_depth_mm')) +\n",
    "  geom_point() +\n",
    "  geom_rug())"
   ]
  },
  {
   "source": [
    "### Altair\n",
    "\n",
    "This is a bit fiddly."
   ],
   "cell_type": "markdown",
   "metadata": {}
  },
  {
   "cell_type": "code",
   "execution_count": null,
   "metadata": {},
   "outputs": [],
   "source": [
    "base = alt.Chart(penguins)\n",
    "\n",
    "xscale = alt.Scale(domain=(20, 60))\n",
    "yscale = alt.Scale(domain=(10, 30))\n",
    "\n",
    "area_args = {'opacity': .5, 'interpolate': 'step'}\n",
    "\n",
    "points = base.mark_circle().encode(\n",
    "   alt.X('bill_length_mm', scale=xscale),\n",
    "   alt.Y('bill_depth_mm', scale=yscale)\n",
    ")\n",
    "\n",
    "top_hist = base.mark_area(**area_args).encode(\n",
    "    alt.X('bill_length_mm:Q',\n",
    "          # when using bins, the axis scale is set through\n",
    "          # the bin extent, so we do not specify the scale here\n",
    "          # (which would be ignored anyway)\n",
    "          bin=alt.Bin(maxbins=30, extent=xscale.domain),\n",
    "          stack=None,\n",
    "          title=''\n",
    "         ),\n",
    "    alt.Y('count()', stack=None, title='')\n",
    ").properties(height=60)\n",
    "\n",
    "right_hist = base.mark_area(**area_args).encode(\n",
    "    alt.Y('bill_depth_mm:Q',\n",
    "          bin=alt.Bin(maxbins=30, extent=yscale.domain),\n",
    "          stack=None,\n",
    "          title='',\n",
    "         ),\n",
    "    alt.X('count()', stack=None, title=''),\n",
    ").properties(width=60)\n",
    "\n",
    "top_hist & (points | right_hist)"
   ]
  },
  {
   "source": [
    "## Heatmap"
   ],
   "cell_type": "markdown",
   "metadata": {}
  }
 ],
 "metadata": {
  "celltoolbar": "Tags",
  "kernelspec": {
   "display_name": "codeforecon",
   "language": "python",
   "name": "codeforecon"
  },
  "language_info": {
   "codemirror_mode": {
    "name": "ipython",
    "version": 3
   },
   "file_extension": ".py",
   "mimetype": "text/x-python",
   "name": "python",
   "nbconvert_exporter": "python",
   "pygments_lexer": "ipython3",
   "version": "3.8.6-final"
  },
  "widgets": {
   "application/vnd.jupyter.widget-state+json": {
    "state": {},
    "version_major": 2,
    "version_minor": 0
   }
  }
 },
 "nbformat": 4,
 "nbformat_minor": 4
}