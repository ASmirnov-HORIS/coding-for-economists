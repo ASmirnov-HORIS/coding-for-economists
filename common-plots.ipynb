{
 "cells": [
  {
   "cell_type": "markdown",
   "metadata": {},
   "source": [
    "# Common Plots\n",
    "\n",
    "## Introduction\n",
    "\n",
    "In this chapter, we'll look at some of the most common plots that you might want to make--and how to create them using the most popular libraries. If you need an introduction to these libraries, see the previous chapter.\n",
    "\n",
    "Bear in mind that for many of the **matplotlib** examples, using the `df.plot.*` syntax can get the plot you want more quickly! To be more comprehensive, the solution for any kind of data is shown in the examples below.\n",
    "\n",
    "Throughout, we'll assume that the data are in a tidy format (one row per observation, one variable per column). Remember that all Altair plots can be made interactive by adding `.interactive()` at the end.\n",
    "\n",
    "First, though, let's import the libraries we'll need."
   ]
  },
  {
   "cell_type": "code",
   "execution_count": null,
   "metadata": {},
   "outputs": [],
   "source": [
    "import numpy as np\n",
    "import pandas as pd\n",
    "import seaborn as sns\n",
    "import matplotlib.pyplot as plt\n",
    "from plotnine import *\n",
    "import altair as alt\n",
    "from vega_datasets import data\n",
    "import os\n",
    "\n",
    "# Set seed for reproducibility\n",
    "np.random.seed(10)\n",
    "# Set max rows displayed for readability\n",
    "pd.set_option('display.max_rows', 6)\n",
    "# Nicer matplotlib fonts\n",
    "plt.style.use({'mathtext.fontset': 'stix',\n",
    "               'font.family': 'STIXGeneral',\n",
    "               'figure.figsize': (10, 5.5),\n",
    "               'xtick.labelsize': 20,\n",
    "               'ytick.labelsize': 20,\n",
    "               'font.size': 20})"
   ]
  },
  {
   "source": [
    "## Facets\n",
    "\n",
    "This applies to all plots, so in some sense is common! Facets, aka panels or small multiples, are ways of showing the same chart multiple times. Let's see how to achieve them in a few of the most popular plotting libraries.\n",
    "\n",
    "We'll use the cars dataset for this."
   ],
   "cell_type": "markdown",
   "metadata": {}
  },
  {
   "cell_type": "code",
   "execution_count": null,
   "metadata": {},
   "outputs": [],
   "source": [
    "df = sns.load_dataset('tips')\n",
    "df.head()"
   ]
  },
  {
   "source": [
    "### Matplotlib\n",
    "\n",
    "There are many ways to create facets using Matplotlib, and you can get facets in any shape or sizes you like. \n",
    "\n",
    "The easiest way, though, is to specify the number of rows and columns. This is achieved by specifying `nrows` and `ncols` when calling `plt.subplots`. It returns an array of shape `(nrows, ncols)` of `Axes` objects. For most purposes, you'll want to flatten these to a vector before iterating over them."
   ],
   "cell_type": "markdown",
   "metadata": {}
  },
  {
   "cell_type": "code",
   "execution_count": null,
   "metadata": {},
   "outputs": [],
   "source": [
    "# This part just to get some colours\n",
    "colormap = plt.cm.Dark2\n",
    "\n",
    "fig, axes = plt.subplots(nrows=1, ncols=4, sharex=True, sharey=True)\n",
    "flat_axes = axes.flatten() # Not needed with 1 row or 1 col, but good to be aware of\n",
    "\n",
    "facet_grp = list(df['day'].unique())\n",
    "colorst = [colormap(i) for i in\n",
    "           np.linspace(0, 0.9, len(facet_grp))]\n",
    "for i, ax in enumerate(flat_axes):\n",
    "    sub_df = df.loc[df['day'] == facet_grp[i]]\n",
    "    ax.scatter(sub_df['tip'],\n",
    "               sub_df['total_bill'],\n",
    "               s=30,\n",
    "               color=colorst[i])\n",
    "    ax.set_title(facet_grp[i])\n",
    "fig.text(0.5, 0.01, 'Tip', ha='center')\n",
    "fig.text(0.0, 0.5, 'Total bill', va='center', rotation='vertical')\n",
    "plt.tight_layout()\n",
    "plt.show()"
   ]
  },
  {
   "source": [
    "Different facet sizes are possible in numerous ways. In practice, it's often better to have evenly sized facets laid out in a grid--especially each facet is of the same x and y axes. But, just to show it's possible, here's an example that gives more space to the weekend than to weekdays using the tips dataset: "
   ],
   "cell_type": "markdown",
   "metadata": {}
  },
  {
   "cell_type": "code",
   "execution_count": null,
   "metadata": {},
   "outputs": [],
   "source": [
    "# This part just to get some colours\n",
    "colormap = plt.cm.Dark2\n",
    "\n",
    "fig = plt.figure(constrained_layout=True)\n",
    "ax_dict = fig.subplot_mosaic(\n",
    "    [['Thur', 'Fri', 'Sat', 'Sat', 'Sun', 'Sun']])\n",
    "facet_grp = list(df['day'].unique())\n",
    "colorst = [colormap(i) for i in\n",
    "           np.linspace(0, 0.9, len(facet_grp))]\n",
    "for i, grp  in enumerate(facet_grp):\n",
    "    sub_df = df.loc[df['day'] == facet_grp[i]]\n",
    "    ax_dict[grp].scatter(sub_df['tip'],\n",
    "               sub_df['total_bill'],\n",
    "               s=30,\n",
    "               color=colorst[i])\n",
    "    ax_dict[grp].set_title(facet_grp[i])\n",
    "    ax_dict[grp].set_ylim(0., df['total_bill'].max())\n",
    "    ax_dict[grp].set_xlim(0., df['tip'].max())\n",
    "fig.text(0.5, 0.01, 'Tip', ha='center')\n",
    "fig.text(0.0, 0.5, 'Total bill', va='center', rotation='vertical')\n",
    "plt.tight_layout()\n",
    "plt.show()"
   ]
  },
  {
   "source": [
    "As well as using lists, you can also specify the layout using an array or using text, eg"
   ],
   "cell_type": "markdown",
   "metadata": {}
  },
  {
   "cell_type": "code",
   "execution_count": null,
   "metadata": {},
   "outputs": [],
   "source": [
    "axd = plt.figure(constrained_layout=True).subplot_mosaic(\n",
    "    \"\"\"\n",
    "    ABD\n",
    "    CCD\n",
    "    CC.\n",
    "    \"\"\"\n",
    ")\n",
    "kw = dict(ha=\"center\", va=\"center\", fontsize=60, color=\"darkgrey\")\n",
    "for k, ax in axd.items():\n",
    "    ax.text(0.5, 0.5, k, transform=ax.transAxes, **kw)"
   ]
  },
  {
   "source": [
    "### Seaborn\n",
    "\n",
    "Seaborn makes it easy to quickly create facet plots. Note the use of `col_wrap`."
   ],
   "cell_type": "markdown",
   "metadata": {}
  },
  {
   "cell_type": "code",
   "execution_count": null,
   "metadata": {},
   "outputs": [],
   "source": [
    "sns.relplot(\n",
    "    data=df, y=\"total_bill\", x=\"tip\",\n",
    "    col=\"day\", hue=\"day\", col_wrap=2,\n",
    "    kind=\"scatter\"\n",
    ");"
   ]
  },
  {
   "source": [
    "A nice feature of seaborn that is much more fiddly in (base) matplotlib is the ability to specify rows and columns separately: (smoker)"
   ],
   "cell_type": "markdown",
   "metadata": {}
  },
  {
   "cell_type": "code",
   "execution_count": null,
   "metadata": {},
   "outputs": [],
   "source": [
    "sns.relplot(\n",
    "    data=df, y=\"total_bill\", x=\"tip\",\n",
    "    col=\"day\", row=\"smoker\", hue=\"smoker\",\n",
    "    kind=\"scatter\"\n",
    ");"
   ]
  },
  {
   "source": [
    "### Plotnine\n",
    "\n",
    "Plotnine has several ways to wrap facets but perhaps the most delightful is to specify a formula for the variations to be encoded in the facets."
   ],
   "cell_type": "markdown",
   "metadata": {}
  },
  {
   "cell_type": "code",
   "execution_count": null,
   "metadata": {},
   "outputs": [],
   "source": [
    "(\n",
    "    ggplot(df, aes(x='tip', y='total_bill', color='smoker'))\n",
    "    + geom_point()\n",
    "    + facet_wrap('~ smoker + day', nrow=2) # use ~ + to add additional faceting variables\n",
    ")"
   ]
  },
  {
   "source": [
    "### Altair\n",
    "\n"
   ],
   "cell_type": "markdown",
   "metadata": {}
  },
  {
   "cell_type": "code",
   "execution_count": null,
   "metadata": {},
   "outputs": [],
   "source": [
    "alt.Chart(df).mark_point().encode(\n",
    "    x='tip:Q',\n",
    "    y='total_bill:Q',\n",
    "    color='smoker:N',\n",
    "    facet=alt.Facet('day:N', columns=2),\n",
    ").properties(\n",
    "    width=200,\n",
    "    height=100,\n",
    ")"
   ]
  },
  {
   "cell_type": "markdown",
   "metadata": {},
   "source": [
    "## Scatter plot\n",
    "\n",
    "In this example, we see a simple scatter plot with categories using the cars data:"
   ]
  },
  {
   "cell_type": "code",
   "execution_count": null,
   "metadata": {},
   "outputs": [],
   "source": [
    "cars = data.cars()\n",
    "cars.head()"
   ]
  },
  {
   "source": [
    "### Matplotlib"
   ],
   "cell_type": "markdown",
   "metadata": {}
  },
  {
   "cell_type": "code",
   "execution_count": null,
   "metadata": {},
   "outputs": [],
   "source": [
    "fig, ax = plt.subplots()\n",
    "for origin in cars['Origin'].unique():\n",
    "    cars_sub = cars[cars['Origin'] == origin]\n",
    "    ax.scatter(cars_sub['Horsepower'],\n",
    "               cars_sub['Miles_per_Gallon'],\n",
    "               label=origin)\n",
    "ax.set_ylabel('Miles per Gallon')\n",
    "ax.set_xlabel('Horsepower')\n",
    "ax.legend()\n",
    "plt.show()"
   ]
  },
  {
   "source": [
    "### Seaborn\n",
    "\n",
    "In this first example, I'll also show how to tweak the labels by using the underlying matplolib `Axes` object, here called `ax`."
   ],
   "cell_type": "markdown",
   "metadata": {}
  },
  {
   "cell_type": "code",
   "execution_count": null,
   "metadata": {},
   "outputs": [],
   "source": [
    "fig, ax = plt.subplots()\n",
    "sns.scatterplot(data=cars,\n",
    "                x=\"Horsepower\",\n",
    "                y=\"Miles_per_Gallon\",\n",
    "                hue=\"Origin\",\n",
    "                ax=ax)\n",
    "ax.set_ylabel('Miles per Gallon')\n",
    "ax.set_xlabel('Horsepower')\n",
    "plt.show()"
   ]
  },
  {
   "source": [
    "### Plotnine"
   ],
   "cell_type": "markdown",
   "metadata": {}
  },
  {
   "cell_type": "code",
   "execution_count": null,
   "metadata": {},
   "outputs": [],
   "source": [
    "(\n",
    "    ggplot(cars, aes(x=\"Horsepower\",\n",
    "                     y=\"Miles_per_Gallon\",\n",
    "                     color='Origin'))\n",
    "    + geom_point()\n",
    "    + ylab('Miles per Gallon')\n",
    ")"
   ]
  },
  {
   "source": [
    "### Altair\n",
    "\n",
    "For this first example, we'll also show how to make the altair plot interactive with movable axes and more info on mouse-hover."
   ],
   "cell_type": "markdown",
   "metadata": {}
  },
  {
   "cell_type": "code",
   "execution_count": null,
   "metadata": {},
   "outputs": [],
   "source": [
    "alt.Chart(cars).mark_circle(size=60).encode(\n",
    "    x='Horsepower',\n",
    "    y='Miles_per_Gallon',\n",
    "    color='Origin',\n",
    "    tooltip=['Name', 'Origin', 'Horsepower', 'Miles_per_Gallon']\n",
    ").interactive()"
   ]
  },
  {
   "source": [
    "## Bubble plot\n",
    "\n",
    "This is a scatter plot where the size of the point carries an extra dimension of information."
   ],
   "cell_type": "markdown",
   "metadata": {}
  },
  {
   "source": [
    "### Matplotlib\n",
    "\n"
   ],
   "cell_type": "markdown",
   "metadata": {}
  },
  {
   "cell_type": "code",
   "execution_count": null,
   "metadata": {},
   "outputs": [],
   "source": [
    "fig, ax = plt.subplots()\n",
    "scat = ax.scatter(cars['Horsepower'],\n",
    "               cars['Miles_per_Gallon'],\n",
    "               s = cars['Displacement'],\n",
    "               alpha=0.4)\n",
    "ax.set_ylabel('Miles per Gallon')\n",
    "ax.set_xlabel('Horsepower')\n",
    "ax.legend(*scat.legend_elements(prop=\"sizes\", num=4), loc=\"upper right\", title=\"Displacement\", frameon=False)\n",
    "plt.show()"
   ]
  },
  {
   "source": [
    "### Seaborn\n",
    "\n"
   ],
   "cell_type": "markdown",
   "metadata": {}
  },
  {
   "cell_type": "code",
   "execution_count": null,
   "metadata": {},
   "outputs": [],
   "source": [
    "sns.scatterplot(data=cars,\n",
    "                x=\"Horsepower\",\n",
    "                y=\"Miles_per_Gallon\",\n",
    "                size=\"Displacement\");"
   ]
  },
  {
   "source": [
    "### Plotnine"
   ],
   "cell_type": "markdown",
   "metadata": {}
  },
  {
   "cell_type": "code",
   "execution_count": null,
   "metadata": {},
   "outputs": [],
   "source": [
    "(\n",
    "    ggplot(cars, aes(x=\"Horsepower\",\n",
    "                     y=\"Miles_per_Gallon\",\n",
    "                     size='Displacement'))\n",
    "    + geom_point()\n",
    ")"
   ]
  },
  {
   "source": [
    "### Altair\n"
   ],
   "cell_type": "markdown",
   "metadata": {}
  },
  {
   "cell_type": "code",
   "execution_count": null,
   "metadata": {},
   "outputs": [],
   "source": [
    "alt.Chart(cars).mark_circle().encode(\n",
    "    x='Horsepower',\n",
    "    y='Miles_per_Gallon',\n",
    "    size='Displacement'\n",
    ")"
   ]
  },
  {
   "source": [
    "## Line plot\n",
    "\n",
    "First, let's get some data on GDP growth:"
   ],
   "cell_type": "markdown",
   "metadata": {}
  },
  {
   "cell_type": "code",
   "execution_count": null,
   "metadata": {},
   "outputs": [],
   "source": [
    "import pandas_datareader.data as web\n",
    "\n",
    "ts_start_date = pd.to_datetime('1999-01-01')\n",
    "\n",
    "df = pd.concat([web.DataReader('ticker=RGDP' + x, 'econdb', start=ts_start_date) for x in ['US', 'UK']], axis=1)\n",
    "df.columns = ['US', 'UK']\n",
    "df.index.name = 'Date'\n",
    "df = 100*df.pct_change(4)\n",
    "df = pd.melt(df.reset_index(),\n",
    "             id_vars=['Date'],\n",
    "             value_vars=df.columns,\n",
    "             value_name='Real GDP growth, %',\n",
    "             var_name='Country')\n",
    "df = df.set_index('Date')\n",
    "df.head()"
   ]
  },
  {
   "source": [
    "### Matplotlib\n",
    "\n",
    "Note that **Matplotlib** prefers data to be one variable per column, in which case we could have just run\n",
    "\n",
    "```python\n",
    "fig, ax = plt.subplots()\n",
    "df.plot(ax=ax)\n",
    "ax.set_title('Real GDP growth, %', loc='right')\n",
    "ax.yaxis.tick_right()\n",
    "```\n",
    "\n",
    "but we are working with tidy data here, so we'll do the plotting slightly differently."
   ],
   "cell_type": "markdown",
   "metadata": {}
  },
  {
   "cell_type": "code",
   "execution_count": null,
   "metadata": {},
   "outputs": [],
   "source": [
    "colormap = plt.cm.Set1\n",
    "colorst = [colormap(i) for i in\n",
    "           np.linspace(0, 0.9, len(df['Country'].unique()))]\n",
    "fig, ax = plt.subplots()\n",
    "for i, country in enumerate(df['Country'].unique()):\n",
    "    df_sub = df[df['Country'] == country]\n",
    "    ax.plot(df_sub.index,\n",
    "               df_sub['Real GDP growth, %'],\n",
    "               color=colorst[i],\n",
    "               label=country,\n",
    "               lw=2)\n",
    "ax.set_title('Real GDP growth, %', loc='right')\n",
    "ax.yaxis.tick_right()\n",
    "ax.legend()\n",
    "plt.show()"
   ]
  },
  {
   "source": [
    "### Seaborn\n",
    "\n",
    "Note that **seaborn** prefers not to work with an index value so we use `df.reset_index()` to make the 'date' index column into a regular column in the snippet below:"
   ],
   "cell_type": "markdown",
   "metadata": {}
  },
  {
   "cell_type": "code",
   "execution_count": null,
   "metadata": {},
   "outputs": [],
   "source": [
    "fig, ax = plt.subplots()\n",
    "sns.lineplot(x=\"Date\", y=\"Real GDP growth, %\",\n",
    "             hue=\"Country\",\n",
    "             data=df.reset_index(),\n",
    "             ax=ax)\n",
    "ax.yaxis.tick_right()\n",
    "plt.show()"
   ]
  },
  {
   "source": [
    "### Plotnine"
   ],
   "cell_type": "markdown",
   "metadata": {}
  },
  {
   "cell_type": "code",
   "execution_count": null,
   "metadata": {},
   "outputs": [],
   "source": [
    "(\n",
    "    ggplot(df.reset_index(), aes(x='Date',\n",
    "                                 y='Real GDP growth, %',\n",
    "                                 color='Country'))\n",
    "    + geom_line()\n",
    ")"
   ]
  },
  {
   "source": [
    "### Altair"
   ],
   "cell_type": "markdown",
   "metadata": {}
  },
  {
   "cell_type": "code",
   "execution_count": null,
   "metadata": {},
   "outputs": [],
   "source": [
    "alt.Chart(df.reset_index()).mark_line().encode(\n",
    "    x='Date:T',\n",
    "    y='Real GDP growth, %',\n",
    "    color='Country',\n",
    "    strokeDash='Country',\n",
    ")"
   ]
  },
  {
   "source": [
    "## Bar chart\n",
    "\n",
    "Let's see a bar chart, using the 'barley' dataset."
   ],
   "cell_type": "markdown",
   "metadata": {}
  },
  {
   "cell_type": "code",
   "execution_count": null,
   "metadata": {},
   "outputs": [],
   "source": [
    "barley = data.barley()\n",
    "barley = pd.DataFrame(barley.groupby(['site'])['yield'].sum())\n",
    "barley.head()"
   ]
  },
  {
   "source": [
    "### Matplotlib\n",
    "\n",
    "Just remove the 'h' in `ax.barh` to get a vertical plot."
   ],
   "cell_type": "markdown",
   "metadata": {}
  },
  {
   "cell_type": "code",
   "execution_count": null,
   "metadata": {},
   "outputs": [],
   "source": [
    "fig, ax = plt.subplots()\n",
    "ax.barh(barley['yield'].index, barley['yield'], 0.35)\n",
    "ax.set_xlabel('Yield')\n",
    "plt.show()"
   ]
  },
  {
   "source": [
    "### Seaborn\n",
    "\n",
    "Just switch x and y variables to get a vertical plot."
   ],
   "cell_type": "markdown",
   "metadata": {}
  },
  {
   "cell_type": "code",
   "execution_count": null,
   "metadata": {},
   "outputs": [],
   "source": [
    "sns.catplot(\n",
    "    data=barley.reset_index(),\n",
    "    kind=\"bar\",\n",
    "    y=\"site\", x=\"yield\",\n",
    ")"
   ]
  },
  {
   "source": [
    "### Plotnine\n",
    "\n",
    "Just omit `coord_flip()` to get a vertical plot."
   ],
   "cell_type": "markdown",
   "metadata": {}
  },
  {
   "cell_type": "code",
   "execution_count": null,
   "metadata": {},
   "outputs": [],
   "source": [
    "(\n",
    "    ggplot(barley.reset_index(), aes(x='site', y='yield'))\n",
    "    + geom_col()\n",
    "    + coord_flip()\n",
    ")"
   ]
  },
  {
   "source": [
    "### Altair\n",
    "\n",
    "Just switch x and y to get a vertical plot."
   ],
   "cell_type": "markdown",
   "metadata": {}
  },
  {
   "cell_type": "code",
   "execution_count": null,
   "metadata": {},
   "outputs": [],
   "source": [
    "alt.Chart(barley.reset_index()).mark_bar().encode(\n",
    "    y='site',\n",
    "    x='yield',\n",
    ").properties(\n",
    "    width=alt.Step(40)  # controls width of bar.\n",
    ")"
   ]
  },
  {
   "source": [
    "## Grouped bar chart\n",
    "\n"
   ],
   "cell_type": "markdown",
   "metadata": {}
  },
  {
   "cell_type": "code",
   "execution_count": null,
   "metadata": {},
   "outputs": [],
   "source": [
    "barley = data.barley()\n",
    "barley = pd.DataFrame(barley.groupby(['site', 'year'])['yield'].sum()).reset_index()\n",
    "barley.head()"
   ]
  },
  {
   "source": [
    "### Matplotlib"
   ],
   "cell_type": "markdown",
   "metadata": {}
  },
  {
   "cell_type": "code",
   "execution_count": null,
   "metadata": {},
   "outputs": [],
   "source": [
    "labels = barley['site'].unique()\n",
    "y = np.arange(len(labels))  # the label locations\n",
    "width = 0.35  # the width of the bars\n",
    "\n",
    "fig, ax = plt.subplots()\n",
    "ax.barh(y - width/2, barley.loc[barley['year'] == 1931, 'yield'], width, label='1931')\n",
    "ax.barh(y + width/2, barley.loc[barley['year'] == 1932, 'yield'], width, label='1932')\n",
    "\n",
    "# Add some text for labels, title and custom x-axis tick labels, etc.\n",
    "ax.set_xlabel('Yield')\n",
    "ax.set_yticks(y)\n",
    "ax.set_yticklabels(labels)\n",
    "ax.legend(frameon=False)\n",
    "plt.show()"
   ]
  },
  {
   "source": [
    "### Seaborn"
   ],
   "cell_type": "markdown",
   "metadata": {}
  },
  {
   "cell_type": "code",
   "execution_count": null,
   "metadata": {},
   "outputs": [],
   "source": [
    "sns.catplot(\n",
    "    data=barley,\n",
    "    kind=\"bar\",\n",
    "    y=\"site\", x=\"yield\",\n",
    "    hue=\"year\"\n",
    ")"
   ]
  },
  {
   "source": [
    "### Plotnine"
   ],
   "cell_type": "markdown",
   "metadata": {}
  },
  {
   "cell_type": "code",
   "execution_count": null,
   "metadata": {},
   "outputs": [],
   "source": [
    "(\n",
    "    ggplot(barley, aes(x='site', y='yield', fill='factor(year)'))\n",
    "    + geom_col(position='dodge')\n",
    "    + coord_flip()\n",
    ")"
   ]
  },
  {
   "source": [
    "### Altair\n"
   ],
   "cell_type": "markdown",
   "metadata": {}
  },
  {
   "cell_type": "code",
   "execution_count": null,
   "metadata": {},
   "outputs": [],
   "source": [
    "alt.Chart(barley.reset_index()).mark_bar().encode(\n",
    "    y='year:O',\n",
    "    x='yield',\n",
    "    color='year:N',\n",
    "    row='site:N'\n",
    ").properties(\n",
    "    width=alt.Step(40)  # controls width of bar.\n",
    ")"
   ]
  },
  {
   "source": [
    "## Stacked bar chart\n",
    "\n"
   ],
   "cell_type": "markdown",
   "metadata": {}
  },
  {
   "source": [
    "### Matplotlib "
   ],
   "cell_type": "markdown",
   "metadata": {}
  },
  {
   "cell_type": "code",
   "execution_count": null,
   "metadata": {},
   "outputs": [],
   "source": [
    "labels = barley['site'].unique()\n",
    "y = np.arange(len(labels))  # the label locations\n",
    "width = 0.35  # the width (or height) of the bars\n",
    "\n",
    "fig, ax = plt.subplots()\n",
    "ax.barh(y, barley.loc[barley['year'] == 1931, 'yield'], width, label='1931')\n",
    "ax.barh(y, barley.loc[barley['year'] == 1932, 'yield'], width, label='1932', left=barley.loc[barley['year'] == 1931, 'yield'])\n",
    "\n",
    "# Add some text for labels, title and custom x-axis tick labels, etc.\n",
    "ax.set_xlabel('Yield')\n",
    "ax.set_yticks(y)\n",
    "ax.set_yticklabels(labels)\n",
    "ax.legend(frameon=False)\n",
    "plt.show()"
   ]
  },
  {
   "source": [
    "### Seaborn\n",
    "\n",
    "As far as I know, there's no easy way of doing this."
   ],
   "cell_type": "markdown",
   "metadata": {}
  },
  {
   "source": [
    "### Plotnine\n",
    "\n"
   ],
   "cell_type": "markdown",
   "metadata": {}
  },
  {
   "cell_type": "code",
   "execution_count": null,
   "metadata": {},
   "outputs": [],
   "source": [
    "(\n",
    "    ggplot(barley, aes(x='site', y='yield', fill='factor(year)'))\n",
    "    + geom_col()\n",
    "    + coord_flip()\n",
    ")"
   ]
  },
  {
   "source": [
    "### Altair"
   ],
   "cell_type": "markdown",
   "metadata": {}
  },
  {
   "cell_type": "code",
   "execution_count": null,
   "metadata": {},
   "outputs": [],
   "source": [
    "alt.Chart(barley.reset_index()).mark_bar().encode(\n",
    "    y='site',\n",
    "    x='yield',\n",
    "    color='year:N',\n",
    ").properties(\n",
    "    width=alt.Step(40)  # controls width of bar.\n",
    ")"
   ]
  },
  {
   "source": [
    "## Kernel density estimate\n",
    "\n",
    "We'll use the diamonds dataset to demonstrate this."
   ],
   "cell_type": "markdown",
   "metadata": {}
  },
  {
   "cell_type": "code",
   "execution_count": null,
   "metadata": {},
   "outputs": [],
   "source": [
    "diamonds = sns.load_dataset(\"diamonds\").sample(1000)\n",
    "diamonds.head()"
   ]
  },
  {
   "source": [
    "### Matplotlib\n",
    "\n",
    "Technically, there is a way to do this but it's pretty inelegant if you want a quick plot. That's because **matplotlib** doesn't do the density estimation itself. [Jake Vanderplas](https://jakevdp.github.io/PythonDataScienceHandbook/05.13-kernel-density-estimation.html) has a nice example but as it relies on a few extra libraries, I won't reproduce it here."
   ],
   "cell_type": "markdown",
   "metadata": {}
  },
  {
   "source": [
    "### Seaborn\n",
    "\n"
   ],
   "cell_type": "markdown",
   "metadata": {}
  },
  {
   "cell_type": "code",
   "execution_count": null,
   "metadata": {},
   "outputs": [],
   "source": [
    "sns.displot(diamonds,\n",
    "            x=\"carat\", kind=\"kde\", hue='cut',\n",
    "            fill=True);"
   ]
  },
  {
   "source": [
    "### Plotnine\n",
    "\n"
   ],
   "cell_type": "markdown",
   "metadata": {}
  },
  {
   "cell_type": "code",
   "execution_count": null,
   "metadata": {},
   "outputs": [],
   "source": [
    "(\n",
    "   ggplot(diamonds, aes(x='carat', fill = 'cut', colour = 'cut')) +\n",
    "   geom_density(alpha=0.5)\n",
    ")"
   ]
  },
  {
   "source": [
    "### Altair"
   ],
   "cell_type": "markdown",
   "metadata": {}
  },
  {
   "cell_type": "code",
   "execution_count": null,
   "metadata": {},
   "outputs": [],
   "source": [
    "alt.Chart(diamonds).transform_density(\n",
    "    density='carat',\n",
    "    as_=['carat', 'density'],\n",
    "    groupby=['cut']\n",
    ").mark_area(fillOpacity=0.5).encode(\n",
    "    x='carat:Q',\n",
    "    y='density:Q',\n",
    "    color='cut:N',\n",
    ")"
   ]
  },
  {
   "source": [
    "## Histogram or probability density function\n",
    "\n",
    "For this, let's go back to the penguins dataset."
   ],
   "cell_type": "markdown",
   "metadata": {}
  },
  {
   "cell_type": "code",
   "execution_count": null,
   "metadata": {},
   "outputs": [],
   "source": [
    "penguins = sns.load_dataset(\"penguins\")\n",
    "penguins.head()"
   ]
  },
  {
   "source": [
    "### Matplotlib\n",
    "\n",
    "The `density=` keyword parameter decides whether to create counts or a probability density function."
   ],
   "cell_type": "markdown",
   "metadata": {}
  },
  {
   "cell_type": "code",
   "execution_count": null,
   "metadata": {},
   "outputs": [],
   "source": [
    "fig, ax = plt.subplots()\n",
    "ax.hist(penguins['flipper_length_mm'], bins=30, density=True, edgecolor='k')\n",
    "ax.set_xlabel('Flipper length (mm)')\n",
    "ax.set_ylabel('Probability density')\n",
    "fig.tight_layout()\n",
    "plt.show()"
   ]
  },
  {
   "source": [
    "### Seaborn"
   ],
   "cell_type": "markdown",
   "metadata": {}
  },
  {
   "cell_type": "code",
   "execution_count": null,
   "metadata": {},
   "outputs": [],
   "source": [
    "sns.histplot(data=penguins, x=\"flipper_length_mm\", bins=30, stat='density');"
   ]
  },
  {
   "source": [
    "### Plotnine\n",
    "\n"
   ],
   "cell_type": "markdown",
   "metadata": {}
  },
  {
   "cell_type": "code",
   "execution_count": null,
   "metadata": {},
   "outputs": [],
   "source": [
    "(\n",
    "    ggplot(penguins, aes(x='flipper_length_mm', y='stat(density)'))\n",
    "    + geom_histogram(bins=30) # specify the binwidth\n",
    ")"
   ]
  },
  {
   "source": [
    "### Altair\n",
    "\n"
   ],
   "cell_type": "markdown",
   "metadata": {}
  },
  {
   "cell_type": "code",
   "execution_count": null,
   "metadata": {},
   "outputs": [],
   "source": [
    "alt.Chart(penguins).mark_bar().encode(\n",
    "    alt.X(\"flipper_length_mm:Q\", bin=True),\n",
    "    y='count()',\n",
    ")"
   ]
  },
  {
   "source": [
    "## Marginal histograms\n",
    "\n"
   ],
   "cell_type": "markdown",
   "metadata": {}
  },
  {
   "source": [
    "### Maplotlib\n",
    "\n",
    "[Jaker Vanderplas's excellent notes](https://jakevdp.github.io/PythonDataScienceHandbook/04.08-multiple-subplots.html) have a great example of this, but now there's an easier way to do it with Matplotlib's new `constrained_layout` options."
   ],
   "cell_type": "markdown",
   "metadata": {}
  },
  {
   "cell_type": "code",
   "execution_count": null,
   "metadata": {},
   "outputs": [],
   "source": [
    "fig = plt.figure(constrained_layout=True)\n",
    "# Create a layout with 3 panels in the given ratios\n",
    "axes_dict = fig.subplot_mosaic([['.', 'histx'], ['histy', 'scat']],\n",
    "                         gridspec_kw={'width_ratios': [1, 7],\n",
    "                                      'height_ratios': [2, 7]})\n",
    "# Glue all the relevant axes together\n",
    "axes_dict['histy'].invert_xaxis()\n",
    "axes_dict['histx'].sharex(axes_dict['scat'])\n",
    "axes_dict['histy'].sharey(axes_dict['scat'])\n",
    "# Plot the data\n",
    "axes_dict['scat'].scatter(penguins['bill_length_mm'], penguins['bill_depth_mm'])\n",
    "axes_dict['histx'].hist(penguins['bill_length_mm'])\n",
    "axes_dict['histy'].hist(penguins['bill_depth_mm'], orientation='horizontal');"
   ]
  },
  {
   "source": [
    "### Seaborn"
   ],
   "cell_type": "markdown",
   "metadata": {}
  },
  {
   "cell_type": "code",
   "execution_count": null,
   "metadata": {},
   "outputs": [],
   "source": [
    "sns.jointplot(data=penguins, x=\"bill_length_mm\", y=\"bill_depth_mm\");"
   ]
  },
  {
   "source": [
    "### Plotnine\n",
    "\n",
    "I couldn't find an easy way to do this in plotnine but you can make rug plots, which have some similarities in terms of information conveyed."
   ],
   "cell_type": "markdown",
   "metadata": {}
  },
  {
   "cell_type": "code",
   "execution_count": null,
   "metadata": {},
   "outputs": [],
   "source": [
    "(ggplot(penguins, aes(x='bill_length_mm', y='bill_depth_mm')) +\n",
    "  geom_point() +\n",
    "  geom_rug())"
   ]
  },
  {
   "source": [
    "### Altair\n",
    "\n",
    "This is a bit fiddly."
   ],
   "cell_type": "markdown",
   "metadata": {}
  },
  {
   "cell_type": "code",
   "execution_count": null,
   "metadata": {},
   "outputs": [],
   "source": [
    "base = alt.Chart(penguins)\n",
    "\n",
    "xscale = alt.Scale(domain=(20, 60))\n",
    "yscale = alt.Scale(domain=(10, 30))\n",
    "\n",
    "area_args = {'opacity': .5, 'interpolate': 'step'}\n",
    "\n",
    "points = base.mark_circle().encode(\n",
    "   alt.X('bill_length_mm', scale=xscale),\n",
    "   alt.Y('bill_depth_mm', scale=yscale)\n",
    ")\n",
    "\n",
    "top_hist = base.mark_area(**area_args).encode(\n",
    "    alt.X('bill_length_mm:Q',\n",
    "          # when using bins, the axis scale is set through\n",
    "          # the bin extent, so we do not specify the scale here\n",
    "          # (which would be ignored anyway)\n",
    "          bin=alt.Bin(maxbins=30, extent=xscale.domain),\n",
    "          stack=None,\n",
    "          title=''\n",
    "         ),\n",
    "    alt.Y('count()', stack=None, title='')\n",
    ").properties(height=60)\n",
    "\n",
    "right_hist = base.mark_area(**area_args).encode(\n",
    "    alt.Y('bill_depth_mm:Q',\n",
    "          bin=alt.Bin(maxbins=30, extent=yscale.domain),\n",
    "          stack=None,\n",
    "          title='',\n",
    "         ),\n",
    "    alt.X('count()', stack=None, title=''),\n",
    ").properties(width=60)\n",
    "\n",
    "top_hist & (points | right_hist)"
   ]
  },
  {
   "source": [
    "## Heatmap\n",
    "\n",
    "Heatmaps, or sometimes known as correlation maps, represent data in 3 dimensions by having two axes that forms a grid showing colour that corresponds to (usually) continuous values.\n",
    "\n",
    "We'll use the flights data to show the number of passengers by month-year:"
   ],
   "cell_type": "markdown",
   "metadata": {}
  },
  {
   "cell_type": "code",
   "execution_count": null,
   "metadata": {},
   "outputs": [],
   "source": [
    "flights = sns.load_dataset(\"flights\")\n",
    "flights = flights.pivot(\"month\", \"year\", \"passengers\").T\n",
    "flights.head()"
   ]
  },
  {
   "source": [
    "### Matplotlib\n",
    "\n"
   ],
   "cell_type": "markdown",
   "metadata": {}
  },
  {
   "cell_type": "code",
   "execution_count": null,
   "metadata": {},
   "outputs": [],
   "source": [
    "fig, ax = plt.subplots()\n",
    "im = ax.imshow(flights.values, cmap='inferno')\n",
    "cbar = ax.figure.colorbar(im, ax=ax)\n",
    "ax.set_xticks(np.arange(len(flights.columns)))\n",
    "ax.set_yticks(np.arange(len(flights.index)))\n",
    "# Labels\n",
    "ax.set_xticklabels(flights.columns, rotation=90)\n",
    "ax.set_yticklabels(flights.index)\n",
    "plt.show()"
   ]
  },
  {
   "source": [
    "### Seaborn"
   ],
   "cell_type": "markdown",
   "metadata": {}
  },
  {
   "cell_type": "code",
   "execution_count": null,
   "metadata": {},
   "outputs": [],
   "source": [
    "sns.heatmap(flights);"
   ]
  },
  {
   "source": [
    "### Plotnine\n",
    "\n",
    "Plotnine uses tidy data, rather than the wide data preferred by **matplotlib**, so we need to first get the original format of the flights data back:"
   ],
   "cell_type": "markdown",
   "metadata": {}
  },
  {
   "cell_type": "code",
   "execution_count": null,
   "metadata": {},
   "outputs": [],
   "source": [
    "flights = sns.load_dataset(\"flights\")\n",
    "(ggplot(flights, aes('month', 'factor(year)', fill='passengers'))\n",
    " + geom_tile()\n",
    " + scale_y_reverse()\n",
    ")"
   ]
  },
  {
   "source": [
    "### Altair"
   ],
   "cell_type": "markdown",
   "metadata": {}
  },
  {
   "cell_type": "code",
   "execution_count": null,
   "metadata": {},
   "outputs": [],
   "source": [
    "alt.Chart(flights).mark_rect().encode(\n",
    "    x=alt.X('month', type='nominal', sort=None),\n",
    "    y='year:O',\n",
    "    color='passengers:Q'\n",
    ")"
   ]
  },
  {
   "source": [
    "## Boxplot\n",
    "\n",
    "Let's use the tips dataset:"
   ],
   "cell_type": "markdown",
   "metadata": {}
  },
  {
   "cell_type": "code",
   "execution_count": null,
   "metadata": {},
   "outputs": [],
   "source": [
    "tips = sns.load_dataset(\"tips\")\n",
    "tips.head()"
   ]
  },
  {
   "source": [
    "### Matplotlib\n",
    "\n",
    "There isn't a very direct way to create multiple box plots of different data in matplotlib in the case where the groups are unbalanced, so we create several different boxplot objects.\n"
   ],
   "cell_type": "markdown",
   "metadata": {}
  },
  {
   "cell_type": "code",
   "execution_count": null,
   "metadata": {},
   "outputs": [],
   "source": [
    "colormap = plt.cm.Set1\n",
    "colorst = [colormap(i) for i in\n",
    "           np.linspace(0, 0.9, len(tips['time'].unique()))]\n",
    "\n",
    "fig, ax = plt.subplots()\n",
    "for i, grp in enumerate(tips['time'].unique()):\n",
    "    bplot = ax.boxplot(tips.loc[tips['time']==grp, 'tip'],\n",
    "               positions=[i],\n",
    "               vert=True,  # vertical box alignment\n",
    "               patch_artist=True,  # fill with color\n",
    "               labels=[grp]) # X label\n",
    "    for patch in bplot['boxes']:\n",
    "        patch.set_facecolor(colorst[i])\n",
    "\n",
    "ax.set_ylabel('Tip')\n",
    "plt.show()"
   ]
  },
  {
   "source": [
    "### Seaborn\n"
   ],
   "cell_type": "markdown",
   "metadata": {}
  },
  {
   "cell_type": "code",
   "execution_count": null,
   "metadata": {},
   "outputs": [],
   "source": [
    "sns.boxplot(y=tips['tip'], x=tips['time']);"
   ]
  },
  {
   "source": [
    "### Plotnine\n",
    "\n"
   ],
   "cell_type": "markdown",
   "metadata": {}
  },
  {
   "cell_type": "code",
   "execution_count": null,
   "metadata": {},
   "outputs": [],
   "source": [
    "(\n",
    "    ggplot(tips)\n",
    "    + geom_boxplot(aes(y='tip', x='time', fill='time'))\n",
    ")"
   ]
  },
  {
   "source": [
    "### Altair"
   ],
   "cell_type": "markdown",
   "metadata": {}
  },
  {
   "cell_type": "code",
   "execution_count": null,
   "metadata": {},
   "outputs": [],
   "source": [
    "alt.Chart(tips).mark_boxplot(size=50).encode(\n",
    "    x='time:N',\n",
    "    y='tip:Q',\n",
    "    color='time:N'\n",
    ").properties(width=300)"
   ]
  },
  {
   "source": [
    "## Violin plot\n",
    "\n",
    "We'll use the same data as before, the tips dataset."
   ],
   "cell_type": "markdown",
   "metadata": {}
  },
  {
   "source": [
    "### Matplotlib"
   ],
   "cell_type": "markdown",
   "metadata": {}
  },
  {
   "cell_type": "code",
   "execution_count": null,
   "metadata": {},
   "outputs": [],
   "source": [
    "colormap = plt.cm.Set1\n",
    "colorst = [colormap(i) for i in\n",
    "           np.linspace(0, 0.9, len(tips['time'].unique()))]\n",
    "\n",
    "fig, ax = plt.subplots()\n",
    "for i, grp in enumerate(tips['time'].unique()):\n",
    "    vplot = ax.violinplot(tips.loc[tips['time']==grp, 'tip'],\n",
    "               positions=[i],\n",
    "               vert=True)\n",
    "labels = list(tips['time'].unique())\n",
    "ax.set_xticks(np.arange(len(labels)))\n",
    "ax.set_xticklabels(labels)\n",
    "ax.set_ylabel('Tip')\n",
    "plt.show()"
   ]
  },
  {
   "source": [
    "### Seaborn"
   ],
   "cell_type": "markdown",
   "metadata": {}
  },
  {
   "cell_type": "code",
   "execution_count": null,
   "metadata": {},
   "outputs": [],
   "source": [
    "sns.violinplot(y=tips['tip'], x=tips['time']);"
   ]
  },
  {
   "source": [
    "### Plotnine"
   ],
   "cell_type": "markdown",
   "metadata": {}
  },
  {
   "cell_type": "code",
   "execution_count": null,
   "metadata": {},
   "outputs": [],
   "source": [
    "(\n",
    "    ggplot(tips, aes(x='time', y='tip', fill='time'))\n",
    "    + geom_violin()\n",
    ")"
   ]
  },
  {
   "source": [
    "### Altair"
   ],
   "cell_type": "markdown",
   "metadata": {}
  },
  {
   "cell_type": "code",
   "execution_count": null,
   "metadata": {},
   "outputs": [],
   "source": [
    "alt.Chart(tips).transform_density(\n",
    "    'tip',\n",
    "    as_=['tip', 'density'],\n",
    "    groupby=['time']\n",
    ").mark_area(orient='horizontal').encode(\n",
    "    y='tip:Q',\n",
    "    color='time:N',\n",
    "    x=alt.X(\n",
    "        'density:Q',\n",
    "        stack='center',\n",
    "        impute=None,\n",
    "        title=None,\n",
    "        axis=alt.Axis(labels=False, values=[0],grid=False, ticks=True),\n",
    "    ),\n",
    "    column=alt.Column(\n",
    "        'time:N',\n",
    "        header=alt.Header(\n",
    "            titleOrient='bottom',\n",
    "            labelOrient='bottom',\n",
    "            labelPadding=0,\n",
    "        ),\n",
    "    )\n",
    ").properties(\n",
    "    width=100\n",
    ").configure_facet(\n",
    "    spacing=0\n",
    ").configure_view(\n",
    "    stroke=None\n",
    ")"
   ]
  },
  {
   "source": [
    "## Lollipop"
   ],
   "cell_type": "markdown",
   "metadata": {}
  },
  {
   "cell_type": "code",
   "execution_count": null,
   "metadata": {},
   "outputs": [],
   "source": [
    "df = (sns.load_dataset('planets')\n",
    "         .groupby('year')['number']\n",
    "         .count())\n",
    "df.head()"
   ]
  },
  {
   "source": [
    "### Matplotlib\n"
   ],
   "cell_type": "markdown",
   "metadata": {}
  },
  {
   "cell_type": "code",
   "execution_count": null,
   "metadata": {},
   "outputs": [],
   "source": [
    "fig, ax = plt.subplots()\n",
    "ax.stem(df.index, df)\n",
    "ax.yaxis.tick_right()\n",
    "ax.set_ylim(0, 200)\n",
    "ax.set_title('Number of exoplanets discovered per year', loc='right')\n",
    "plt.show()"
   ]
  },
  {
   "source": [
    "### Seaborn\n",
    "\n",
    "I couldn't find a way to do this in **seaborn**, but the **matplotlib** is so simple that it doesn't seem there's much call for it."
   ],
   "cell_type": "markdown",
   "metadata": {}
  },
  {
   "source": [
    "### Plotnine"
   ],
   "cell_type": "markdown",
   "metadata": {}
  },
  {
   "cell_type": "code",
   "execution_count": null,
   "metadata": {},
   "outputs": [],
   "source": [
    "(\n",
    "  ggplot(df.reset_index(), aes(x='year', y='number')) +\n",
    "  geom_point() + \n",
    "  geom_segment(aes(x='year', xend='year', y=0, yend='number')) +\n",
    "  ggtitle('Number of exoplanets discovered per year')\n",
    ")"
   ]
  },
  {
   "source": [
    "### Altair\n",
    "\n",
    "I couldn't find an easy way to do this in Altair."
   ],
   "cell_type": "markdown",
   "metadata": {}
  },
  {
   "source": [
    "## Stacked Area plot\n",
    "\n",
    "For this, let's look at the dominance of the three most used methods for detecting exoplanets."
   ],
   "cell_type": "markdown",
   "metadata": {}
  },
  {
   "cell_type": "code",
   "execution_count": null,
   "metadata": {},
   "outputs": [],
   "source": [
    "df = sns.load_dataset('planets')\n",
    "most_pop_methods = (df.groupby(['method'])['number']\n",
    "                      .sum()\n",
    "                      .sort_values(ascending=False)\n",
    "                      .index[:3]\n",
    "                      .values)\n",
    "df = df[df['method'].isin(most_pop_methods)]\n",
    "df.head()"
   ]
  },
  {
   "source": [
    "### Matplotlib\n",
    "\n",
    "The easiest way to do this in matplotlib is to adjust the data a bit first and then use the built-in **pandas** plot function. (This is true in other cases too, but in this case it's much more complex otherwise)."
   ],
   "cell_type": "markdown",
   "metadata": {}
  },
  {
   "cell_type": "code",
   "execution_count": null,
   "metadata": {},
   "outputs": [],
   "source": [
    "(df.groupby(['year', 'method'])['number']\n",
    "   .sum()\n",
    "   .unstack()\n",
    "   .plot\n",
    "   .area(alpha=0.6)\n",
    "   .set_title('Planets dicovered by top 3 methods', loc='left'));"
   ]
  },
  {
   "source": [
    "### Seaborn\n",
    "\n",
    "I couldn't find an option for this."
   ],
   "cell_type": "markdown",
   "metadata": {}
  },
  {
   "source": [
    "### Plotnine\n",
    "\n"
   ],
   "cell_type": "markdown",
   "metadata": {}
  },
  {
   "cell_type": "code",
   "execution_count": null,
   "metadata": {},
   "outputs": [],
   "source": [
    "(\n",
    "    ggplot(df.groupby(['year', 'method'])['number'].sum().reset_index(),\n",
    "           aes(x='year', y='number', fill='method', order='method')) + \n",
    "    geom_area(alpha=0.5)\n",
    ")"
   ]
  },
  {
   "source": [
    "### Altair\n"
   ],
   "cell_type": "markdown",
   "metadata": {}
  },
  {
   "cell_type": "code",
   "execution_count": null,
   "metadata": {},
   "outputs": [],
   "source": [
    "alt.Chart(df.groupby(['year', 'method'])['number'].sum().reset_index()).mark_area().encode(\n",
    "    x=\"year:T\",\n",
    "    y=\"number:Q\",\n",
    "    color=\"method:N\"\n",
    ")"
   ]
  },
  {
   "source": [
    "## Slope chart\n",
    "\n",
    "A slope chart has two points connected by a line and is good for indicating how relationships between variables have changed over time."
   ],
   "cell_type": "markdown",
   "metadata": {}
  },
  {
   "cell_type": "code",
   "execution_count": null,
   "metadata": {},
   "outputs": [],
   "source": [
    "df = pd.read_csv(\"https://raw.githubusercontent.com/selva86/datasets/master/gdppercap.csv\")\n",
    "df = (pd.melt(df, id_vars=['continent'], value_vars=df.columns[1:],\n",
    "              value_name='GDP per capita', var_name='Year')\n",
    "        .rename(columns={'continent': 'Continent'}))\n",
    "df.head()"
   ]
  },
  {
   "source": [
    "### Matplotlib\n",
    "\n",
    "There isn't an off-the-shelf way to do this in matplotlib but the example below shows that, with matplotlib, where there's a will there's a way! It's where the 'build-what-you-want' comes into its own. Note that the functino that's defined returns an `Axes` object so that you can do further processing and tweaking as you like."
   ],
   "cell_type": "markdown",
   "metadata": {}
  },
  {
   "cell_type": "code",
   "execution_count": null,
   "metadata": {},
   "outputs": [],
   "source": [
    "from matplotlib import lines as mlines\n",
    "\n",
    "def slope_plot(data, x, y, group, before_txt='Before', after_txt='After'):\n",
    "    if(len(data[x].unique())!=2):\n",
    "        raise ValueError('Slope plot must have two unique periods.')\n",
    "    wide_data = data[[x, y, group]].pivot(index=group, columns=x, values=y)\n",
    "    x_names = list(wide_data.columns)\n",
    "    klass = ['red' if (y1-y2) < 0\n",
    "             else 'green' for y1, y2 in zip(wide_data[x_names[0]], wide_data[x_names[1]])]\n",
    "    fig, ax = plt.subplots()\n",
    "    def newline(p1, p2, color='black'):\n",
    "        ax = plt.gca()\n",
    "        l = mlines.Line2D([p1[0],p2[0]], [p1[1],p2[1]], color='red' if p1[1]-p2[1] > 0 else 'green', marker='o',                          markersize=6)\n",
    "        ax.add_line(l)\n",
    "        return l\n",
    "    \n",
    "    # Vertical Lines\n",
    "    y_min = data[y].min()\n",
    "    y_max = data[y].max()\n",
    "    ax.vlines(x=1, ymin=y_min, ymax=y_max, color='black', alpha=0.7, linewidth=1, linestyles='dotted')\n",
    "    ax.vlines(x=3, ymin=y_min, ymax=y_max, color='black', alpha=0.7, linewidth=1, linestyles='dotted')\n",
    "    # Points\n",
    "    ax.scatter(y=wide_data[x_names[0]], x=np.repeat(1, wide_data.shape[0]), s=15, color='black', alpha=0.7)\n",
    "    ax.scatter(y=wide_data[x_names[1]], x=np.repeat(3, wide_data.shape[0]), s=15, color='black', alpha=0.7)\n",
    "    # Line Segmentsand Annotation\n",
    "    for p1, p2, c in zip(wide_data[x_names[0]], wide_data[x_names[1]], wide_data.index):\n",
    "        newline([1,p1], [3,p2])\n",
    "        ax.text(1-0.05, p1, c, horizontalalignment='right', verticalalignment='center', fontdict={'size':14})\n",
    "        ax.text(3+0.05, p2, c, horizontalalignment='left', verticalalignment='center', fontdict={'size':14})\n",
    "    # 'Before' and 'After' Annotations\n",
    "    ax.text(1-0.05, y_max + abs(y_max)*.1, before_txt, horizontalalignment='right', verticalalignment='center',             fontdict={'size':18, 'weight':700})\n",
    "    ax.text(3+0.05, y_max + abs(y_max)*.1, after_txt, horizontalalignment='left', verticalalignment='center',               fontdict={'size':18, 'weight':700})\n",
    "    # Decoration\n",
    "    ax.set(xlim=(0, 4), ylabel=y, ylim=(y_min - 0.1*abs(y_min), y_max + abs(y_max)*.1))\n",
    "    ax.set_xticks([1, 3])\n",
    "    ax.set_xticklabels(x_names)\n",
    "    # Lighten borders\n",
    "    for ax_pos in ['top', 'bottom', 'right', 'left']:\n",
    "        ax.spines[ax_pos].set_visible(False)\n",
    "    return ax\n",
    "\n",
    "slope_plot(df, x='Year', y='GDP per capita', group='Continent');"
   ]
  },
  {
   "source": [
    "### Seaborn"
   ],
   "cell_type": "markdown",
   "metadata": {}
  },
  {
   "cell_type": "code",
   "execution_count": null,
   "metadata": {},
   "outputs": [],
   "source": [
    "sns.pointplot(x=\"Year\", y=\"GDP per capita\", hue='Continent', data=df)\n",
    "plt.legend(bbox_to_anchor=(1.05, 1), loc=2, borderaxespad=0.);"
   ]
  },
  {
   "source": [
    "### Plotnine"
   ],
   "cell_type": "markdown",
   "metadata": {}
  },
  {
   "cell_type": "code",
   "execution_count": null,
   "metadata": {},
   "outputs": [],
   "source": [
    "(\n",
    "ggplot(df, aes(x='Year', y = 'GDP per capita', group = 'Continent')) +\n",
    "  geom_line(aes(color = 'Continent', alpha = 1), size = 2) +\n",
    "  geom_point(aes(color = 'Continent', alpha = 1), size = 4)\n",
    ")"
   ]
  },
  {
   "source": [
    "### Altair"
   ],
   "cell_type": "markdown",
   "metadata": {}
  },
  {
   "cell_type": "code",
   "execution_count": null,
   "metadata": {},
   "outputs": [],
   "source": [
    "alt.Chart(df).mark_line().encode(\n",
    "    x='Year:O',\n",
    "    y='GDP per capita',\n",
    "    color='Continent'\n",
    ")"
   ]
  },
  {
   "source": [
    "## Dumbbell Plot\n",
    "\n",
    "These are excellent for showing a change in time with a large number of categories, as we will do here with continents and mean GDP per capita."
   ],
   "cell_type": "markdown",
   "metadata": {}
  },
  {
   "cell_type": "code",
   "execution_count": null,
   "metadata": {},
   "outputs": [],
   "source": [
    "df = pd.read_csv(\"https://raw.githubusercontent.com/selva86/datasets/master/gdppercap.csv\")\n",
    "df = (pd.melt(df, id_vars=['continent'], value_vars=df.columns[1:],\n",
    "              value_name='GDP per capita', var_name='Year')\n",
    "        .rename(columns={'continent': 'Continent'}))\n",
    "df.head()"
   ]
  },
  {
   "source": [
    "### Matplotlib\n",
    "\n",
    "Again, no off-the-shelf method--but that's no problem when you can build it yourself."
   ],
   "cell_type": "markdown",
   "metadata": {}
  },
  {
   "cell_type": "code",
   "execution_count": null,
   "metadata": {},
   "outputs": [],
   "source": [
    "from matplotlib import lines as mlines\n",
    "\n",
    "def dumbbell_plot(data, x, y, change):\n",
    "    if(len(data[x].unique())!=2):\n",
    "        raise ValueError('Dumbbell plot must have two unique periods.')\n",
    "    if(type(data[y].iloc[0])!=str):\n",
    "        raise ValueError('Dumbbell plot y variable only works with category values.')\n",
    "    wide_data = data[[x, y, change]].pivot(index=y, columns=x, values=change)\n",
    "    x_names = list(wide_data.columns)\n",
    "    y_names = list(wide_data.index)\n",
    "    def newline(p1, p2, color='black'):\n",
    "        ax = plt.gca()\n",
    "        l = mlines.Line2D([p1[0],p2[0]], [p1[1],p2[1]], color='skyblue', zorder=0)\n",
    "        ax.add_line(l)\n",
    "        return l\n",
    "    \n",
    "    fig, ax = plt.subplots()\n",
    "    # Points\n",
    "    ax.scatter(y=range(len(y_names)), x=wide_data[x_names[1]],\n",
    "               s=50, color='#0e668b', alpha=0.9, zorder=2,\n",
    "               label=x_names[1])\n",
    "    ax.scatter(y=range(len(y_names)), x=wide_data[x_names[0]],\n",
    "               s=50, color='#a3c4dc', alpha=0.9, zorder=1,\n",
    "               label=x_names[0])\n",
    "    # Line segments\n",
    "    for i, p1, p2 in zip(range(len(y_names)), wide_data[x_names[0]], wide_data[x_names[1]]):\n",
    "        newline([p1, i], [p2, i])\n",
    "    ax.set_yticks(range(len(y_names)))\n",
    "    ax.set_yticklabels(y_names)\n",
    "    # Decoration\n",
    "    # Lighten borders\n",
    "    for ax_pos in ['top', 'bottom', 'right', 'left']:\n",
    "        ax.spines[ax_pos].set_visible(False)\n",
    "    ax.set_xlabel(change)\n",
    "    ax.legend(frameon=False, loc='lower right')\n",
    "    plt.show()\n",
    "\n",
    "\n",
    "dumbbell_plot(df, x='Year', y='Continent', change='GDP per capita')"
   ]
  },
  {
   "source": [
    "## Polar\n",
    "\n",
    "I'm not sure I've ever seen a polar plots in economics, but you never know.\n",
    "\n",
    "Let's generate some polar data first:\n"
   ],
   "cell_type": "markdown",
   "metadata": {}
  },
  {
   "cell_type": "code",
   "execution_count": null,
   "metadata": {},
   "outputs": [],
   "source": [
    "r = np.arange(0, 2, 0.01)\n",
    "theta = 2 * np.pi * r\n",
    "polar_data = pd.DataFrame({'r': r, 'theta': theta})\n",
    "polar_data.head()"
   ]
  },
  {
   "source": [
    "### Matplotlib\n"
   ],
   "cell_type": "markdown",
   "metadata": {}
  },
  {
   "cell_type": "code",
   "execution_count": null,
   "metadata": {},
   "outputs": [],
   "source": [
    "ax = plt.subplot(111, projection='polar')\n",
    "ax.plot(polar_data['theta'], polar_data['r'])\n",
    "ax.set_rmax(2)\n",
    "ax.set_rticks([0.5, 1, 1.5, 2])  # Fewer radial ticks\n",
    "ax.set_rlabel_position(-22.5)  # Move radial labels away from plotted line\n",
    "ax.grid(True)\n",
    "plt.show()"
   ]
  },
  {
   "source": [
    "### Seaborn\n",
    "\n"
   ],
   "cell_type": "markdown",
   "metadata": {}
  },
  {
   "cell_type": "code",
   "execution_count": null,
   "metadata": {},
   "outputs": [],
   "source": [
    "\n",
    "ax = plt.subplot(111, projection='polar')\n",
    "sns.lineplot(polar_data['theta'], polar_data['r'], ax=ax);"
   ]
  },
  {
   "source": [
    "## Radar (or spider) chart\n",
    "\n",
    "Let's generate some synthetic data for this one."
   ],
   "cell_type": "markdown",
   "metadata": {}
  },
  {
   "cell_type": "code",
   "execution_count": null,
   "metadata": {},
   "outputs": [],
   "source": [
    "df = (pd.DataFrame(dict(zip(['var' + str(i) for i in range(1, 6)],\n",
    "                            [np.random.randint(30, size=(4)) for i in range(1, 6)]))\n",
    "                   )\n",
    "      )\n",
    "df.head()"
   ]
  },
  {
   "cell_type": "code",
   "execution_count": null,
   "metadata": {},
   "outputs": [],
   "source": [
    "from math import pi\n",
    "\n",
    "\n",
    "def radar_plot(data, variables): \n",
    "    n_vars = len(variables)\n",
    "    # Plot the first line of the data frame.\n",
    "    # Repeat the first value to close the circular graph:\n",
    "    values=data.loc[data.index[0], variables].values.flatten().tolist()\n",
    "    values += values[:1]\n",
    "    # What will be the angle of each axis in the plot? (we divide / number of variable)\n",
    "    angles = [n / float(n_vars) * 2 * pi for n in range(n_vars)]\n",
    "    angles += angles[:1]\n",
    "    # Initialise the spider plot\n",
    "    ax = plt.subplot(111, polar=True)\n",
    "    # Draw one axe per variable + add labels\n",
    "    plt.xticks(angles[:-1], variables)\n",
    "    # Draw ylabels\n",
    "    ax.set_rlabel_position(0)\n",
    "    # Plot data\n",
    "    ax.plot(angles, values, linewidth=1, linestyle='solid')\n",
    "    # Fill area\n",
    "    ax.fill(angles, values, 'b', alpha=0.1)\n",
    "    return ax\n",
    "\n",
    "\n",
    "radar_plot(df, df.columns);"
   ]
  },
  {
   "source": [
    "## Wordcloud\n",
    "\n",
    "These should be used sparingly. Let's grab part of a famous text from Project Gutenberg:"
   ],
   "cell_type": "markdown",
   "metadata": {}
  },
  {
   "cell_type": "code",
   "execution_count": null,
   "metadata": {
    "tags": []
   },
   "outputs": [],
   "source": [
    "book_text = open(os.path.join('data', 'smith_won.txt'), 'r').read()\n",
    "# Print some lines\n",
    "print('\\n'.join(book_text.split(os.linesep)[107:117]))"
   ]
  },
  {
   "cell_type": "code",
   "execution_count": null,
   "metadata": {},
   "outputs": [],
   "source": [
    "from wordcloud import WordCloud\n",
    "wordcloud = WordCloud(width=700, height=400).generate(book_text)\n",
    "fig, ax = plt.subplots(facecolor='k')\n",
    "ax.imshow(wordcloud, interpolation='bilinear')\n",
    "plt.axis(\"off\")\n",
    "plt.tight_layout();"
   ]
  },
  {
   "source": [
    "We can also create a 'mask' for the wordcloud to shape it how we like, here in the shape of a book."
   ],
   "cell_type": "markdown",
   "metadata": {}
  },
  {
   "cell_type": "code",
   "execution_count": null,
   "metadata": {},
   "outputs": [],
   "source": [
    "from PIL import Image\n",
    "mask = np.array(Image.open(os.path.join(\"data\", \"book_mask.png\")))\n",
    "wc = WordCloud(width=700, height=400,\n",
    "               mask=mask,\n",
    "               background_color='white')              \n",
    "wordcloud = wc.generate(book_text)\n",
    "fig, ax = plt.subplots(facecolor='white')\n",
    "ax.imshow(wordcloud, interpolation='bilinear')\n",
    "plt.axis(\"off\")\n",
    "plt.tight_layout();"
   ]
  },
  {
   "cell_type": "code",
   "execution_count": null,
   "metadata": {},
   "outputs": [],
   "source": []
  }
 ],
 "metadata": {
  "celltoolbar": "Tags",
  "kernelspec": {
   "display_name": "codeforecon",
   "language": "python",
   "name": "codeforecon"
  },
  "language_info": {
   "codemirror_mode": {
    "name": "ipython",
    "version": 3
   },
   "file_extension": ".py",
   "mimetype": "text/x-python",
   "name": "python",
   "nbconvert_exporter": "python",
   "pygments_lexer": "ipython3",
   "version": "3.8.6-final"
  },
  "widgets": {
   "application/vnd.jupyter.widget-state+json": {
    "state": {},
    "version_major": 2,
    "version_minor": 0
   }
  }
 },
 "nbformat": 4,
 "nbformat_minor": 4
}