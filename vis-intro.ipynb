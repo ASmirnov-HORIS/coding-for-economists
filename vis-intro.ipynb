{
 "cells": [
  {
   "cell_type": "markdown",
   "metadata": {},
   "source": [
    "\n",
    "(vis-intro)=\n",
    "# Intro to Data Visualisation\n"
   ]
  },
  {
   "cell_type": "markdown",
   "metadata": {},
   "source": [
    "## Introduction\n",
    "\n",
    "Here you'll see how to make plots that present data in an engaging and informative way.\n",
    "\n",
    "There are a plethora of options (and packages) for data visualisation using code. First, though a note about the different *philosophies* of data visualisation. There are broadly two categories of approach to using code to create data visualisations: *imperative*, where you build what you want, and *declarative*, where you say what you want. Choosing which to use involves a trade-off: imperative libraries offer you flexibility but at the cost of some verbosity; declarative libraries offer you a quick way to plot your data, but only if it's in the right format to begin with, and customisation may be more difficult.\n",
    "\n",
    "There are also different purposes of data visualisation. It can be useful to bear in mind the three broad categories of visualisation that are out there:\n",
    "\n",
    "- exploratory\n",
    "\n",
    "- scientific\n",
    "\n",
    "- narrative\n",
    "\n",
    "Python excels at exploratory and scientific visualisation. The tools for narrative visualisation are not as good as they could be for making common chart types efficiently, but the endless customisability of one particular Python package (**matplotlib**) means you can always get the effect you need (with some work).\n",
    "\n",
    "### Exploratory Visualisation\n",
    "\n",
    "The first of the three kinds of vis, *exploratory visualisation*, is the kind that you do when you're looking and data and trying to understand it. Just plotting the data is a really good strategy for getting a feel for any issues there might be. This is perhaps most famously demonstrated by *Anscombe's quartet*: four different datasets with the same mean, standard deviation, and correlation but *very* different data distributions.\n",
    "\n",
    "(First let's import the packages we'll need:)"
   ]
  },
  {
   "cell_type": "code",
   "execution_count": 1,
   "metadata": {},
   "outputs": [],
   "source": [
    "import numpy as np\n",
    "import pandas as pd\n",
    "import matplotlib.pyplot as plt\n",
    "\n",
    "# Set seed for random numbers\n",
    "seed_for_prng = 78557\n",
    "prng = np.random.default_rng(seed_for_prng)  # prng=probabilistic random number generator"
   ]
  },
  {
   "cell_type": "code",
   "execution_count": 2,
   "id": "51a55374",
   "metadata": {
    "tags": [
     "remove-cell"
    ]
   },
   "outputs": [],
   "source": [
    "import matplotlib_inline.backend_inline\n",
    "\n",
    "# Plot settings\n",
    "plt.style.use(\n",
    "    \"https://github.com/aeturrell/coding-for-economists/raw/main/plot_style.txt\"\n",
    ")\n",
    "matplotlib_inline.backend_inline.set_matplotlib_formats(\"svg\")\n",
    "\n",
    "# Set max rows displayed for readability\n",
    "pd.set_option(\"display.max_rows\", 6)"
   ]
  },
  {
   "cell_type": "markdown",
   "metadata": {},
   "source": [
    "*Anscombe's quartet*:"
   ]
  },
  {
   "cell_type": "code",
   "execution_count": 5,
   "metadata": {
    "tags": [
     "remove-input"
    ]
   },
   "outputs": [
    {
     "data": {
      "image/svg+xml": "<?xml version=\"1.0\" encoding=\"utf-8\" standalone=\"no\"?>\n<!DOCTYPE svg PUBLIC \"-//W3C//DTD SVG 1.1//EN\"\n  \"http://www.w3.org/Graphics/SVG/1.1/DTD/svg11.dtd\">\n<svg xmlns:xlink=\"http://www.w3.org/1999/xlink\" width=\"593.9pt\" height=\"404.54pt\" viewBox=\"0 0 593.9 404.54\" xmlns=\"http://www.w3.org/2000/svg\" version=\"1.1\">\n <metadata>\n  <rdf:RDF xmlns:dc=\"http://purl.org/dc/elements/1.1/\" xmlns:cc=\"http://creativecommons.org/ns#\" xmlns:rdf=\"http://www.w3.org/1999/02/22-rdf-syntax-ns#\">\n   <cc:Work>\n    <dc:type rdf:resource=\"http://purl.org/dc/dcmitype/StillImage\"/>\n    <dc:date>2022-10-25T08:05:34.497283</dc:date>\n    <dc:format>image/svg+xml</dc:format>\n    <dc:creator>\n     <cc:Agent>\n      <dc:title>Matplotlib v3.5.3, https://matplotlib.org/</dc:title>\n     </cc:Agent>\n    </dc:creator>\n   </cc:Work>\n  </rdf:RDF>\n </metadata>\n <defs>\n  <style type=\"text/css\">*{stroke-linejoin: round; stroke-linecap: butt}</style>\n </defs>\n <g id=\"figure_1\">\n  <g id=\"patch_1\">\n   <path d=\"M 0 404.54 \nL 593.9 404.54 \nL 593.9 0 \nL 0 0 \nz\n\" style=\"fill: #ffffff\"/>\n  </g>\n  <g id=\"axes_1\">\n   <g id=\"patch_2\">\n    <path d=\"M 22.7 210.323077 \nL 290.969231 210.323077 \nL 290.969231 50.4 \nL 22.7 50.4 \nz\n\" style=\"fill: #ffffff\"/>\n   </g>\n   <g id=\"matplotlib.axis_1\">\n    <g id=\"xtick_1\">\n     <g id=\"line2d_1\">\n      <defs>\n       <path id=\"md7d558cdb6\" d=\"M 0 0 \nL 0 -3.5 \n\" style=\"stroke: #323034; stroke-width: 0.8\"/>\n      </defs>\n      <g>\n       <use xlink:href=\"#md7d558cdb6\" x=\"22.7\" y=\"210.323077\" style=\"fill: #323034; stroke: #323034; stroke-width: 0.8\"/>\n      </g>\n     </g>\n     <g id=\"line2d_2\">\n      <defs>\n       <path id=\"mcf208edd67\" d=\"M 0 0 \nL 0 3.5 \n\" style=\"stroke: #323034; stroke-width: 0.8\"/>\n      </defs>\n      <g>\n       <use xlink:href=\"#mcf208edd67\" x=\"22.7\" y=\"50.4\" style=\"fill: #323034; stroke: #323034; stroke-width: 0.8\"/>\n      </g>\n     </g>\n    </g>\n    <g id=\"xtick_2\">\n     <g id=\"line2d_3\">\n      <g>\n       <use xlink:href=\"#md7d558cdb6\" x=\"156.834615\" y=\"210.323077\" style=\"fill: #323034; stroke: #323034; stroke-width: 0.8\"/>\n      </g>\n     </g>\n     <g id=\"line2d_4\">\n      <g>\n       <use xlink:href=\"#mcf208edd67\" x=\"156.834615\" y=\"50.4\" style=\"fill: #323034; stroke: #323034; stroke-width: 0.8\"/>\n      </g>\n     </g>\n    </g>\n    <g id=\"xtick_3\">\n     <g id=\"line2d_5\">\n      <g>\n       <use xlink:href=\"#md7d558cdb6\" x=\"290.969231\" y=\"210.323077\" style=\"fill: #323034; stroke: #323034; stroke-width: 0.8\"/>\n      </g>\n     </g>\n     <g id=\"line2d_6\">\n      <g>\n       <use xlink:href=\"#mcf208edd67\" x=\"290.969231\" y=\"50.4\" style=\"fill: #323034; stroke: #323034; stroke-width: 0.8\"/>\n      </g>\n     </g>\n    </g>\n   </g>\n   <g id=\"matplotlib.axis_2\">\n    <g id=\"ytick_1\">\n     <g id=\"line2d_7\">\n      <defs>\n       <path id=\"m85ed236133\" d=\"M 0 0 \nL 3.5 0 \n\" style=\"stroke: #323034; stroke-width: 0.8\"/>\n      </defs>\n      <g>\n       <use xlink:href=\"#m85ed236133\" x=\"22.7\" y=\"183.669231\" style=\"fill: #323034; stroke: #323034; stroke-width: 0.8\"/>\n      </g>\n     </g>\n     <g id=\"line2d_8\">\n      <defs>\n       <path id=\"mb2a926308d\" d=\"M 0 0 \nL -3.5 0 \n\" style=\"stroke: #323034; stroke-width: 0.8\"/>\n      </defs>\n      <g>\n       <use xlink:href=\"#mb2a926308d\" x=\"290.969231\" y=\"183.669231\" style=\"fill: #323034; stroke: #323034; stroke-width: 0.8\"/>\n      </g>\n     </g>\n     <g id=\"text_1\">\n      <!-- $\\mathdefault{4}$ -->\n      <g style=\"fill: #323034\" transform=\"translate(13.2 187.767043)scale(0.12 -0.12)\">\n       <defs>\n        <path id=\"STIXGeneral-Regular-34\" d=\"M 3027 1069 \nL 2368 1069 \nL 2368 0 \nL 1869 0 \nL 1869 1069 \nL 77 1069 \nL 77 1478 \nL 2086 4326 \nL 2368 4326 \nL 2368 1478 \nL 3027 1478 \nL 3027 1069 \nz\nM 1869 1478 \nL 1869 3674 \nL 333 1478 \nL 1869 1478 \nz\n\" transform=\"scale(0.015625)\"/>\n       </defs>\n       <use xlink:href=\"#STIXGeneral-Regular-34\" transform=\"translate(0 0.40625)\"/>\n      </g>\n     </g>\n    </g>\n    <g id=\"ytick_2\">\n     <g id=\"line2d_9\">\n      <g>\n       <use xlink:href=\"#m85ed236133\" x=\"22.7\" y=\"130.361538\" style=\"fill: #323034; stroke: #323034; stroke-width: 0.8\"/>\n      </g>\n     </g>\n     <g id=\"line2d_10\">\n      <g>\n       <use xlink:href=\"#mb2a926308d\" x=\"290.969231\" y=\"130.361538\" style=\"fill: #323034; stroke: #323034; stroke-width: 0.8\"/>\n      </g>\n     </g>\n     <g id=\"text_2\">\n      <!-- $\\mathdefault{8}$ -->\n      <g style=\"fill: #323034\" transform=\"translate(13.2 134.459351)scale(0.12 -0.12)\">\n       <defs>\n        <path id=\"STIXGeneral-Regular-38\" d=\"M 2848 992 \nQ 2848 499 2505 204 \nQ 2163 -90 1587 -90 \nQ 1050 -90 704 204 \nQ 358 499 358 954 \nQ 358 1293 524 1533 \nQ 691 1773 1190 2125 \nQ 710 2522 553 2765 \nQ 397 3008 397 3328 \nQ 397 3782 745 4054 \nQ 1094 4326 1638 4326 \nQ 2106 4326 2410 4060 \nQ 2714 3795 2714 3411 \nQ 2714 3059 2531 2848 \nQ 2349 2637 1856 2374 \nQ 2432 1990 2640 1689 \nQ 2848 1389 2848 992 \nz\nM 2272 3411 \nQ 2272 3744 2086 3945 \nQ 1901 4147 1574 4147 \nQ 1248 4147 1059 3977 \nQ 870 3808 870 3513 \nQ 870 3219 1059 2979 \nQ 1248 2739 1670 2490 \nQ 1997 2682 2134 2896 \nQ 2272 3110 2272 3411 \nz\nM 1734 1741 \nL 1357 1997 \nQ 1075 1766 960 1545 \nQ 845 1325 845 1011 \nQ 845 576 1065 333 \nQ 1286 90 1658 90 \nQ 1971 90 2166 285 \nQ 2362 480 2362 794 \nQ 2362 1082 2214 1299 \nQ 2067 1517 1734 1741 \nz\n\" transform=\"scale(0.015625)\"/>\n       </defs>\n       <use xlink:href=\"#STIXGeneral-Regular-38\" transform=\"translate(0 0.40625)\"/>\n      </g>\n     </g>\n    </g>\n    <g id=\"ytick_3\">\n     <g id=\"line2d_11\">\n      <g>\n       <use xlink:href=\"#m85ed236133\" x=\"22.7\" y=\"77.053846\" style=\"fill: #323034; stroke: #323034; stroke-width: 0.8\"/>\n      </g>\n     </g>\n     <g id=\"line2d_12\">\n      <g>\n       <use xlink:href=\"#mb2a926308d\" x=\"290.969231\" y=\"77.053846\" style=\"fill: #323034; stroke: #323034; stroke-width: 0.8\"/>\n      </g>\n     </g>\n     <g id=\"text_3\">\n      <!-- $\\mathdefault{12}$ -->\n      <g style=\"fill: #323034\" transform=\"translate(7.2 81.151659)scale(0.12 -0.12)\">\n       <defs>\n        <path id=\"STIXGeneral-Regular-31\" d=\"M 2522 0 \nL 755 0 \nL 755 96 \nQ 1107 115 1235 227 \nQ 1363 339 1363 608 \nL 1363 3482 \nQ 1363 3795 1171 3795 \nQ 1082 3795 883 3718 \nL 710 3654 \nL 710 3744 \nL 1856 4326 \nL 1914 4307 \nL 1914 486 \nQ 1914 275 2042 185 \nQ 2170 96 2522 96 \nL 2522 0 \nz\n\" transform=\"scale(0.015625)\"/>\n        <path id=\"STIXGeneral-Regular-32\" d=\"M 3034 877 \nL 2688 0 \nL 186 0 \nL 186 77 \nL 1325 1286 \nQ 1773 1754 1965 2144 \nQ 2157 2534 2157 2950 \nQ 2157 3379 1920 3616 \nQ 1683 3853 1267 3853 \nQ 922 3853 720 3673 \nQ 518 3494 326 3021 \nL 192 3053 \nQ 301 3648 630 3987 \nQ 960 4326 1523 4326 \nQ 2054 4326 2380 4006 \nQ 2707 3686 2707 3200 \nQ 2707 2477 1888 1613 \nL 832 486 \nL 2330 486 \nQ 2541 486 2665 569 \nQ 2790 653 2944 915 \nL 3034 877 \nz\n\" transform=\"scale(0.015625)\"/>\n       </defs>\n       <use xlink:href=\"#STIXGeneral-Regular-31\" transform=\"translate(0 0.40625)\"/>\n       <use xlink:href=\"#STIXGeneral-Regular-32\" transform=\"translate(49.999985 0.40625)\"/>\n      </g>\n     </g>\n    </g>\n   </g>\n   <g id=\"line2d_13\">\n    <defs>\n     <path id=\"mfc14b6b44b\" d=\"M 0 3 \nC 0.795609 3 1.55874 2.683901 2.12132 2.12132 \nC 2.683901 1.55874 3 0.795609 3 0 \nC 3 -0.795609 2.683901 -1.55874 2.12132 -2.12132 \nC 1.55874 -2.683901 0.795609 -3 0 -3 \nC -0.795609 -3 -1.55874 -2.683901 -2.12132 -2.12132 \nC -2.683901 -1.55874 -3 -0.795609 -3 0 \nC -3 0.795609 -2.683901 1.55874 -2.12132 2.12132 \nC -1.55874 2.683901 -0.795609 3 0 3 \nz\n\" style=\"stroke: #000000\"/>\n    </defs>\n    <g clip-path=\"url(#p03782bae15)\">\n     <use xlink:href=\"#mfc14b6b44b\" x=\"156.834615\" y=\"129.828462\" style=\"fill: #bc80bd; stroke: #000000\"/>\n     <use xlink:href=\"#mfc14b6b44b\" x=\"130.007692\" y=\"144.354808\" style=\"fill: #bc80bd; stroke: #000000\"/>\n     <use xlink:href=\"#mfc14b6b44b\" x=\"197.075\" y=\"135.958846\" style=\"fill: #bc80bd; stroke: #000000\"/>\n     <use xlink:href=\"#mfc14b6b44b\" x=\"143.421154\" y=\"119.566731\" style=\"fill: #bc80bd; stroke: #000000\"/>\n     <use xlink:href=\"#mfc14b6b44b\" x=\"170.248077\" y=\"125.963654\" style=\"fill: #bc80bd; stroke: #000000\"/>\n     <use xlink:href=\"#mfc14b6b44b\" x=\"210.488462\" y=\"104.240769\" style=\"fill: #bc80bd; stroke: #000000\"/>\n     <use xlink:href=\"#mfc14b6b44b\" x=\"103.180769\" y=\"140.49\" style=\"fill: #bc80bd; stroke: #000000\"/>\n     <use xlink:href=\"#mfc14b6b44b\" x=\"76.353846\" y=\"180.204231\" style=\"fill: #bc80bd; stroke: #000000\"/>\n     <use xlink:href=\"#mfc14b6b44b\" x=\"183.661538\" y=\"92.513077\" style=\"fill: #bc80bd; stroke: #000000\"/>\n     <use xlink:href=\"#mfc14b6b44b\" x=\"116.594231\" y=\"172.741154\" style=\"fill: #bc80bd; stroke: #000000\"/>\n     <use xlink:href=\"#mfc14b6b44b\" x=\"89.767308\" y=\"161.28\" style=\"fill: #bc80bd; stroke: #000000\"/>\n    </g>\n   </g>\n   <g id=\"line2d_14\">\n    <path d=\"M 22.7 196.994942 \nL 290.969231 63.701481 \n\" clip-path=\"url(#p03782bae15)\" style=\"fill: none; stroke: #ff0000; stroke-width: 2; stroke-linecap: square\"/>\n   </g>\n   <g id=\"patch_3\">\n    <path d=\"M 22.7 210.323077 \nL 22.7 50.4 \n\" style=\"fill: none; stroke: #000000; stroke-width: 0.6; stroke-linejoin: miter; stroke-linecap: square\"/>\n   </g>\n   <g id=\"patch_4\">\n    <path d=\"M 22.7 210.323077 \nL 290.969231 210.323077 \n\" style=\"fill: none; stroke: #000000; stroke-width: 0.6; stroke-linejoin: miter; stroke-linecap: square\"/>\n   </g>\n   <g id=\"text_4\">\n    <!-- I -->\n    <g style=\"fill: #323034\" transform=\"translate(49.526923 80.051683)scale(0.2 -0.2)\">\n     <defs>\n      <path id=\"STIXGeneral-Regular-49\" d=\"M 2016 0 \nL 115 0 \nL 115 122 \nQ 518 134 627 240 \nQ 736 346 736 717 \nL 736 3526 \nQ 736 3898 633 3994 \nQ 531 4090 115 4115 \nL 115 4237 \nL 2016 4237 \nL 2016 4115 \nQ 1613 4096 1501 3993 \nQ 1389 3891 1389 3526 \nL 1389 717 \nQ 1389 358 1504 246 \nQ 1619 134 2016 122 \nL 2016 0 \nz\n\" transform=\"scale(0.015625)\"/>\n     </defs>\n     <use xlink:href=\"#STIXGeneral-Regular-49\"/>\n    </g>\n   </g>\n   <g id=\"text_5\">\n    <g id=\"patch_5\">\n     <path d=\"M 246.325769 203.781743 \nL 277.555769 203.781743 \nQ 280.255769 203.781743 280.255769 201.081743 \nL 280.255769 174.323055 \nQ 280.255769 171.623055 277.555769 171.623055 \nL 246.325769 171.623055 \nQ 243.625769 171.623055 243.625769 174.323055 \nL 243.625769 201.081743 \nQ 243.625769 203.781743 246.325769 203.781743 \nz\n\" style=\"fill: #ffebcd; opacity: 0.5; stroke: #ffa500; stroke-width: 0.8; stroke-linejoin: miter\"/>\n    </g>\n    <!-- $\\mu$ = 7.50 -->\n    <g style=\"fill: #323034\" transform=\"translate(246.325769 180.469774)scale(0.09 -0.09)\">\n     <defs>\n      <path id=\"STIXGeneral-Italic-3bc\" d=\"M 3002 749 \nL 3091 691 \nQ 2797 237 2614 83 \nQ 2432 -70 2214 -70 \nQ 2080 -70 1990 6 \nQ 1901 83 1901 218 \nQ 1901 416 1997 704 \nL 2208 1370 \nL 2202 1370 \nQ 1766 595 1475 268 \nQ 1184 -58 902 -58 \nQ 723 -58 672 122 \nQ 614 -109 547 -374 \nQ 480 -640 451 -758 \nQ 422 -877 384 -1005 \nQ 346 -1133 314 -1197 \nQ 282 -1261 243 -1312 \nL -211 -1312 \nQ -58 -1088 70 -595 \nL 909 2739 \nL 1389 2739 \nL 909 832 \nQ 883 717 883 659 \nQ 883 352 1139 352 \nQ 1395 352 1811 969 \nQ 2227 1587 2323 1958 \nL 2534 2739 \nL 3027 2739 \nL 2522 819 \nQ 2400 333 2400 326 \nQ 2400 230 2470 230 \nQ 2547 230 2652 329 \nQ 2758 429 3002 749 \nz\n\" transform=\"scale(0.015625)\"/>\n      <path id=\"STIXGeneral-Regular-20\" transform=\"scale(0.015625)\"/>\n      <path id=\"STIXGeneral-Regular-3d\" d=\"M 4077 2048 \nL 307 2048 \nL 307 2470 \nL 4077 2470 \nL 4077 2048 \nz\nM 4077 768 \nL 307 768 \nL 307 1190 \nL 4077 1190 \nL 4077 768 \nz\n\" transform=\"scale(0.015625)\"/>\n      <path id=\"STIXGeneral-Regular-37\" d=\"M 2874 4134 \nL 1517 -51 \nL 1101 -51 \nL 2368 3763 \nL 992 3763 \nQ 717 3763 582 3667 \nQ 448 3571 243 3238 \nL 128 3296 \nL 512 4237 \nL 2874 4237 \nL 2874 4134 \nz\n\" transform=\"scale(0.015625)\"/>\n      <path id=\"STIXGeneral-Regular-2e\" d=\"M 1158 275 \nQ 1158 134 1052 32 \nQ 947 -70 800 -70 \nQ 653 -70 550 32 \nQ 448 134 448 281 \nQ 448 429 553 534 \nQ 659 640 806 640 \nQ 947 640 1052 531 \nQ 1158 422 1158 275 \nz\n\" transform=\"scale(0.015625)\"/>\n      <path id=\"STIXGeneral-Regular-35\" d=\"M 2803 4358 \nL 2573 3814 \nQ 2534 3731 2400 3731 \nL 1158 3731 \nL 902 3187 \nQ 1606 3053 1920 2896 \nQ 2234 2739 2502 2368 \nQ 2726 2061 2726 1555 \nQ 2726 1094 2576 780 \nQ 2426 467 2099 224 \nQ 1664 -90 1011 -90 \nQ 646 -90 422 19 \nQ 198 128 198 307 \nQ 198 550 486 550 \nQ 717 550 960 352 \nQ 1210 147 1414 147 \nQ 1747 147 2012 480 \nQ 2278 813 2278 1229 \nQ 2278 1843 1850 2189 \nQ 1293 2637 486 2637 \nQ 410 2637 410 2688 \nL 416 2720 \nL 1114 4237 \nL 2438 4237 \nQ 2547 4237 2608 4269 \nQ 2669 4301 2746 4403 \nL 2803 4358 \nz\n\" transform=\"scale(0.015625)\"/>\n      <path id=\"STIXGeneral-Regular-30\" d=\"M 3046 2112 \nQ 3046 1683 2963 1302 \nQ 2880 922 2717 602 \nQ 2554 282 2266 96 \nQ 1978 -90 1600 -90 \nQ 1210 -90 915 108 \nQ 621 307 461 640 \nQ 301 973 227 1350 \nQ 154 1728 154 2150 \nQ 154 2746 301 3222 \nQ 448 3699 790 4012 \nQ 1133 4326 1626 4326 \nQ 2253 4326 2649 3712 \nQ 3046 3098 3046 2112 \nz\nM 2432 2080 \nQ 2432 3091 2217 3625 \nQ 2003 4160 1587 4160 \nQ 1190 4160 979 3622 \nQ 768 3085 768 2106 \nQ 768 1120 979 598 \nQ 1190 77 1600 77 \nQ 2003 77 2217 598 \nQ 2432 1120 2432 2080 \nz\n\" transform=\"scale(0.015625)\"/>\n     </defs>\n     <use xlink:href=\"#STIXGeneral-Italic-3bc\" transform=\"translate(0 0.203125)\"/>\n     <use xlink:href=\"#STIXGeneral-Regular-20\" transform=\"translate(52.599991 0.203125)\"/>\n     <use xlink:href=\"#STIXGeneral-Regular-3d\" transform=\"translate(77.599976 0.203125)\"/>\n     <use xlink:href=\"#STIXGeneral-Regular-20\" transform=\"translate(146.09996 0.203125)\"/>\n     <use xlink:href=\"#STIXGeneral-Regular-37\" transform=\"translate(171.099945 0.203125)\"/>\n     <use xlink:href=\"#STIXGeneral-Regular-2e\" transform=\"translate(221.09993 0.203125)\"/>\n     <use xlink:href=\"#STIXGeneral-Regular-35\" transform=\"translate(246.099915 0.203125)\"/>\n     <use xlink:href=\"#STIXGeneral-Regular-30\" transform=\"translate(296.099899 0.203125)\"/>\n    </g>\n    <!-- $\\sigma$ = 1.94 -->\n    <g style=\"fill: #323034\" transform=\"translate(246.595769 189.799118)scale(0.09 -0.09)\">\n     <defs>\n      <path id=\"STIXGeneral-Italic-3c3\" d=\"M 3398 2739 \nL 3283 2266 \nL 2195 2266 \nQ 2291 2112 2457 1981 \nQ 2624 1850 2717 1725 \nQ 2810 1600 2810 1389 \nQ 2810 851 2288 390 \nQ 1766 -70 1107 -70 \nQ 659 -70 416 170 \nQ 173 410 173 832 \nQ 173 1274 409 1706 \nQ 646 2138 1113 2438 \nQ 1581 2739 2157 2739 \nL 3398 2739 \nz\nM 2272 1414 \nQ 2272 1709 2166 1939 \nQ 2061 2170 1901 2266 \nQ 1530 2266 1120 1770 \nQ 710 1274 710 640 \nQ 710 358 844 211 \nQ 979 64 1210 64 \nQ 1638 64 1955 525 \nQ 2272 986 2272 1414 \nz\n\" transform=\"scale(0.015625)\"/>\n      <path id=\"STIXGeneral-Regular-39\" d=\"M 378 -141 \nL 358 -13 \nQ 1094 115 1603 608 \nQ 2112 1101 2304 1882 \nQ 1933 1517 1344 1517 \nQ 826 1517 509 1875 \nQ 192 2234 192 2816 \nQ 192 3462 573 3894 \nQ 954 4326 1523 4326 \nQ 2131 4326 2528 3840 \nQ 2938 3328 2938 2522 \nQ 2938 1958 2742 1462 \nQ 2547 966 2170 621 \nQ 1773 262 1395 105 \nQ 1018 -51 378 -141 \nz\nM 2317 2272 \nL 2317 2522 \nQ 2317 4147 1472 4147 \nQ 1171 4147 1005 3930 \nQ 909 3802 845 3546 \nQ 781 3290 781 3034 \nQ 781 2464 995 2128 \nQ 1210 1792 1568 1792 \nQ 1824 1792 2070 1917 \nQ 2317 2042 2317 2272 \nz\n\" transform=\"scale(0.015625)\"/>\n     </defs>\n     <use xlink:href=\"#STIXGeneral-Italic-3c3\" transform=\"translate(0 0.40625)\"/>\n     <use xlink:href=\"#STIXGeneral-Regular-20\" transform=\"translate(49.799988 0.40625)\"/>\n     <use xlink:href=\"#STIXGeneral-Regular-3d\" transform=\"translate(74.799973 0.40625)\"/>\n     <use xlink:href=\"#STIXGeneral-Regular-20\" transform=\"translate(143.299957 0.40625)\"/>\n     <use xlink:href=\"#STIXGeneral-Regular-31\" transform=\"translate(168.299942 0.40625)\"/>\n     <use xlink:href=\"#STIXGeneral-Regular-2e\" transform=\"translate(218.299927 0.40625)\"/>\n     <use xlink:href=\"#STIXGeneral-Regular-39\" transform=\"translate(243.299911 0.40625)\"/>\n     <use xlink:href=\"#STIXGeneral-Regular-34\" transform=\"translate(293.299896 0.40625)\"/>\n    </g>\n    <!-- $r$ = 0.82 -->\n    <g style=\"fill: #323034\" transform=\"translate(247.585769 199.128462)scale(0.09 -0.09)\">\n     <defs>\n      <path id=\"STIXGeneral-Italic-72\" d=\"M 1126 1427 \nL 1229 1651 \nQ 1446 2131 1830 2534 \nQ 2106 2822 2336 2822 \nQ 2470 2822 2553 2732 \nQ 2637 2643 2637 2496 \nQ 2637 2349 2557 2249 \nQ 2477 2150 2336 2150 \nQ 2214 2150 2112 2317 \nQ 2061 2406 2010 2406 \nQ 1837 2406 1485 1805 \nQ 1267 1434 1136 1104 \nQ 1005 774 774 0 \nL 288 0 \nL 806 1869 \nQ 909 2246 909 2394 \nQ 909 2560 666 2560 \nQ 614 2560 467 2541 \nL 467 2650 \nL 1459 2822 \nL 1478 2810 \nL 1126 1427 \nz\n\" transform=\"scale(0.015625)\"/>\n     </defs>\n     <use xlink:href=\"#STIXGeneral-Italic-72\" transform=\"translate(0 0.40625)\"/>\n     <use xlink:href=\"#STIXGeneral-Regular-20\" transform=\"translate(38.899994 0.40625)\"/>\n     <use xlink:href=\"#STIXGeneral-Regular-3d\" transform=\"translate(63.899979 0.40625)\"/>\n     <use xlink:href=\"#STIXGeneral-Regular-20\" transform=\"translate(132.399963 0.40625)\"/>\n     <use xlink:href=\"#STIXGeneral-Regular-30\" transform=\"translate(157.399948 0.40625)\"/>\n     <use xlink:href=\"#STIXGeneral-Regular-2e\" transform=\"translate(207.399933 0.40625)\"/>\n     <use xlink:href=\"#STIXGeneral-Regular-38\" transform=\"translate(232.399918 0.40625)\"/>\n     <use xlink:href=\"#STIXGeneral-Regular-32\" transform=\"translate(282.399902 0.40625)\"/>\n    </g>\n   </g>\n  </g>\n  <g id=\"axes_2\">\n   <g id=\"patch_6\">\n    <path d=\"M 312.430769 210.323077 \nL 580.7 210.323077 \nL 580.7 50.4 \nL 312.430769 50.4 \nz\n\" style=\"fill: #ffffff\"/>\n   </g>\n   <g id=\"matplotlib.axis_3\">\n    <g id=\"xtick_4\">\n     <g id=\"line2d_15\">\n      <g>\n       <use xlink:href=\"#md7d558cdb6\" x=\"312.430769\" y=\"210.323077\" style=\"fill: #323034; stroke: #323034; stroke-width: 0.8\"/>\n      </g>\n     </g>\n     <g id=\"line2d_16\">\n      <g>\n       <use xlink:href=\"#mcf208edd67\" x=\"312.430769\" y=\"50.4\" style=\"fill: #323034; stroke: #323034; stroke-width: 0.8\"/>\n      </g>\n     </g>\n    </g>\n    <g id=\"xtick_5\">\n     <g id=\"line2d_17\">\n      <g>\n       <use xlink:href=\"#md7d558cdb6\" x=\"446.565385\" y=\"210.323077\" style=\"fill: #323034; stroke: #323034; stroke-width: 0.8\"/>\n      </g>\n     </g>\n     <g id=\"line2d_18\">\n      <g>\n       <use xlink:href=\"#mcf208edd67\" x=\"446.565385\" y=\"50.4\" style=\"fill: #323034; stroke: #323034; stroke-width: 0.8\"/>\n      </g>\n     </g>\n    </g>\n    <g id=\"xtick_6\">\n     <g id=\"line2d_19\">\n      <g>\n       <use xlink:href=\"#md7d558cdb6\" x=\"580.7\" y=\"210.323077\" style=\"fill: #323034; stroke: #323034; stroke-width: 0.8\"/>\n      </g>\n     </g>\n     <g id=\"line2d_20\">\n      <g>\n       <use xlink:href=\"#mcf208edd67\" x=\"580.7\" y=\"50.4\" style=\"fill: #323034; stroke: #323034; stroke-width: 0.8\"/>\n      </g>\n     </g>\n    </g>\n   </g>\n   <g id=\"matplotlib.axis_4\">\n    <g id=\"ytick_4\">\n     <g id=\"line2d_21\">\n      <g>\n       <use xlink:href=\"#m85ed236133\" x=\"312.430769\" y=\"183.669231\" style=\"fill: #323034; stroke: #323034; stroke-width: 0.8\"/>\n      </g>\n     </g>\n     <g id=\"line2d_22\">\n      <g>\n       <use xlink:href=\"#mb2a926308d\" x=\"580.7\" y=\"183.669231\" style=\"fill: #323034; stroke: #323034; stroke-width: 0.8\"/>\n      </g>\n     </g>\n    </g>\n    <g id=\"ytick_5\">\n     <g id=\"line2d_23\">\n      <g>\n       <use xlink:href=\"#m85ed236133\" x=\"312.430769\" y=\"130.361538\" style=\"fill: #323034; stroke: #323034; stroke-width: 0.8\"/>\n      </g>\n     </g>\n     <g id=\"line2d_24\">\n      <g>\n       <use xlink:href=\"#mb2a926308d\" x=\"580.7\" y=\"130.361538\" style=\"fill: #323034; stroke: #323034; stroke-width: 0.8\"/>\n      </g>\n     </g>\n    </g>\n    <g id=\"ytick_6\">\n     <g id=\"line2d_25\">\n      <g>\n       <use xlink:href=\"#m85ed236133\" x=\"312.430769\" y=\"77.053846\" style=\"fill: #323034; stroke: #323034; stroke-width: 0.8\"/>\n      </g>\n     </g>\n     <g id=\"line2d_26\">\n      <g>\n       <use xlink:href=\"#mb2a926308d\" x=\"580.7\" y=\"77.053846\" style=\"fill: #323034; stroke: #323034; stroke-width: 0.8\"/>\n      </g>\n     </g>\n    </g>\n   </g>\n   <g id=\"line2d_27\">\n    <g clip-path=\"url(#p714582fce2)\">\n     <use xlink:href=\"#mfc14b6b44b\" x=\"446.565385\" y=\"115.168846\" style=\"fill: #bc80bd; stroke: #000000\"/>\n     <use xlink:href=\"#mfc14b6b44b\" x=\"419.738462\" y=\"128.495769\" style=\"fill: #bc80bd; stroke: #000000\"/>\n     <use xlink:href=\"#mfc14b6b44b\" x=\"486.805769\" y=\"120.499615\" style=\"fill: #bc80bd; stroke: #000000\"/>\n     <use xlink:href=\"#mfc14b6b44b\" x=\"433.151923\" y=\"120.099808\" style=\"fill: #bc80bd; stroke: #000000\"/>\n     <use xlink:href=\"#mfc14b6b44b\" x=\"459.978846\" y=\"113.569615\" style=\"fill: #bc80bd; stroke: #000000\"/>\n     <use xlink:href=\"#mfc14b6b44b\" x=\"500.219231\" y=\"129.028846\" style=\"fill: #bc80bd; stroke: #000000\"/>\n     <use xlink:href=\"#mfc14b6b44b\" x=\"392.911538\" y=\"155.282885\" style=\"fill: #bc80bd; stroke: #000000\"/>\n     <use xlink:href=\"#mfc14b6b44b\" x=\"366.084615\" y=\"195.663462\" style=\"fill: #bc80bd; stroke: #000000\"/>\n     <use xlink:href=\"#mfc14b6b44b\" x=\"473.392308\" y=\"115.302115\" style=\"fill: #bc80bd; stroke: #000000\"/>\n     <use xlink:href=\"#mfc14b6b44b\" x=\"406.325\" y=\"140.223462\" style=\"fill: #bc80bd; stroke: #000000\"/>\n     <use xlink:href=\"#mfc14b6b44b\" x=\"379.498077\" y=\"173.807308\" style=\"fill: #bc80bd; stroke: #000000\"/>\n    </g>\n   </g>\n   <g id=\"line2d_28\">\n    <path d=\"M 312.430769 196.984038 \nL 580.7 63.714808 \n\" clip-path=\"url(#p714582fce2)\" style=\"fill: none; stroke: #ff0000; stroke-width: 2; stroke-linecap: square\"/>\n   </g>\n   <g id=\"patch_7\">\n    <path d=\"M 312.430769 210.323077 \nL 312.430769 50.4 \n\" style=\"fill: none; stroke: #000000; stroke-width: 0.6; stroke-linejoin: miter; stroke-linecap: square\"/>\n   </g>\n   <g id=\"patch_8\">\n    <path d=\"M 312.430769 210.323077 \nL 580.7 210.323077 \n\" style=\"fill: none; stroke: #000000; stroke-width: 0.6; stroke-linejoin: miter; stroke-linecap: square\"/>\n   </g>\n   <g id=\"text_6\">\n    <!-- II -->\n    <g style=\"fill: #323034\" transform=\"translate(339.257692 80.051683)scale(0.2 -0.2)\">\n     <use xlink:href=\"#STIXGeneral-Regular-49\"/>\n     <use xlink:href=\"#STIXGeneral-Regular-49\" x=\"33.299988\"/>\n    </g>\n   </g>\n   <g id=\"text_7\">\n    <g id=\"patch_9\">\n     <path d=\"M 536.056538 203.781743 \nL 567.286538 203.781743 \nQ 569.986538 203.781743 569.986538 201.081743 \nL 569.986538 174.323055 \nQ 569.986538 171.623055 567.286538 171.623055 \nL 536.056538 171.623055 \nQ 533.356538 171.623055 533.356538 174.323055 \nL 533.356538 201.081743 \nQ 533.356538 203.781743 536.056538 203.781743 \nz\n\" style=\"fill: #ffebcd; opacity: 0.5; stroke: #ffa500; stroke-width: 0.8; stroke-linejoin: miter\"/>\n    </g>\n    <!-- $\\mu$ = 7.50 -->\n    <g style=\"fill: #323034\" transform=\"translate(536.056538 180.469774)scale(0.09 -0.09)\">\n     <use xlink:href=\"#STIXGeneral-Italic-3bc\" transform=\"translate(0 0.203125)\"/>\n     <use xlink:href=\"#STIXGeneral-Regular-20\" transform=\"translate(52.599991 0.203125)\"/>\n     <use xlink:href=\"#STIXGeneral-Regular-3d\" transform=\"translate(77.599976 0.203125)\"/>\n     <use xlink:href=\"#STIXGeneral-Regular-20\" transform=\"translate(146.09996 0.203125)\"/>\n     <use xlink:href=\"#STIXGeneral-Regular-37\" transform=\"translate(171.099945 0.203125)\"/>\n     <use xlink:href=\"#STIXGeneral-Regular-2e\" transform=\"translate(221.09993 0.203125)\"/>\n     <use xlink:href=\"#STIXGeneral-Regular-35\" transform=\"translate(246.099915 0.203125)\"/>\n     <use xlink:href=\"#STIXGeneral-Regular-30\" transform=\"translate(296.099899 0.203125)\"/>\n    </g>\n    <!-- $\\sigma$ = 1.94 -->\n    <g style=\"fill: #323034\" transform=\"translate(536.326538 189.799118)scale(0.09 -0.09)\">\n     <use xlink:href=\"#STIXGeneral-Italic-3c3\" transform=\"translate(0 0.40625)\"/>\n     <use xlink:href=\"#STIXGeneral-Regular-20\" transform=\"translate(49.799988 0.40625)\"/>\n     <use xlink:href=\"#STIXGeneral-Regular-3d\" transform=\"translate(74.799973 0.40625)\"/>\n     <use xlink:href=\"#STIXGeneral-Regular-20\" transform=\"translate(143.299957 0.40625)\"/>\n     <use xlink:href=\"#STIXGeneral-Regular-31\" transform=\"translate(168.299942 0.40625)\"/>\n     <use xlink:href=\"#STIXGeneral-Regular-2e\" transform=\"translate(218.299927 0.40625)\"/>\n     <use xlink:href=\"#STIXGeneral-Regular-39\" transform=\"translate(243.299911 0.40625)\"/>\n     <use xlink:href=\"#STIXGeneral-Regular-34\" transform=\"translate(293.299896 0.40625)\"/>\n    </g>\n    <!-- $r$ = 0.82 -->\n    <g style=\"fill: #323034\" transform=\"translate(537.316538 199.128462)scale(0.09 -0.09)\">\n     <use xlink:href=\"#STIXGeneral-Italic-72\" transform=\"translate(0 0.40625)\"/>\n     <use xlink:href=\"#STIXGeneral-Regular-20\" transform=\"translate(38.899994 0.40625)\"/>\n     <use xlink:href=\"#STIXGeneral-Regular-3d\" transform=\"translate(63.899979 0.40625)\"/>\n     <use xlink:href=\"#STIXGeneral-Regular-20\" transform=\"translate(132.399963 0.40625)\"/>\n     <use xlink:href=\"#STIXGeneral-Regular-30\" transform=\"translate(157.399948 0.40625)\"/>\n     <use xlink:href=\"#STIXGeneral-Regular-2e\" transform=\"translate(207.399933 0.40625)\"/>\n     <use xlink:href=\"#STIXGeneral-Regular-38\" transform=\"translate(232.399918 0.40625)\"/>\n     <use xlink:href=\"#STIXGeneral-Regular-32\" transform=\"translate(282.399902 0.40625)\"/>\n    </g>\n   </g>\n  </g>\n  <g id=\"axes_3\">\n   <g id=\"patch_10\">\n    <path d=\"M 22.7 383.04 \nL 290.969231 383.04 \nL 290.969231 223.116923 \nL 22.7 223.116923 \nz\n\" style=\"fill: #ffffff\"/>\n   </g>\n   <g id=\"matplotlib.axis_5\">\n    <g id=\"xtick_7\">\n     <g id=\"line2d_29\">\n      <g>\n       <use xlink:href=\"#md7d558cdb6\" x=\"22.7\" y=\"383.04\" style=\"fill: #323034; stroke: #323034; stroke-width: 0.8\"/>\n      </g>\n     </g>\n     <g id=\"line2d_30\">\n      <g>\n       <use xlink:href=\"#mcf208edd67\" x=\"22.7\" y=\"223.116923\" style=\"fill: #323034; stroke: #323034; stroke-width: 0.8\"/>\n      </g>\n     </g>\n     <g id=\"text_8\">\n      <!-- $\\mathdefault{0}$ -->\n      <g style=\"fill: #323034\" transform=\"translate(19.7 394.735625)scale(0.12 -0.12)\">\n       <use xlink:href=\"#STIXGeneral-Regular-30\" transform=\"translate(0 0.40625)\"/>\n      </g>\n     </g>\n    </g>\n    <g id=\"xtick_8\">\n     <g id=\"line2d_31\">\n      <g>\n       <use xlink:href=\"#md7d558cdb6\" x=\"156.834615\" y=\"383.04\" style=\"fill: #323034; stroke: #323034; stroke-width: 0.8\"/>\n      </g>\n     </g>\n     <g id=\"line2d_32\">\n      <g>\n       <use xlink:href=\"#mcf208edd67\" x=\"156.834615\" y=\"223.116923\" style=\"fill: #323034; stroke: #323034; stroke-width: 0.8\"/>\n      </g>\n     </g>\n     <g id=\"text_9\">\n      <!-- $\\mathdefault{10}$ -->\n      <g style=\"fill: #323034\" transform=\"translate(150.834615 394.735625)scale(0.12 -0.12)\">\n       <use xlink:href=\"#STIXGeneral-Regular-31\" transform=\"translate(0 0.40625)\"/>\n       <use xlink:href=\"#STIXGeneral-Regular-30\" transform=\"translate(49.999985 0.40625)\"/>\n      </g>\n     </g>\n    </g>\n    <g id=\"xtick_9\">\n     <g id=\"line2d_33\">\n      <g>\n       <use xlink:href=\"#md7d558cdb6\" x=\"290.969231\" y=\"383.04\" style=\"fill: #323034; stroke: #323034; stroke-width: 0.8\"/>\n      </g>\n     </g>\n     <g id=\"line2d_34\">\n      <g>\n       <use xlink:href=\"#mcf208edd67\" x=\"290.969231\" y=\"223.116923\" style=\"fill: #323034; stroke: #323034; stroke-width: 0.8\"/>\n      </g>\n     </g>\n     <g id=\"text_10\">\n      <!-- $\\mathdefault{20}$ -->\n      <g style=\"fill: #323034\" transform=\"translate(284.969231 394.735625)scale(0.12 -0.12)\">\n       <use xlink:href=\"#STIXGeneral-Regular-32\" transform=\"translate(0 0.40625)\"/>\n       <use xlink:href=\"#STIXGeneral-Regular-30\" transform=\"translate(49.999985 0.40625)\"/>\n      </g>\n     </g>\n    </g>\n   </g>\n   <g id=\"matplotlib.axis_6\">\n    <g id=\"ytick_7\">\n     <g id=\"line2d_35\">\n      <g>\n       <use xlink:href=\"#m85ed236133\" x=\"22.7\" y=\"356.386154\" style=\"fill: #323034; stroke: #323034; stroke-width: 0.8\"/>\n      </g>\n     </g>\n     <g id=\"line2d_36\">\n      <g>\n       <use xlink:href=\"#mb2a926308d\" x=\"290.969231\" y=\"356.386154\" style=\"fill: #323034; stroke: #323034; stroke-width: 0.8\"/>\n      </g>\n     </g>\n     <g id=\"text_11\">\n      <!-- $\\mathdefault{4}$ -->\n      <g style=\"fill: #323034\" transform=\"translate(13.2 360.483966)scale(0.12 -0.12)\">\n       <use xlink:href=\"#STIXGeneral-Regular-34\" transform=\"translate(0 0.40625)\"/>\n      </g>\n     </g>\n    </g>\n    <g id=\"ytick_8\">\n     <g id=\"line2d_37\">\n      <g>\n       <use xlink:href=\"#m85ed236133\" x=\"22.7\" y=\"303.078462\" style=\"fill: #323034; stroke: #323034; stroke-width: 0.8\"/>\n      </g>\n     </g>\n     <g id=\"line2d_38\">\n      <g>\n       <use xlink:href=\"#mb2a926308d\" x=\"290.969231\" y=\"303.078462\" style=\"fill: #323034; stroke: #323034; stroke-width: 0.8\"/>\n      </g>\n     </g>\n     <g id=\"text_12\">\n      <!-- $\\mathdefault{8}$ -->\n      <g style=\"fill: #323034\" transform=\"translate(13.2 307.176274)scale(0.12 -0.12)\">\n       <use xlink:href=\"#STIXGeneral-Regular-38\" transform=\"translate(0 0.40625)\"/>\n      </g>\n     </g>\n    </g>\n    <g id=\"ytick_9\">\n     <g id=\"line2d_39\">\n      <g>\n       <use xlink:href=\"#m85ed236133\" x=\"22.7\" y=\"249.770769\" style=\"fill: #323034; stroke: #323034; stroke-width: 0.8\"/>\n      </g>\n     </g>\n     <g id=\"line2d_40\">\n      <g>\n       <use xlink:href=\"#mb2a926308d\" x=\"290.969231\" y=\"249.770769\" style=\"fill: #323034; stroke: #323034; stroke-width: 0.8\"/>\n      </g>\n     </g>\n     <g id=\"text_13\">\n      <!-- $\\mathdefault{12}$ -->\n      <g style=\"fill: #323034\" transform=\"translate(7.2 253.868582)scale(0.12 -0.12)\">\n       <use xlink:href=\"#STIXGeneral-Regular-31\" transform=\"translate(0 0.40625)\"/>\n       <use xlink:href=\"#STIXGeneral-Regular-32\" transform=\"translate(49.999985 0.40625)\"/>\n      </g>\n     </g>\n    </g>\n   </g>\n   <g id=\"line2d_41\">\n    <g clip-path=\"url(#pa250e0af4e)\">\n     <use xlink:href=\"#mfc14b6b44b\" x=\"156.834615\" y=\"310.275\" style=\"fill: #bc80bd; stroke: #000000\"/>\n     <use xlink:href=\"#mfc14b6b44b\" x=\"130.007692\" y=\"319.470577\" style=\"fill: #bc80bd; stroke: #000000\"/>\n     <use xlink:href=\"#mfc14b6b44b\" x=\"197.075\" y=\"239.908846\" style=\"fill: #bc80bd; stroke: #000000\"/>\n     <use xlink:href=\"#mfc14b6b44b\" x=\"143.421154\" y=\"314.939423\" style=\"fill: #bc80bd; stroke: #000000\"/>\n     <use xlink:href=\"#mfc14b6b44b\" x=\"170.248077\" y=\"305.610577\" style=\"fill: #bc80bd; stroke: #000000\"/>\n     <use xlink:href=\"#mfc14b6b44b\" x=\"210.488462\" y=\"291.883846\" style=\"fill: #bc80bd; stroke: #000000\"/>\n     <use xlink:href=\"#mfc14b6b44b\" x=\"103.180769\" y=\"328.666154\" style=\"fill: #bc80bd; stroke: #000000\"/>\n     <use xlink:href=\"#mfc14b6b44b\" x=\"76.353846\" y=\"337.861731\" style=\"fill: #bc80bd; stroke: #000000\"/>\n     <use xlink:href=\"#mfc14b6b44b\" x=\"183.661538\" y=\"301.079423\" style=\"fill: #bc80bd; stroke: #000000\"/>\n     <use xlink:href=\"#mfc14b6b44b\" x=\"116.594231\" y=\"324.135\" style=\"fill: #bc80bd; stroke: #000000\"/>\n     <use xlink:href=\"#mfc14b6b44b\" x=\"89.767308\" y=\"333.330577\" style=\"fill: #bc80bd; stroke: #000000\"/>\n    </g>\n   </g>\n   <g id=\"line2d_42\">\n    <path d=\"M 22.7 369.680365 \nL 290.969231 236.483827 \n\" clip-path=\"url(#pa250e0af4e)\" style=\"fill: none; stroke: #ff0000; stroke-width: 2; stroke-linecap: square\"/>\n   </g>\n   <g id=\"patch_11\">\n    <path d=\"M 22.7 383.04 \nL 22.7 223.116923 \n\" style=\"fill: none; stroke: #000000; stroke-width: 0.6; stroke-linejoin: miter; stroke-linecap: square\"/>\n   </g>\n   <g id=\"patch_12\">\n    <path d=\"M 22.7 383.04 \nL 290.969231 383.04 \n\" style=\"fill: none; stroke: #000000; stroke-width: 0.6; stroke-linejoin: miter; stroke-linecap: square\"/>\n   </g>\n   <g id=\"text_14\">\n    <!-- III -->\n    <g style=\"fill: #323034\" transform=\"translate(49.526923 252.768606)scale(0.2 -0.2)\">\n     <use xlink:href=\"#STIXGeneral-Regular-49\"/>\n     <use xlink:href=\"#STIXGeneral-Regular-49\" x=\"33.299988\"/>\n     <use xlink:href=\"#STIXGeneral-Regular-49\" x=\"66.599976\"/>\n    </g>\n   </g>\n   <g id=\"text_15\">\n    <g id=\"patch_13\">\n     <path d=\"M 246.325769 376.498666 \nL 277.555769 376.498666 \nQ 280.255769 376.498666 280.255769 373.798666 \nL 280.255769 347.039978 \nQ 280.255769 344.339978 277.555769 344.339978 \nL 246.325769 344.339978 \nQ 243.625769 344.339978 243.625769 347.039978 \nL 243.625769 373.798666 \nQ 243.625769 376.498666 246.325769 376.498666 \nz\n\" style=\"fill: #ffebcd; opacity: 0.5; stroke: #ffa500; stroke-width: 0.8; stroke-linejoin: miter\"/>\n    </g>\n    <!-- $\\mu$ = 7.50 -->\n    <g style=\"fill: #323034\" transform=\"translate(246.325769 353.186697)scale(0.09 -0.09)\">\n     <use xlink:href=\"#STIXGeneral-Italic-3bc\" transform=\"translate(0 0.203125)\"/>\n     <use xlink:href=\"#STIXGeneral-Regular-20\" transform=\"translate(52.599991 0.203125)\"/>\n     <use xlink:href=\"#STIXGeneral-Regular-3d\" transform=\"translate(77.599976 0.203125)\"/>\n     <use xlink:href=\"#STIXGeneral-Regular-20\" transform=\"translate(146.09996 0.203125)\"/>\n     <use xlink:href=\"#STIXGeneral-Regular-37\" transform=\"translate(171.099945 0.203125)\"/>\n     <use xlink:href=\"#STIXGeneral-Regular-2e\" transform=\"translate(221.09993 0.203125)\"/>\n     <use xlink:href=\"#STIXGeneral-Regular-35\" transform=\"translate(246.099915 0.203125)\"/>\n     <use xlink:href=\"#STIXGeneral-Regular-30\" transform=\"translate(296.099899 0.203125)\"/>\n    </g>\n    <!-- $\\sigma$ = 1.94 -->\n    <g style=\"fill: #323034\" transform=\"translate(246.595769 362.516041)scale(0.09 -0.09)\">\n     <use xlink:href=\"#STIXGeneral-Italic-3c3\" transform=\"translate(0 0.40625)\"/>\n     <use xlink:href=\"#STIXGeneral-Regular-20\" transform=\"translate(49.799988 0.40625)\"/>\n     <use xlink:href=\"#STIXGeneral-Regular-3d\" transform=\"translate(74.799973 0.40625)\"/>\n     <use xlink:href=\"#STIXGeneral-Regular-20\" transform=\"translate(143.299957 0.40625)\"/>\n     <use xlink:href=\"#STIXGeneral-Regular-31\" transform=\"translate(168.299942 0.40625)\"/>\n     <use xlink:href=\"#STIXGeneral-Regular-2e\" transform=\"translate(218.299927 0.40625)\"/>\n     <use xlink:href=\"#STIXGeneral-Regular-39\" transform=\"translate(243.299911 0.40625)\"/>\n     <use xlink:href=\"#STIXGeneral-Regular-34\" transform=\"translate(293.299896 0.40625)\"/>\n    </g>\n    <!-- $r$ = 0.82 -->\n    <g style=\"fill: #323034\" transform=\"translate(247.585769 371.845385)scale(0.09 -0.09)\">\n     <use xlink:href=\"#STIXGeneral-Italic-72\" transform=\"translate(0 0.40625)\"/>\n     <use xlink:href=\"#STIXGeneral-Regular-20\" transform=\"translate(38.899994 0.40625)\"/>\n     <use xlink:href=\"#STIXGeneral-Regular-3d\" transform=\"translate(63.899979 0.40625)\"/>\n     <use xlink:href=\"#STIXGeneral-Regular-20\" transform=\"translate(132.399963 0.40625)\"/>\n     <use xlink:href=\"#STIXGeneral-Regular-30\" transform=\"translate(157.399948 0.40625)\"/>\n     <use xlink:href=\"#STIXGeneral-Regular-2e\" transform=\"translate(207.399933 0.40625)\"/>\n     <use xlink:href=\"#STIXGeneral-Regular-38\" transform=\"translate(232.399918 0.40625)\"/>\n     <use xlink:href=\"#STIXGeneral-Regular-32\" transform=\"translate(282.399902 0.40625)\"/>\n    </g>\n   </g>\n  </g>\n  <g id=\"axes_4\">\n   <g id=\"patch_14\">\n    <path d=\"M 312.430769 383.04 \nL 580.7 383.04 \nL 580.7 223.116923 \nL 312.430769 223.116923 \nz\n\" style=\"fill: #ffffff\"/>\n   </g>\n   <g id=\"matplotlib.axis_7\">\n    <g id=\"xtick_10\">\n     <g id=\"line2d_43\">\n      <g>\n       <use xlink:href=\"#md7d558cdb6\" x=\"312.430769\" y=\"383.04\" style=\"fill: #323034; stroke: #323034; stroke-width: 0.8\"/>\n      </g>\n     </g>\n     <g id=\"line2d_44\">\n      <g>\n       <use xlink:href=\"#mcf208edd67\" x=\"312.430769\" y=\"223.116923\" style=\"fill: #323034; stroke: #323034; stroke-width: 0.8\"/>\n      </g>\n     </g>\n     <g id=\"text_16\">\n      <!-- $\\mathdefault{0}$ -->\n      <g style=\"fill: #323034\" transform=\"translate(309.430769 394.735625)scale(0.12 -0.12)\">\n       <use xlink:href=\"#STIXGeneral-Regular-30\" transform=\"translate(0 0.40625)\"/>\n      </g>\n     </g>\n    </g>\n    <g id=\"xtick_11\">\n     <g id=\"line2d_45\">\n      <g>\n       <use xlink:href=\"#md7d558cdb6\" x=\"446.565385\" y=\"383.04\" style=\"fill: #323034; stroke: #323034; stroke-width: 0.8\"/>\n      </g>\n     </g>\n     <g id=\"line2d_46\">\n      <g>\n       <use xlink:href=\"#mcf208edd67\" x=\"446.565385\" y=\"223.116923\" style=\"fill: #323034; stroke: #323034; stroke-width: 0.8\"/>\n      </g>\n     </g>\n     <g id=\"text_17\">\n      <!-- $\\mathdefault{10}$ -->\n      <g style=\"fill: #323034\" transform=\"translate(440.565385 394.735625)scale(0.12 -0.12)\">\n       <use xlink:href=\"#STIXGeneral-Regular-31\" transform=\"translate(0 0.40625)\"/>\n       <use xlink:href=\"#STIXGeneral-Regular-30\" transform=\"translate(49.999985 0.40625)\"/>\n      </g>\n     </g>\n    </g>\n    <g id=\"xtick_12\">\n     <g id=\"line2d_47\">\n      <g>\n       <use xlink:href=\"#md7d558cdb6\" x=\"580.7\" y=\"383.04\" style=\"fill: #323034; stroke: #323034; stroke-width: 0.8\"/>\n      </g>\n     </g>\n     <g id=\"line2d_48\">\n      <g>\n       <use xlink:href=\"#mcf208edd67\" x=\"580.7\" y=\"223.116923\" style=\"fill: #323034; stroke: #323034; stroke-width: 0.8\"/>\n      </g>\n     </g>\n     <g id=\"text_18\">\n      <!-- $\\mathdefault{20}$ -->\n      <g style=\"fill: #323034\" transform=\"translate(574.7 394.735625)scale(0.12 -0.12)\">\n       <use xlink:href=\"#STIXGeneral-Regular-32\" transform=\"translate(0 0.40625)\"/>\n       <use xlink:href=\"#STIXGeneral-Regular-30\" transform=\"translate(49.999985 0.40625)\"/>\n      </g>\n     </g>\n    </g>\n   </g>\n   <g id=\"matplotlib.axis_8\">\n    <g id=\"ytick_10\">\n     <g id=\"line2d_49\">\n      <g>\n       <use xlink:href=\"#m85ed236133\" x=\"312.430769\" y=\"356.386154\" style=\"fill: #323034; stroke: #323034; stroke-width: 0.8\"/>\n      </g>\n     </g>\n     <g id=\"line2d_50\">\n      <g>\n       <use xlink:href=\"#mb2a926308d\" x=\"580.7\" y=\"356.386154\" style=\"fill: #323034; stroke: #323034; stroke-width: 0.8\"/>\n      </g>\n     </g>\n    </g>\n    <g id=\"ytick_11\">\n     <g id=\"line2d_51\">\n      <g>\n       <use xlink:href=\"#m85ed236133\" x=\"312.430769\" y=\"303.078462\" style=\"fill: #323034; stroke: #323034; stroke-width: 0.8\"/>\n      </g>\n     </g>\n     <g id=\"line2d_52\">\n      <g>\n       <use xlink:href=\"#mb2a926308d\" x=\"580.7\" y=\"303.078462\" style=\"fill: #323034; stroke: #323034; stroke-width: 0.8\"/>\n      </g>\n     </g>\n    </g>\n    <g id=\"ytick_12\">\n     <g id=\"line2d_53\">\n      <g>\n       <use xlink:href=\"#m85ed236133\" x=\"312.430769\" y=\"249.770769\" style=\"fill: #323034; stroke: #323034; stroke-width: 0.8\"/>\n      </g>\n     </g>\n     <g id=\"line2d_54\">\n      <g>\n       <use xlink:href=\"#mb2a926308d\" x=\"580.7\" y=\"249.770769\" style=\"fill: #323034; stroke: #323034; stroke-width: 0.8\"/>\n      </g>\n     </g>\n    </g>\n   </g>\n   <g id=\"line2d_55\">\n    <g clip-path=\"url(#pa13c98a319)\">\n     <use xlink:href=\"#mfc14b6b44b\" x=\"419.738462\" y=\"322.002692\" style=\"fill: #bc80bd; stroke: #000000\"/>\n     <use xlink:href=\"#mfc14b6b44b\" x=\"419.738462\" y=\"332.930769\" style=\"fill: #bc80bd; stroke: #000000\"/>\n     <use xlink:href=\"#mfc14b6b44b\" x=\"419.738462\" y=\"306.943269\" style=\"fill: #bc80bd; stroke: #000000\"/>\n     <use xlink:href=\"#mfc14b6b44b\" x=\"419.738462\" y=\"291.883846\" style=\"fill: #bc80bd; stroke: #000000\"/>\n     <use xlink:href=\"#mfc14b6b44b\" x=\"419.738462\" y=\"296.814808\" style=\"fill: #bc80bd; stroke: #000000\"/>\n     <use xlink:href=\"#mfc14b6b44b\" x=\"419.738462\" y=\"315.872308\" style=\"fill: #bc80bd; stroke: #000000\"/>\n     <use xlink:href=\"#mfc14b6b44b\" x=\"419.738462\" y=\"339.7275\" style=\"fill: #bc80bd; stroke: #000000\"/>\n     <use xlink:href=\"#mfc14b6b44b\" x=\"567.286538\" y=\"243.107308\" style=\"fill: #bc80bd; stroke: #000000\"/>\n     <use xlink:href=\"#mfc14b6b44b\" x=\"419.738462\" y=\"335.596154\" style=\"fill: #bc80bd; stroke: #000000\"/>\n     <use xlink:href=\"#mfc14b6b44b\" x=\"419.738462\" y=\"304.277885\" style=\"fill: #bc80bd; stroke: #000000\"/>\n     <use xlink:href=\"#mfc14b6b44b\" x=\"419.738462\" y=\"317.871346\" style=\"fill: #bc80bd; stroke: #000000\"/>\n    </g>\n   </g>\n   <g id=\"line2d_56\">\n    <path d=\"M 312.430769 369.690058 \nL 580.7 236.445058 \n\" clip-path=\"url(#pa13c98a319)\" style=\"fill: none; stroke: #ff0000; stroke-width: 2; stroke-linecap: square\"/>\n   </g>\n   <g id=\"patch_15\">\n    <path d=\"M 312.430769 383.04 \nL 312.430769 223.116923 \n\" style=\"fill: none; stroke: #000000; stroke-width: 0.6; stroke-linejoin: miter; stroke-linecap: square\"/>\n   </g>\n   <g id=\"patch_16\">\n    <path d=\"M 312.430769 383.04 \nL 580.7 383.04 \n\" style=\"fill: none; stroke: #000000; stroke-width: 0.6; stroke-linejoin: miter; stroke-linecap: square\"/>\n   </g>\n   <g id=\"text_19\">\n    <!-- IV -->\n    <g style=\"fill: #323034\" transform=\"translate(339.257692 252.768606)scale(0.2 -0.2)\">\n     <defs>\n      <path id=\"STIXGeneral-Regular-56\" d=\"M 4461 4237 \nL 4461 4115 \nQ 4262 4109 4134 3990 \nQ 4006 3872 3872 3533 \nL 2451 -70 \nL 2355 -70 \nL 794 3411 \nQ 589 3866 467 3987 \nQ 346 4109 102 4115 \nL 102 4237 \nL 1798 4237 \nL 1798 4115 \nL 1619 4102 \nQ 1331 4083 1331 3904 \nQ 1331 3776 1581 3219 \nL 2554 1030 \nL 3494 3392 \nQ 3616 3699 3616 3853 \nQ 3616 3898 3606 3933 \nQ 3597 3968 3584 3993 \nQ 3571 4019 3536 4038 \nQ 3501 4058 3481 4067 \nQ 3462 4077 3411 4086 \nQ 3360 4096 3337 4099 \nQ 3315 4102 3248 4108 \nQ 3181 4115 3155 4115 \nL 3155 4237 \nL 4461 4237 \nz\n\" transform=\"scale(0.015625)\"/>\n     </defs>\n     <use xlink:href=\"#STIXGeneral-Regular-49\"/>\n     <use xlink:href=\"#STIXGeneral-Regular-56\" x=\"33.299988\"/>\n    </g>\n   </g>\n   <g id=\"text_20\">\n    <g id=\"patch_17\">\n     <path d=\"M 536.056538 376.498666 \nL 567.286538 376.498666 \nQ 569.986538 376.498666 569.986538 373.798666 \nL 569.986538 347.039978 \nQ 569.986538 344.339978 567.286538 344.339978 \nL 536.056538 344.339978 \nQ 533.356538 344.339978 533.356538 347.039978 \nL 533.356538 373.798666 \nQ 533.356538 376.498666 536.056538 376.498666 \nz\n\" style=\"fill: #ffebcd; opacity: 0.5; stroke: #ffa500; stroke-width: 0.8; stroke-linejoin: miter\"/>\n    </g>\n    <!-- $\\mu$ = 7.50 -->\n    <g style=\"fill: #323034\" transform=\"translate(536.056538 353.186697)scale(0.09 -0.09)\">\n     <use xlink:href=\"#STIXGeneral-Italic-3bc\" transform=\"translate(0 0.203125)\"/>\n     <use xlink:href=\"#STIXGeneral-Regular-20\" transform=\"translate(52.599991 0.203125)\"/>\n     <use xlink:href=\"#STIXGeneral-Regular-3d\" transform=\"translate(77.599976 0.203125)\"/>\n     <use xlink:href=\"#STIXGeneral-Regular-20\" transform=\"translate(146.09996 0.203125)\"/>\n     <use xlink:href=\"#STIXGeneral-Regular-37\" transform=\"translate(171.099945 0.203125)\"/>\n     <use xlink:href=\"#STIXGeneral-Regular-2e\" transform=\"translate(221.09993 0.203125)\"/>\n     <use xlink:href=\"#STIXGeneral-Regular-35\" transform=\"translate(246.099915 0.203125)\"/>\n     <use xlink:href=\"#STIXGeneral-Regular-30\" transform=\"translate(296.099899 0.203125)\"/>\n    </g>\n    <!-- $\\sigma$ = 1.94 -->\n    <g style=\"fill: #323034\" transform=\"translate(536.326538 362.516041)scale(0.09 -0.09)\">\n     <use xlink:href=\"#STIXGeneral-Italic-3c3\" transform=\"translate(0 0.40625)\"/>\n     <use xlink:href=\"#STIXGeneral-Regular-20\" transform=\"translate(49.799988 0.40625)\"/>\n     <use xlink:href=\"#STIXGeneral-Regular-3d\" transform=\"translate(74.799973 0.40625)\"/>\n     <use xlink:href=\"#STIXGeneral-Regular-20\" transform=\"translate(143.299957 0.40625)\"/>\n     <use xlink:href=\"#STIXGeneral-Regular-31\" transform=\"translate(168.299942 0.40625)\"/>\n     <use xlink:href=\"#STIXGeneral-Regular-2e\" transform=\"translate(218.299927 0.40625)\"/>\n     <use xlink:href=\"#STIXGeneral-Regular-39\" transform=\"translate(243.299911 0.40625)\"/>\n     <use xlink:href=\"#STIXGeneral-Regular-34\" transform=\"translate(293.299896 0.40625)\"/>\n    </g>\n    <!-- $r$ = 0.82 -->\n    <g style=\"fill: #323034\" transform=\"translate(537.316538 371.845385)scale(0.09 -0.09)\">\n     <use xlink:href=\"#STIXGeneral-Italic-72\" transform=\"translate(0 0.40625)\"/>\n     <use xlink:href=\"#STIXGeneral-Regular-20\" transform=\"translate(38.899994 0.40625)\"/>\n     <use xlink:href=\"#STIXGeneral-Regular-3d\" transform=\"translate(63.899979 0.40625)\"/>\n     <use xlink:href=\"#STIXGeneral-Regular-20\" transform=\"translate(132.399963 0.40625)\"/>\n     <use xlink:href=\"#STIXGeneral-Regular-30\" transform=\"translate(157.399948 0.40625)\"/>\n     <use xlink:href=\"#STIXGeneral-Regular-2e\" transform=\"translate(207.399933 0.40625)\"/>\n     <use xlink:href=\"#STIXGeneral-Regular-38\" transform=\"translate(232.399918 0.40625)\"/>\n     <use xlink:href=\"#STIXGeneral-Regular-32\" transform=\"translate(282.399902 0.40625)\"/>\n    </g>\n   </g>\n  </g>\n  <g id=\"text_21\">\n   <!-- Anscombe's Quartet -->\n   <g style=\"fill: #323034\" transform=\"translate(219.842187 19.493437)scale(0.18 -0.18)\">\n    <defs>\n     <path id=\"STIXGeneral-Regular-41\" d=\"M 4525 0 \nL 2893 0 \nL 2893 122 \nQ 3149 122 3245 179 \nQ 3334 224 3334 333 \nQ 3334 499 3213 781 \nL 2950 1382 \nL 1274 1382 \nL 979 653 \nQ 922 506 922 384 \nQ 922 237 1027 179 \nQ 1133 122 1370 122 \nL 1370 0 \nL 96 0 \nL 96 122 \nQ 365 147 486 316 \nQ 608 486 902 1190 \nL 2221 4314 \nL 2349 4314 \nL 3923 710 \nQ 4064 378 4176 262 \nQ 4288 147 4525 122 \nL 4525 0 \nz\nM 2861 1645 \nL 2118 3405 \nL 1382 1645 \nL 2861 1645 \nz\n\" transform=\"scale(0.015625)\"/>\n     <path id=\"STIXGeneral-Regular-6e\" d=\"M 3104 0 \nL 1773 0 \nL 1779 96 \nQ 2016 115 2096 233 \nQ 2176 352 2176 672 \nL 2176 1946 \nQ 2176 2592 1709 2592 \nQ 1549 2592 1408 2515 \nQ 1267 2438 1050 2227 \nL 1050 461 \nQ 1050 269 1136 192 \nQ 1222 115 1466 96 \nL 1466 0 \nL 115 0 \nL 115 96 \nQ 358 115 435 214 \nQ 512 314 512 602 \nL 512 2157 \nQ 512 2394 467 2483 \nQ 422 2573 288 2573 \nQ 160 2573 102 2547 \nL 102 2656 \nQ 550 2784 979 2944 \nL 1030 2925 \nL 1030 2426 \nL 1037 2426 \nQ 1491 2944 1958 2944 \nQ 2323 2944 2518 2688 \nQ 2714 2432 2714 1958 \nL 2714 544 \nQ 2714 288 2790 205 \nQ 2867 122 3104 96 \nL 3104 0 \nz\n\" transform=\"scale(0.015625)\"/>\n     <path id=\"STIXGeneral-Regular-73\" d=\"M 998 1926 \nL 1664 1523 \nQ 1984 1331 2105 1164 \nQ 2227 998 2227 736 \nQ 2227 416 1961 176 \nQ 1696 -64 1331 -64 \nQ 1030 -64 864 -6 \nQ 691 51 570 51 \nQ 461 51 416 -26 \nL 333 -26 \nL 333 979 \nL 435 979 \nQ 538 512 730 294 \nQ 922 77 1248 77 \nQ 1485 77 1632 211 \nQ 1779 346 1779 550 \nQ 1779 845 1440 1030 \nL 1094 1222 \nQ 326 1651 326 2150 \nQ 326 2522 566 2730 \nQ 806 2938 1210 2938 \nQ 1491 2938 1638 2867 \nQ 1754 2816 1818 2816 \nQ 1862 2816 1920 2880 \nL 1990 2880 \nL 2022 2010 \nL 1926 2010 \nQ 1818 2445 1654 2621 \nQ 1491 2797 1203 2797 \nQ 986 2797 854 2688 \nQ 723 2579 723 2362 \nQ 723 2253 796 2128 \nQ 870 2003 998 1926 \nz\n\" transform=\"scale(0.015625)\"/>\n     <path id=\"STIXGeneral-Regular-63\" d=\"M 2547 998 \nL 2637 941 \nQ 2362 403 2112 205 \nQ 1786 -64 1376 -64 \nQ 845 -64 502 336 \nQ 160 736 160 1357 \nQ 160 2170 698 2618 \nQ 1094 2944 1562 2944 \nQ 1965 2944 2256 2749 \nQ 2547 2554 2547 2285 \nQ 2547 2176 2457 2096 \nQ 2368 2016 2246 2016 \nQ 2022 2016 1939 2310 \nL 1901 2451 \nQ 1850 2630 1773 2694 \nQ 1696 2758 1523 2758 \nQ 1133 2758 893 2451 \nQ 653 2144 653 1645 \nQ 653 1094 928 745 \nQ 1203 397 1645 397 \nQ 1920 397 2118 528 \nQ 2317 659 2547 998 \nz\n\" transform=\"scale(0.015625)\"/>\n     <path id=\"STIXGeneral-Regular-6f\" d=\"M 3008 1478 \nQ 3008 806 2608 371 \nQ 2208 -64 1568 -64 \nQ 979 -64 582 368 \nQ 186 800 186 1459 \nQ 186 2125 582 2534 \nQ 979 2944 1626 2944 \nQ 2221 2944 2614 2537 \nQ 3008 2131 3008 1478 \nz\nM 2432 1306 \nQ 2432 2035 2112 2445 \nQ 1856 2765 1504 2765 \nQ 1171 2765 966 2493 \nQ 762 2221 762 1747 \nQ 762 928 1101 435 \nQ 1318 115 1677 115 \nQ 2029 115 2230 432 \nQ 2432 749 2432 1306 \nz\n\" transform=\"scale(0.015625)\"/>\n     <path id=\"STIXGeneral-Regular-6d\" d=\"M 4960 0 \nL 3565 0 \nL 3565 96 \nQ 3834 122 3907 208 \nQ 3981 294 3981 576 \nL 3981 1894 \nQ 3981 2278 3869 2444 \nQ 3757 2611 3488 2611 \nQ 3264 2611 3107 2521 \nQ 2950 2432 2803 2221 \nL 2803 608 \nQ 2803 301 2896 201 \nQ 2989 102 3264 96 \nL 3264 0 \nL 1830 0 \nL 1830 96 \nQ 2112 115 2189 188 \nQ 2266 262 2266 550 \nL 2266 1901 \nQ 2266 2611 1850 2611 \nQ 1670 2611 1468 2531 \nQ 1267 2451 1171 2336 \nQ 1088 2240 1088 2227 \nL 1088 448 \nQ 1088 243 1177 176 \nQ 1267 109 1523 96 \nL 1523 0 \nL 102 0 \nL 102 96 \nQ 371 102 460 195 \nQ 550 288 550 563 \nL 550 2150 \nQ 550 2387 499 2480 \nQ 448 2573 326 2573 \nQ 230 2573 122 2547 \nL 122 2656 \nQ 557 2778 1011 2944 \nL 1062 2925 \nL 1062 2451 \nL 1075 2451 \nQ 1363 2752 1584 2848 \nQ 1805 2944 2054 2944 \nQ 2560 2944 2733 2406 \nQ 3232 2944 3776 2944 \nQ 4518 2944 4518 1792 \nL 4518 493 \nQ 4518 282 4582 202 \nQ 4646 122 4794 109 \nL 4960 96 \nL 4960 0 \nz\n\" transform=\"scale(0.015625)\"/>\n     <path id=\"STIXGeneral-Regular-62\" d=\"M 979 4358 \nL 979 2406 \nQ 1082 2650 1315 2797 \nQ 1549 2944 1843 2944 \nQ 2349 2944 2672 2541 \nQ 2995 2138 2995 1536 \nQ 2995 832 2566 384 \nQ 2138 -64 1498 -64 \nQ 1107 -64 774 67 \nQ 442 198 442 358 \nL 442 3622 \nQ 442 3859 384 3926 \nQ 326 3994 128 3994 \nQ 83 3994 19 3981 \nL 19 4090 \nL 211 4147 \nQ 864 4346 947 4371 \nL 979 4358 \nz\nM 979 2035 \nL 979 474 \nQ 979 326 1161 233 \nQ 1344 141 1600 141 \nQ 1978 141 2195 416 \nQ 2432 710 2432 1261 \nQ 2432 1888 2182 2240 \nQ 1971 2541 1613 2541 \nQ 1357 2541 1168 2390 \nQ 979 2240 979 2035 \nz\n\" transform=\"scale(0.015625)\"/>\n     <path id=\"STIXGeneral-Regular-65\" d=\"M 2611 1050 \nL 2714 1005 \nQ 2330 -64 1376 -64 \nQ 813 -64 486 329 \nQ 160 723 160 1389 \nQ 160 2074 525 2509 \nQ 890 2944 1485 2944 \nQ 2061 2944 2374 2502 \nQ 2560 2246 2592 1773 \nL 621 1773 \nQ 646 1370 700 1158 \nQ 755 947 915 730 \nQ 1184 378 1626 378 \nQ 1939 378 2153 531 \nQ 2368 685 2611 1050 \nz\nM 634 1978 \nL 1939 1978 \nQ 1882 2381 1750 2547 \nQ 1619 2714 1312 2714 \nQ 1043 2714 864 2525 \nQ 685 2336 634 1978 \nz\n\" transform=\"scale(0.015625)\"/>\n     <path id=\"STIXGeneral-Regular-27\" d=\"M 646 2758 \nL 512 2758 \nQ 307 3872 307 4058 \nQ 307 4173 387 4249 \nQ 467 4326 582 4326 \nQ 710 4326 780 4256 \nQ 851 4186 851 4070 \nQ 851 3782 646 2758 \nz\n\" transform=\"scale(0.015625)\"/>\n     <path id=\"STIXGeneral-Regular-51\" d=\"M 4486 -1133 \nL 4179 -1133 \nQ 2586 -1133 1958 -339 \nL 1696 -6 \nQ 1312 128 1097 265 \nQ 883 403 704 640 \nQ 218 1286 218 2125 \nQ 218 3123 806 3724 \nQ 1395 4326 2310 4326 \nQ 3232 4326 3817 3721 \nQ 4403 3117 4403 2131 \nQ 4403 1568 4236 1158 \nQ 4070 749 3712 410 \nQ 3514 211 3293 115 \nQ 3072 19 2726 -45 \nQ 3066 -531 3491 -758 \nQ 3917 -986 4486 -1018 \nL 4486 -1133 \nz\nM 3674 2163 \nQ 3674 2714 3520 3146 \nQ 3366 3578 3091 3808 \nQ 2746 4096 2291 4096 \nQ 1741 4096 1370 3642 \nQ 1178 3418 1062 3008 \nQ 947 2598 947 2144 \nQ 947 1158 1318 640 \nQ 1472 416 1750 278 \nQ 2029 141 2310 141 \nQ 2867 141 3264 602 \nQ 3456 819 3565 1248 \nQ 3674 1677 3674 2163 \nz\n\" transform=\"scale(0.015625)\"/>\n     <path id=\"STIXGeneral-Regular-75\" d=\"M 3072 320 \nL 3072 230 \nQ 2573 96 2195 -58 \nL 2163 -38 \nL 2163 486 \nL 2150 486 \nQ 1747 -64 1235 -64 \nQ 870 -64 662 160 \nQ 454 384 454 755 \nL 454 2362 \nQ 454 2598 371 2688 \nQ 288 2778 58 2790 \nL 58 2880 \nL 992 2880 \nL 992 813 \nQ 992 595 1123 451 \nQ 1254 307 1446 307 \nQ 1760 307 1984 506 \nQ 2067 582 2099 649 \nQ 2131 717 2131 877 \nL 2131 2355 \nQ 2131 2605 2041 2678 \nQ 1952 2752 1658 2771 \nL 1658 2880 \nL 2669 2880 \nL 2669 685 \nQ 2669 461 2742 390 \nQ 2816 320 3034 320 \nL 3072 320 \nz\n\" transform=\"scale(0.015625)\"/>\n     <path id=\"STIXGeneral-Regular-61\" d=\"M 2829 422 \nL 2829 243 \nQ 2586 -64 2253 -64 \nQ 1888 -64 1843 403 \nL 1837 403 \nQ 1427 -64 909 -64 \nQ 608 -64 422 112 \nQ 237 288 237 602 \nQ 237 1050 685 1350 \nQ 992 1555 1837 1869 \nL 1837 2214 \nQ 1837 2502 1699 2646 \nQ 1562 2790 1338 2790 \nQ 1146 2790 1018 2697 \nQ 890 2605 890 2477 \nQ 890 2419 909 2348 \nQ 928 2278 928 2208 \nQ 928 2112 841 2029 \nQ 755 1946 634 1946 \nQ 525 1946 441 2029 \nQ 358 2112 358 2240 \nQ 358 2547 685 2752 \nQ 986 2944 1421 2944 \nQ 1939 2944 2176 2656 \nQ 2291 2522 2323 2384 \nQ 2355 2246 2355 1946 \nL 2355 723 \nQ 2355 301 2554 301 \nQ 2682 301 2829 422 \nz\nM 1837 813 \nL 1837 1715 \nQ 1248 1510 1018 1293 \nQ 800 1094 800 800 \nQ 800 557 921 432 \nQ 1043 307 1242 307 \nQ 1453 307 1613 410 \nQ 1747 506 1792 589 \nQ 1837 672 1837 813 \nz\n\" transform=\"scale(0.015625)\"/>\n     <path id=\"STIXGeneral-Regular-72\" d=\"M 1024 2931 \nL 1024 2342 \nQ 1267 2688 1430 2816 \nQ 1594 2944 1792 2944 \nQ 1958 2944 2051 2854 \nQ 2144 2765 2144 2605 \nQ 2144 2470 2077 2393 \nQ 2010 2317 1894 2317 \nQ 1773 2317 1638 2445 \nQ 1536 2541 1472 2541 \nQ 1338 2541 1181 2355 \nQ 1024 2170 1024 2016 \nL 1024 576 \nQ 1024 301 1133 205 \nQ 1242 109 1568 96 \nL 1568 0 \nL 32 0 \nL 32 96 \nQ 339 154 412 224 \nQ 486 294 486 538 \nL 486 2138 \nQ 486 2349 438 2435 \nQ 390 2522 269 2522 \nQ 166 2522 45 2496 \nL 45 2598 \nQ 448 2726 992 2944 \nL 1024 2931 \nz\n\" transform=\"scale(0.015625)\"/>\n     <path id=\"STIXGeneral-Regular-74\" d=\"M 1702 493 \nL 1786 422 \nQ 1478 -64 1011 -64 \nQ 448 -64 448 749 \nL 448 2675 \nL 109 2675 \nQ 83 2694 83 2720 \nQ 83 2771 192 2842 \nQ 435 2982 813 3526 \nQ 826 3546 874 3606 \nQ 922 3667 941 3706 \nQ 986 3706 986 3622 \nL 986 2880 \nL 1632 2880 \nL 1632 2675 \nL 986 2675 \nL 986 845 \nQ 986 538 1062 403 \nQ 1139 269 1318 269 \nQ 1510 269 1702 493 \nz\n\" transform=\"scale(0.015625)\"/>\n    </defs>\n    <use xlink:href=\"#STIXGeneral-Regular-41\"/>\n    <use xlink:href=\"#STIXGeneral-Regular-6e\" x=\"72.199982\"/>\n    <use xlink:href=\"#STIXGeneral-Regular-73\" x=\"122.199966\"/>\n    <use xlink:href=\"#STIXGeneral-Regular-63\" x=\"161.09996\"/>\n    <use xlink:href=\"#STIXGeneral-Regular-6f\" x=\"205.499954\"/>\n    <use xlink:href=\"#STIXGeneral-Regular-6d\" x=\"255.499939\"/>\n    <use xlink:href=\"#STIXGeneral-Regular-62\" x=\"333.299927\"/>\n    <use xlink:href=\"#STIXGeneral-Regular-65\" x=\"383.299911\"/>\n    <use xlink:href=\"#STIXGeneral-Regular-27\" x=\"427.699905\"/>\n    <use xlink:href=\"#STIXGeneral-Regular-73\" x=\"445.69989\"/>\n    <use xlink:href=\"#STIXGeneral-Regular-20\" x=\"484.599884\"/>\n    <use xlink:href=\"#STIXGeneral-Regular-51\" x=\"509.599869\"/>\n    <use xlink:href=\"#STIXGeneral-Regular-75\" x=\"581.79985\"/>\n    <use xlink:href=\"#STIXGeneral-Regular-61\" x=\"631.799835\"/>\n    <use xlink:href=\"#STIXGeneral-Regular-72\" x=\"676.199829\"/>\n    <use xlink:href=\"#STIXGeneral-Regular-74\" x=\"709.499817\"/>\n    <use xlink:href=\"#STIXGeneral-Regular-65\" x=\"737.299805\"/>\n    <use xlink:href=\"#STIXGeneral-Regular-74\" x=\"781.699799\"/>\n   </g>\n  </g>\n </g>\n <defs>\n  <clipPath id=\"p03782bae15\">\n   <rect x=\"22.7\" y=\"50.4\" width=\"268.269231\" height=\"159.923077\"/>\n  </clipPath>\n  <clipPath id=\"p714582fce2\">\n   <rect x=\"312.430769\" y=\"50.4\" width=\"268.269231\" height=\"159.923077\"/>\n  </clipPath>\n  <clipPath id=\"pa250e0af4e\">\n   <rect x=\"22.7\" y=\"223.116923\" width=\"268.269231\" height=\"159.923077\"/>\n  </clipPath>\n  <clipPath id=\"pa13c98a319\">\n   <rect x=\"312.430769\" y=\"223.116923\" width=\"268.269231\" height=\"159.923077\"/>\n  </clipPath>\n </defs>\n</svg>\n",
      "text/plain": [
       "<Figure size 1500x900 with 4 Axes>"
      ]
     },
     "metadata": {},
     "output_type": "display_data"
    }
   ],
   "source": [
    "x = [10, 8, 13, 9, 11, 14, 6, 4, 12, 7, 5]\n",
    "y1 = [8.04, 6.95, 7.58, 8.81, 8.33, 9.96, 7.24, 4.26, 10.84, 4.82, 5.68]\n",
    "y2 = [9.14, 8.14, 8.74, 8.77, 9.26, 8.10, 6.13, 3.10, 9.13, 7.26, 4.74]\n",
    "y3 = [7.46, 6.77, 12.74, 7.11, 7.81, 8.84, 6.08, 5.39, 8.15, 6.42, 5.73]\n",
    "x4 = [8, 8, 8, 8, 8, 8, 8, 19, 8, 8, 8]\n",
    "y4 = [6.58, 5.76, 7.71, 8.84, 8.47, 7.04, 5.25, 12.50, 5.56, 7.91, 6.89]\n",
    "\n",
    "datasets = {\"I\": (x, y1), \"II\": (x, y2), \"III\": (x, y3), \"IV\": (x4, y4)}\n",
    "\n",
    "fig, axs = plt.subplots(\n",
    "    2,\n",
    "    2,\n",
    "    sharex=True,\n",
    "    sharey=True,\n",
    "    figsize=(10, 6),\n",
    "    gridspec_kw={\"wspace\": 0.08, \"hspace\": 0.08},\n",
    ")\n",
    "axs[0, 0].set(xlim=(0, 20), ylim=(2, 14))\n",
    "axs[0, 0].set(xticks=(0, 10, 20), yticks=(4, 8, 12))\n",
    "\n",
    "for ax, (label, (x, y)) in zip(axs.flat, datasets.items()):\n",
    "    ax.text(0.1, 0.9, label, fontsize=20, transform=ax.transAxes, va=\"top\")\n",
    "    ax.tick_params(direction=\"in\", top=True, right=True)\n",
    "    ax.plot(x, y, \"o\")\n",
    "\n",
    "    # linear regression\n",
    "    p1, p0 = np.polyfit(x, y, deg=1)  # slope, intercept\n",
    "    ax.axline(xy1=(0, p0), slope=p1, color=\"r\", lw=2)\n",
    "\n",
    "    # add text box for the statistics\n",
    "    stats = (\n",
    "        f\"$\\\\mu$ = {np.mean(y):.2f}\\n\"\n",
    "        f\"$\\\\sigma$ = {np.std(y):.2f}\\n\"\n",
    "        f\"$r$ = {np.corrcoef(x, y)[0][1]:.2f}\"\n",
    "    )\n",
    "    bbox = dict(boxstyle=\"round\", fc=\"blanchedalmond\", ec=\"orange\", alpha=0.5)\n",
    "    ax.text(\n",
    "        0.95,\n",
    "        0.07,\n",
    "        stats,\n",
    "        fontsize=9,\n",
    "        bbox=bbox,\n",
    "        transform=ax.transAxes,\n",
    "        horizontalalignment=\"right\",\n",
    "    )\n",
    "\n",
    "plt.suptitle(\"Anscombe's Quartet\")\n",
    "plt.show()"
   ]
  },
  {
   "cell_type": "markdown",
   "metadata": {},
   "source": [
    "Exploratory visualisation is usually quick and dirty, and flexible too. Some exploratory data viz can be automated, and some of the packages we saw in the chapter on {ref}`data-exploratory-analysis` can do this. For an EDA package that's explicitly built with visalisation in mind, check out [SweetViz](https://github.com/fbdesignpro/sweetviz). Beyond you and perhaps your co-authors/collaborators, not many other people should be seeing your exploratory visualisation.\n",
    "\n",
    "### Scientific Visualisation\n",
    "\n",
    "The second kind, scientific visualisation, is the prime cut of your exploratory visualisation. It's the kind of plot you might include in a more technical paper, the picture that says a thousand words. I often think of the first image of a black hole {cite:t}`akiyama2019first` as a prime example of this. You can get away with having a high density of information in a scientific plot and, in short format journals, you may need to. The journal *Physical Review Letters*, which has an 8 page limit, has a classic of this genre in more or less every issue. Ensuring that important values can be accurately read from the plot is especially important in these kinds of charts. But they can also be the kind of plot that presents the killer results in a study; they might not be exciting to people who don't look at charts for a living, but they might be exciting and, just as importantly, understandable by your peers.\n",
    "\n",
    "### Narrative Visualisation\n",
    "\n",
    "The third and final kind is narrative visualisation. This is the one that requires the most thought in the step where you go from the first view to the end product. It's a visualisation that doesn't just show a picture, but gives an insight. These are the kind of visualisations that you might see in the *Financial Times*, *The Economist*, or on the BBC News website. They come with aids that help the viewer focus on the aspects that the creator wanted them to (you can think of these aids or focuses as doing for visualisation what bold font does for text). They're well worth using in your work, especially if you're trying to communicate a particular narrative, and especially if the people you're communicating with don't have deep knowledge of the topic. You might use them in a paper that you hope will have a wide readership, in a blog post summarising your work, or in a report intended for a policymaker.\n",
    "\n",
    "You can find more information on the topic in the {ref}`vis-narrative` chapter."
   ]
  },
  {
   "cell_type": "markdown",
   "metadata": {},
   "source": [
    "## Quick guide to data visualisation\n",
    "\n",
    "Addressing data visualisation, a huge topic in itself, is definitely out of scope for this book! But it's worth discussing a few general pointers at the outset that will serve you very well if you follow them.\n",
    "\n",
    "A picture may tell a 1000 words, but you've got to be a bit careful about what those words are. The first question you should ask yourself when it comes to data visualisation is 'what does this plot tell the viewer?', ie what do you want people to take away from your chart. That nugget of information should be as apparent as possible from the plot. Then you want to ensure that people *do* take away what you meant them to; the viewer should be left in little doubt about what you are saying.\n",
    "\n",
    "Another factor to bear in mind is that papers typically don't have more than, say, ten plots in them--and frequently fewer than that. So each one must count and advance the narrative of your work somehow. (Easier to say, hard to do in practice.) As an example, if you have data that are normally distributed, and you want to show this, it's probably not worth showing it on a plot. But if you had two distributions whose differences were important for the overall story you were telling, that might be something to highlight.\n",
    "\n",
    "Then there are more practical matters: is this plot better done as a scatter plot or a line? Should I stack my bar chart or split out the contributions? Those questions address the *type* of plot you're creating. For example, if you have observations that are independent from one another, with no auto-correlation along the x-axis, a scatter plot is more appropriate than a line chart. However, for time series, which tend to exhibit a high degree of auto-correlation, a line chart could be just the thing. As well as the overall type, for example scatter plot, you can think about adding more information through the use of colours, shapes, sizes, and so on. But my advice is always to be sparing with extra dimensions of information as it very quickly becomes difficult to read. In most cases, an x-axis, a y-axis, and, usually, one other dimension (eg colour) will be the best option.\n",
    "\n",
    "Once you've decided on the *type* of chart, you can then think about smaller details. Unfortunately, lack of labels is endemic in economics (\"percent of what!?\", I cry at least three times a day). Always make what you're plotting clear and, if it has units, express them (eg \"Salary (2015 USD)\"). Think carefully about the tick labels to use too; you'll want something quite different for linear versus log plots. Titles can be helpful too, if the axes labels and the chart by themselves don't tell the whole story. \n",
    "\n",
    "Then, if there are very specific features you'd like to draw attention to, you can achieve this with text labels (as used liberally in the data visualisations you'll see in newspapers like the *Financial Times*), greying out all but the most interesting data point, etc.; anything that singles out one part of the chart as the interesting one. A common trick is to plot the less important features with greater transparency and the important line/point/bar with solid colour. These all have the effect of drawing the eye straight to where it should spend the most time.\n",
    "\n",
    "This is just the briefest of brief overviews of what you should bear in mind for good visualisation; I highly recommend the short and delightful [Fundamentals of Data visualisation](https://clauswilke.com/dataviz/) if you'd like to know more.\n",
    "\n",
    "In terms of further resources to help you choose the right plot for the occassion, you can't go too far wrong than the [*Financial Times* Visual Vocabulary of charts](https://github.com/ft-interactive/chart-doctor/tree/master/visual-vocabulary). And, please, please use [vector graphics](https://clauswilke.com/dataviz/image-file-formats.html) whenever you can!"
   ]
  },
  {
   "cell_type": "markdown",
   "metadata": {},
   "source": [
    "### Colour\n",
    "\n",
    "This section has benefitted from this [blog piece](https://blog.datawrapper.de/which-color-scale-to-use-in-data-vis/) on visualisation and colour, and you can find more information there.\n",
    "\n",
    "Colours often make a chart come alive, but, when encoding differences with colour, think carefully about what would serve your audience and message best. It's best not to use colour randomly, but to choose colours that either add information to the chart or get out of the way of the message. Often, you'll want to draw your colours from a 'colour palette', a collection of different colours that work together to create a particular effect. The best colour palettes take into account that colour blindness is a problem for many people, and they remain informative even when converted to greyscale.\n",
    "\n",
    "One of the most popular Python visualisation libraries, **matplotlib**, comes with a wide range of colour palettes available [here](https://matplotlib.org/3.1.0/tutorials/colors/colormaps.html) and you can find another good package for colour palettes [here](https://colorcet.holoviz.org/).\n",
    "\n",
    "#### Categorical Data\n",
    "\n",
    "For (unordered) categorical data, visually distinct colour palettes (also known as qualitative palettes) are better. The basic rule is that you should use distinct hues when your values don’t have an inherent order or range. Note that this does not include Likert scales (“strongly agree, agree, neutral, disagree, strongly disagree”), because even though there are distinct categories, there is an order to the possible responses.\n",
    "\n",
    "Here are some examples of the qualitative hues available in the visualisation package **matplotlib**."
   ]
  },
  {
   "cell_type": "code",
   "execution_count": 6,
   "metadata": {
    "tags": [
     "remove-input"
    ]
   },
   "outputs": [
    {
     "data": {
      "image/svg+xml": "<?xml version=\"1.0\" encoding=\"utf-8\" standalone=\"no\"?>\n<!DOCTYPE svg PUBLIC \"-//W3C//DTD SVG 1.1//EN\"\n  \"http://www.w3.org/Graphics/SVG/1.1/DTD/svg11.dtd\">\n<svg xmlns:xlink=\"http://www.w3.org/1999/xlink\" width=\"410.973882pt\" height=\"237.465563pt\" viewBox=\"0 0 410.973882 237.465563\" xmlns=\"http://www.w3.org/2000/svg\" version=\"1.1\">\n <metadata>\n  <rdf:RDF xmlns:dc=\"http://purl.org/dc/elements/1.1/\" xmlns:cc=\"http://creativecommons.org/ns#\" xmlns:rdf=\"http://www.w3.org/1999/02/22-rdf-syntax-ns#\">\n   <cc:Work>\n    <dc:type rdf:resource=\"http://purl.org/dc/dcmitype/StillImage\"/>\n    <dc:date>2022-10-25T08:06:00.476396</dc:date>\n    <dc:format>image/svg+xml</dc:format>\n    <dc:creator>\n     <cc:Agent>\n      <dc:title>Matplotlib v3.5.3, https://matplotlib.org/</dc:title>\n     </cc:Agent>\n    </dc:creator>\n   </cc:Work>\n  </rdf:RDF>\n </metadata>\n <defs>\n  <style type=\"text/css\">*{stroke-linejoin: round; stroke-linecap: butt}</style>\n </defs>\n <g id=\"figure_1\">\n  <g id=\"patch_1\">\n   <path d=\"M 0 237.465563 \nL 410.973882 237.465563 \nL 410.973882 0 \nL 0 0 \nz\n\" style=\"fill: #ffffff\"/>\n  </g>\n  <g id=\"axes_1\">\n   <g clip-path=\"url(#p1db768f6bf)\">\n    <image xlink:href=\"data:image/png;base64,\niVBORw0KGgoAAAANSUhEUgAAAvcAAAAfCAYAAABj9+J9AAAA/0lEQVR4nO3WoW0CABQAUUBUIqrAlCosqmujEGi2wBEEvgJVUZYg+cnlvQlO3vLvdPxf8Hbn7c90Qsb26z6dkPJ5200n5HyvL9MJGcv9fjoh53H9nU5I2awO0wkZz83HdELSajoAAAB4D3MPAAAR5h4AACLMPQAARJh7AACIMPcAABBh7gEAIMLcAwBAhLkHAIAIcw8AABHmHgAAIsw9AABEmHsAAIgw9wAAEGHuAQAgwtwDAECEuQcAgAhzDwAAEeYeAAAizD0AAESYewAAiDD3AAAQYe4BACDC3AMAQIS5BwCACHMPAAAR5h4AACLMPQAARJh7AACIMPcAABDxAqQcDBPPJyzbAAAAAElFTkSuQmCC\" id=\"imaged550dceb3d\" transform=\"scale(1 -1)translate(0 -14.88)\" x=\"39.741883\" y=\"-22.49452\" width=\"364.32\" height=\"14.88\"/>\n   </g>\n   <g id=\"text_1\">\n    <!-- Pastel1 -->\n    <g style=\"fill: #323034\" transform=\"translate(7.2 32.397729)scale(0.1 -0.1)\">\n     <defs>\n      <path id=\"STIXGeneral-Regular-50\" d=\"M 102 4237 \nL 1760 4237 \nQ 2669 4237 3149 3834 \nQ 3469 3565 3469 3072 \nQ 3469 2560 3104 2234 \nQ 2835 1990 2553 1916 \nQ 2272 1843 1734 1843 \nQ 1549 1843 1293 1862 \nL 1293 717 \nQ 1293 352 1398 246 \nQ 1504 141 1894 122 \nL 1894 0 \nL 102 0 \nL 102 122 \nQ 474 147 557 256 \nQ 640 365 640 781 \nL 640 3526 \nQ 640 3885 547 3987 \nQ 454 4090 102 4115 \nL 102 4237 \nz\nM 1293 3770 \nL 1293 2118 \nQ 1510 2099 1683 2099 \nQ 2202 2099 2486 2352 \nQ 2771 2605 2771 3040 \nQ 2771 3558 2476 3779 \nQ 2182 4000 1517 4000 \nQ 1382 4000 1337 3952 \nQ 1293 3904 1293 3770 \nz\n\" transform=\"scale(0.015625)\"/>\n      <path id=\"STIXGeneral-Regular-61\" d=\"M 2829 422 \nL 2829 243 \nQ 2586 -64 2253 -64 \nQ 1888 -64 1843 403 \nL 1837 403 \nQ 1427 -64 909 -64 \nQ 608 -64 422 112 \nQ 237 288 237 602 \nQ 237 1050 685 1350 \nQ 992 1555 1837 1869 \nL 1837 2214 \nQ 1837 2502 1699 2646 \nQ 1562 2790 1338 2790 \nQ 1146 2790 1018 2697 \nQ 890 2605 890 2477 \nQ 890 2419 909 2348 \nQ 928 2278 928 2208 \nQ 928 2112 841 2029 \nQ 755 1946 634 1946 \nQ 525 1946 441 2029 \nQ 358 2112 358 2240 \nQ 358 2547 685 2752 \nQ 986 2944 1421 2944 \nQ 1939 2944 2176 2656 \nQ 2291 2522 2323 2384 \nQ 2355 2246 2355 1946 \nL 2355 723 \nQ 2355 301 2554 301 \nQ 2682 301 2829 422 \nz\nM 1837 813 \nL 1837 1715 \nQ 1248 1510 1018 1293 \nQ 800 1094 800 800 \nQ 800 557 921 432 \nQ 1043 307 1242 307 \nQ 1453 307 1613 410 \nQ 1747 506 1792 589 \nQ 1837 672 1837 813 \nz\n\" transform=\"scale(0.015625)\"/>\n      <path id=\"STIXGeneral-Regular-73\" d=\"M 998 1926 \nL 1664 1523 \nQ 1984 1331 2105 1164 \nQ 2227 998 2227 736 \nQ 2227 416 1961 176 \nQ 1696 -64 1331 -64 \nQ 1030 -64 864 -6 \nQ 691 51 570 51 \nQ 461 51 416 -26 \nL 333 -26 \nL 333 979 \nL 435 979 \nQ 538 512 730 294 \nQ 922 77 1248 77 \nQ 1485 77 1632 211 \nQ 1779 346 1779 550 \nQ 1779 845 1440 1030 \nL 1094 1222 \nQ 326 1651 326 2150 \nQ 326 2522 566 2730 \nQ 806 2938 1210 2938 \nQ 1491 2938 1638 2867 \nQ 1754 2816 1818 2816 \nQ 1862 2816 1920 2880 \nL 1990 2880 \nL 2022 2010 \nL 1926 2010 \nQ 1818 2445 1654 2621 \nQ 1491 2797 1203 2797 \nQ 986 2797 854 2688 \nQ 723 2579 723 2362 \nQ 723 2253 796 2128 \nQ 870 2003 998 1926 \nz\n\" transform=\"scale(0.015625)\"/>\n      <path id=\"STIXGeneral-Regular-74\" d=\"M 1702 493 \nL 1786 422 \nQ 1478 -64 1011 -64 \nQ 448 -64 448 749 \nL 448 2675 \nL 109 2675 \nQ 83 2694 83 2720 \nQ 83 2771 192 2842 \nQ 435 2982 813 3526 \nQ 826 3546 874 3606 \nQ 922 3667 941 3706 \nQ 986 3706 986 3622 \nL 986 2880 \nL 1632 2880 \nL 1632 2675 \nL 986 2675 \nL 986 845 \nQ 986 538 1062 403 \nQ 1139 269 1318 269 \nQ 1510 269 1702 493 \nz\n\" transform=\"scale(0.015625)\"/>\n      <path id=\"STIXGeneral-Regular-65\" d=\"M 2611 1050 \nL 2714 1005 \nQ 2330 -64 1376 -64 \nQ 813 -64 486 329 \nQ 160 723 160 1389 \nQ 160 2074 525 2509 \nQ 890 2944 1485 2944 \nQ 2061 2944 2374 2502 \nQ 2560 2246 2592 1773 \nL 621 1773 \nQ 646 1370 700 1158 \nQ 755 947 915 730 \nQ 1184 378 1626 378 \nQ 1939 378 2153 531 \nQ 2368 685 2611 1050 \nz\nM 634 1978 \nL 1939 1978 \nQ 1882 2381 1750 2547 \nQ 1619 2714 1312 2714 \nQ 1043 2714 864 2525 \nQ 685 2336 634 1978 \nz\n\" transform=\"scale(0.015625)\"/>\n      <path id=\"STIXGeneral-Regular-6c\" d=\"M 1645 0 \nL 134 0 \nL 134 96 \nQ 435 122 531 221 \nQ 627 320 627 589 \nL 627 3590 \nQ 627 3821 569 3910 \nQ 512 4000 358 4000 \nQ 224 4000 122 3987 \nL 122 4090 \nQ 730 4237 1133 4371 \nL 1165 4346 \nL 1165 557 \nQ 1165 288 1254 201 \nQ 1344 115 1645 96 \nL 1645 0 \nz\n\" transform=\"scale(0.015625)\"/>\n      <path id=\"STIXGeneral-Regular-31\" d=\"M 2522 0 \nL 755 0 \nL 755 96 \nQ 1107 115 1235 227 \nQ 1363 339 1363 608 \nL 1363 3482 \nQ 1363 3795 1171 3795 \nQ 1082 3795 883 3718 \nL 710 3654 \nL 710 3744 \nL 1856 4326 \nL 1914 4307 \nL 1914 486 \nQ 1914 275 2042 185 \nQ 2170 96 2522 96 \nL 2522 0 \nz\n\" transform=\"scale(0.015625)\"/>\n     </defs>\n     <use xlink:href=\"#STIXGeneral-Regular-50\"/>\n     <use xlink:href=\"#STIXGeneral-Regular-61\" x=\"55.699997\"/>\n     <use xlink:href=\"#STIXGeneral-Regular-73\" x=\"100.099991\"/>\n     <use xlink:href=\"#STIXGeneral-Regular-74\" x=\"138.999985\"/>\n     <use xlink:href=\"#STIXGeneral-Regular-65\" x=\"166.799973\"/>\n     <use xlink:href=\"#STIXGeneral-Regular-6c\" x=\"211.199966\"/>\n     <use xlink:href=\"#STIXGeneral-Regular-31\" x=\"238.999954\"/>\n    </g>\n   </g>\n   <g id=\"text_2\">\n    <!-- Qualitative colormaps -->\n    <g style=\"fill: #323034\" transform=\"translate(39.741883 16.761562)scale(0.14 -0.14)\">\n     <defs>\n      <path id=\"STIXGeneral-Regular-51\" d=\"M 4486 -1133 \nL 4179 -1133 \nQ 2586 -1133 1958 -339 \nL 1696 -6 \nQ 1312 128 1097 265 \nQ 883 403 704 640 \nQ 218 1286 218 2125 \nQ 218 3123 806 3724 \nQ 1395 4326 2310 4326 \nQ 3232 4326 3817 3721 \nQ 4403 3117 4403 2131 \nQ 4403 1568 4236 1158 \nQ 4070 749 3712 410 \nQ 3514 211 3293 115 \nQ 3072 19 2726 -45 \nQ 3066 -531 3491 -758 \nQ 3917 -986 4486 -1018 \nL 4486 -1133 \nz\nM 3674 2163 \nQ 3674 2714 3520 3146 \nQ 3366 3578 3091 3808 \nQ 2746 4096 2291 4096 \nQ 1741 4096 1370 3642 \nQ 1178 3418 1062 3008 \nQ 947 2598 947 2144 \nQ 947 1158 1318 640 \nQ 1472 416 1750 278 \nQ 2029 141 2310 141 \nQ 2867 141 3264 602 \nQ 3456 819 3565 1248 \nQ 3674 1677 3674 2163 \nz\n\" transform=\"scale(0.015625)\"/>\n      <path id=\"STIXGeneral-Regular-75\" d=\"M 3072 320 \nL 3072 230 \nQ 2573 96 2195 -58 \nL 2163 -38 \nL 2163 486 \nL 2150 486 \nQ 1747 -64 1235 -64 \nQ 870 -64 662 160 \nQ 454 384 454 755 \nL 454 2362 \nQ 454 2598 371 2688 \nQ 288 2778 58 2790 \nL 58 2880 \nL 992 2880 \nL 992 813 \nQ 992 595 1123 451 \nQ 1254 307 1446 307 \nQ 1760 307 1984 506 \nQ 2067 582 2099 649 \nQ 2131 717 2131 877 \nL 2131 2355 \nQ 2131 2605 2041 2678 \nQ 1952 2752 1658 2771 \nL 1658 2880 \nL 2669 2880 \nL 2669 685 \nQ 2669 461 2742 390 \nQ 2816 320 3034 320 \nL 3072 320 \nz\n\" transform=\"scale(0.015625)\"/>\n      <path id=\"STIXGeneral-Regular-69\" d=\"M 1152 4045 \nQ 1152 3904 1056 3811 \nQ 960 3718 819 3718 \nQ 685 3718 592 3811 \nQ 499 3904 499 4045 \nQ 499 4179 595 4275 \nQ 691 4371 826 4371 \nQ 966 4371 1059 4275 \nQ 1152 4179 1152 4045 \nz\nM 1619 0 \nL 102 0 \nL 102 96 \nQ 435 115 521 211 \nQ 608 307 608 666 \nL 608 2118 \nQ 608 2342 563 2432 \nQ 518 2522 397 2522 \nQ 243 2522 128 2490 \nL 128 2592 \nL 1120 2944 \nL 1146 2918 \nL 1146 672 \nQ 1146 314 1226 218 \nQ 1306 122 1619 96 \nL 1619 0 \nz\n\" transform=\"scale(0.015625)\"/>\n      <path id=\"STIXGeneral-Regular-76\" d=\"M 3053 2880 \nL 3053 2784 \nQ 2906 2771 2835 2688 \nQ 2765 2605 2637 2285 \nL 1818 230 \nQ 1690 -90 1638 -90 \nQ 1587 -90 1523 77 \nQ 1510 96 1497 141 \nQ 1485 186 1472 211 \nL 704 2048 \nQ 499 2534 403 2652 \nQ 307 2771 122 2784 \nL 122 2880 \nL 1376 2880 \nL 1376 2784 \nQ 1210 2771 1146 2732 \nQ 1082 2694 1082 2611 \nQ 1082 2509 1139 2368 \nL 1792 730 \nL 2426 2387 \nQ 2464 2483 2464 2579 \nQ 2464 2758 2163 2784 \nL 2163 2880 \nL 3053 2880 \nz\n\" transform=\"scale(0.015625)\"/>\n      <path id=\"STIXGeneral-Regular-20\" transform=\"scale(0.015625)\"/>\n      <path id=\"STIXGeneral-Regular-63\" d=\"M 2547 998 \nL 2637 941 \nQ 2362 403 2112 205 \nQ 1786 -64 1376 -64 \nQ 845 -64 502 336 \nQ 160 736 160 1357 \nQ 160 2170 698 2618 \nQ 1094 2944 1562 2944 \nQ 1965 2944 2256 2749 \nQ 2547 2554 2547 2285 \nQ 2547 2176 2457 2096 \nQ 2368 2016 2246 2016 \nQ 2022 2016 1939 2310 \nL 1901 2451 \nQ 1850 2630 1773 2694 \nQ 1696 2758 1523 2758 \nQ 1133 2758 893 2451 \nQ 653 2144 653 1645 \nQ 653 1094 928 745 \nQ 1203 397 1645 397 \nQ 1920 397 2118 528 \nQ 2317 659 2547 998 \nz\n\" transform=\"scale(0.015625)\"/>\n      <path id=\"STIXGeneral-Regular-6f\" d=\"M 3008 1478 \nQ 3008 806 2608 371 \nQ 2208 -64 1568 -64 \nQ 979 -64 582 368 \nQ 186 800 186 1459 \nQ 186 2125 582 2534 \nQ 979 2944 1626 2944 \nQ 2221 2944 2614 2537 \nQ 3008 2131 3008 1478 \nz\nM 2432 1306 \nQ 2432 2035 2112 2445 \nQ 1856 2765 1504 2765 \nQ 1171 2765 966 2493 \nQ 762 2221 762 1747 \nQ 762 928 1101 435 \nQ 1318 115 1677 115 \nQ 2029 115 2230 432 \nQ 2432 749 2432 1306 \nz\n\" transform=\"scale(0.015625)\"/>\n      <path id=\"STIXGeneral-Regular-72\" d=\"M 1024 2931 \nL 1024 2342 \nQ 1267 2688 1430 2816 \nQ 1594 2944 1792 2944 \nQ 1958 2944 2051 2854 \nQ 2144 2765 2144 2605 \nQ 2144 2470 2077 2393 \nQ 2010 2317 1894 2317 \nQ 1773 2317 1638 2445 \nQ 1536 2541 1472 2541 \nQ 1338 2541 1181 2355 \nQ 1024 2170 1024 2016 \nL 1024 576 \nQ 1024 301 1133 205 \nQ 1242 109 1568 96 \nL 1568 0 \nL 32 0 \nL 32 96 \nQ 339 154 412 224 \nQ 486 294 486 538 \nL 486 2138 \nQ 486 2349 438 2435 \nQ 390 2522 269 2522 \nQ 166 2522 45 2496 \nL 45 2598 \nQ 448 2726 992 2944 \nL 1024 2931 \nz\n\" transform=\"scale(0.015625)\"/>\n      <path id=\"STIXGeneral-Regular-6d\" d=\"M 4960 0 \nL 3565 0 \nL 3565 96 \nQ 3834 122 3907 208 \nQ 3981 294 3981 576 \nL 3981 1894 \nQ 3981 2278 3869 2444 \nQ 3757 2611 3488 2611 \nQ 3264 2611 3107 2521 \nQ 2950 2432 2803 2221 \nL 2803 608 \nQ 2803 301 2896 201 \nQ 2989 102 3264 96 \nL 3264 0 \nL 1830 0 \nL 1830 96 \nQ 2112 115 2189 188 \nQ 2266 262 2266 550 \nL 2266 1901 \nQ 2266 2611 1850 2611 \nQ 1670 2611 1468 2531 \nQ 1267 2451 1171 2336 \nQ 1088 2240 1088 2227 \nL 1088 448 \nQ 1088 243 1177 176 \nQ 1267 109 1523 96 \nL 1523 0 \nL 102 0 \nL 102 96 \nQ 371 102 460 195 \nQ 550 288 550 563 \nL 550 2150 \nQ 550 2387 499 2480 \nQ 448 2573 326 2573 \nQ 230 2573 122 2547 \nL 122 2656 \nQ 557 2778 1011 2944 \nL 1062 2925 \nL 1062 2451 \nL 1075 2451 \nQ 1363 2752 1584 2848 \nQ 1805 2944 2054 2944 \nQ 2560 2944 2733 2406 \nQ 3232 2944 3776 2944 \nQ 4518 2944 4518 1792 \nL 4518 493 \nQ 4518 282 4582 202 \nQ 4646 122 4794 109 \nL 4960 96 \nL 4960 0 \nz\n\" transform=\"scale(0.015625)\"/>\n      <path id=\"STIXGeneral-Regular-70\" d=\"M 1018 2931 \nL 1018 2438 \nQ 1421 2944 1939 2944 \nQ 2406 2944 2707 2560 \nQ 3008 2176 3008 1581 \nQ 3008 883 2621 409 \nQ 2234 -64 1664 -64 \nQ 1466 -64 1328 -6 \nQ 1190 51 1018 211 \nL 1018 -794 \nQ 1018 -1094 1120 -1180 \nQ 1222 -1267 1581 -1274 \nL 1581 -1389 \nL 32 -1389 \nL 32 -1280 \nQ 314 -1254 397 -1171 \nQ 480 -1088 480 -838 \nL 480 2157 \nQ 480 2381 429 2451 \nQ 378 2522 218 2522 \nQ 115 2522 58 2515 \nL 58 2618 \nQ 506 2752 979 2944 \nL 1018 2931 \nz\nM 1018 2138 \nL 1018 563 \nQ 1018 422 1238 281 \nQ 1459 141 1683 141 \nQ 2029 141 2243 467 \nQ 2458 794 2458 1325 \nQ 2458 1888 2243 2224 \nQ 2029 2560 1670 2560 \nQ 1446 2560 1232 2419 \nQ 1018 2278 1018 2138 \nz\n\" transform=\"scale(0.015625)\"/>\n     </defs>\n     <use xlink:href=\"#STIXGeneral-Regular-51\"/>\n     <use xlink:href=\"#STIXGeneral-Regular-75\" x=\"72.199982\"/>\n     <use xlink:href=\"#STIXGeneral-Regular-61\" x=\"122.199966\"/>\n     <use xlink:href=\"#STIXGeneral-Regular-6c\" x=\"166.59996\"/>\n     <use xlink:href=\"#STIXGeneral-Regular-69\" x=\"194.399948\"/>\n     <use xlink:href=\"#STIXGeneral-Regular-74\" x=\"222.199936\"/>\n     <use xlink:href=\"#STIXGeneral-Regular-61\" x=\"249.999924\"/>\n     <use xlink:href=\"#STIXGeneral-Regular-74\" x=\"294.399918\"/>\n     <use xlink:href=\"#STIXGeneral-Regular-69\" x=\"322.199905\"/>\n     <use xlink:href=\"#STIXGeneral-Regular-76\" x=\"349.999893\"/>\n     <use xlink:href=\"#STIXGeneral-Regular-65\" x=\"399.999878\"/>\n     <use xlink:href=\"#STIXGeneral-Regular-20\" x=\"444.399872\"/>\n     <use xlink:href=\"#STIXGeneral-Regular-63\" x=\"469.399857\"/>\n     <use xlink:href=\"#STIXGeneral-Regular-6f\" x=\"513.79985\"/>\n     <use xlink:href=\"#STIXGeneral-Regular-6c\" x=\"563.799835\"/>\n     <use xlink:href=\"#STIXGeneral-Regular-6f\" x=\"591.599823\"/>\n     <use xlink:href=\"#STIXGeneral-Regular-72\" x=\"641.599808\"/>\n     <use xlink:href=\"#STIXGeneral-Regular-6d\" x=\"674.899796\"/>\n     <use xlink:href=\"#STIXGeneral-Regular-61\" x=\"752.699783\"/>\n     <use xlink:href=\"#STIXGeneral-Regular-70\" x=\"797.099777\"/>\n     <use xlink:href=\"#STIXGeneral-Regular-73\" x=\"847.099762\"/>\n    </g>\n   </g>\n  </g>\n  <g id=\"axes_2\">\n   <g clip-path=\"url(#pfc0b6481f5)\">\n    <image xlink:href=\"data:image/png;base64,\niVBORw0KGgoAAAANSUhEUgAAAvcAAAAfCAYAAABj9+J9AAAA/klEQVR4nO3WsUmDYRiF0SSVK6SxF1dwgqybOeICFoJgo438kC5ilhBeeL5zJrjc6tmfPy5/O8acvt+nJyzp9eFlesKynq636QlL2p4/pycs6/jr+ynbz+P0hCW9fU0vWNthegAAAPA/xD0AAESIewAAiBD3AAAQIe4BACBC3AMAQIS4BwCACHEPAAAR4h4AACLEPQAARIh7AACIEPcAABAh7gEAIELcAwBAhLgHAIAIcQ8AABHiHgAAIsQ9AABEiHsAAIgQ9wAAECHuAQAgQtwDAECEuAcAgAhxDwAAEeIeAAAixD0AAESIewAAiBD3AAAQIe4BACBC3AMAQMQdSnYQobEOUVsAAAAASUVORK5CYII=\" id=\"image13c1287d7f\" transform=\"scale(1 -1)translate(0 -14.88)\" x=\"39.741883\" y=\"-40.03007\" width=\"364.32\" height=\"14.88\"/>\n   </g>\n   <g id=\"text_3\">\n    <!-- Pastel2 -->\n    <g style=\"fill: #323034\" transform=\"translate(7.2 49.933278)scale(0.1 -0.1)\">\n     <defs>\n      <path id=\"STIXGeneral-Regular-32\" d=\"M 3034 877 \nL 2688 0 \nL 186 0 \nL 186 77 \nL 1325 1286 \nQ 1773 1754 1965 2144 \nQ 2157 2534 2157 2950 \nQ 2157 3379 1920 3616 \nQ 1683 3853 1267 3853 \nQ 922 3853 720 3673 \nQ 518 3494 326 3021 \nL 192 3053 \nQ 301 3648 630 3987 \nQ 960 4326 1523 4326 \nQ 2054 4326 2380 4006 \nQ 2707 3686 2707 3200 \nQ 2707 2477 1888 1613 \nL 832 486 \nL 2330 486 \nQ 2541 486 2665 569 \nQ 2790 653 2944 915 \nL 3034 877 \nz\n\" transform=\"scale(0.015625)\"/>\n     </defs>\n     <use xlink:href=\"#STIXGeneral-Regular-50\"/>\n     <use xlink:href=\"#STIXGeneral-Regular-61\" x=\"55.699997\"/>\n     <use xlink:href=\"#STIXGeneral-Regular-73\" x=\"100.099991\"/>\n     <use xlink:href=\"#STIXGeneral-Regular-74\" x=\"138.999985\"/>\n     <use xlink:href=\"#STIXGeneral-Regular-65\" x=\"166.799973\"/>\n     <use xlink:href=\"#STIXGeneral-Regular-6c\" x=\"211.199966\"/>\n     <use xlink:href=\"#STIXGeneral-Regular-32\" x=\"238.999954\"/>\n    </g>\n   </g>\n  </g>\n  <g id=\"axes_3\">\n   <g clip-path=\"url(#pe53e6750e0)\">\n    <image xlink:href=\"data:image/png;base64,\niVBORw0KGgoAAAANSUhEUgAAAvcAAAAfCAYAAABj9+J9AAABM0lEQVR4nO3asUkDUBiFUZMxXCO9S9i5gEVwADtDyhQiYi8BU6R0ApUUAUFIkwXSOIONLiFcuO+cCW71+Ph5k83X6fdscLfbQ3pCxOP1MT0hZvG+Tk+I2f/cpCdEfd8t0xMizl8u0xNipm8P6QlRn7Nx3/rn1S49IeLpY9y0e726T0+Im6YHAAAA/0PcAwAUmV9M0hMIEvcAAEVG/paDuAcAqOJyPzZxDwBQxOV+bOIeAABKiHsAACgh7gEAoIS4BwCAEuIeAABKiHsAACgh7gEAoIS4BwCAEuIeAABKiHsAACgh7gEAoIS4BwCAEuIeAABKiHsAACgh7gEAoIS4BwCAEuIeAABKiHsAACgh7gEAoIS4BwCAEuIeAABKiHsAACgh7gEAoIS4BwCAEuIeAABK/AGQah1v6YLy/QAAAABJRU5ErkJggg==\" id=\"imageb4ef56523a\" transform=\"scale(1 -1)translate(0 -14.88)\" x=\"39.741883\" y=\"-57.565619\" width=\"364.32\" height=\"14.88\"/>\n   </g>\n   <g id=\"text_4\">\n    <!-- Paired -->\n    <g style=\"fill: #323034\" transform=\"translate(10.540625 67.468827)scale(0.1 -0.1)\">\n     <defs>\n      <path id=\"STIXGeneral-Regular-64\" d=\"M 3142 269 \nL 2202 -64 \nL 2176 -45 \nL 2176 365 \nQ 1869 -64 1357 -64 \nQ 826 -64 499 317 \nQ 173 698 173 1312 \nQ 173 1990 563 2467 \nQ 954 2944 1504 2944 \nQ 1850 2944 2176 2669 \nL 2176 3667 \nQ 2176 3866 2118 3930 \nQ 2061 3994 1882 3994 \nQ 1792 3994 1741 3987 \nL 1741 4090 \nQ 2323 4243 2682 4371 \nL 2714 4358 \nL 2714 730 \nQ 2714 506 2768 435 \nQ 2822 365 2995 365 \nQ 3034 365 3142 371 \nL 3142 269 \nz\nM 2176 653 \nL 2176 2125 \nQ 2176 2381 1981 2573 \nQ 1786 2765 1523 2765 \nQ 1158 2765 940 2438 \nQ 723 2112 723 1568 \nQ 723 979 963 624 \nQ 1203 269 1606 269 \nQ 1907 269 2080 474 \nQ 2176 582 2176 653 \nz\n\" transform=\"scale(0.015625)\"/>\n     </defs>\n     <use xlink:href=\"#STIXGeneral-Regular-50\"/>\n     <use xlink:href=\"#STIXGeneral-Regular-61\" x=\"55.699997\"/>\n     <use xlink:href=\"#STIXGeneral-Regular-69\" x=\"100.099991\"/>\n     <use xlink:href=\"#STIXGeneral-Regular-72\" x=\"127.899979\"/>\n     <use xlink:href=\"#STIXGeneral-Regular-65\" x=\"161.199966\"/>\n     <use xlink:href=\"#STIXGeneral-Regular-64\" x=\"205.59996\"/>\n    </g>\n   </g>\n  </g>\n  <g id=\"axes_4\">\n   <g clip-path=\"url(#pd87592d0c7)\">\n    <image xlink:href=\"data:image/png;base64,\niVBORw0KGgoAAAANSUhEUgAAAvcAAAAfCAYAAABj9+J9AAAA/0lEQVR4nO3WIRECYRRGUViLA0EW1F8BgyAEGbYFGwGPogJqU5ADSjDzZr53ToIr73Z+z98NZcbnUp3Q0tg/qxPamsahOqGl0+1YndDW675WJ7S1XpfqhJYeu3N1QmtTdQAAAPAf5h4AAEKYewAACGHuAQAghLkHAIAQ5h4AAEKYewAACGHuAQAghLkHAIAQ5h4AAEKYewAACGHuAQAghLkHAIAQ5h4AAEKYewAACGHuAQAghLkHAIAQ5h4AAEKYewAACGHuAQAghLkHAIAQ5h4AAEKYewAACGHuAQAghLkHAIAQ5h4AAEKYewAACGHuAQAghLkHAIAQ5h4AAEL8AOzGC28fu/XVAAAAAElFTkSuQmCC\" id=\"image650ac6b0b0\" transform=\"scale(1 -1)translate(0 -14.88)\" x=\"39.741883\" y=\"-75.101168\" width=\"364.32\" height=\"14.88\"/>\n   </g>\n   <g id=\"text_5\">\n    <!-- Accent -->\n    <g style=\"fill: #323034\" transform=\"translate(7.779687 85.004377)scale(0.1 -0.1)\">\n     <defs>\n      <path id=\"STIXGeneral-Regular-41\" d=\"M 4525 0 \nL 2893 0 \nL 2893 122 \nQ 3149 122 3245 179 \nQ 3334 224 3334 333 \nQ 3334 499 3213 781 \nL 2950 1382 \nL 1274 1382 \nL 979 653 \nQ 922 506 922 384 \nQ 922 237 1027 179 \nQ 1133 122 1370 122 \nL 1370 0 \nL 96 0 \nL 96 122 \nQ 365 147 486 316 \nQ 608 486 902 1190 \nL 2221 4314 \nL 2349 4314 \nL 3923 710 \nQ 4064 378 4176 262 \nQ 4288 147 4525 122 \nL 4525 0 \nz\nM 2861 1645 \nL 2118 3405 \nL 1382 1645 \nL 2861 1645 \nz\n\" transform=\"scale(0.015625)\"/>\n      <path id=\"STIXGeneral-Regular-6e\" d=\"M 3104 0 \nL 1773 0 \nL 1779 96 \nQ 2016 115 2096 233 \nQ 2176 352 2176 672 \nL 2176 1946 \nQ 2176 2592 1709 2592 \nQ 1549 2592 1408 2515 \nQ 1267 2438 1050 2227 \nL 1050 461 \nQ 1050 269 1136 192 \nQ 1222 115 1466 96 \nL 1466 0 \nL 115 0 \nL 115 96 \nQ 358 115 435 214 \nQ 512 314 512 602 \nL 512 2157 \nQ 512 2394 467 2483 \nQ 422 2573 288 2573 \nQ 160 2573 102 2547 \nL 102 2656 \nQ 550 2784 979 2944 \nL 1030 2925 \nL 1030 2426 \nL 1037 2426 \nQ 1491 2944 1958 2944 \nQ 2323 2944 2518 2688 \nQ 2714 2432 2714 1958 \nL 2714 544 \nQ 2714 288 2790 205 \nQ 2867 122 3104 96 \nL 3104 0 \nz\n\" transform=\"scale(0.015625)\"/>\n     </defs>\n     <use xlink:href=\"#STIXGeneral-Regular-41\"/>\n     <use xlink:href=\"#STIXGeneral-Regular-63\" x=\"72.199982\"/>\n     <use xlink:href=\"#STIXGeneral-Regular-63\" x=\"116.599976\"/>\n     <use xlink:href=\"#STIXGeneral-Regular-65\" x=\"160.999969\"/>\n     <use xlink:href=\"#STIXGeneral-Regular-6e\" x=\"205.399963\"/>\n     <use xlink:href=\"#STIXGeneral-Regular-74\" x=\"255.399948\"/>\n    </g>\n   </g>\n  </g>\n  <g id=\"axes_5\">\n   <g clip-path=\"url(#pabbb014176)\">\n    <image xlink:href=\"data:image/png;base64,\niVBORw0KGgoAAAANSUhEUgAAAvcAAAAfCAYAAABj9+J9AAABAElEQVR4nO3WsQ1BARSGUSQGUL+JrKN5ldBrlWIHpeblqQ1gAQPYgCUkN/nvORN85bccruN3QZnpcapOaOmyuVUntLW7v6oTWjrsz9UJbR3X7+qEtubnUJ3Q0vzZVie0tqoOAAAA/sPcAwBACHMPAAAhzD0AAIQw9wAAEMLcAwBACHMPAAAhzD0AAIQw9wAAEMLcAwBACHMPAAAhzD0AAIQw9wAAEMLcAwBACHMPAAAhzD0AAIQw9wAAEMLcAwBACHMPAAAhzD0AAIQw9wAAEMLcAwBACHMPAAAhzD0AAIQw9wAAEMLcAwBACHMPAAAhzD0AAIQw9wAAEMLcAwBAiB9ABA5vjvApzAAAAABJRU5ErkJggg==\" id=\"image59ad9b0911\" transform=\"scale(1 -1)translate(0 -14.88)\" x=\"39.741883\" y=\"-92.636717\" width=\"364.32\" height=\"14.88\"/>\n   </g>\n   <g id=\"text_6\">\n    <!-- Dark2 -->\n    <g style=\"fill: #323034\" transform=\"translate(11.110937 102.539926)scale(0.1 -0.1)\">\n     <defs>\n      <path id=\"STIXGeneral-Regular-44\" d=\"M 102 4237 \nL 1830 4237 \nQ 3078 4237 3750 3654 \nQ 4384 3110 4384 2138 \nQ 4384 966 3514 410 \nQ 2880 0 1901 0 \nL 102 0 \nL 102 122 \nQ 474 147 570 252 \nQ 666 358 666 736 \nL 666 3520 \nQ 666 3891 570 3990 \nQ 474 4090 102 4115 \nL 102 4237 \nz\nM 1318 3731 \nL 1318 538 \nQ 1318 365 1379 301 \nQ 1440 237 1626 237 \nQ 2125 237 2432 307 \nQ 2739 378 3021 570 \nQ 3686 1018 3686 2099 \nQ 3686 3027 3078 3558 \nQ 2803 3802 2476 3901 \nQ 2150 4000 1658 4000 \nQ 1472 4000 1395 3942 \nQ 1318 3885 1318 3731 \nz\n\" transform=\"scale(0.015625)\"/>\n      <path id=\"STIXGeneral-Regular-6b\" d=\"M 3232 0 \nL 1837 0 \nL 1837 96 \nL 1958 96 \nQ 2093 96 2093 192 \nQ 2093 250 2022 339 \nL 1062 1606 \nL 1062 429 \nQ 1062 262 1142 185 \nQ 1222 109 1414 102 \nL 1542 96 \nL 1542 0 \nL 45 0 \nL 45 96 \nQ 390 154 457 214 \nQ 525 275 525 525 \nL 525 3610 \nQ 525 3840 467 3920 \nQ 410 4000 250 4000 \nQ 211 4000 45 3987 \nL 45 4090 \nL 237 4141 \nQ 621 4243 1037 4371 \nL 1062 4358 \nL 1062 1670 \nL 1939 2451 \nQ 2086 2586 2086 2675 \nQ 2086 2739 2019 2761 \nQ 1952 2784 1766 2790 \nL 1766 2880 \nL 3072 2880 \nL 3072 2784 \nQ 2752 2784 2505 2646 \nQ 2259 2509 1690 1978 \nL 1504 1805 \nL 2483 563 \nQ 2829 122 3232 96 \nL 3232 0 \nz\n\" transform=\"scale(0.015625)\"/>\n     </defs>\n     <use xlink:href=\"#STIXGeneral-Regular-44\"/>\n     <use xlink:href=\"#STIXGeneral-Regular-61\" x=\"72.199982\"/>\n     <use xlink:href=\"#STIXGeneral-Regular-72\" x=\"116.599976\"/>\n     <use xlink:href=\"#STIXGeneral-Regular-6b\" x=\"149.899963\"/>\n     <use xlink:href=\"#STIXGeneral-Regular-32\" x=\"199.899948\"/>\n    </g>\n   </g>\n  </g>\n  <g id=\"axes_6\">\n   <g clip-path=\"url(#p7378cd3168)\">\n    <image xlink:href=\"data:image/png;base64,\niVBORw0KGgoAAAANSUhEUgAAAvcAAAAfCAYAAABj9+J9AAABBUlEQVR4nO3WsWkCABQAUXWIIMENrCRjWIUUwcJOcA1nSJNGEGyyU+qskDpZQvhwvDfBlbf8ed78LXi4t9N1OiHjafcxnZCyvx2mE3LOu+N0QsflZbog5+v9dzoh5XX7OZ2QcV9/TyckraYDAACAxzD3AAAQYe4BACDC3AMAQIS5BwCACHMPAAAR5h4AACLMPQAARJh7AACIMPcAABBh7gEAIMLcAwBAhLkHAIAIcw8AABHmHgAAIsw9AABEmHsAAIgw9wAAEGHuAQAgwtwDAECEuQcAgAhzDwAAEeYeAAAizD0AAESYewAAiDD3AAAQYe4BACDC3AMAQIS5BwCACHMPAAAR/9pfDAjljTBZAAAAAElFTkSuQmCC\" id=\"imaged14b3f5940\" transform=\"scale(1 -1)translate(0 -14.88)\" x=\"39.741883\" y=\"-110.172267\" width=\"364.32\" height=\"14.88\"/>\n   </g>\n   <g id=\"text_7\">\n    <!-- Set1 -->\n    <g style=\"fill: #323034\" transform=\"translate(18.321875 120.075475)scale(0.1 -0.1)\">\n     <defs>\n      <path id=\"STIXGeneral-Regular-53\" d=\"M 3002 2963 \nL 2842 2963 \nQ 2733 3360 2579 3565 \nQ 2189 4064 1651 4064 \nQ 1357 4064 1181 3894 \nQ 1005 3725 1005 3456 \nQ 1005 3328 1069 3206 \nQ 1133 3085 1206 2998 \nQ 1280 2912 1465 2784 \nQ 1651 2656 1766 2589 \nQ 1882 2522 2150 2362 \nQ 2669 2061 2905 1763 \nQ 3142 1466 3142 1107 \nQ 3142 576 2771 243 \nQ 2400 -90 1837 -90 \nQ 1421 -90 1082 58 \nQ 915 128 781 128 \nQ 704 128 653 70 \nQ 602 13 602 -83 \nL 461 -83 \nL 275 1274 \nL 416 1274 \nQ 845 141 1734 141 \nQ 2074 141 2285 342 \nQ 2496 544 2496 858 \nQ 2496 1158 2310 1363 \nQ 2003 1696 1235 2106 \nQ 454 2522 454 3206 \nQ 454 3718 768 4022 \nQ 1082 4326 1568 4326 \nQ 1907 4326 2240 4186 \nQ 2413 4109 2522 4109 \nQ 2688 4109 2726 4326 \nL 2861 4326 \nL 3002 2963 \nz\n\" transform=\"scale(0.015625)\"/>\n     </defs>\n     <use xlink:href=\"#STIXGeneral-Regular-53\"/>\n     <use xlink:href=\"#STIXGeneral-Regular-65\" x=\"55.599991\"/>\n     <use xlink:href=\"#STIXGeneral-Regular-74\" x=\"99.999985\"/>\n     <use xlink:href=\"#STIXGeneral-Regular-31\" x=\"127.799973\"/>\n    </g>\n   </g>\n  </g>\n  <g id=\"axes_7\">\n   <g clip-path=\"url(#p6de189d1d3)\">\n    <image xlink:href=\"data:image/png;base64,\niVBORw0KGgoAAAANSUhEUgAAAvcAAAAfCAYAAABj9+J9AAABAElEQVR4nO3WsQ1BARSGUc8KBngb6elJ3jivsYExRKKVWECvoNDqWEJyk/+eM8FXfsP+cvwuKHO4nqoTWppXU3VCW9vnpzqhpfN6rk5oazPcqxPaerx21Qkt3d5jdUJry+oAAADgP8w9AACEMPcAABDC3AMAQAhzDwAAIcw9AACEMPcAABDC3AMAQAhzDwAAIcw9AACEMPcAABDC3AMAQAhzDwAAIcw9AACEMPcAABDC3AMAQAhzDwAAIcw9AACEMPcAABDC3AMAQAhzDwAAIcw9AACEMPcAABDC3AMAQAhzDwAAIcw9AACEMPcAABDC3AMAQAhzDwAAIcw9AACE+AFVBg9WX2Y4IQAAAABJRU5ErkJggg==\" id=\"image5b5d27ae7a\" transform=\"scale(1 -1)translate(0 -14.88)\" x=\"39.741883\" y=\"-127.707816\" width=\"364.32\" height=\"14.88\"/>\n   </g>\n   <g id=\"text_8\">\n    <!-- Set2 -->\n    <g style=\"fill: #323034\" transform=\"translate(18.321875 137.611025)scale(0.1 -0.1)\">\n     <use xlink:href=\"#STIXGeneral-Regular-53\"/>\n     <use xlink:href=\"#STIXGeneral-Regular-65\" x=\"55.599991\"/>\n     <use xlink:href=\"#STIXGeneral-Regular-74\" x=\"99.999985\"/>\n     <use xlink:href=\"#STIXGeneral-Regular-32\" x=\"127.799973\"/>\n    </g>\n   </g>\n  </g>\n  <g id=\"axes_8\">\n   <g clip-path=\"url(#p836e68c1eb)\">\n    <image xlink:href=\"data:image/png;base64,\niVBORw0KGgoAAAANSUhEUgAAAvcAAAAfCAYAAABj9+J9AAABN0lEQVR4nO3aoU2DARSF0dIKEBXdogmpIWgGYIzqOjRIZFNFwgZNGACDwMEA1VVFkoBA1MESJDe5/zkTXPnl5Z2sd++/o4G7WXymJ0S8vszTE2Ku3h7TE2LuL5bpCVF3k016QsTz+Wl6Qsz11216QtR++pOeEHPYfqQnRMxWZ+kJMZfjp/SEuHF6AAAA8D/EPQBAke+HY3oCQeIeAKDIkN9yEPcAAFVc7odN3AMAFHG5HzZxDwAAJcQ9AACUEPcAAFBC3AMAQAlxDwAAJcQ9AACUEPcAAFBC3AMAQAlxDwAAJcQ9AACUEPcAAFBC3AMAQAlxDwAAJcQ9AACUEPcAAFBC3AMAQAlxDwAAJcQ9AACUEPcAAFBC3AMAQAlxDwAAJcQ9AACUEPcAAFBC3AMAQAlxDwAAJf4AcEMYmFZVAHsAAAAASUVORK5CYII=\" id=\"imagef2ceb261d9\" transform=\"scale(1 -1)translate(0 -14.88)\" x=\"39.741883\" y=\"-145.243365\" width=\"364.32\" height=\"14.88\"/>\n   </g>\n   <g id=\"text_9\">\n    <!-- Set3 -->\n    <g style=\"fill: #323034\" transform=\"translate(18.321875 155.146574)scale(0.1 -0.1)\">\n     <defs>\n      <path id=\"STIXGeneral-Regular-33\" d=\"M 390 3264 \nL 288 3290 \nQ 435 3770 748 4048 \nQ 1062 4326 1542 4326 \nQ 1990 4326 2265 4083 \nQ 2541 3840 2541 3450 \nQ 2541 2925 1946 2566 \nQ 2298 2413 2477 2227 \nQ 2758 1914 2758 1402 \nQ 2758 890 2464 506 \nQ 2246 211 1840 60 \nQ 1434 -90 979 -90 \nQ 262 -90 262 275 \nQ 262 378 339 442 \nQ 416 506 525 506 \nQ 685 506 915 339 \nQ 1197 141 1466 141 \nQ 1818 141 2058 425 \nQ 2298 710 2298 1120 \nQ 2298 1856 1632 2048 \nQ 1434 2112 979 2112 \nL 979 2202 \nQ 1338 2323 1517 2432 \nQ 2035 2726 2035 3290 \nQ 2035 3610 1852 3776 \nQ 1670 3942 1344 3942 \nQ 768 3942 390 3264 \nz\n\" transform=\"scale(0.015625)\"/>\n     </defs>\n     <use xlink:href=\"#STIXGeneral-Regular-53\"/>\n     <use xlink:href=\"#STIXGeneral-Regular-65\" x=\"55.599991\"/>\n     <use xlink:href=\"#STIXGeneral-Regular-74\" x=\"99.999985\"/>\n     <use xlink:href=\"#STIXGeneral-Regular-33\" x=\"127.799973\"/>\n    </g>\n   </g>\n  </g>\n  <g id=\"axes_9\">\n   <g clip-path=\"url(#p5e9f3217db)\">\n    <image xlink:href=\"data:image/png;base64,\niVBORw0KGgoAAAANSUhEUgAAAvcAAAAfCAYAAABj9+J9AAABD0lEQVR4nO3Wsa0BABSGUVSmeGIAI5C3hYRBjKDT6XQ6iU7LLDbQKiTMIJHc3D/nTPCV33CyubwHfOU+XlUntDKb/lUntHHavqoTWrn976sT2ng+dtUJrSynm+qEVg7ja3VCG/PFsTqhlfXwXJ3Qzqg6AAAA+A1zDwAAIcw9AACEMPcAABDC3AMAQAhzDwAAIcw9AACEMPcAABDC3AMAQAhzDwAAIcw9AACEMPcAABDC3AMAQAhzDwAAIcw9AACEMPcAABDC3AMAQAhzDwAAIcw9AACEMPcAABDC3AMAQAhzDwAAIcw9AACEMPcAABDC3AMAQAhzDwAAIcw9AACEMPcAABDC3AMAQAhzDwAAIT7ohA7hYQSfdgAAAABJRU5ErkJggg==\" id=\"image80d70e824d\" transform=\"scale(1 -1)translate(0 -14.88)\" x=\"39.741883\" y=\"-162.778915\" width=\"364.32\" height=\"14.88\"/>\n   </g>\n   <g id=\"text_10\">\n    <!-- tab10 -->\n    <g style=\"fill: #323034\" transform=\"translate(13.88125 172.682123)scale(0.1 -0.1)\">\n     <defs>\n      <path id=\"STIXGeneral-Regular-62\" d=\"M 979 4358 \nL 979 2406 \nQ 1082 2650 1315 2797 \nQ 1549 2944 1843 2944 \nQ 2349 2944 2672 2541 \nQ 2995 2138 2995 1536 \nQ 2995 832 2566 384 \nQ 2138 -64 1498 -64 \nQ 1107 -64 774 67 \nQ 442 198 442 358 \nL 442 3622 \nQ 442 3859 384 3926 \nQ 326 3994 128 3994 \nQ 83 3994 19 3981 \nL 19 4090 \nL 211 4147 \nQ 864 4346 947 4371 \nL 979 4358 \nz\nM 979 2035 \nL 979 474 \nQ 979 326 1161 233 \nQ 1344 141 1600 141 \nQ 1978 141 2195 416 \nQ 2432 710 2432 1261 \nQ 2432 1888 2182 2240 \nQ 1971 2541 1613 2541 \nQ 1357 2541 1168 2390 \nQ 979 2240 979 2035 \nz\n\" transform=\"scale(0.015625)\"/>\n      <path id=\"STIXGeneral-Regular-30\" d=\"M 3046 2112 \nQ 3046 1683 2963 1302 \nQ 2880 922 2717 602 \nQ 2554 282 2266 96 \nQ 1978 -90 1600 -90 \nQ 1210 -90 915 108 \nQ 621 307 461 640 \nQ 301 973 227 1350 \nQ 154 1728 154 2150 \nQ 154 2746 301 3222 \nQ 448 3699 790 4012 \nQ 1133 4326 1626 4326 \nQ 2253 4326 2649 3712 \nQ 3046 3098 3046 2112 \nz\nM 2432 2080 \nQ 2432 3091 2217 3625 \nQ 2003 4160 1587 4160 \nQ 1190 4160 979 3622 \nQ 768 3085 768 2106 \nQ 768 1120 979 598 \nQ 1190 77 1600 77 \nQ 2003 77 2217 598 \nQ 2432 1120 2432 2080 \nz\n\" transform=\"scale(0.015625)\"/>\n     </defs>\n     <use xlink:href=\"#STIXGeneral-Regular-74\"/>\n     <use xlink:href=\"#STIXGeneral-Regular-61\" x=\"27.799988\"/>\n     <use xlink:href=\"#STIXGeneral-Regular-62\" x=\"72.199982\"/>\n     <use xlink:href=\"#STIXGeneral-Regular-31\" x=\"122.199966\"/>\n     <use xlink:href=\"#STIXGeneral-Regular-30\" x=\"172.199951\"/>\n    </g>\n   </g>\n  </g>\n  <g id=\"axes_10\">\n   <g clip-path=\"url(#p4b45918887)\">\n    <image xlink:href=\"data:image/png;base64,\niVBORw0KGgoAAAANSUhEUgAAAvcAAAAfCAYAAABj9+J9AAABW0lEQVR4nO3WMS6EYRhGUaxAIaIQ0xEFiUShmJhEIf901BILYCLRsAQ6lVap001hB6KyAKVYAi0L+L/pJK88OWcFt7zzg+vpz9w/dXe0W53QdPy8Xp3QNjyrLmja+pxWJ/RMRqfVCU373UN1QtPm5UV1QtP920Z1Qs/OeKU6oenl8ao6Yaa9w3F1Qs/gfbs6oWlptFid0HT7+lSd0NR1XXVCz9f3SXVC02DtvDqhafhxUJ3QdLO6XJ0w00J1AAAA8DfMPQAAhDD3AAAQwtwDAEAIcw8AACHMPQAAhDD3AAAQwtwDAEAIcw8AACHMPQAAhDD3AAAQwtwDAEAIcw8AACHMPQAAhDD3AAAQwtwDAEAIcw8AACHMPQAAhDD3AAAQwtwDAEAIcw8AACHMPQAAhDD3AAAQwtwDAEAIcw8AACHMPQAAhDD3AAAQwtwDAEAIcw8AACHMPQAAhPgFilUYmhKxEfAAAAAASUVORK5CYII=\" id=\"imagedf962e49aa\" transform=\"scale(1 -1)translate(0 -14.88)\" x=\"39.741883\" y=\"-180.314464\" width=\"364.32\" height=\"14.88\"/>\n   </g>\n   <g id=\"text_11\">\n    <!-- tab20 -->\n    <g style=\"fill: #323034\" transform=\"translate(13.88125 190.217673)scale(0.1 -0.1)\">\n     <use xlink:href=\"#STIXGeneral-Regular-74\"/>\n     <use xlink:href=\"#STIXGeneral-Regular-61\" x=\"27.799988\"/>\n     <use xlink:href=\"#STIXGeneral-Regular-62\" x=\"72.199982\"/>\n     <use xlink:href=\"#STIXGeneral-Regular-32\" x=\"122.199966\"/>\n     <use xlink:href=\"#STIXGeneral-Regular-30\" x=\"172.199951\"/>\n    </g>\n   </g>\n  </g>\n  <g id=\"axes_11\">\n   <g clip-path=\"url(#p30084f6a03)\">\n    <image xlink:href=\"data:image/png;base64,\niVBORw0KGgoAAAANSUhEUgAAAvcAAAAfCAYAAABj9+J9AAABTUlEQVR4nO3WMS4FURiG4aFSEHc6I7dRngmJKRSisw2rUNqGUCpV9qC1BIXFsIA5peSffHmeFXzJOfnzHtzePf0OGzVNc/WErun8snpC13J9Wj2h6+vnoXrCSmtT9YSudrXNXdPxUj2h6/P5tXrCyrIcVU/omvfb/FvDMAzDeF+9YOXt8b16Qlc7GasndLWzi+oJXePN9m7Xy8d39YSuebfNN2z7Vj2ha7ds96YeVg8AAAD+h7gHAIAQ4h4AAEKIewAACCHuAQAghLgHAIAQ4h4AAEKIewAACCHuAQAghLgHAIAQ4h4AAEKIewAACCHuAQAghLgHAIAQ4h4AAEKIewAACCHuAQAghLgHAIAQ4h4AAEKIewAACCHuAQAghLgHAIAQ4h4AAEKIewAACCHuAQAghLgHAIAQ4h4AAEKIewAACCHuAQAghLgHAIAQf54rD499/Vf8AAAAAElFTkSuQmCC\" id=\"image90b6b82e2e\" transform=\"scale(1 -1)translate(0 -14.88)\" x=\"39.741883\" y=\"-197.850013\" width=\"364.32\" height=\"14.88\"/>\n   </g>\n   <g id=\"text_12\">\n    <!-- tab20b -->\n    <g style=\"fill: #323034\" transform=\"translate(8.88125 207.753222)scale(0.1 -0.1)\">\n     <use xlink:href=\"#STIXGeneral-Regular-74\"/>\n     <use xlink:href=\"#STIXGeneral-Regular-61\" x=\"27.799988\"/>\n     <use xlink:href=\"#STIXGeneral-Regular-62\" x=\"72.199982\"/>\n     <use xlink:href=\"#STIXGeneral-Regular-32\" x=\"122.199966\"/>\n     <use xlink:href=\"#STIXGeneral-Regular-30\" x=\"172.199951\"/>\n     <use xlink:href=\"#STIXGeneral-Regular-62\" x=\"222.199936\"/>\n    </g>\n   </g>\n  </g>\n  <g id=\"axes_12\">\n   <g clip-path=\"url(#p1f563ccf66)\">\n    <image xlink:href=\"data:image/png;base64,\niVBORw0KGgoAAAANSUhEUgAAAvcAAAAfCAYAAABj9+J9AAABSUlEQVR4nO3WPUoDYRhGUbUV/AElCONgIjoKSpARFFs3JZbpshkLe1fhSlyBLmC+dMIbHs5ZwS3v7sPq63dnS73cnVUnNI3dfnVC083xQXVC08V7X50wMXteVie0zbe0a/FUXdD0+P1ZnTDxOl9UJzTdn15VJ2x0fbR9bR+rn+qEptvlrDqhqb88qU5o6s8PqxMm1uu36oSmcRyrE5qGYahOaOq6rjpho73qAAAA4H+YewAACGHuAQAghLkHAIAQ5h4AAEKYewAACGHuAQAghLkHAIAQ5h4AAEKYewAACGHuAQAghLkHAIAQ5h4AAEKYewAACGHuAQAghLkHAIAQ5h4AAEKYewAACGHuAQAghLkHAIAQ5h4AAEKYewAACGHuAQAghLkHAIAQ5h4AAEKYewAACGHuAQAghLkHAIAQ5h4AAEKYewAACPEHYxYOyK3Fs/AAAAAASUVORK5CYII=\" id=\"imagec8c737c040\" transform=\"scale(1 -1)translate(0 -14.88)\" x=\"39.741883\" y=\"-215.385563\" width=\"364.32\" height=\"14.88\"/>\n   </g>\n   <g id=\"text_13\">\n    <!-- tab20c -->\n    <g style=\"fill: #323034\" transform=\"translate(9.440625 225.288771)scale(0.1 -0.1)\">\n     <use xlink:href=\"#STIXGeneral-Regular-74\"/>\n     <use xlink:href=\"#STIXGeneral-Regular-61\" x=\"27.799988\"/>\n     <use xlink:href=\"#STIXGeneral-Regular-62\" x=\"72.199982\"/>\n     <use xlink:href=\"#STIXGeneral-Regular-32\" x=\"122.199966\"/>\n     <use xlink:href=\"#STIXGeneral-Regular-30\" x=\"172.199951\"/>\n     <use xlink:href=\"#STIXGeneral-Regular-63\" x=\"222.199936\"/>\n    </g>\n   </g>\n  </g>\n </g>\n <defs>\n  <clipPath id=\"p1db768f6bf\">\n   <rect x=\"39.741883\" y=\"22.761562\" width=\"364.032\" height=\"14.612958\"/>\n  </clipPath>\n  <clipPath id=\"pfc0b6481f5\">\n   <rect x=\"39.741883\" y=\"40.297112\" width=\"364.032\" height=\"14.612958\"/>\n  </clipPath>\n  <clipPath id=\"pe53e6750e0\">\n   <rect x=\"39.741883\" y=\"57.832661\" width=\"364.032\" height=\"14.612958\"/>\n  </clipPath>\n  <clipPath id=\"pd87592d0c7\">\n   <rect x=\"39.741883\" y=\"75.36821\" width=\"364.032\" height=\"14.612958\"/>\n  </clipPath>\n  <clipPath id=\"pabbb014176\">\n   <rect x=\"39.741883\" y=\"92.90376\" width=\"364.032\" height=\"14.612958\"/>\n  </clipPath>\n  <clipPath id=\"p7378cd3168\">\n   <rect x=\"39.741883\" y=\"110.439309\" width=\"364.032\" height=\"14.612958\"/>\n  </clipPath>\n  <clipPath id=\"p6de189d1d3\">\n   <rect x=\"39.741883\" y=\"127.974858\" width=\"364.032\" height=\"14.612958\"/>\n  </clipPath>\n  <clipPath id=\"p836e68c1eb\">\n   <rect x=\"39.741883\" y=\"145.510408\" width=\"364.032\" height=\"14.612958\"/>\n  </clipPath>\n  <clipPath id=\"p5e9f3217db\">\n   <rect x=\"39.741883\" y=\"163.045957\" width=\"364.032\" height=\"14.612958\"/>\n  </clipPath>\n  <clipPath id=\"p4b45918887\">\n   <rect x=\"39.741883\" y=\"180.581506\" width=\"364.032\" height=\"14.612958\"/>\n  </clipPath>\n  <clipPath id=\"p30084f6a03\">\n   <rect x=\"39.741883\" y=\"198.117055\" width=\"364.032\" height=\"14.612958\"/>\n  </clipPath>\n  <clipPath id=\"p1f563ccf66\">\n   <rect x=\"39.741883\" y=\"215.652605\" width=\"364.032\" height=\"14.612958\"/>\n  </clipPath>\n </defs>\n</svg>\n",
      "text/plain": [
       "<Figure size 960x507.3 with 12 Axes>"
      ]
     },
     "metadata": {},
     "output_type": "display_data"
    }
   ],
   "source": [
    "# remove-input\n",
    "cmaps = [\n",
    "    (\n",
    "        \"Perceptually Uniform Sequential\",\n",
    "        [\"viridis\", \"plasma\", \"inferno\", \"magma\", \"cividis\"],\n",
    "    ),\n",
    "    (\n",
    "        \"Sequential\",\n",
    "        [\n",
    "            \"Greys\",\n",
    "            \"Purples\",\n",
    "            \"Blues\",\n",
    "            \"Greens\",\n",
    "            \"Oranges\",\n",
    "            \"Reds\",\n",
    "            \"YlOrBr\",\n",
    "            \"YlOrRd\",\n",
    "            \"OrRd\",\n",
    "            \"PuRd\",\n",
    "            \"RdPu\",\n",
    "            \"BuPu\",\n",
    "            \"GnBu\",\n",
    "            \"PuBu\",\n",
    "            \"YlGnBu\",\n",
    "            \"PuBuGn\",\n",
    "            \"BuGn\",\n",
    "            \"YlGn\",\n",
    "        ],\n",
    "    ),\n",
    "    (\n",
    "        \"Sequential (2)\",\n",
    "        [\n",
    "            \"binary\",\n",
    "            \"gist_yarg\",\n",
    "            \"gist_gray\",\n",
    "            \"gray\",\n",
    "            \"bone\",\n",
    "            \"pink\",\n",
    "            \"spring\",\n",
    "            \"summer\",\n",
    "            \"autumn\",\n",
    "            \"winter\",\n",
    "            \"cool\",\n",
    "            \"Wistia\",\n",
    "            \"hot\",\n",
    "            \"afmhot\",\n",
    "            \"gist_heat\",\n",
    "            \"copper\",\n",
    "        ],\n",
    "    ),\n",
    "    (\n",
    "        \"Diverging\",\n",
    "        [\n",
    "            \"PiYG\",\n",
    "            \"PRGn\",\n",
    "            \"BrBG\",\n",
    "            \"PuOr\",\n",
    "            \"RdGy\",\n",
    "            \"RdBu\",\n",
    "            \"RdYlBu\",\n",
    "            \"RdYlGn\",\n",
    "            \"Spectral\",\n",
    "            \"coolwarm\",\n",
    "            \"bwr\",\n",
    "            \"seismic\",\n",
    "        ],\n",
    "    ),\n",
    "    (\"Cyclic\", [\"twilight\", \"twilight_shifted\", \"hsv\"]),\n",
    "    (\n",
    "        \"Qualitative\",\n",
    "        [\n",
    "            \"Pastel1\",\n",
    "            \"Pastel2\",\n",
    "            \"Paired\",\n",
    "            \"Accent\",\n",
    "            \"Dark2\",\n",
    "            \"Set1\",\n",
    "            \"Set2\",\n",
    "            \"Set3\",\n",
    "            \"tab10\",\n",
    "            \"tab20\",\n",
    "            \"tab20b\",\n",
    "            \"tab20c\",\n",
    "        ],\n",
    "    ),\n",
    "    (\n",
    "        \"Miscellaneous\",\n",
    "        [\n",
    "            \"flag\",\n",
    "            \"prism\",\n",
    "            \"ocean\",\n",
    "            \"gist_earth\",\n",
    "            \"terrain\",\n",
    "            \"gist_stern\",\n",
    "            \"gnuplot\",\n",
    "            \"gnuplot2\",\n",
    "            \"CMRmap\",\n",
    "            \"cubehelix\",\n",
    "            \"brg\",\n",
    "            \"gist_rainbow\",\n",
    "            \"rainbow\",\n",
    "            \"jet\",\n",
    "            \"turbo\",\n",
    "            \"nipy_spectral\",\n",
    "            \"gist_ncar\",\n",
    "        ],\n",
    "    ),\n",
    "]\n",
    "\n",
    "\n",
    "gradient = np.linspace(0, 1, 256)\n",
    "gradient = np.vstack((gradient, gradient))\n",
    "\n",
    "\n",
    "def plot_color_gradients(cmap_category, cmap_list):\n",
    "    # Create figure and adjust figure height to number of colormaps\n",
    "    nrows = len(cmap_list)\n",
    "    figh = 0.35 + 0.15 + (nrows + (nrows - 1) * 0.1) * 0.22\n",
    "    fig, axs = plt.subplots(nrows=nrows, figsize=(6.4, figh))\n",
    "    fig.subplots_adjust(top=1 - 0.35 / figh, bottom=0.15 / figh, left=0.2, right=0.99)\n",
    "\n",
    "    axs[0].set_title(cmap_category + \" colormaps\", fontsize=14)\n",
    "\n",
    "    for ax, name in zip(axs, cmap_list):\n",
    "        ax.imshow(gradient, aspect=\"auto\", cmap=plt.get_cmap(name))\n",
    "        ax.text(\n",
    "            -0.01,\n",
    "            0.5,\n",
    "            name,\n",
    "            va=\"center\",\n",
    "            ha=\"right\",\n",
    "            fontsize=10,\n",
    "            transform=ax.transAxes,\n",
    "        )\n",
    "\n",
    "    # Turn off *all* ticks & spines, not just the ones with colormaps.\n",
    "    for ax in axs:\n",
    "        ax.set_axis_off()\n",
    "\n",
    "\n",
    "for cmap_category, cmap_list in cmaps[5:6]:\n",
    "    plot_color_gradients(cmap_category, cmap_list)\n",
    "\n",
    "plt.show()"
   ]
  },
  {
   "cell_type": "markdown",
   "metadata": {},
   "source": [
    "#### Continuous Colour Scales\n",
    "\n",
    "Continuously varying data need a sequential colour scale, but there are two types: *sequential* and *diverging*\n",
    "\n",
    "For data that vary from low to high, you can use a sequential colourmap. Best practice is to use a sequential colourmap that is perceptually uniform. The authors of the Python package **matplotlib** [developed](https://bids.github.io/colormap/) several perceptually uniform colourmaps that are now widely used, not just in Python, but in other languages and contexts too {cite:ps}`nunez2018optimizing`. These are the ones built-in to **matplotlib**:"
   ]
  },
  {
   "cell_type": "code",
   "execution_count": 7,
   "metadata": {
    "tags": [
     "remove-input"
    ]
   },
   "outputs": [
    {
     "data": {
      "image/svg+xml": "<?xml version=\"1.0\" encoding=\"utf-8\" standalone=\"no\"?>\n<!DOCTYPE svg PUBLIC \"-//W3C//DTD SVG 1.1//EN\"\n  \"http://www.w3.org/Graphics/SVG/1.1/DTD/svg11.dtd\">\n<svg xmlns:xlink=\"http://www.w3.org/1999/xlink\" width=\"411.512945pt\" height=\"115.497563pt\" viewBox=\"0 0 411.512945 115.497563\" xmlns=\"http://www.w3.org/2000/svg\" version=\"1.1\">\n <metadata>\n  <rdf:RDF xmlns:dc=\"http://purl.org/dc/elements/1.1/\" xmlns:cc=\"http://creativecommons.org/ns#\" xmlns:rdf=\"http://www.w3.org/1999/02/22-rdf-syntax-ns#\">\n   <cc:Work>\n    <dc:type rdf:resource=\"http://purl.org/dc/dcmitype/StillImage\"/>\n    <dc:date>2022-10-25T08:06:08.718182</dc:date>\n    <dc:format>image/svg+xml</dc:format>\n    <dc:creator>\n     <cc:Agent>\n      <dc:title>Matplotlib v3.5.3, https://matplotlib.org/</dc:title>\n     </cc:Agent>\n    </dc:creator>\n   </cc:Work>\n  </rdf:RDF>\n </metadata>\n <defs>\n  <style type=\"text/css\">*{stroke-linejoin: round; stroke-linecap: butt}</style>\n </defs>\n <g id=\"figure_1\">\n  <g id=\"patch_1\">\n   <path d=\"M 0 115.497563 \nL 411.512945 115.497563 \nL 411.512945 0 \nL 0 0 \nz\n\" style=\"fill: #ffffff\"/>\n  </g>\n  <g id=\"axes_1\">\n   <g clip-path=\"url(#p4a65bbe05e)\">\n    <image xlink:href=\"data:image/png;base64,\niVBORw0KGgoAAAANSUhEUgAAAvcAAAAfCAYAAABj9+J9AAABx0lEQVR4nO3WQU7EMAwF0KRzNY7A/Y9C2SDkDLGazAxIWO+tKo/juIXF72/9/WxR7+H5CI/zegv1Hs8eoSepj/3X87/nrNy/skt6//Xzudm/Mv8c+tvPnp3eH/2h50jmxJ7sbHJvNievZ/us7LBxz/BtNvdK6xd7PVR/cJ+F3t/Y65mZf3r2xbPznjOpPzG/LfQkO1z9r+zOyM8u9EdL8/d6+sLZntYn8+K44dz8zr5U3+wJOxzpnDP0zGdmZ4+Lu1bODc9tsz85e/SPJ87O59xe0J/tdWvX+2Y9tzizbdbjvsn3y+vX7zLu8PFVy95pfudsxn192HGlJ3mPlW9wS/724w5x/3Pyewu/t3l96OlJT6iHnqEeToxzjvAczsZcfHcfAADwjwn3AABQhHAPAABFCPcAAFCEcA8AAEUI9wAAUIRwDwAARQj3AABQhHAPAABFCPcAAFCEcA8AAEUI9wAAUIRwDwAARQj3AABQhHAPAABFCPcAAFCEcA8AAEUI9wAAUIRwDwAARQj3AABQhHAPAABFCPcAAFCEcA8AAEUI9wAAUIRwDwAARQj3AABQhHAPAABFCPcAAFCEcA8AAEUI9wAAUMQnWPqJRaauMw4AAAAASUVORK5CYII=\" id=\"imagef45cfe80f9\" transform=\"scale(1 -1)translate(0 -14.88)\" x=\"40.280945\" y=\"-22.629149\" width=\"364.32\" height=\"14.88\"/>\n   </g>\n   <g id=\"text_1\">\n    <!-- viridis -->\n    <g style=\"fill: #323034\" transform=\"translate(11.08125 32.465043)scale(0.1 -0.1)\">\n     <defs>\n      <path id=\"STIXGeneral-Regular-76\" d=\"M 3053 2880 \nL 3053 2784 \nQ 2906 2771 2835 2688 \nQ 2765 2605 2637 2285 \nL 1818 230 \nQ 1690 -90 1638 -90 \nQ 1587 -90 1523 77 \nQ 1510 96 1497 141 \nQ 1485 186 1472 211 \nL 704 2048 \nQ 499 2534 403 2652 \nQ 307 2771 122 2784 \nL 122 2880 \nL 1376 2880 \nL 1376 2784 \nQ 1210 2771 1146 2732 \nQ 1082 2694 1082 2611 \nQ 1082 2509 1139 2368 \nL 1792 730 \nL 2426 2387 \nQ 2464 2483 2464 2579 \nQ 2464 2758 2163 2784 \nL 2163 2880 \nL 3053 2880 \nz\n\" transform=\"scale(0.015625)\"/>\n      <path id=\"STIXGeneral-Regular-69\" d=\"M 1152 4045 \nQ 1152 3904 1056 3811 \nQ 960 3718 819 3718 \nQ 685 3718 592 3811 \nQ 499 3904 499 4045 \nQ 499 4179 595 4275 \nQ 691 4371 826 4371 \nQ 966 4371 1059 4275 \nQ 1152 4179 1152 4045 \nz\nM 1619 0 \nL 102 0 \nL 102 96 \nQ 435 115 521 211 \nQ 608 307 608 666 \nL 608 2118 \nQ 608 2342 563 2432 \nQ 518 2522 397 2522 \nQ 243 2522 128 2490 \nL 128 2592 \nL 1120 2944 \nL 1146 2918 \nL 1146 672 \nQ 1146 314 1226 218 \nQ 1306 122 1619 96 \nL 1619 0 \nz\n\" transform=\"scale(0.015625)\"/>\n      <path id=\"STIXGeneral-Regular-72\" d=\"M 1024 2931 \nL 1024 2342 \nQ 1267 2688 1430 2816 \nQ 1594 2944 1792 2944 \nQ 1958 2944 2051 2854 \nQ 2144 2765 2144 2605 \nQ 2144 2470 2077 2393 \nQ 2010 2317 1894 2317 \nQ 1773 2317 1638 2445 \nQ 1536 2541 1472 2541 \nQ 1338 2541 1181 2355 \nQ 1024 2170 1024 2016 \nL 1024 576 \nQ 1024 301 1133 205 \nQ 1242 109 1568 96 \nL 1568 0 \nL 32 0 \nL 32 96 \nQ 339 154 412 224 \nQ 486 294 486 538 \nL 486 2138 \nQ 486 2349 438 2435 \nQ 390 2522 269 2522 \nQ 166 2522 45 2496 \nL 45 2598 \nQ 448 2726 992 2944 \nL 1024 2931 \nz\n\" transform=\"scale(0.015625)\"/>\n      <path id=\"STIXGeneral-Regular-64\" d=\"M 3142 269 \nL 2202 -64 \nL 2176 -45 \nL 2176 365 \nQ 1869 -64 1357 -64 \nQ 826 -64 499 317 \nQ 173 698 173 1312 \nQ 173 1990 563 2467 \nQ 954 2944 1504 2944 \nQ 1850 2944 2176 2669 \nL 2176 3667 \nQ 2176 3866 2118 3930 \nQ 2061 3994 1882 3994 \nQ 1792 3994 1741 3987 \nL 1741 4090 \nQ 2323 4243 2682 4371 \nL 2714 4358 \nL 2714 730 \nQ 2714 506 2768 435 \nQ 2822 365 2995 365 \nQ 3034 365 3142 371 \nL 3142 269 \nz\nM 2176 653 \nL 2176 2125 \nQ 2176 2381 1981 2573 \nQ 1786 2765 1523 2765 \nQ 1158 2765 940 2438 \nQ 723 2112 723 1568 \nQ 723 979 963 624 \nQ 1203 269 1606 269 \nQ 1907 269 2080 474 \nQ 2176 582 2176 653 \nz\n\" transform=\"scale(0.015625)\"/>\n      <path id=\"STIXGeneral-Regular-73\" d=\"M 998 1926 \nL 1664 1523 \nQ 1984 1331 2105 1164 \nQ 2227 998 2227 736 \nQ 2227 416 1961 176 \nQ 1696 -64 1331 -64 \nQ 1030 -64 864 -6 \nQ 691 51 570 51 \nQ 461 51 416 -26 \nL 333 -26 \nL 333 979 \nL 435 979 \nQ 538 512 730 294 \nQ 922 77 1248 77 \nQ 1485 77 1632 211 \nQ 1779 346 1779 550 \nQ 1779 845 1440 1030 \nL 1094 1222 \nQ 326 1651 326 2150 \nQ 326 2522 566 2730 \nQ 806 2938 1210 2938 \nQ 1491 2938 1638 2867 \nQ 1754 2816 1818 2816 \nQ 1862 2816 1920 2880 \nL 1990 2880 \nL 2022 2010 \nL 1926 2010 \nQ 1818 2445 1654 2621 \nQ 1491 2797 1203 2797 \nQ 986 2797 854 2688 \nQ 723 2579 723 2362 \nQ 723 2253 796 2128 \nQ 870 2003 998 1926 \nz\n\" transform=\"scale(0.015625)\"/>\n     </defs>\n     <use xlink:href=\"#STIXGeneral-Regular-76\"/>\n     <use xlink:href=\"#STIXGeneral-Regular-69\" x=\"49.999985\"/>\n     <use xlink:href=\"#STIXGeneral-Regular-72\" x=\"77.799973\"/>\n     <use xlink:href=\"#STIXGeneral-Regular-69\" x=\"111.09996\"/>\n     <use xlink:href=\"#STIXGeneral-Regular-64\" x=\"138.899948\"/>\n     <use xlink:href=\"#STIXGeneral-Regular-69\" x=\"188.899933\"/>\n     <use xlink:href=\"#STIXGeneral-Regular-73\" x=\"216.699921\"/>\n    </g>\n   </g>\n   <g id=\"text_2\">\n    <!-- Perceptually Uniform Sequential colormaps -->\n    <g style=\"fill: #323034\" transform=\"translate(40.280945 16.761562)scale(0.14 -0.14)\">\n     <defs>\n      <path id=\"STIXGeneral-Regular-50\" d=\"M 102 4237 \nL 1760 4237 \nQ 2669 4237 3149 3834 \nQ 3469 3565 3469 3072 \nQ 3469 2560 3104 2234 \nQ 2835 1990 2553 1916 \nQ 2272 1843 1734 1843 \nQ 1549 1843 1293 1862 \nL 1293 717 \nQ 1293 352 1398 246 \nQ 1504 141 1894 122 \nL 1894 0 \nL 102 0 \nL 102 122 \nQ 474 147 557 256 \nQ 640 365 640 781 \nL 640 3526 \nQ 640 3885 547 3987 \nQ 454 4090 102 4115 \nL 102 4237 \nz\nM 1293 3770 \nL 1293 2118 \nQ 1510 2099 1683 2099 \nQ 2202 2099 2486 2352 \nQ 2771 2605 2771 3040 \nQ 2771 3558 2476 3779 \nQ 2182 4000 1517 4000 \nQ 1382 4000 1337 3952 \nQ 1293 3904 1293 3770 \nz\n\" transform=\"scale(0.015625)\"/>\n      <path id=\"STIXGeneral-Regular-65\" d=\"M 2611 1050 \nL 2714 1005 \nQ 2330 -64 1376 -64 \nQ 813 -64 486 329 \nQ 160 723 160 1389 \nQ 160 2074 525 2509 \nQ 890 2944 1485 2944 \nQ 2061 2944 2374 2502 \nQ 2560 2246 2592 1773 \nL 621 1773 \nQ 646 1370 700 1158 \nQ 755 947 915 730 \nQ 1184 378 1626 378 \nQ 1939 378 2153 531 \nQ 2368 685 2611 1050 \nz\nM 634 1978 \nL 1939 1978 \nQ 1882 2381 1750 2547 \nQ 1619 2714 1312 2714 \nQ 1043 2714 864 2525 \nQ 685 2336 634 1978 \nz\n\" transform=\"scale(0.015625)\"/>\n      <path id=\"STIXGeneral-Regular-63\" d=\"M 2547 998 \nL 2637 941 \nQ 2362 403 2112 205 \nQ 1786 -64 1376 -64 \nQ 845 -64 502 336 \nQ 160 736 160 1357 \nQ 160 2170 698 2618 \nQ 1094 2944 1562 2944 \nQ 1965 2944 2256 2749 \nQ 2547 2554 2547 2285 \nQ 2547 2176 2457 2096 \nQ 2368 2016 2246 2016 \nQ 2022 2016 1939 2310 \nL 1901 2451 \nQ 1850 2630 1773 2694 \nQ 1696 2758 1523 2758 \nQ 1133 2758 893 2451 \nQ 653 2144 653 1645 \nQ 653 1094 928 745 \nQ 1203 397 1645 397 \nQ 1920 397 2118 528 \nQ 2317 659 2547 998 \nz\n\" transform=\"scale(0.015625)\"/>\n      <path id=\"STIXGeneral-Regular-70\" d=\"M 1018 2931 \nL 1018 2438 \nQ 1421 2944 1939 2944 \nQ 2406 2944 2707 2560 \nQ 3008 2176 3008 1581 \nQ 3008 883 2621 409 \nQ 2234 -64 1664 -64 \nQ 1466 -64 1328 -6 \nQ 1190 51 1018 211 \nL 1018 -794 \nQ 1018 -1094 1120 -1180 \nQ 1222 -1267 1581 -1274 \nL 1581 -1389 \nL 32 -1389 \nL 32 -1280 \nQ 314 -1254 397 -1171 \nQ 480 -1088 480 -838 \nL 480 2157 \nQ 480 2381 429 2451 \nQ 378 2522 218 2522 \nQ 115 2522 58 2515 \nL 58 2618 \nQ 506 2752 979 2944 \nL 1018 2931 \nz\nM 1018 2138 \nL 1018 563 \nQ 1018 422 1238 281 \nQ 1459 141 1683 141 \nQ 2029 141 2243 467 \nQ 2458 794 2458 1325 \nQ 2458 1888 2243 2224 \nQ 2029 2560 1670 2560 \nQ 1446 2560 1232 2419 \nQ 1018 2278 1018 2138 \nz\n\" transform=\"scale(0.015625)\"/>\n      <path id=\"STIXGeneral-Regular-74\" d=\"M 1702 493 \nL 1786 422 \nQ 1478 -64 1011 -64 \nQ 448 -64 448 749 \nL 448 2675 \nL 109 2675 \nQ 83 2694 83 2720 \nQ 83 2771 192 2842 \nQ 435 2982 813 3526 \nQ 826 3546 874 3606 \nQ 922 3667 941 3706 \nQ 986 3706 986 3622 \nL 986 2880 \nL 1632 2880 \nL 1632 2675 \nL 986 2675 \nL 986 845 \nQ 986 538 1062 403 \nQ 1139 269 1318 269 \nQ 1510 269 1702 493 \nz\n\" transform=\"scale(0.015625)\"/>\n      <path id=\"STIXGeneral-Regular-75\" d=\"M 3072 320 \nL 3072 230 \nQ 2573 96 2195 -58 \nL 2163 -38 \nL 2163 486 \nL 2150 486 \nQ 1747 -64 1235 -64 \nQ 870 -64 662 160 \nQ 454 384 454 755 \nL 454 2362 \nQ 454 2598 371 2688 \nQ 288 2778 58 2790 \nL 58 2880 \nL 992 2880 \nL 992 813 \nQ 992 595 1123 451 \nQ 1254 307 1446 307 \nQ 1760 307 1984 506 \nQ 2067 582 2099 649 \nQ 2131 717 2131 877 \nL 2131 2355 \nQ 2131 2605 2041 2678 \nQ 1952 2752 1658 2771 \nL 1658 2880 \nL 2669 2880 \nL 2669 685 \nQ 2669 461 2742 390 \nQ 2816 320 3034 320 \nL 3072 320 \nz\n\" transform=\"scale(0.015625)\"/>\n      <path id=\"STIXGeneral-Regular-61\" d=\"M 2829 422 \nL 2829 243 \nQ 2586 -64 2253 -64 \nQ 1888 -64 1843 403 \nL 1837 403 \nQ 1427 -64 909 -64 \nQ 608 -64 422 112 \nQ 237 288 237 602 \nQ 237 1050 685 1350 \nQ 992 1555 1837 1869 \nL 1837 2214 \nQ 1837 2502 1699 2646 \nQ 1562 2790 1338 2790 \nQ 1146 2790 1018 2697 \nQ 890 2605 890 2477 \nQ 890 2419 909 2348 \nQ 928 2278 928 2208 \nQ 928 2112 841 2029 \nQ 755 1946 634 1946 \nQ 525 1946 441 2029 \nQ 358 2112 358 2240 \nQ 358 2547 685 2752 \nQ 986 2944 1421 2944 \nQ 1939 2944 2176 2656 \nQ 2291 2522 2323 2384 \nQ 2355 2246 2355 1946 \nL 2355 723 \nQ 2355 301 2554 301 \nQ 2682 301 2829 422 \nz\nM 1837 813 \nL 1837 1715 \nQ 1248 1510 1018 1293 \nQ 800 1094 800 800 \nQ 800 557 921 432 \nQ 1043 307 1242 307 \nQ 1453 307 1613 410 \nQ 1747 506 1792 589 \nQ 1837 672 1837 813 \nz\n\" transform=\"scale(0.015625)\"/>\n      <path id=\"STIXGeneral-Regular-6c\" d=\"M 1645 0 \nL 134 0 \nL 134 96 \nQ 435 122 531 221 \nQ 627 320 627 589 \nL 627 3590 \nQ 627 3821 569 3910 \nQ 512 4000 358 4000 \nQ 224 4000 122 3987 \nL 122 4090 \nQ 730 4237 1133 4371 \nL 1165 4346 \nL 1165 557 \nQ 1165 288 1254 201 \nQ 1344 115 1645 96 \nL 1645 0 \nz\n\" transform=\"scale(0.015625)\"/>\n      <path id=\"STIXGeneral-Regular-79\" d=\"M 3040 2880 \nL 3040 2784 \nQ 2925 2771 2854 2700 \nQ 2784 2630 2720 2458 \nL 1760 -160 \nQ 1510 -838 1257 -1116 \nQ 1005 -1395 640 -1395 \nQ 435 -1395 313 -1289 \nQ 192 -1184 192 -1024 \nQ 192 -902 272 -816 \nQ 352 -730 467 -730 \nQ 653 -730 800 -813 \nQ 883 -858 966 -858 \nQ 1101 -858 1286 -576 \nQ 1376 -448 1459 -211 \nQ 1542 26 1542 115 \nQ 1542 198 1274 762 \nL 429 2566 \nQ 346 2752 90 2790 \nL 90 2880 \nL 1402 2880 \nL 1402 2784 \nQ 1197 2778 1117 2739 \nQ 1037 2701 1037 2611 \nQ 1037 2541 1120 2349 \nL 1837 749 \nL 2458 2515 \nQ 2483 2573 2483 2630 \nQ 2483 2784 2189 2784 \nL 2189 2880 \nL 3040 2880 \nz\n\" transform=\"scale(0.015625)\"/>\n      <path id=\"STIXGeneral-Regular-20\" transform=\"scale(0.015625)\"/>\n      <path id=\"STIXGeneral-Regular-55\" d=\"M 4512 4237 \nL 4512 4115 \nQ 4122 4077 4016 3926 \nQ 3910 3776 3910 3302 \nL 3910 1670 \nQ 3910 1178 3840 896 \nQ 3770 614 3565 378 \nQ 3155 -90 2272 -90 \nQ 1574 -90 1184 205 \nQ 666 589 666 1594 \nL 666 3578 \nQ 666 3898 566 3994 \nQ 467 4090 90 4115 \nL 90 4237 \nL 1901 4237 \nL 1901 4115 \nQ 1517 4083 1417 3977 \nQ 1318 3872 1318 3514 \nL 1318 1517 \nQ 1318 1101 1369 877 \nQ 1421 653 1600 480 \nQ 1901 192 2419 192 \nQ 3066 192 3392 570 \nQ 3539 749 3584 963 \nQ 3629 1178 3629 1600 \nL 3629 3283 \nQ 3629 3782 3520 3936 \nQ 3411 4090 3027 4115 \nL 3027 4237 \nL 4512 4237 \nz\n\" transform=\"scale(0.015625)\"/>\n      <path id=\"STIXGeneral-Regular-6e\" d=\"M 3104 0 \nL 1773 0 \nL 1779 96 \nQ 2016 115 2096 233 \nQ 2176 352 2176 672 \nL 2176 1946 \nQ 2176 2592 1709 2592 \nQ 1549 2592 1408 2515 \nQ 1267 2438 1050 2227 \nL 1050 461 \nQ 1050 269 1136 192 \nQ 1222 115 1466 96 \nL 1466 0 \nL 115 0 \nL 115 96 \nQ 358 115 435 214 \nQ 512 314 512 602 \nL 512 2157 \nQ 512 2394 467 2483 \nQ 422 2573 288 2573 \nQ 160 2573 102 2547 \nL 102 2656 \nQ 550 2784 979 2944 \nL 1030 2925 \nL 1030 2426 \nL 1037 2426 \nQ 1491 2944 1958 2944 \nQ 2323 2944 2518 2688 \nQ 2714 2432 2714 1958 \nL 2714 544 \nQ 2714 288 2790 205 \nQ 2867 122 3104 96 \nL 3104 0 \nz\n\" transform=\"scale(0.015625)\"/>\n      <path id=\"STIXGeneral-Regular-66\" d=\"M 134 2880 \nL 659 2880 \nQ 666 3264 710 3478 \nQ 755 3693 883 3910 \nQ 1152 4371 1786 4371 \nQ 2074 4371 2262 4259 \nQ 2451 4147 2451 3974 \nQ 2451 3866 2374 3789 \nQ 2298 3712 2182 3712 \nQ 2029 3712 1894 3942 \nQ 1741 4192 1555 4192 \nQ 1197 4192 1197 3622 \nL 1197 2880 \nL 1978 2880 \nL 1978 2675 \nL 1197 2675 \nL 1197 666 \nQ 1197 307 1299 208 \nQ 1402 109 1792 96 \nL 1792 0 \nL 128 0 \nL 128 96 \nQ 474 115 566 214 \nQ 659 314 659 666 \nL 659 2675 \nL 134 2675 \nL 134 2880 \nz\n\" transform=\"scale(0.015625)\"/>\n      <path id=\"STIXGeneral-Regular-6f\" d=\"M 3008 1478 \nQ 3008 806 2608 371 \nQ 2208 -64 1568 -64 \nQ 979 -64 582 368 \nQ 186 800 186 1459 \nQ 186 2125 582 2534 \nQ 979 2944 1626 2944 \nQ 2221 2944 2614 2537 \nQ 3008 2131 3008 1478 \nz\nM 2432 1306 \nQ 2432 2035 2112 2445 \nQ 1856 2765 1504 2765 \nQ 1171 2765 966 2493 \nQ 762 2221 762 1747 \nQ 762 928 1101 435 \nQ 1318 115 1677 115 \nQ 2029 115 2230 432 \nQ 2432 749 2432 1306 \nz\n\" transform=\"scale(0.015625)\"/>\n      <path id=\"STIXGeneral-Regular-6d\" d=\"M 4960 0 \nL 3565 0 \nL 3565 96 \nQ 3834 122 3907 208 \nQ 3981 294 3981 576 \nL 3981 1894 \nQ 3981 2278 3869 2444 \nQ 3757 2611 3488 2611 \nQ 3264 2611 3107 2521 \nQ 2950 2432 2803 2221 \nL 2803 608 \nQ 2803 301 2896 201 \nQ 2989 102 3264 96 \nL 3264 0 \nL 1830 0 \nL 1830 96 \nQ 2112 115 2189 188 \nQ 2266 262 2266 550 \nL 2266 1901 \nQ 2266 2611 1850 2611 \nQ 1670 2611 1468 2531 \nQ 1267 2451 1171 2336 \nQ 1088 2240 1088 2227 \nL 1088 448 \nQ 1088 243 1177 176 \nQ 1267 109 1523 96 \nL 1523 0 \nL 102 0 \nL 102 96 \nQ 371 102 460 195 \nQ 550 288 550 563 \nL 550 2150 \nQ 550 2387 499 2480 \nQ 448 2573 326 2573 \nQ 230 2573 122 2547 \nL 122 2656 \nQ 557 2778 1011 2944 \nL 1062 2925 \nL 1062 2451 \nL 1075 2451 \nQ 1363 2752 1584 2848 \nQ 1805 2944 2054 2944 \nQ 2560 2944 2733 2406 \nQ 3232 2944 3776 2944 \nQ 4518 2944 4518 1792 \nL 4518 493 \nQ 4518 282 4582 202 \nQ 4646 122 4794 109 \nL 4960 96 \nL 4960 0 \nz\n\" transform=\"scale(0.015625)\"/>\n      <path id=\"STIXGeneral-Regular-53\" d=\"M 3002 2963 \nL 2842 2963 \nQ 2733 3360 2579 3565 \nQ 2189 4064 1651 4064 \nQ 1357 4064 1181 3894 \nQ 1005 3725 1005 3456 \nQ 1005 3328 1069 3206 \nQ 1133 3085 1206 2998 \nQ 1280 2912 1465 2784 \nQ 1651 2656 1766 2589 \nQ 1882 2522 2150 2362 \nQ 2669 2061 2905 1763 \nQ 3142 1466 3142 1107 \nQ 3142 576 2771 243 \nQ 2400 -90 1837 -90 \nQ 1421 -90 1082 58 \nQ 915 128 781 128 \nQ 704 128 653 70 \nQ 602 13 602 -83 \nL 461 -83 \nL 275 1274 \nL 416 1274 \nQ 845 141 1734 141 \nQ 2074 141 2285 342 \nQ 2496 544 2496 858 \nQ 2496 1158 2310 1363 \nQ 2003 1696 1235 2106 \nQ 454 2522 454 3206 \nQ 454 3718 768 4022 \nQ 1082 4326 1568 4326 \nQ 1907 4326 2240 4186 \nQ 2413 4109 2522 4109 \nQ 2688 4109 2726 4326 \nL 2861 4326 \nL 3002 2963 \nz\n\" transform=\"scale(0.015625)\"/>\n      <path id=\"STIXGeneral-Regular-71\" d=\"M 3123 -1389 \nL 1613 -1389 \nL 1613 -1280 \nQ 1952 -1254 2067 -1158 \nQ 2182 -1062 2182 -794 \nL 2182 410 \nQ 1747 -64 1178 -64 \nQ 730 -64 442 320 \nQ 154 704 154 1312 \nQ 154 2003 560 2473 \nQ 966 2944 1562 2944 \nQ 1920 2944 2304 2720 \nL 2650 2925 \nL 2720 2925 \nL 2720 -902 \nQ 2720 -1107 2797 -1180 \nQ 2874 -1254 3123 -1280 \nL 3123 -1389 \nz\nM 2182 813 \nL 2182 2131 \nQ 2182 2758 1587 2758 \nQ 1178 2758 941 2432 \nQ 704 2106 704 1542 \nQ 704 1210 803 925 \nQ 902 640 1062 499 \nQ 1254 326 1542 326 \nQ 1882 326 2106 531 \nQ 2182 602 2182 813 \nz\n\" transform=\"scale(0.015625)\"/>\n     </defs>\n     <use xlink:href=\"#STIXGeneral-Regular-50\"/>\n     <use xlink:href=\"#STIXGeneral-Regular-65\" x=\"55.699997\"/>\n     <use xlink:href=\"#STIXGeneral-Regular-72\" x=\"100.099991\"/>\n     <use xlink:href=\"#STIXGeneral-Regular-63\" x=\"133.399979\"/>\n     <use xlink:href=\"#STIXGeneral-Regular-65\" x=\"177.799973\"/>\n     <use xlink:href=\"#STIXGeneral-Regular-70\" x=\"222.199966\"/>\n     <use xlink:href=\"#STIXGeneral-Regular-74\" x=\"272.199951\"/>\n     <use xlink:href=\"#STIXGeneral-Regular-75\" x=\"299.999939\"/>\n     <use xlink:href=\"#STIXGeneral-Regular-61\" x=\"349.999924\"/>\n     <use xlink:href=\"#STIXGeneral-Regular-6c\" x=\"394.399918\"/>\n     <use xlink:href=\"#STIXGeneral-Regular-6c\" x=\"422.199905\"/>\n     <use xlink:href=\"#STIXGeneral-Regular-79\" x=\"449.999893\"/>\n     <use xlink:href=\"#STIXGeneral-Regular-20\" x=\"499.999878\"/>\n     <use xlink:href=\"#STIXGeneral-Regular-55\" x=\"524.999863\"/>\n     <use xlink:href=\"#STIXGeneral-Regular-6e\" x=\"597.199844\"/>\n     <use xlink:href=\"#STIXGeneral-Regular-69\" x=\"647.199829\"/>\n     <use xlink:href=\"#STIXGeneral-Regular-66\" x=\"674.999817\"/>\n     <use xlink:href=\"#STIXGeneral-Regular-6f\" x=\"708.299805\"/>\n     <use xlink:href=\"#STIXGeneral-Regular-72\" x=\"758.299789\"/>\n     <use xlink:href=\"#STIXGeneral-Regular-6d\" x=\"791.599777\"/>\n     <use xlink:href=\"#STIXGeneral-Regular-20\" x=\"869.399765\"/>\n     <use xlink:href=\"#STIXGeneral-Regular-53\" x=\"894.39975\"/>\n     <use xlink:href=\"#STIXGeneral-Regular-65\" x=\"949.999741\"/>\n     <use xlink:href=\"#STIXGeneral-Regular-71\" x=\"994.399734\"/>\n     <use xlink:href=\"#STIXGeneral-Regular-75\" x=\"1044.399719\"/>\n     <use xlink:href=\"#STIXGeneral-Regular-65\" x=\"1094.399704\"/>\n     <use xlink:href=\"#STIXGeneral-Regular-6e\" x=\"1138.799698\"/>\n     <use xlink:href=\"#STIXGeneral-Regular-74\" x=\"1188.799683\"/>\n     <use xlink:href=\"#STIXGeneral-Regular-69\" x=\"1216.59967\"/>\n     <use xlink:href=\"#STIXGeneral-Regular-61\" x=\"1244.399658\"/>\n     <use xlink:href=\"#STIXGeneral-Regular-6c\" x=\"1288.799652\"/>\n     <use xlink:href=\"#STIXGeneral-Regular-20\" x=\"1316.59964\"/>\n     <use xlink:href=\"#STIXGeneral-Regular-63\" x=\"1341.599625\"/>\n     <use xlink:href=\"#STIXGeneral-Regular-6f\" x=\"1385.999619\"/>\n     <use xlink:href=\"#STIXGeneral-Regular-6c\" x=\"1435.999603\"/>\n     <use xlink:href=\"#STIXGeneral-Regular-6f\" x=\"1463.799591\"/>\n     <use xlink:href=\"#STIXGeneral-Regular-72\" x=\"1513.799576\"/>\n     <use xlink:href=\"#STIXGeneral-Regular-6d\" x=\"1547.099564\"/>\n     <use xlink:href=\"#STIXGeneral-Regular-61\" x=\"1624.899551\"/>\n     <use xlink:href=\"#STIXGeneral-Regular-70\" x=\"1669.299545\"/>\n     <use xlink:href=\"#STIXGeneral-Regular-73\" x=\"1719.29953\"/>\n    </g>\n   </g>\n  </g>\n  <g id=\"axes_2\">\n   <g clip-path=\"url(#p7c1e45463c)\">\n    <image xlink:href=\"data:image/png;base64,\niVBORw0KGgoAAAANSUhEUgAAAvcAAAAfCAYAAABj9+J9AAAB00lEQVR4nO3WQW4DIQwFUKCVuum5e+zSXQYSnDBNuqj13gohYzxkkV8/P756GbyXelm/9XZZt3E/WI81rQf7z6z7fm2d9svj+r5Rs9NnrOnrGWo4f1DTV+fKch3V1GCWrbNTffQeUf1rzq72a92oreN+D/aj+nH/ODveO8+wronOtmHoGtVM+7fznz1X20bN2Z7RjOH3Rd90rn9t0W/SX9DvD9Zh/9vZX9u/n+gXzBL0Lk/Nu77ruZ5jn+BbVusnfqeds/E3DSXt3BvE95Z1zfQn97v3CN90Y/azPaMZy1bNsAxm2+l/OTsHhPu11/Ub3102Zpz7rGfY67Nz76J/e/wG8f6x7mFAiGY8ln2rpjyu2TnbVrV1XTvU9DaFguWdq3vu9xzX4xt8D/vH+qotAADwnwn3AACQhHAPAABJCPcAAJCEcA8AAEkI9wAAkIRwDwAASQj3AACQhHAPAABJCPcAAJCEcA8AAEkI9wAAkIRwDwAASQj3AACQhHAPAABJCPcAAJCEcA8AAEkI9wAAkIRwDwAASQj3AACQhHAPAABJCPcAAJCEcA8AAEkI9wAAkIRwDwAASQj3AACQhHAPAABJCPcAAJCEcA8AAEkI9wAAkMQPHZ2fRUxBx8EAAAAASUVORK5CYII=\" id=\"image0a8c05f706\" transform=\"scale(1 -1)translate(0 -14.88)\" x=\"40.280945\" y=\"-40.326252\" width=\"364.32\" height=\"14.88\"/>\n   </g>\n   <g id=\"text_3\">\n    <!-- plasma -->\n    <g style=\"fill: #323034\" transform=\"translate(8.309375 50.162147)scale(0.1 -0.1)\">\n     <use xlink:href=\"#STIXGeneral-Regular-70\"/>\n     <use xlink:href=\"#STIXGeneral-Regular-6c\" x=\"49.999985\"/>\n     <use xlink:href=\"#STIXGeneral-Regular-61\" x=\"77.799973\"/>\n     <use xlink:href=\"#STIXGeneral-Regular-73\" x=\"122.199966\"/>\n     <use xlink:href=\"#STIXGeneral-Regular-6d\" x=\"161.09996\"/>\n     <use xlink:href=\"#STIXGeneral-Regular-61\" x=\"238.899948\"/>\n    </g>\n   </g>\n  </g>\n  <g id=\"axes_3\">\n   <g clip-path=\"url(#p0c2da661f7)\">\n    <image xlink:href=\"data:image/png;base64,\niVBORw0KGgoAAAANSUhEUgAAAvcAAAAfCAYAAABj9+J9AAAB9klEQVR4nO3WQW4bMQwFUEmT3v/GnW5sRIL1UzlBFyXeWwn0J0e2E4O9tetuiz6dx1Sd6n2EzLXN9DmTevt+zlJ/nNO8uW/E51/b+gj1ef5ooTfV07PCZzbufeZ5TjNSX873kJ/r6XySb/tM3+eXv7ge5mzqc3adkZ4/ZZbZ/6L3vfp3e0f7/Pd99y7r+7hDfe6dnhVnhvscPGu5c7xP6n2921L7ybyj3vQ9pMy9zfT4WYZ8O5jzqOf7ntzrzfrRew2ZMdd/f/ue78yPfeNg9vi8Y7xLnPPZ21Im1sNnE/Jtzv9tZpo3nVvfz2vp+0uZ6V7puenurR/MXOZMraF3/SF4znutvZzTD97yAzl+UA/nfpAJ53tcB/nrkf369dfMFTL7Z95H+VDvHyH/MZ3n3oP6c+aS3bzeWmvj1zbT+z7fQ6YfZMaSv7b11tY/QQAA4D9muQcAgCIs9wAAUITlHgAAirDcAwBAEZZ7AAAownIPAABFWO4BAKAIyz0AABRhuQcAgCIs9wAAUITlHgAAirDcAwBAEZZ7AAAownIPAABFWO4BAKAIyz0AABRhuQcAgCIs9wAAUITlHgAAirDcAwBAEZZ7AAAownIPAABFWO4BAKAIyz0AABRhuQcAgCIs9wAAUITlHgAAirDcAwBAEZZ7AAAo4g8ho2zbYshB8gAAAABJRU5ErkJggg==\" id=\"image8dfdf1e8c1\" transform=\"scale(1 -1)translate(0 -14.88)\" x=\"40.280945\" y=\"-58.023356\" width=\"364.32\" height=\"14.88\"/>\n   </g>\n   <g id=\"text_4\">\n    <!-- inferno -->\n    <g style=\"fill: #323034\" transform=\"translate(7.760937 67.85925)scale(0.1 -0.1)\">\n     <use xlink:href=\"#STIXGeneral-Regular-69\"/>\n     <use xlink:href=\"#STIXGeneral-Regular-6e\" x=\"27.799988\"/>\n     <use xlink:href=\"#STIXGeneral-Regular-66\" x=\"77.799973\"/>\n     <use xlink:href=\"#STIXGeneral-Regular-65\" x=\"111.09996\"/>\n     <use xlink:href=\"#STIXGeneral-Regular-72\" x=\"155.499954\"/>\n     <use xlink:href=\"#STIXGeneral-Regular-6e\" x=\"188.799942\"/>\n     <use xlink:href=\"#STIXGeneral-Regular-6f\" x=\"238.799927\"/>\n    </g>\n   </g>\n  </g>\n  <g id=\"axes_4\">\n   <g clip-path=\"url(#pbd90fbb70e)\">\n    <image xlink:href=\"data:image/png;base64,\niVBORw0KGgoAAAANSUhEUgAAAvcAAAAfCAYAAABj9+J9AAAB40lEQVR4nO3WQW7jMAwFUEm5/5k9mwaRMOSYRroZ4r1NDZai5UBO/hzjdY3D3K7XVt3qc8U9hfrc6iOpZ/3v+vn/V7wuu87uM1+3PWs869/3trI9j31+8iw/PauybsT7TXuu5Pn2vR9zPudgJmvT/qSeXc+bnjmzdR8r69maKvW1H/9j5l4fcX82Z8T9+56znndLfv/7GbW9P6t/s/b5zCup//zdarPy3OMzr7SvrT+bf86pzM964vr5LFdYf8+sfXaV+8f3mU/XFnrOc7nX9z087A/q57tVWRf3Hz0rnnOsXYX5674+0p54n0f9OCzXP2ckP99nPXlhanPiwz0LL+TMXozky+RR/8zWfXOdfGjpHlfYk39ZZv2VOUHP43lJ/ZgT91zrvqcyZ3w1ZwV7qa/7rfv/vYfk5dnr4zzSAADAf0y4BwCAJoR7AABoQrgHAIAmhHsAAGhCuAcAgCaEewAAaEK4BwCAJoR7AABoQrgHAIAmhHsAAGhCuAcAgCaEewAAaEK4BwCAJoR7AABoQrgHAIAmhHsAAGhCuAcAgCaEewAAaEK4BwCAJoR7AABoQrgHAIAmhHsAAGhCuAcAgCaEewAAaEK4BwCAJoR7AABoQrgHAIAmhHsAAGhCuAcAgCb+ABtfLvPUr90xAAAAAElFTkSuQmCC\" id=\"image0dffade6f3\" transform=\"scale(1 -1)translate(0 -14.88)\" x=\"40.280945\" y=\"-75.720459\" width=\"364.32\" height=\"14.88\"/>\n   </g>\n   <g id=\"text_5\">\n    <!-- magma -->\n    <g style=\"fill: #323034\" transform=\"translate(7.2 85.546978)scale(0.1 -0.1)\">\n     <defs>\n      <path id=\"STIXGeneral-Regular-67\" d=\"M 3008 2483 \nL 2477 2483 \nQ 2598 2208 2598 1946 \nQ 2598 1453 2265 1203 \nQ 1933 954 1600 954 \nQ 1530 954 1357 973 \nL 1235 986 \nQ 1107 947 979 812 \nQ 851 678 851 582 \nQ 851 435 1350 410 \nL 2176 371 \nQ 2528 358 2739 172 \nQ 2950 -13 2950 -314 \nQ 2950 -685 2566 -986 \nQ 2035 -1395 1286 -1395 \nQ 826 -1395 502 -1212 \nQ 179 -1030 179 -774 \nQ 179 -595 320 -419 \nQ 461 -243 806 6 \nQ 602 102 534 172 \nQ 467 243 467 346 \nQ 467 531 762 787 \nQ 909 915 1037 1043 \nQ 717 1203 579 1401 \nQ 442 1600 442 1901 \nQ 442 2336 752 2640 \nQ 1062 2944 1510 2944 \nQ 1766 2944 2022 2848 \nL 2163 2797 \nQ 2349 2733 2515 2733 \nL 3008 2733 \nL 3008 2483 \nz\nM 973 2163 \nL 973 2144 \nQ 973 1683 1155 1398 \nQ 1338 1114 1632 1114 \nQ 1850 1114 1978 1270 \nQ 2106 1427 2106 1690 \nQ 2106 2112 1914 2464 \nQ 1754 2765 1446 2765 \nQ 1222 2765 1097 2605 \nQ 973 2445 973 2163 \nz\nM 2771 -410 \nQ 2771 -230 2595 -163 \nQ 2419 -96 1978 -96 \nQ 1344 -96 941 -13 \nQ 749 -243 688 -348 \nQ 627 -454 627 -563 \nQ 627 -774 880 -902 \nQ 1133 -1030 1555 -1030 \nQ 2099 -1030 2435 -860 \nQ 2771 -691 2771 -410 \nz\n\" transform=\"scale(0.015625)\"/>\n     </defs>\n     <use xlink:href=\"#STIXGeneral-Regular-6d\"/>\n     <use xlink:href=\"#STIXGeneral-Regular-61\" x=\"77.799988\"/>\n     <use xlink:href=\"#STIXGeneral-Regular-67\" x=\"122.199982\"/>\n     <use xlink:href=\"#STIXGeneral-Regular-6d\" x=\"172.199966\"/>\n     <use xlink:href=\"#STIXGeneral-Regular-61\" x=\"249.999954\"/>\n    </g>\n   </g>\n  </g>\n  <g id=\"axes_5\">\n   <g clip-path=\"url(#p8de767dbd5)\">\n    <image xlink:href=\"data:image/png;base64,\niVBORw0KGgoAAAANSUhEUgAAAvcAAAAfCAYAAABj9+J9AAABuklEQVR4nO3WQVLCQBAF0JngSbyP978NuLKYkWnpMeii671VCJ9OJ1j4e3v/uLVRP8YX6/PT8ZBpUWZz5tM5mb2ieeO+67VGb319fBkyl/F8vy3PT9v04LjdP9sXmTE7PfXx/HD96akH1+xhZr1LlO/BvUaZzJz+5Hnsz/vHzPAik2+JzGpO/H5/yGbmfX8jNTOz+5Rffzg3c2OHze9g3Cv8nnZnhvngGQSZU8+yP2bP/W3v5eP7e838OB/8hi3yfzI7dR+7v7P5e/rdnrcn2cy+mWsOmZbIvGyHxPlhztf/wTMz5vyJvTbnR70gt/9jfnfHI7xmdE+b+TPXmo6vP2aO6P2WmXE/H86Zzq/zbcjPX2zcbY8GAACUoNwDAEARyj0AABSh3AMAQBHKPQAAFKHcAwBAEco9AAAUodwDAEARyj0AABSh3AMAQBHKPQAAFKHcAwBAEco9AAAUodwDAEARyj0AABSh3AMAQBHKPQAAFKHcAwBAEco9AAAUodwDAEARyj0AABSh3AMAQBHKPQAAFKHcAwBAEco9AAAUodwDAEARyj0AABSh3AMAQBHKPQAAFKHcAwBAEZ+AqkVYS00MtwAAAABJRU5ErkJggg==\" id=\"image943ca66667\" transform=\"scale(1 -1)translate(0 -14.88)\" x=\"40.280945\" y=\"-93.417563\" width=\"364.32\" height=\"14.88\"/>\n   </g>\n   <g id=\"text_6\">\n    <!-- cividis -->\n    <g style=\"fill: #323034\" transform=\"translate(9.970312 103.253457)scale(0.1 -0.1)\">\n     <use xlink:href=\"#STIXGeneral-Regular-63\"/>\n     <use xlink:href=\"#STIXGeneral-Regular-69\" x=\"44.399994\"/>\n     <use xlink:href=\"#STIXGeneral-Regular-76\" x=\"72.199982\"/>\n     <use xlink:href=\"#STIXGeneral-Regular-69\" x=\"122.199966\"/>\n     <use xlink:href=\"#STIXGeneral-Regular-64\" x=\"149.999954\"/>\n     <use xlink:href=\"#STIXGeneral-Regular-69\" x=\"199.999939\"/>\n     <use xlink:href=\"#STIXGeneral-Regular-73\" x=\"227.799927\"/>\n    </g>\n   </g>\n  </g>\n </g>\n <defs>\n  <clipPath id=\"p4a65bbe05e\">\n   <rect x=\"40.280945\" y=\"22.761562\" width=\"364.032\" height=\"14.747586\"/>\n  </clipPath>\n  <clipPath id=\"p7c1e45463c\">\n   <rect x=\"40.280945\" y=\"40.458666\" width=\"364.032\" height=\"14.747586\"/>\n  </clipPath>\n  <clipPath id=\"p0c2da661f7\">\n   <rect x=\"40.280945\" y=\"58.155769\" width=\"364.032\" height=\"14.747586\"/>\n  </clipPath>\n  <clipPath id=\"pbd90fbb70e\">\n   <rect x=\"40.280945\" y=\"75.852873\" width=\"364.032\" height=\"14.747586\"/>\n  </clipPath>\n  <clipPath id=\"p8de767dbd5\">\n   <rect x=\"40.280945\" y=\"93.549976\" width=\"364.032\" height=\"14.747586\"/>\n  </clipPath>\n </defs>\n</svg>\n",
      "text/plain": [
       "<Figure size 960x253.2 with 5 Axes>"
      ]
     },
     "metadata": {},
     "output_type": "display_data"
    }
   ],
   "source": [
    "# remove input\n",
    "for cmap_category, cmap_list in cmaps[:1]:\n",
    "    plot_color_gradients(cmap_category, cmap_list)"
   ]
  },
  {
   "cell_type": "markdown",
   "metadata": {},
   "source": [
    "Do not use the JET colourmap: it is very much not perceptually uniform. If you do want a rainbow-like sequential and perceptually uniform colourmap, then turbo, [developed by Google](https://ai.googleblog.com/2019/08/turbo-improved-rainbow-colormap-for.html), is as good a choice as you're going to find. You can find turbo within matplotlib."
   ]
  },
  {
   "cell_type": "code",
   "execution_count": 8,
   "metadata": {
    "tags": [
     "remove-input"
    ]
   },
   "outputs": [
    {
     "data": {
      "image/svg+xml": "<?xml version=\"1.0\" encoding=\"utf-8\" standalone=\"no\"?>\n<!DOCTYPE svg PUBLIC \"-//W3C//DTD SVG 1.1//EN\"\n  \"http://www.w3.org/Graphics/SVG/1.1/DTD/svg11.dtd\">\n<svg xmlns:xlink=\"http://www.w3.org/1999/xlink\" width=\"396.200575pt\" height=\"31.032pt\" viewBox=\"0 0 396.200575 31.032\" xmlns=\"http://www.w3.org/2000/svg\" version=\"1.1\">\n <metadata>\n  <rdf:RDF xmlns:dc=\"http://purl.org/dc/elements/1.1/\" xmlns:cc=\"http://creativecommons.org/ns#\" xmlns:rdf=\"http://www.w3.org/1999/02/22-rdf-syntax-ns#\">\n   <cc:Work>\n    <dc:type rdf:resource=\"http://purl.org/dc/dcmitype/StillImage\"/>\n    <dc:date>2022-10-25T08:06:11.449854</dc:date>\n    <dc:format>image/svg+xml</dc:format>\n    <dc:creator>\n     <cc:Agent>\n      <dc:title>Matplotlib v3.5.3, https://matplotlib.org/</dc:title>\n     </cc:Agent>\n    </dc:creator>\n   </cc:Work>\n  </rdf:RDF>\n </metadata>\n <defs>\n  <style type=\"text/css\">*{stroke-linejoin: round; stroke-linecap: butt}</style>\n </defs>\n <g id=\"figure_1\">\n  <g id=\"patch_1\">\n   <path d=\"M 0 31.032 \nL 396.200575 31.032 \nL 396.200575 0 \nL 0 0 \nz\n\" style=\"fill: #ffffff\"/>\n  </g>\n  <g id=\"axes_1\">\n   <g clip-path=\"url(#pc773bea6da)\">\n    <image xlink:href=\"data:image/png;base64,\niVBORw0KGgoAAAANSUhEUgAAAukAAAAjCAYAAAApKJTwAAACXElEQVR4nO3WMXIbORAFUAAjyxvvSTbf+9/KHDixrIaBNmlHHbwXgR8fGKlqWOz+37//zxb062tY//NzPZY8WY/3w/57cu79uG4xH7HzJTn7I4/743O95Mm6jbfQf3va6de1ddc7rtCNnevYWfOxd8Yh2/LxNJ+jJ/3PfF79R7dt2Z63p/k9ZshnyNs5v+793LjDfrzj3s79ms8kXzuPw/4jef45n0v/DzrJfuthHTotdHrM+znvfV+PeEfYH+GO2In51Z/np/U1kv327ef6LbnjrWedkLfHsfNxNt1Pnr/0W/J3JZ2P9XJu2b9fyJP1zPK5ZWPO0A3rGTst5J8fxtIPnTt0lrOHZ4b9+Kou+XJ3P+br2b7ly9cj7F8xX9b7HVsent8PneWrlzynx/se535+dm6d2G1x/7F3f9d5JW+Pfd2f7P+6nkt+/1V/pt3zfTPpvHLPR2e5487uDr9D8Y5X+ktnP3cnd9zhX876eadt/de6YT3PnUd2Nr5ah2cur152X/IKZfnpzvRVff5KvtaZv9//lp7rTzuttTYaAABQiiEdAACKMaQDAEAxhnQAACjGkA4AAMUY0gEAoBhDOgAAFGNIBwCAYgzpAABQjCEdAACKMaQDAEAxhnQAACjGkA4AAMUY0gEAoBhDOgAAFGNIBwCAYgzpAABQjCEdAACKMaQDAEAxhnQAACjGkA4AAMUY0gEAoBhDOgAAFGNIBwCAYgzpAABQjCEdAACKMaQDAEAxhnQAACjGkA4AAMUY0gEAoBhDOgAAFGNIBwCAYgzpAABQjCEdAACK+Q5k52nUR5fbkQAAAABJRU5ErkJggg==\" id=\"image9df3a93c0b\" transform=\"scale(1 -1)translate(0 -16.8)\" x=\"31.880575\" y=\"-7.032\" width=\"357.6\" height=\"16.8\"/>\n   </g>\n   <g id=\"text_1\">\n    <!-- turbo -->\n    <g style=\"fill: #323034\" transform=\"translate(7.2 17.845688)scale(0.1 -0.1)\">\n     <defs>\n      <path id=\"STIXGeneral-Regular-74\" d=\"M 1702 493 \nL 1786 422 \nQ 1478 -64 1011 -64 \nQ 448 -64 448 749 \nL 448 2675 \nL 109 2675 \nQ 83 2694 83 2720 \nQ 83 2771 192 2842 \nQ 435 2982 813 3526 \nQ 826 3546 874 3606 \nQ 922 3667 941 3706 \nQ 986 3706 986 3622 \nL 986 2880 \nL 1632 2880 \nL 1632 2675 \nL 986 2675 \nL 986 845 \nQ 986 538 1062 403 \nQ 1139 269 1318 269 \nQ 1510 269 1702 493 \nz\n\" transform=\"scale(0.015625)\"/>\n      <path id=\"STIXGeneral-Regular-75\" d=\"M 3072 320 \nL 3072 230 \nQ 2573 96 2195 -58 \nL 2163 -38 \nL 2163 486 \nL 2150 486 \nQ 1747 -64 1235 -64 \nQ 870 -64 662 160 \nQ 454 384 454 755 \nL 454 2362 \nQ 454 2598 371 2688 \nQ 288 2778 58 2790 \nL 58 2880 \nL 992 2880 \nL 992 813 \nQ 992 595 1123 451 \nQ 1254 307 1446 307 \nQ 1760 307 1984 506 \nQ 2067 582 2099 649 \nQ 2131 717 2131 877 \nL 2131 2355 \nQ 2131 2605 2041 2678 \nQ 1952 2752 1658 2771 \nL 1658 2880 \nL 2669 2880 \nL 2669 685 \nQ 2669 461 2742 390 \nQ 2816 320 3034 320 \nL 3072 320 \nz\n\" transform=\"scale(0.015625)\"/>\n      <path id=\"STIXGeneral-Regular-72\" d=\"M 1024 2931 \nL 1024 2342 \nQ 1267 2688 1430 2816 \nQ 1594 2944 1792 2944 \nQ 1958 2944 2051 2854 \nQ 2144 2765 2144 2605 \nQ 2144 2470 2077 2393 \nQ 2010 2317 1894 2317 \nQ 1773 2317 1638 2445 \nQ 1536 2541 1472 2541 \nQ 1338 2541 1181 2355 \nQ 1024 2170 1024 2016 \nL 1024 576 \nQ 1024 301 1133 205 \nQ 1242 109 1568 96 \nL 1568 0 \nL 32 0 \nL 32 96 \nQ 339 154 412 224 \nQ 486 294 486 538 \nL 486 2138 \nQ 486 2349 438 2435 \nQ 390 2522 269 2522 \nQ 166 2522 45 2496 \nL 45 2598 \nQ 448 2726 992 2944 \nL 1024 2931 \nz\n\" transform=\"scale(0.015625)\"/>\n      <path id=\"STIXGeneral-Regular-62\" d=\"M 979 4358 \nL 979 2406 \nQ 1082 2650 1315 2797 \nQ 1549 2944 1843 2944 \nQ 2349 2944 2672 2541 \nQ 2995 2138 2995 1536 \nQ 2995 832 2566 384 \nQ 2138 -64 1498 -64 \nQ 1107 -64 774 67 \nQ 442 198 442 358 \nL 442 3622 \nQ 442 3859 384 3926 \nQ 326 3994 128 3994 \nQ 83 3994 19 3981 \nL 19 4090 \nL 211 4147 \nQ 864 4346 947 4371 \nL 979 4358 \nz\nM 979 2035 \nL 979 474 \nQ 979 326 1161 233 \nQ 1344 141 1600 141 \nQ 1978 141 2195 416 \nQ 2432 710 2432 1261 \nQ 2432 1888 2182 2240 \nQ 1971 2541 1613 2541 \nQ 1357 2541 1168 2390 \nQ 979 2240 979 2035 \nz\n\" transform=\"scale(0.015625)\"/>\n      <path id=\"STIXGeneral-Regular-6f\" d=\"M 3008 1478 \nQ 3008 806 2608 371 \nQ 2208 -64 1568 -64 \nQ 979 -64 582 368 \nQ 186 800 186 1459 \nQ 186 2125 582 2534 \nQ 979 2944 1626 2944 \nQ 2221 2944 2614 2537 \nQ 3008 2131 3008 1478 \nz\nM 2432 1306 \nQ 2432 2035 2112 2445 \nQ 1856 2765 1504 2765 \nQ 1171 2765 966 2493 \nQ 762 2221 762 1747 \nQ 762 928 1101 435 \nQ 1318 115 1677 115 \nQ 2029 115 2230 432 \nQ 2432 749 2432 1306 \nz\n\" transform=\"scale(0.015625)\"/>\n     </defs>\n     <use xlink:href=\"#STIXGeneral-Regular-74\"/>\n     <use xlink:href=\"#STIXGeneral-Regular-75\" x=\"27.799988\"/>\n     <use xlink:href=\"#STIXGeneral-Regular-72\" x=\"77.799973\"/>\n     <use xlink:href=\"#STIXGeneral-Regular-62\" x=\"111.09996\"/>\n     <use xlink:href=\"#STIXGeneral-Regular-6f\" x=\"161.099945\"/>\n    </g>\n   </g>\n  </g>\n </g>\n <defs>\n  <clipPath id=\"pc773bea6da\">\n   <rect x=\"31.880575\" y=\"7.2\" width=\"357.12\" height=\"16.632\"/>\n  </clipPath>\n </defs>\n</svg>\n",
      "text/plain": [
       "<Figure size 960x45 with 1 Axes>"
      ]
     },
     "metadata": {},
     "output_type": "display_data"
    }
   ],
   "source": [
    "# remove-input\n",
    "def show_one_colourmap(cmap):\n",
    "    fig, ax = plt.subplots(figsize=(6.4, 0.3))\n",
    "    ax.text(\n",
    "        -0.01, 0.5, cmap, va=\"center\", ha=\"right\", fontsize=10, transform=ax.transAxes\n",
    "    )\n",
    "    ax.imshow(gradient, aspect=\"auto\", cmap=plt.get_cmap(cmap))\n",
    "    ax.set_axis_off()\n",
    "    plt.show()\n",
    "\n",
    "\n",
    "show_one_colourmap(\"turbo\")"
   ]
  },
  {
   "cell_type": "markdown",
   "metadata": {},
   "source": [
    "Sometimes a *diverging* colourmap will be more appropriate for your data. These are also called bipolar or double-ended color scales and, instead of just going from low to high, they tend to have a default middle value (often brighter) with values either side that are darker in different hues. Diverging color scales are often used to visualise negative and positive differences relative to zero, election results, or Likert scales (for example, “strongly agree, agree, neutral, disagree, strongly disagree”).\n",
    "\n",
    "These are the built-in ones in **matplotlib**:\n"
   ]
  },
  {
   "cell_type": "code",
   "execution_count": 9,
   "metadata": {
    "tags": [
     "remove-input"
    ]
   },
   "outputs": [
    {
     "data": {
      "image/svg+xml": "<?xml version=\"1.0\" encoding=\"utf-8\" standalone=\"no\"?>\n<!DOCTYPE svg PUBLIC \"-//W3C//DTD SVG 1.1//EN\"\n  \"http://www.w3.org/Graphics/SVG/1.1/DTD/svg11.dtd\">\n<svg xmlns:xlink=\"http://www.w3.org/1999/xlink\" width=\"422.062945pt\" height=\"237.465563pt\" viewBox=\"0 0 422.062945 237.465563\" xmlns=\"http://www.w3.org/2000/svg\" version=\"1.1\">\n <metadata>\n  <rdf:RDF xmlns:dc=\"http://purl.org/dc/elements/1.1/\" xmlns:cc=\"http://creativecommons.org/ns#\" xmlns:rdf=\"http://www.w3.org/1999/02/22-rdf-syntax-ns#\">\n   <cc:Work>\n    <dc:type rdf:resource=\"http://purl.org/dc/dcmitype/StillImage\"/>\n    <dc:date>2022-10-25T08:06:15.527624</dc:date>\n    <dc:format>image/svg+xml</dc:format>\n    <dc:creator>\n     <cc:Agent>\n      <dc:title>Matplotlib v3.5.3, https://matplotlib.org/</dc:title>\n     </cc:Agent>\n    </dc:creator>\n   </cc:Work>\n  </rdf:RDF>\n </metadata>\n <defs>\n  <style type=\"text/css\">*{stroke-linejoin: round; stroke-linecap: butt}</style>\n </defs>\n <g id=\"figure_1\">\n  <g id=\"patch_1\">\n   <path d=\"M 0 237.465563 \nL 422.062945 237.465563 \nL 422.062945 0 \nL 0 0 \nz\n\" style=\"fill: #ffffff\"/>\n  </g>\n  <g id=\"axes_1\">\n   <g clip-path=\"url(#p0f36b43d8b)\">\n    <image xlink:href=\"data:image/png;base64,\niVBORw0KGgoAAAANSUhEUgAAAvcAAAAfCAYAAABj9+J9AAAB1klEQVR4nO3WQU7kMBAFUDtwQg7GjTtmMRIpM/bE6Z4sKL23wXJ/l9MRgl8/60crwVZrWG+T9Xnm7cY5V2fc8VzbdmTq+zZev13cP8msnZs815N3vnw2rEt8Z9v4bJeJM0f5peyRKZM7X8qHZygLM+P+NB9ndu8s7NeTbF3ZLwuZf9//1DPcMKf7I1Z//Pwz5MjWQfZHJu63WWZ0ZymlTeZcv+v83umzDeZ076jsx4zwSQv7ZbLfukkrcxYy7X/d9dyc2Yy9Pa6ty7FuL53dL+Xj/tK907P7U+e69R739+H+o51n+plH5jG962p+/I4fg5lx3jy78D26TFzH37l2MTPJTzNxzmT+4K47Z/81P2RalynHflh3+bjfYn5lTtj//t533xm/6+RZFubEs6X0/94BAIBfTLkHAIAklHsAAEhCuQcAgCSUewAASEK5BwCAJJR7AABIQrkHAIAklHsAAEhCuQcAgCSUewAASEK5BwCAJJR7AABIQrkHAIAklHsAAEhCuQcAgCSUewAASEK5BwCAJJR7AABIQrkHAIAklHsAAEhCuQcAgCSUewAASEK5BwCAJJR7AABIQrkHAIAklHsAAEhCuQcAgCSUewAASEK5BwCAJL4A6R1N8HVWZ78AAAAASUVORK5CYII=\" id=\"imageee45b68584\" transform=\"scale(1 -1)translate(0 -14.88)\" x=\"50.830945\" y=\"-22.49452\" width=\"364.32\" height=\"14.88\"/>\n   </g>\n   <g id=\"text_1\">\n    <!-- PiYG -->\n    <g style=\"fill: #323034\" transform=\"translate(24.4 32.397729)scale(0.1 -0.1)\">\n     <defs>\n      <path id=\"STIXGeneral-Regular-50\" d=\"M 102 4237 \nL 1760 4237 \nQ 2669 4237 3149 3834 \nQ 3469 3565 3469 3072 \nQ 3469 2560 3104 2234 \nQ 2835 1990 2553 1916 \nQ 2272 1843 1734 1843 \nQ 1549 1843 1293 1862 \nL 1293 717 \nQ 1293 352 1398 246 \nQ 1504 141 1894 122 \nL 1894 0 \nL 102 0 \nL 102 122 \nQ 474 147 557 256 \nQ 640 365 640 781 \nL 640 3526 \nQ 640 3885 547 3987 \nQ 454 4090 102 4115 \nL 102 4237 \nz\nM 1293 3770 \nL 1293 2118 \nQ 1510 2099 1683 2099 \nQ 2202 2099 2486 2352 \nQ 2771 2605 2771 3040 \nQ 2771 3558 2476 3779 \nQ 2182 4000 1517 4000 \nQ 1382 4000 1337 3952 \nQ 1293 3904 1293 3770 \nz\n\" transform=\"scale(0.015625)\"/>\n      <path id=\"STIXGeneral-Regular-69\" d=\"M 1152 4045 \nQ 1152 3904 1056 3811 \nQ 960 3718 819 3718 \nQ 685 3718 592 3811 \nQ 499 3904 499 4045 \nQ 499 4179 595 4275 \nQ 691 4371 826 4371 \nQ 966 4371 1059 4275 \nQ 1152 4179 1152 4045 \nz\nM 1619 0 \nL 102 0 \nL 102 96 \nQ 435 115 521 211 \nQ 608 307 608 666 \nL 608 2118 \nQ 608 2342 563 2432 \nQ 518 2522 397 2522 \nQ 243 2522 128 2490 \nL 128 2592 \nL 1120 2944 \nL 1146 2918 \nL 1146 672 \nQ 1146 314 1226 218 \nQ 1306 122 1619 96 \nL 1619 0 \nz\n\" transform=\"scale(0.015625)\"/>\n      <path id=\"STIXGeneral-Regular-59\" d=\"M 4499 4237 \nL 4499 4115 \nQ 4218 4090 4054 3955 \nQ 3891 3821 3616 3398 \nL 2669 1939 \nL 2669 710 \nQ 2669 346 2790 243 \nQ 2912 141 3328 122 \nL 3328 0 \nL 1370 0 \nL 1370 122 \nQ 1805 154 1910 259 \nQ 2016 365 2016 787 \nL 2016 1882 \nL 1178 3110 \nQ 742 3750 556 3926 \nQ 371 4102 141 4115 \nL 141 4237 \nL 1926 4237 \nL 1926 4115 \nL 1773 4109 \nQ 1472 4102 1472 3942 \nQ 1472 3808 1587 3642 \nL 2522 2227 \nL 3450 3648 \nQ 3539 3782 3539 3917 \nQ 3533 4026 3440 4067 \nQ 3347 4109 3104 4115 \nL 3104 4237 \nL 4499 4237 \nz\n\" transform=\"scale(0.015625)\"/>\n      <path id=\"STIXGeneral-Regular-47\" d=\"M 4538 2266 \nL 4538 2150 \nQ 4256 2125 4173 2035 \nQ 4090 1946 4090 1638 \nL 4090 358 \nQ 3539 -90 2464 -90 \nQ 1965 -90 1507 89 \nQ 1050 269 736 595 \nQ 205 1152 205 2093 \nQ 205 3155 890 3776 \nQ 1491 4326 2419 4326 \nQ 2829 4326 3270 4179 \nQ 3443 4115 3552 4115 \nQ 3654 4115 3731 4176 \nQ 3808 4237 3840 4326 \nL 3981 4326 \nL 4032 2976 \nL 3885 2976 \nQ 3680 3475 3430 3718 \nQ 3059 4070 2496 4070 \nQ 1856 4070 1427 3629 \nQ 934 3136 934 2074 \nQ 934 1190 1395 678 \nQ 1856 166 2618 166 \nQ 2982 166 3225 281 \nQ 3469 397 3469 557 \nL 3469 1562 \nQ 3469 1933 3376 2025 \nQ 3283 2118 2899 2150 \nL 2899 2266 \nL 4538 2266 \nz\n\" transform=\"scale(0.015625)\"/>\n     </defs>\n     <use xlink:href=\"#STIXGeneral-Regular-50\"/>\n     <use xlink:href=\"#STIXGeneral-Regular-69\" x=\"55.699997\"/>\n     <use xlink:href=\"#STIXGeneral-Regular-59\" x=\"83.499985\"/>\n     <use xlink:href=\"#STIXGeneral-Regular-47\" x=\"155.699966\"/>\n    </g>\n   </g>\n   <g id=\"text_2\">\n    <!-- Diverging colormaps -->\n    <g style=\"fill: #323034\" transform=\"translate(50.830945 16.761562)scale(0.14 -0.14)\">\n     <defs>\n      <path id=\"STIXGeneral-Regular-44\" d=\"M 102 4237 \nL 1830 4237 \nQ 3078 4237 3750 3654 \nQ 4384 3110 4384 2138 \nQ 4384 966 3514 410 \nQ 2880 0 1901 0 \nL 102 0 \nL 102 122 \nQ 474 147 570 252 \nQ 666 358 666 736 \nL 666 3520 \nQ 666 3891 570 3990 \nQ 474 4090 102 4115 \nL 102 4237 \nz\nM 1318 3731 \nL 1318 538 \nQ 1318 365 1379 301 \nQ 1440 237 1626 237 \nQ 2125 237 2432 307 \nQ 2739 378 3021 570 \nQ 3686 1018 3686 2099 \nQ 3686 3027 3078 3558 \nQ 2803 3802 2476 3901 \nQ 2150 4000 1658 4000 \nQ 1472 4000 1395 3942 \nQ 1318 3885 1318 3731 \nz\n\" transform=\"scale(0.015625)\"/>\n      <path id=\"STIXGeneral-Regular-76\" d=\"M 3053 2880 \nL 3053 2784 \nQ 2906 2771 2835 2688 \nQ 2765 2605 2637 2285 \nL 1818 230 \nQ 1690 -90 1638 -90 \nQ 1587 -90 1523 77 \nQ 1510 96 1497 141 \nQ 1485 186 1472 211 \nL 704 2048 \nQ 499 2534 403 2652 \nQ 307 2771 122 2784 \nL 122 2880 \nL 1376 2880 \nL 1376 2784 \nQ 1210 2771 1146 2732 \nQ 1082 2694 1082 2611 \nQ 1082 2509 1139 2368 \nL 1792 730 \nL 2426 2387 \nQ 2464 2483 2464 2579 \nQ 2464 2758 2163 2784 \nL 2163 2880 \nL 3053 2880 \nz\n\" transform=\"scale(0.015625)\"/>\n      <path id=\"STIXGeneral-Regular-65\" d=\"M 2611 1050 \nL 2714 1005 \nQ 2330 -64 1376 -64 \nQ 813 -64 486 329 \nQ 160 723 160 1389 \nQ 160 2074 525 2509 \nQ 890 2944 1485 2944 \nQ 2061 2944 2374 2502 \nQ 2560 2246 2592 1773 \nL 621 1773 \nQ 646 1370 700 1158 \nQ 755 947 915 730 \nQ 1184 378 1626 378 \nQ 1939 378 2153 531 \nQ 2368 685 2611 1050 \nz\nM 634 1978 \nL 1939 1978 \nQ 1882 2381 1750 2547 \nQ 1619 2714 1312 2714 \nQ 1043 2714 864 2525 \nQ 685 2336 634 1978 \nz\n\" transform=\"scale(0.015625)\"/>\n      <path id=\"STIXGeneral-Regular-72\" d=\"M 1024 2931 \nL 1024 2342 \nQ 1267 2688 1430 2816 \nQ 1594 2944 1792 2944 \nQ 1958 2944 2051 2854 \nQ 2144 2765 2144 2605 \nQ 2144 2470 2077 2393 \nQ 2010 2317 1894 2317 \nQ 1773 2317 1638 2445 \nQ 1536 2541 1472 2541 \nQ 1338 2541 1181 2355 \nQ 1024 2170 1024 2016 \nL 1024 576 \nQ 1024 301 1133 205 \nQ 1242 109 1568 96 \nL 1568 0 \nL 32 0 \nL 32 96 \nQ 339 154 412 224 \nQ 486 294 486 538 \nL 486 2138 \nQ 486 2349 438 2435 \nQ 390 2522 269 2522 \nQ 166 2522 45 2496 \nL 45 2598 \nQ 448 2726 992 2944 \nL 1024 2931 \nz\n\" transform=\"scale(0.015625)\"/>\n      <path id=\"STIXGeneral-Regular-67\" d=\"M 3008 2483 \nL 2477 2483 \nQ 2598 2208 2598 1946 \nQ 2598 1453 2265 1203 \nQ 1933 954 1600 954 \nQ 1530 954 1357 973 \nL 1235 986 \nQ 1107 947 979 812 \nQ 851 678 851 582 \nQ 851 435 1350 410 \nL 2176 371 \nQ 2528 358 2739 172 \nQ 2950 -13 2950 -314 \nQ 2950 -685 2566 -986 \nQ 2035 -1395 1286 -1395 \nQ 826 -1395 502 -1212 \nQ 179 -1030 179 -774 \nQ 179 -595 320 -419 \nQ 461 -243 806 6 \nQ 602 102 534 172 \nQ 467 243 467 346 \nQ 467 531 762 787 \nQ 909 915 1037 1043 \nQ 717 1203 579 1401 \nQ 442 1600 442 1901 \nQ 442 2336 752 2640 \nQ 1062 2944 1510 2944 \nQ 1766 2944 2022 2848 \nL 2163 2797 \nQ 2349 2733 2515 2733 \nL 3008 2733 \nL 3008 2483 \nz\nM 973 2163 \nL 973 2144 \nQ 973 1683 1155 1398 \nQ 1338 1114 1632 1114 \nQ 1850 1114 1978 1270 \nQ 2106 1427 2106 1690 \nQ 2106 2112 1914 2464 \nQ 1754 2765 1446 2765 \nQ 1222 2765 1097 2605 \nQ 973 2445 973 2163 \nz\nM 2771 -410 \nQ 2771 -230 2595 -163 \nQ 2419 -96 1978 -96 \nQ 1344 -96 941 -13 \nQ 749 -243 688 -348 \nQ 627 -454 627 -563 \nQ 627 -774 880 -902 \nQ 1133 -1030 1555 -1030 \nQ 2099 -1030 2435 -860 \nQ 2771 -691 2771 -410 \nz\n\" transform=\"scale(0.015625)\"/>\n      <path id=\"STIXGeneral-Regular-6e\" d=\"M 3104 0 \nL 1773 0 \nL 1779 96 \nQ 2016 115 2096 233 \nQ 2176 352 2176 672 \nL 2176 1946 \nQ 2176 2592 1709 2592 \nQ 1549 2592 1408 2515 \nQ 1267 2438 1050 2227 \nL 1050 461 \nQ 1050 269 1136 192 \nQ 1222 115 1466 96 \nL 1466 0 \nL 115 0 \nL 115 96 \nQ 358 115 435 214 \nQ 512 314 512 602 \nL 512 2157 \nQ 512 2394 467 2483 \nQ 422 2573 288 2573 \nQ 160 2573 102 2547 \nL 102 2656 \nQ 550 2784 979 2944 \nL 1030 2925 \nL 1030 2426 \nL 1037 2426 \nQ 1491 2944 1958 2944 \nQ 2323 2944 2518 2688 \nQ 2714 2432 2714 1958 \nL 2714 544 \nQ 2714 288 2790 205 \nQ 2867 122 3104 96 \nL 3104 0 \nz\n\" transform=\"scale(0.015625)\"/>\n      <path id=\"STIXGeneral-Regular-20\" transform=\"scale(0.015625)\"/>\n      <path id=\"STIXGeneral-Regular-63\" d=\"M 2547 998 \nL 2637 941 \nQ 2362 403 2112 205 \nQ 1786 -64 1376 -64 \nQ 845 -64 502 336 \nQ 160 736 160 1357 \nQ 160 2170 698 2618 \nQ 1094 2944 1562 2944 \nQ 1965 2944 2256 2749 \nQ 2547 2554 2547 2285 \nQ 2547 2176 2457 2096 \nQ 2368 2016 2246 2016 \nQ 2022 2016 1939 2310 \nL 1901 2451 \nQ 1850 2630 1773 2694 \nQ 1696 2758 1523 2758 \nQ 1133 2758 893 2451 \nQ 653 2144 653 1645 \nQ 653 1094 928 745 \nQ 1203 397 1645 397 \nQ 1920 397 2118 528 \nQ 2317 659 2547 998 \nz\n\" transform=\"scale(0.015625)\"/>\n      <path id=\"STIXGeneral-Regular-6f\" d=\"M 3008 1478 \nQ 3008 806 2608 371 \nQ 2208 -64 1568 -64 \nQ 979 -64 582 368 \nQ 186 800 186 1459 \nQ 186 2125 582 2534 \nQ 979 2944 1626 2944 \nQ 2221 2944 2614 2537 \nQ 3008 2131 3008 1478 \nz\nM 2432 1306 \nQ 2432 2035 2112 2445 \nQ 1856 2765 1504 2765 \nQ 1171 2765 966 2493 \nQ 762 2221 762 1747 \nQ 762 928 1101 435 \nQ 1318 115 1677 115 \nQ 2029 115 2230 432 \nQ 2432 749 2432 1306 \nz\n\" transform=\"scale(0.015625)\"/>\n      <path id=\"STIXGeneral-Regular-6c\" d=\"M 1645 0 \nL 134 0 \nL 134 96 \nQ 435 122 531 221 \nQ 627 320 627 589 \nL 627 3590 \nQ 627 3821 569 3910 \nQ 512 4000 358 4000 \nQ 224 4000 122 3987 \nL 122 4090 \nQ 730 4237 1133 4371 \nL 1165 4346 \nL 1165 557 \nQ 1165 288 1254 201 \nQ 1344 115 1645 96 \nL 1645 0 \nz\n\" transform=\"scale(0.015625)\"/>\n      <path id=\"STIXGeneral-Regular-6d\" d=\"M 4960 0 \nL 3565 0 \nL 3565 96 \nQ 3834 122 3907 208 \nQ 3981 294 3981 576 \nL 3981 1894 \nQ 3981 2278 3869 2444 \nQ 3757 2611 3488 2611 \nQ 3264 2611 3107 2521 \nQ 2950 2432 2803 2221 \nL 2803 608 \nQ 2803 301 2896 201 \nQ 2989 102 3264 96 \nL 3264 0 \nL 1830 0 \nL 1830 96 \nQ 2112 115 2189 188 \nQ 2266 262 2266 550 \nL 2266 1901 \nQ 2266 2611 1850 2611 \nQ 1670 2611 1468 2531 \nQ 1267 2451 1171 2336 \nQ 1088 2240 1088 2227 \nL 1088 448 \nQ 1088 243 1177 176 \nQ 1267 109 1523 96 \nL 1523 0 \nL 102 0 \nL 102 96 \nQ 371 102 460 195 \nQ 550 288 550 563 \nL 550 2150 \nQ 550 2387 499 2480 \nQ 448 2573 326 2573 \nQ 230 2573 122 2547 \nL 122 2656 \nQ 557 2778 1011 2944 \nL 1062 2925 \nL 1062 2451 \nL 1075 2451 \nQ 1363 2752 1584 2848 \nQ 1805 2944 2054 2944 \nQ 2560 2944 2733 2406 \nQ 3232 2944 3776 2944 \nQ 4518 2944 4518 1792 \nL 4518 493 \nQ 4518 282 4582 202 \nQ 4646 122 4794 109 \nL 4960 96 \nL 4960 0 \nz\n\" transform=\"scale(0.015625)\"/>\n      <path id=\"STIXGeneral-Regular-61\" d=\"M 2829 422 \nL 2829 243 \nQ 2586 -64 2253 -64 \nQ 1888 -64 1843 403 \nL 1837 403 \nQ 1427 -64 909 -64 \nQ 608 -64 422 112 \nQ 237 288 237 602 \nQ 237 1050 685 1350 \nQ 992 1555 1837 1869 \nL 1837 2214 \nQ 1837 2502 1699 2646 \nQ 1562 2790 1338 2790 \nQ 1146 2790 1018 2697 \nQ 890 2605 890 2477 \nQ 890 2419 909 2348 \nQ 928 2278 928 2208 \nQ 928 2112 841 2029 \nQ 755 1946 634 1946 \nQ 525 1946 441 2029 \nQ 358 2112 358 2240 \nQ 358 2547 685 2752 \nQ 986 2944 1421 2944 \nQ 1939 2944 2176 2656 \nQ 2291 2522 2323 2384 \nQ 2355 2246 2355 1946 \nL 2355 723 \nQ 2355 301 2554 301 \nQ 2682 301 2829 422 \nz\nM 1837 813 \nL 1837 1715 \nQ 1248 1510 1018 1293 \nQ 800 1094 800 800 \nQ 800 557 921 432 \nQ 1043 307 1242 307 \nQ 1453 307 1613 410 \nQ 1747 506 1792 589 \nQ 1837 672 1837 813 \nz\n\" transform=\"scale(0.015625)\"/>\n      <path id=\"STIXGeneral-Regular-70\" d=\"M 1018 2931 \nL 1018 2438 \nQ 1421 2944 1939 2944 \nQ 2406 2944 2707 2560 \nQ 3008 2176 3008 1581 \nQ 3008 883 2621 409 \nQ 2234 -64 1664 -64 \nQ 1466 -64 1328 -6 \nQ 1190 51 1018 211 \nL 1018 -794 \nQ 1018 -1094 1120 -1180 \nQ 1222 -1267 1581 -1274 \nL 1581 -1389 \nL 32 -1389 \nL 32 -1280 \nQ 314 -1254 397 -1171 \nQ 480 -1088 480 -838 \nL 480 2157 \nQ 480 2381 429 2451 \nQ 378 2522 218 2522 \nQ 115 2522 58 2515 \nL 58 2618 \nQ 506 2752 979 2944 \nL 1018 2931 \nz\nM 1018 2138 \nL 1018 563 \nQ 1018 422 1238 281 \nQ 1459 141 1683 141 \nQ 2029 141 2243 467 \nQ 2458 794 2458 1325 \nQ 2458 1888 2243 2224 \nQ 2029 2560 1670 2560 \nQ 1446 2560 1232 2419 \nQ 1018 2278 1018 2138 \nz\n\" transform=\"scale(0.015625)\"/>\n      <path id=\"STIXGeneral-Regular-73\" d=\"M 998 1926 \nL 1664 1523 \nQ 1984 1331 2105 1164 \nQ 2227 998 2227 736 \nQ 2227 416 1961 176 \nQ 1696 -64 1331 -64 \nQ 1030 -64 864 -6 \nQ 691 51 570 51 \nQ 461 51 416 -26 \nL 333 -26 \nL 333 979 \nL 435 979 \nQ 538 512 730 294 \nQ 922 77 1248 77 \nQ 1485 77 1632 211 \nQ 1779 346 1779 550 \nQ 1779 845 1440 1030 \nL 1094 1222 \nQ 326 1651 326 2150 \nQ 326 2522 566 2730 \nQ 806 2938 1210 2938 \nQ 1491 2938 1638 2867 \nQ 1754 2816 1818 2816 \nQ 1862 2816 1920 2880 \nL 1990 2880 \nL 2022 2010 \nL 1926 2010 \nQ 1818 2445 1654 2621 \nQ 1491 2797 1203 2797 \nQ 986 2797 854 2688 \nQ 723 2579 723 2362 \nQ 723 2253 796 2128 \nQ 870 2003 998 1926 \nz\n\" transform=\"scale(0.015625)\"/>\n     </defs>\n     <use xlink:href=\"#STIXGeneral-Regular-44\"/>\n     <use xlink:href=\"#STIXGeneral-Regular-69\" x=\"72.199982\"/>\n     <use xlink:href=\"#STIXGeneral-Regular-76\" x=\"99.999969\"/>\n     <use xlink:href=\"#STIXGeneral-Regular-65\" x=\"149.999954\"/>\n     <use xlink:href=\"#STIXGeneral-Regular-72\" x=\"194.399948\"/>\n     <use xlink:href=\"#STIXGeneral-Regular-67\" x=\"227.699936\"/>\n     <use xlink:href=\"#STIXGeneral-Regular-69\" x=\"277.699921\"/>\n     <use xlink:href=\"#STIXGeneral-Regular-6e\" x=\"305.499908\"/>\n     <use xlink:href=\"#STIXGeneral-Regular-67\" x=\"355.499893\"/>\n     <use xlink:href=\"#STIXGeneral-Regular-20\" x=\"405.499878\"/>\n     <use xlink:href=\"#STIXGeneral-Regular-63\" x=\"430.499863\"/>\n     <use xlink:href=\"#STIXGeneral-Regular-6f\" x=\"474.899857\"/>\n     <use xlink:href=\"#STIXGeneral-Regular-6c\" x=\"524.899841\"/>\n     <use xlink:href=\"#STIXGeneral-Regular-6f\" x=\"552.699829\"/>\n     <use xlink:href=\"#STIXGeneral-Regular-72\" x=\"602.699814\"/>\n     <use xlink:href=\"#STIXGeneral-Regular-6d\" x=\"635.999802\"/>\n     <use xlink:href=\"#STIXGeneral-Regular-61\" x=\"713.799789\"/>\n     <use xlink:href=\"#STIXGeneral-Regular-70\" x=\"758.199783\"/>\n     <use xlink:href=\"#STIXGeneral-Regular-73\" x=\"808.199768\"/>\n    </g>\n   </g>\n  </g>\n  <g id=\"axes_2\">\n   <g clip-path=\"url(#pfac5bf15b7)\">\n    <image xlink:href=\"data:image/png;base64,\niVBORw0KGgoAAAANSUhEUgAAAvcAAAAfCAYAAABj9+J9AAAByElEQVR4nO3WMXKEMAwFUBsulj73P87aaZLBzuLFbKCI5r3KIyRhtkh+/kifNTWWvGznZTmudz3rYc863NPMHryrf77NrTP3Hcye/tb2vG7nvOTtvA561qan2zOazU+9e89/19u7jN7f332i5/TdB/dZBnu6ntez78493XFq9njnPbP5ZT2PnufXc2/V83H/1M4b7pba48/+ZaeWUmqOKQ2+b9xzzWzbP7d/NLtfH/X8qKk05+1fQGnOte73dLO17vaUwf6Znf0dBu+d2Fmm7lx27tLsaHafPqc/zF61583Zszse9bGdS1Mvg/rp/omey971XL9qd/ebPZp6N1sH9ba/Durt/ov2fPeU0dzN31Ga76jl7Lmc6i879bvfecc5pd0/+wAAwH8k3AMAQBDCPQAABCHcAwBAEMI9AAAEIdwDAEAQwj0AAAQh3AMAQBDCPQAABCHcAwBAEMI9AAAEIdwDAEAQwj0AAAQh3AMAQBDCPQAABCHcAwBAEMI9AAAEIdwDAEAQwj0AAAQh3AMAQBDCPQAABCHcAwBAEMI9AAAEIdwDAEAQwj0AAAQh3AMAQBDCPQAABCHcAwBAEMI9AAAEIdwDAEAQX5mhZ6sRDc1qAAAAAElFTkSuQmCC\" id=\"image9bb0da48a9\" transform=\"scale(1 -1)translate(0 -14.88)\" x=\"50.830945\" y=\"-40.03007\" width=\"364.32\" height=\"14.88\"/>\n   </g>\n   <g id=\"text_3\">\n    <!-- PRGn -->\n    <g style=\"fill: #323034\" transform=\"translate(22.729688 49.933278)scale(0.1 -0.1)\">\n     <defs>\n      <path id=\"STIXGeneral-Regular-52\" d=\"M 4224 0 \nL 3187 0 \nL 1664 1971 \nL 1306 1958 \nL 1306 717 \nQ 1306 352 1405 249 \nQ 1504 147 1875 122 \nL 1875 0 \nL 109 0 \nL 109 122 \nQ 474 154 563 262 \nQ 653 371 653 794 \nL 653 3526 \nQ 653 3885 563 3987 \nQ 474 4090 109 4115 \nL 109 4237 \nL 1850 4237 \nQ 2726 4237 3187 3859 \nQ 3501 3603 3501 3091 \nQ 3501 2221 2342 2042 \nL 3622 422 \nQ 3757 256 3878 198 \nQ 4000 141 4224 122 \nL 4224 0 \nz\nM 1306 3731 \nL 1306 2195 \nQ 1766 2202 1990 2246 \nQ 2214 2291 2438 2413 \nQ 2803 2618 2803 3142 \nQ 2803 4000 1632 4000 \nQ 1459 4000 1382 3945 \nQ 1306 3891 1306 3731 \nz\n\" transform=\"scale(0.015625)\"/>\n     </defs>\n     <use xlink:href=\"#STIXGeneral-Regular-50\"/>\n     <use xlink:href=\"#STIXGeneral-Regular-52\" x=\"55.699997\"/>\n     <use xlink:href=\"#STIXGeneral-Regular-47\" x=\"122.399994\"/>\n     <use xlink:href=\"#STIXGeneral-Regular-6e\" x=\"194.599976\"/>\n    </g>\n   </g>\n  </g>\n  <g id=\"axes_3\">\n   <g clip-path=\"url(#p168e4d1e2f)\">\n    <image xlink:href=\"data:image/png;base64,\niVBORw0KGgoAAAANSUhEUgAAAvcAAAAfCAYAAABj9+J9AAABu0lEQVR4nO3WQXLbMAwFUJFq79PD9P43kdhdDTVExaT2TIq8t2JgEKTsif3bzx/fxxb0trDu8/re2m1Ptt7DH3fnpmcu3PGjZ/713NDU48z+pJ7WXz77ZfNDvfX9sd73ab0n9Vl/37/d94Z1Xzi/hZlr/Qvzk3umz5qt29v3srXH69tN75/9d7NX+7cXz1/pH1v45/y9t09qX7cev+jPuB4j1Me0Z2Q9YWhWH9t79z7WlzuP+d3ev/ftHWIt7jvOx0lHmHGMef1M6pd1MnNpb+g5F2Yu7Z2cm98x2Xcmd3nS+oz14/nzj5v5z3uO+ft0foZ1/JwnPZ/hXluoX9YjqV++iD64N309m5Hcd2nOPzxr3Ltdfg0AAID/mXAPAABFCPcAAFCEcA8AAEUI9wAAUIRwDwAARQj3AABQhHAPAABFCPcAAFCEcA8AAEUI9wAAUIRwDwAARQj3AABQhHAPAABFCPcAAFCEcA8AAEUI9wAAUIRwDwAARQj3AABQhHAPAABFCPcAAFCEcA8AAEUI9wAAUIRwDwAARQj3AABQhHAPAABFCPcAAFCEcA8AAEUI9wAAUIRwDwAARfwCd0lOuKys3FAAAAAASUVORK5CYII=\" id=\"imageb796d63098\" transform=\"scale(1 -1)translate(0 -14.88)\" x=\"50.830945\" y=\"-57.565619\" width=\"364.32\" height=\"14.88\"/>\n   </g>\n   <g id=\"text_4\">\n    <!-- BrBG -->\n    <g style=\"fill: #323034\" transform=\"translate(23.3 67.468827)scale(0.1 -0.1)\">\n     <defs>\n      <path id=\"STIXGeneral-Regular-42\" d=\"M 2701 2234 \nL 2701 2227 \nQ 3181 2150 3482 1875 \nQ 3795 1594 3795 1139 \nQ 3795 608 3379 304 \nQ 2963 0 2266 0 \nL 109 0 \nL 109 122 \nQ 486 134 604 246 \nQ 723 358 723 723 \nL 723 3520 \nQ 723 3891 614 3990 \nQ 506 4090 109 4115 \nL 109 4237 \nL 1901 4237 \nQ 2726 4237 3152 3958 \nQ 3578 3680 3578 3168 \nQ 3578 2733 3315 2502 \nQ 3130 2342 2701 2234 \nz\nM 1376 2342 \nL 1965 2342 \nQ 2925 2342 2925 3136 \nQ 2925 3546 2640 3773 \nQ 2355 4000 1792 4000 \nL 1530 4000 \nQ 1376 4000 1376 3795 \nL 1376 2342 \nz\nM 1376 2086 \nL 1376 525 \nQ 1376 365 1462 301 \nQ 1549 237 1773 237 \nQ 2208 237 2413 285 \nQ 2618 333 2816 512 \nQ 3059 723 3059 1146 \nQ 3059 1632 2758 1830 \nQ 2688 1882 2617 1917 \nQ 2547 1952 2492 1974 \nQ 2438 1997 2348 2016 \nQ 2259 2035 2211 2044 \nQ 2163 2054 2041 2060 \nQ 1920 2067 1862 2070 \nQ 1805 2074 1635 2080 \nQ 1466 2086 1376 2086 \nz\n\" transform=\"scale(0.015625)\"/>\n     </defs>\n     <use xlink:href=\"#STIXGeneral-Regular-42\"/>\n     <use xlink:href=\"#STIXGeneral-Regular-72\" x=\"66.699997\"/>\n     <use xlink:href=\"#STIXGeneral-Regular-42\" x=\"99.999985\"/>\n     <use xlink:href=\"#STIXGeneral-Regular-47\" x=\"166.699982\"/>\n    </g>\n   </g>\n  </g>\n  <g id=\"axes_4\">\n   <g clip-path=\"url(#p4ca3afcf4f)\">\n    <image xlink:href=\"data:image/png;base64,\niVBORw0KGgoAAAANSUhEUgAAAvcAAAAfCAYAAABj9+J9AAABzElEQVR4nO3WQVKEQAwF0IaZhXfycJ4c2o2WoSACDmNp6r1VkwnpBnX8w9vrS2/BOPSwbtesx0fmrM/z2LwnnDHeGz6IPUOsJz179y7PGOcl+2Szw3pIe7b3Gg48a7rXeLt0PcbaLeu9n5o9Htk/3Wt730Mzk3WL6+G+ri8+j/fdk/qB/rRn5yzf9T9ynqQ/vuPexnV/+GXtccaw0fuD/t6un3moP+x7ZmZvX3+LPXzrz+Ei1vuc1MPFvKhv92Qz5yP96V6hf96fkz7jx0VPnmOO7yCe/Wy9/7E5i5/tuv7Y7HmzJ61PJ/tjffqdfa/as2f7T9v1ntSX/WH+6Zn78z9nZnuePW9+xmTm4l2Geo/16WQ9zpk265/3nr0vrz/3vLG/tRb/IwIAAP+ZcA8AAEUI9wAAUIRwDwAARQj3AABQhHAPAABFCPcAAFCEcA8AAEUI9wAAUIRwDwAARQj3AABQhHAPAABFCPcAAFCEcA8AAEUI9wAAUIRwDwAARQj3AABQhHAPAABFCPcAAFCEcA8AAEUI9wAAUIRwDwAARQj3AABQhHAPAABFCPcAAFCEcA8AAEUI9wAAUIRwDwAARQj3AABQhHAPAABFvAONxnrEJajaNwAAAABJRU5ErkJggg==\" id=\"imagec9ffaac546\" transform=\"scale(1 -1)translate(0 -14.88)\" x=\"50.830945\" y=\"-75.101168\" width=\"364.32\" height=\"14.88\"/>\n   </g>\n   <g id=\"text_5\">\n    <!-- PuOr -->\n    <g style=\"fill: #323034\" transform=\"translate(26.070313 85.004377)scale(0.1 -0.1)\">\n     <defs>\n      <path id=\"STIXGeneral-Regular-75\" d=\"M 3072 320 \nL 3072 230 \nQ 2573 96 2195 -58 \nL 2163 -38 \nL 2163 486 \nL 2150 486 \nQ 1747 -64 1235 -64 \nQ 870 -64 662 160 \nQ 454 384 454 755 \nL 454 2362 \nQ 454 2598 371 2688 \nQ 288 2778 58 2790 \nL 58 2880 \nL 992 2880 \nL 992 813 \nQ 992 595 1123 451 \nQ 1254 307 1446 307 \nQ 1760 307 1984 506 \nQ 2067 582 2099 649 \nQ 2131 717 2131 877 \nL 2131 2355 \nQ 2131 2605 2041 2678 \nQ 1952 2752 1658 2771 \nL 1658 2880 \nL 2669 2880 \nL 2669 685 \nQ 2669 461 2742 390 \nQ 2816 320 3034 320 \nL 3072 320 \nz\n\" transform=\"scale(0.015625)\"/>\n      <path id=\"STIXGeneral-Regular-4f\" d=\"M 4403 2118 \nQ 4403 1133 3820 521 \nQ 3238 -90 2310 -90 \nQ 1376 -90 797 524 \nQ 218 1139 218 2138 \nQ 218 3110 797 3718 \nQ 1376 4326 2310 4326 \nQ 3245 4326 3824 3702 \nQ 4403 3078 4403 2118 \nz\nM 3674 2157 \nQ 3674 2701 3520 3133 \nQ 3366 3565 3091 3795 \nQ 2733 4096 2304 4096 \nQ 1760 4096 1389 3667 \nQ 1184 3437 1065 3011 \nQ 947 2586 947 2125 \nQ 947 960 1523 429 \nQ 1837 141 2317 141 \nQ 2816 141 3142 448 \nQ 3674 960 3674 2157 \nz\n\" transform=\"scale(0.015625)\"/>\n     </defs>\n     <use xlink:href=\"#STIXGeneral-Regular-50\"/>\n     <use xlink:href=\"#STIXGeneral-Regular-75\" x=\"55.699997\"/>\n     <use xlink:href=\"#STIXGeneral-Regular-4f\" x=\"105.699982\"/>\n     <use xlink:href=\"#STIXGeneral-Regular-72\" x=\"177.899963\"/>\n    </g>\n   </g>\n  </g>\n  <g id=\"axes_5\">\n   <g clip-path=\"url(#pb07386a5ac)\">\n    <image xlink:href=\"data:image/png;base64,\niVBORw0KGgoAAAANSUhEUgAAAvcAAAAfCAYAAABj9+J9AAABf0lEQVR4nO3WQW7CMBAF0Ng5SI/X+x8A6KZVTGGkmBKovt5bWc54JpYC+u1z+bgsgz6s1zau27/Z31N79D16H2at27Q2FLUdNX2sX4v67z7l86pfr2rm3mXsc11T7Vf3GOcW66LmXp+yR9Hv+t7r1Hv1Pe/+4D1u+2zvtvRxPZ5d9z3/VTPOXIo5reg5XTNzjwdqrvq3frvud/Zu9osefzjbZs9W9U8/u/0uL5ftb/98Pt/d37N+5dkjZ82eS99/Vu+U9RG9T6fTU2pe1fNd86uz4zd35P5sj3d/qz/6AgAARBDuAQAghHAPAAAhhHsAAAgh3AMAQAjhHgAAQgj3AAAQQrgHAIAQwj0AAIQQ7gEAIIRwDwAAIYR7AAAIIdwDAEAI4R4AAEII9wAAEEK4BwCAEMI9AACEEO4BACCEcA8AACGEewAACCHcAwBACOEeAABCCPcAABBCuAcAgBDCPQAAhBDuAQAghHAPAAAhhHsAAAgh3AMAQAjhHgAAQnwB+NZ+mjabNZsAAAAASUVORK5CYII=\" id=\"image3f08a2bbfb\" transform=\"scale(1 -1)translate(0 -14.88)\" x=\"50.830945\" y=\"-92.636717\" width=\"364.32\" height=\"14.88\"/>\n   </g>\n   <g id=\"text_6\">\n    <!-- RdGy -->\n    <g style=\"fill: #323034\" transform=\"translate(23.3 102.535239)scale(0.1 -0.1)\">\n     <defs>\n      <path id=\"STIXGeneral-Regular-64\" d=\"M 3142 269 \nL 2202 -64 \nL 2176 -45 \nL 2176 365 \nQ 1869 -64 1357 -64 \nQ 826 -64 499 317 \nQ 173 698 173 1312 \nQ 173 1990 563 2467 \nQ 954 2944 1504 2944 \nQ 1850 2944 2176 2669 \nL 2176 3667 \nQ 2176 3866 2118 3930 \nQ 2061 3994 1882 3994 \nQ 1792 3994 1741 3987 \nL 1741 4090 \nQ 2323 4243 2682 4371 \nL 2714 4358 \nL 2714 730 \nQ 2714 506 2768 435 \nQ 2822 365 2995 365 \nQ 3034 365 3142 371 \nL 3142 269 \nz\nM 2176 653 \nL 2176 2125 \nQ 2176 2381 1981 2573 \nQ 1786 2765 1523 2765 \nQ 1158 2765 940 2438 \nQ 723 2112 723 1568 \nQ 723 979 963 624 \nQ 1203 269 1606 269 \nQ 1907 269 2080 474 \nQ 2176 582 2176 653 \nz\n\" transform=\"scale(0.015625)\"/>\n      <path id=\"STIXGeneral-Regular-79\" d=\"M 3040 2880 \nL 3040 2784 \nQ 2925 2771 2854 2700 \nQ 2784 2630 2720 2458 \nL 1760 -160 \nQ 1510 -838 1257 -1116 \nQ 1005 -1395 640 -1395 \nQ 435 -1395 313 -1289 \nQ 192 -1184 192 -1024 \nQ 192 -902 272 -816 \nQ 352 -730 467 -730 \nQ 653 -730 800 -813 \nQ 883 -858 966 -858 \nQ 1101 -858 1286 -576 \nQ 1376 -448 1459 -211 \nQ 1542 26 1542 115 \nQ 1542 198 1274 762 \nL 429 2566 \nQ 346 2752 90 2790 \nL 90 2880 \nL 1402 2880 \nL 1402 2784 \nQ 1197 2778 1117 2739 \nQ 1037 2701 1037 2611 \nQ 1037 2541 1120 2349 \nL 1837 749 \nL 2458 2515 \nQ 2483 2573 2483 2630 \nQ 2483 2784 2189 2784 \nL 2189 2880 \nL 3040 2880 \nz\n\" transform=\"scale(0.015625)\"/>\n     </defs>\n     <use xlink:href=\"#STIXGeneral-Regular-52\"/>\n     <use xlink:href=\"#STIXGeneral-Regular-64\" x=\"66.699997\"/>\n     <use xlink:href=\"#STIXGeneral-Regular-47\" x=\"116.699982\"/>\n     <use xlink:href=\"#STIXGeneral-Regular-79\" x=\"188.899963\"/>\n    </g>\n   </g>\n  </g>\n  <g id=\"axes_6\">\n   <g clip-path=\"url(#p348bdce973)\">\n    <image xlink:href=\"data:image/png;base64,\niVBORw0KGgoAAAANSUhEUgAAAvcAAAAfCAYAAABj9+J9AAAB3klEQVR4nO3WTU7DMBAG0PwchONx/z1J2FBl3GYkuy0SjN7b4LjDjN1C9c2f08cxBUtYr3Ncz39mv6f2t++xLGHWek6bQ9HcUbPE+jWp/+mTvp71W7KasbPEPm1Ntp/dI85N1knNVZ+0R9Kvvfc6dK6l5+xP3uOxz3m2aYnr+Ltr3+t3NXHmlMyZk57DNSP3eKIm9j/C/+k0L+3Pu/WR7Of1F73vzvhK/65ZydyRWfGLfg8P6f5xPuxT3I/150Pe54X6UNX2GT1n2A89b/tH8n5se6w911ucGYY2+019OMue9BmuT+buHTVx1kV9Xjtd7yf9etZfg/VbeMNHZz0795U5W/b5hf0jWTc1R0dNUt/WTJf1e9L/tn7pLMnfTde9w+d97NvQeu+qD/23x5q3zbzo/d51/PZrMzAAAPCPCfcAAFCEcA8AAEUI9wAAUIRwDwAARQj3AABQhHAPAABFCPcAAFCEcA8AAEUI9wAAUIRwDwAARQj3AABQhHAPAABFCPcAAFCEcA8AAEUI9wAAUIRwDwAARQj3AABQhHAPAABFCPcAAFCEcA8AAEUI9wAAUIRwDwAARQj3AABQhHAPAABFCPcAAFCEcA8AAEUI9wAAUIRwDwAARQj3AABQxDcIWmHiljozwwAAAABJRU5ErkJggg==\" id=\"image52d48dadd7\" transform=\"scale(1 -1)translate(0 -14.88)\" x=\"50.830945\" y=\"-110.172267\" width=\"364.32\" height=\"14.88\"/>\n   </g>\n   <g id=\"text_7\">\n    <!-- RdBu -->\n    <g style=\"fill: #323034\" transform=\"translate(23.85 120.075475)scale(0.1 -0.1)\">\n     <use xlink:href=\"#STIXGeneral-Regular-52\"/>\n     <use xlink:href=\"#STIXGeneral-Regular-64\" x=\"66.699997\"/>\n     <use xlink:href=\"#STIXGeneral-Regular-42\" x=\"116.699982\"/>\n     <use xlink:href=\"#STIXGeneral-Regular-75\" x=\"183.399979\"/>\n    </g>\n   </g>\n  </g>\n  <g id=\"axes_7\">\n   <g clip-path=\"url(#pebc84b7936)\">\n    <image xlink:href=\"data:image/png;base64,\niVBORw0KGgoAAAANSUhEUgAAAvcAAAAfCAYAAABj9+J9AAABw0lEQVR4nO3WQU7DMBAF0MS9CzfnmIlZ0drI09oQkBi9t8EajcdxSau/v29vdWvs+2Ndyi+sL5j/V+c8W+/NAeH69liXrl7G/cHez3o478W+2TNLuHftrv3M4J8S9Lf1LXj+e31mRtdTxj3BPeL6eM5lz7Dy8v7pF+CqmdfM6T7L9odrL/3fr+sS1EczpvcGc6b6Z86aeLaXz/mo1WZ91nG91ltQb/Z2M2/Dnqm9q2dN9Pd3fN5fg8/mOO/L7ay1Wa/Wr9l7LO/93vOs7jva+jmxDvqPsGcb9i/PnOgf9YQzluc192herqnPrF03L0LteiZmHuN6Dc89n+6L1jU8c+3eNbhr++WsE/21+/LM7w33rZ4z0f+T+3Uv19b+2gMAAP+acA8AAEkI9wAAkIRwDwAASQj3AACQhHAPAABJCPcAAJCEcA8AAEkI9wAAkIRwDwAASQj3AACQhHAPAABJCPcAAJCEcA8AAEkI9wAAkIRwDwAASQj3AACQhHAPAABJCPcAAJCEcA8AAEkI9wAAkIRwDwAASQj3AACQhHAPAABJCPcAAJCEcA8AAEkI9wAAkIRwDwAASQj3AACQhHAPAABJfABjrUVIf7p8ywAAAABJRU5ErkJggg==\" id=\"image1bf2ec2ad4\" transform=\"scale(1 -1)translate(0 -14.88)\" x=\"50.830945\" y=\"-127.707816\" width=\"364.32\" height=\"14.88\"/>\n   </g>\n   <g id=\"text_8\">\n    <!-- RdYlBu -->\n    <g style=\"fill: #323034\" transform=\"translate(13.85 137.611025)scale(0.1 -0.1)\">\n     <use xlink:href=\"#STIXGeneral-Regular-52\"/>\n     <use xlink:href=\"#STIXGeneral-Regular-64\" x=\"66.699997\"/>\n     <use xlink:href=\"#STIXGeneral-Regular-59\" x=\"116.699982\"/>\n     <use xlink:href=\"#STIXGeneral-Regular-6c\" x=\"188.899963\"/>\n     <use xlink:href=\"#STIXGeneral-Regular-42\" x=\"216.699951\"/>\n     <use xlink:href=\"#STIXGeneral-Regular-75\" x=\"283.399948\"/>\n    </g>\n   </g>\n  </g>\n  <g id=\"axes_8\">\n   <g clip-path=\"url(#pf69816a122)\">\n    <image xlink:href=\"data:image/png;base64,\niVBORw0KGgoAAAANSUhEUgAAAvcAAAAfCAYAAABj9+J9AAABmklEQVR4nO3WW3LCMAwFUCfdS3feZWL3pwUHLHCmgSmac740QpbDo527fJXPVjrLcqnX9Qn1Aftfdc+9eukuCOuPS71u+ut4Pjj72w/3PTg3e+cant33Xrc7gy8lmO/7JXj+c39mx2ZmHc8E7yPuj/cc9gxTP95l7vXp/vvNLNs/yNt61LveHc0cdfaVd82c/VFLPdetXera1a0E/X4+2vNm+9vEudpaUO+cKdHM/9kZ7xvvOG1mStcvQb+br9F8C/oHzdeZ+fbgztvZ6fk6/vxOwXMdNr85O37+0dk9s3fndz57/722+oT6wf5X3fP3/WXj9r8+AADwloR7AABIQrgHAIAkhHsAAEhCuAcAgCSEewAASEK4BwCAJIR7AABIQrgHAIAkhHsAAEhCuAcAgCSEewAASEK4BwCAJIR7AABIQrgHAIAkhHsAAEhCuAcAgCSEewAASEK4BwCAJIR7AABIQrgHAIAkhHsAAEhCuAcAgCSEewAASEK4BwCAJIR7AABIQrgHAIAkhHsAAEhCuAcAgCSEewAASOIbmKdX68S32qQAAAAASUVORK5CYII=\" id=\"image8dff97d855\" transform=\"scale(1 -1)translate(0 -14.88)\" x=\"50.830945\" y=\"-145.243365\" width=\"364.32\" height=\"14.88\"/>\n   </g>\n   <g id=\"text_9\">\n    <!-- RdYlGn -->\n    <g style=\"fill: #323034\" transform=\"translate(13.3 155.146574)scale(0.1 -0.1)\">\n     <use xlink:href=\"#STIXGeneral-Regular-52\"/>\n     <use xlink:href=\"#STIXGeneral-Regular-64\" x=\"66.699997\"/>\n     <use xlink:href=\"#STIXGeneral-Regular-59\" x=\"116.699982\"/>\n     <use xlink:href=\"#STIXGeneral-Regular-6c\" x=\"188.899963\"/>\n     <use xlink:href=\"#STIXGeneral-Regular-47\" x=\"216.699951\"/>\n     <use xlink:href=\"#STIXGeneral-Regular-6e\" x=\"288.899933\"/>\n    </g>\n   </g>\n  </g>\n  <g id=\"axes_9\">\n   <g clip-path=\"url(#p6b1c4fdfab)\">\n    <image xlink:href=\"data:image/png;base64,\niVBORw0KGgoAAAANSUhEUgAAAvcAAAAfCAYAAABj9+J9AAABvUlEQVR4nO3W0W6DMAwF0AT+bB+6PwX2VGE2vIbRTZp1zlPkGgdSqt7+3t+2FkxTXPd9PSf12D/v9TmpX50/n9SzPUfq88gzjTxrWPdDfTut96ze93o283FtNm9K5g31D9zXneeLe7Vwli18Pz2px/5+eKH6+IxDz3Tec9hnpH4+52X3MCV7TSdn8Ozz4fr/6+n5DyavfZ6d9bzq2r/c6+m1+zlubQ3r/be7bRfrcc6W1e9cm9RffM+x1kLvEv4d18O6Jz39tH9J6r8+p2X938+8c1/ZmS3J+nLPerH/Rs+yjfeO9YRzWkJ97efrJanf6f/hzLy3fel95f5bOKcpHHK27stATzYnvFyPet57dfZAz53++AK21qYGAACUINwDAEARwj0AABQh3AMAQBHCPQAAFCHcAwBAEcI9AAAUIdwDAEARwj0AABQh3AMAQBHCPQAAFCHcAwBAEcI9AAAUIdwDAEARwj0AABQh3AMAQBHCPQAAFCHcAwBAEcI9AAAUIdwDAEARwj0AABQh3AMAQBHCPQAAFCHcAwBAEcI9AAAUIdwDAEARwj0AABQh3AMAQBHCPQAAFCHcAwBAER/d1RKbWnliSwAAAABJRU5ErkJggg==\" id=\"imagef67c7ac527\" transform=\"scale(1 -1)translate(0 -14.88)\" x=\"50.830945\" y=\"-162.778915\" width=\"364.32\" height=\"14.88\"/>\n   </g>\n   <g id=\"text_10\">\n    <!-- Spectral -->\n    <g style=\"fill: #323034\" transform=\"translate(14.420313 172.682123)scale(0.1 -0.1)\">\n     <defs>\n      <path id=\"STIXGeneral-Regular-53\" d=\"M 3002 2963 \nL 2842 2963 \nQ 2733 3360 2579 3565 \nQ 2189 4064 1651 4064 \nQ 1357 4064 1181 3894 \nQ 1005 3725 1005 3456 \nQ 1005 3328 1069 3206 \nQ 1133 3085 1206 2998 \nQ 1280 2912 1465 2784 \nQ 1651 2656 1766 2589 \nQ 1882 2522 2150 2362 \nQ 2669 2061 2905 1763 \nQ 3142 1466 3142 1107 \nQ 3142 576 2771 243 \nQ 2400 -90 1837 -90 \nQ 1421 -90 1082 58 \nQ 915 128 781 128 \nQ 704 128 653 70 \nQ 602 13 602 -83 \nL 461 -83 \nL 275 1274 \nL 416 1274 \nQ 845 141 1734 141 \nQ 2074 141 2285 342 \nQ 2496 544 2496 858 \nQ 2496 1158 2310 1363 \nQ 2003 1696 1235 2106 \nQ 454 2522 454 3206 \nQ 454 3718 768 4022 \nQ 1082 4326 1568 4326 \nQ 1907 4326 2240 4186 \nQ 2413 4109 2522 4109 \nQ 2688 4109 2726 4326 \nL 2861 4326 \nL 3002 2963 \nz\n\" transform=\"scale(0.015625)\"/>\n      <path id=\"STIXGeneral-Regular-74\" d=\"M 1702 493 \nL 1786 422 \nQ 1478 -64 1011 -64 \nQ 448 -64 448 749 \nL 448 2675 \nL 109 2675 \nQ 83 2694 83 2720 \nQ 83 2771 192 2842 \nQ 435 2982 813 3526 \nQ 826 3546 874 3606 \nQ 922 3667 941 3706 \nQ 986 3706 986 3622 \nL 986 2880 \nL 1632 2880 \nL 1632 2675 \nL 986 2675 \nL 986 845 \nQ 986 538 1062 403 \nQ 1139 269 1318 269 \nQ 1510 269 1702 493 \nz\n\" transform=\"scale(0.015625)\"/>\n     </defs>\n     <use xlink:href=\"#STIXGeneral-Regular-53\"/>\n     <use xlink:href=\"#STIXGeneral-Regular-70\" x=\"55.599991\"/>\n     <use xlink:href=\"#STIXGeneral-Regular-65\" x=\"105.599976\"/>\n     <use xlink:href=\"#STIXGeneral-Regular-63\" x=\"149.999969\"/>\n     <use xlink:href=\"#STIXGeneral-Regular-74\" x=\"194.399963\"/>\n     <use xlink:href=\"#STIXGeneral-Regular-72\" x=\"222.199951\"/>\n     <use xlink:href=\"#STIXGeneral-Regular-61\" x=\"255.499939\"/>\n     <use xlink:href=\"#STIXGeneral-Regular-6c\" x=\"299.899933\"/>\n    </g>\n   </g>\n  </g>\n  <g id=\"axes_10\">\n   <g clip-path=\"url(#p761db39b29)\">\n    <image xlink:href=\"data:image/png;base64,\niVBORw0KGgoAAAANSUhEUgAAAvcAAAAfCAYAAABj9+J9AAAB4ElEQVR4nO3WQXLbMBAEQJDPyhv86PwrMZFDbAsoc0TQSQ7Z6j6poMFirYtn+/byvbfBtm2Pz/v+8Xnfz89Tfgv5fSV/sUN+fxuy15kpf3OvPe67Mj/9Nu0883Z35c2cecyOu4x/38Uuv99q4XzMn8+Z5q/sOeTf390uvn+amfa6fnPt7nk+3r2ZOTufv++fvn8+4zy/lGkLmbRPW8iHzPhW3OHt7p3s8/Nhx5X8H2T2lGnH1+e//x7jjB6yPbxz+/w809LdkE9vtTS/h9/s4u74fgt7tbvvT+f37k47HGmH67st3N2uMjfn9ePru9yeOZz3cD7mpznxrYv5C2+OM9LuPeTT/LR7mjN9Dr9xvvt85tKb/zhzvN6bM+fD3SFznP3dr4/sNC/MTpljfPPHcP6z/53z4XNr8/88AADgP6bcAwBAEco9AAAUodwDAEARyj0AABSh3AMAQBHKPQAAFKHcAwBAEco9AAAUodwDAEARyj0AABSh3AMAQBHKPQAAFKHcAwBAEco9AAAUodwDAEARyj0AABSh3AMAQBHKPQAAFKHcAwBAEco9AAAUodwDAEARyj0AABSh3AMAQBHKPQAAFKHcAwBAEco9AAAUodwDAEARyj0AABSh3AMAQBG/AJqYVCjsV+QwAAAAAElFTkSuQmCC\" id=\"imagea93521ca5f\" transform=\"scale(1 -1)translate(0 -14.88)\" x=\"50.830945\" y=\"-180.314464\" width=\"364.32\" height=\"14.88\"/>\n   </g>\n   <g id=\"text_11\">\n    <!-- coolwarm -->\n    <g style=\"fill: #323034\" transform=\"translate(7.2 190.217673)scale(0.1 -0.1)\">\n     <defs>\n      <path id=\"STIXGeneral-Regular-77\" d=\"M 4442 2880 \nL 4442 2784 \nQ 4346 2752 4301 2691 \nQ 4256 2630 4179 2438 \nL 3296 224 \nQ 3168 -90 3117 -90 \nQ 3085 -90 3062 -48 \nQ 3040 -6 2963 186 \nL 2381 1696 \nL 1664 160 \nQ 1549 -90 1504 -90 \nQ 1446 -90 1338 192 \nL 474 2381 \nQ 378 2630 314 2700 \nQ 250 2771 134 2784 \nL 134 2880 \nL 1286 2880 \nL 1286 2784 \nQ 1120 2765 1056 2720 \nQ 992 2675 992 2573 \nQ 992 2477 1030 2381 \nL 1664 710 \nL 2246 1984 \nL 2118 2342 \nQ 2029 2598 1942 2681 \nQ 1856 2765 1677 2784 \nL 1677 2880 \nL 2976 2880 \nL 2976 2784 \nQ 2752 2752 2678 2707 \nQ 2605 2662 2605 2560 \nQ 2605 2458 2714 2176 \nL 3251 742 \nL 3827 2163 \nQ 3936 2432 3936 2592 \nQ 3936 2669 3875 2710 \nQ 3814 2752 3654 2784 \nL 3654 2880 \nL 4442 2880 \nz\n\" transform=\"scale(0.015625)\"/>\n     </defs>\n     <use xlink:href=\"#STIXGeneral-Regular-63\"/>\n     <use xlink:href=\"#STIXGeneral-Regular-6f\" x=\"44.399994\"/>\n     <use xlink:href=\"#STIXGeneral-Regular-6f\" x=\"94.399979\"/>\n     <use xlink:href=\"#STIXGeneral-Regular-6c\" x=\"144.399963\"/>\n     <use xlink:href=\"#STIXGeneral-Regular-77\" x=\"172.199951\"/>\n     <use xlink:href=\"#STIXGeneral-Regular-61\" x=\"244.399933\"/>\n     <use xlink:href=\"#STIXGeneral-Regular-72\" x=\"288.799927\"/>\n     <use xlink:href=\"#STIXGeneral-Regular-6d\" x=\"322.099915\"/>\n    </g>\n   </g>\n  </g>\n  <g id=\"axes_11\">\n   <g clip-path=\"url(#p55bf1e78de)\">\n    <image xlink:href=\"data:image/png;base64,\niVBORw0KGgoAAAANSUhEUgAAAvcAAAAfCAYAAABj9+J9AAABE0lEQVR4nO3WMQ6DMBBFwTXc/8hASpCSIkhxwJ+ZysWyWBTotaptq4Npuv/56vf3Ore2n+f5febM7BPmf7X7V89esX/ku/feP/Lde+xvdfjVr+uzzsuyn7cP36Hn7hH3j3z3Hs+efU/i/J3u8s/5O93l2/mqmgoAAIgg7gEAIIS4BwCAEOIeAABCiHsAAAgh7gEAIIS4BwCAEOIeAABCiHsAAAgh7gEAIIS4BwCAEOIeAABCiHsAAAgh7gEAIIS4BwCAEOIeAABCiHsAAAgh7gEAIIS4BwCAEOIeAABCiHsAAAgh7gEAIIS4BwCAEOIeAABCiHsAAAgh7gEAIIS4BwCAEOIeAABCiHsAAAgh7gEAIMQLTnoBS/kTU0gAAAAASUVORK5CYII=\" id=\"image4d04cb39af\" transform=\"scale(1 -1)translate(0 -14.88)\" x=\"50.830945\" y=\"-197.850013\" width=\"364.32\" height=\"14.88\"/>\n   </g>\n   <g id=\"text_12\">\n    <!-- bwr -->\n    <g style=\"fill: #323034\" transform=\"translate(31.640625 207.753222)scale(0.1 -0.1)\">\n     <defs>\n      <path id=\"STIXGeneral-Regular-62\" d=\"M 979 4358 \nL 979 2406 \nQ 1082 2650 1315 2797 \nQ 1549 2944 1843 2944 \nQ 2349 2944 2672 2541 \nQ 2995 2138 2995 1536 \nQ 2995 832 2566 384 \nQ 2138 -64 1498 -64 \nQ 1107 -64 774 67 \nQ 442 198 442 358 \nL 442 3622 \nQ 442 3859 384 3926 \nQ 326 3994 128 3994 \nQ 83 3994 19 3981 \nL 19 4090 \nL 211 4147 \nQ 864 4346 947 4371 \nL 979 4358 \nz\nM 979 2035 \nL 979 474 \nQ 979 326 1161 233 \nQ 1344 141 1600 141 \nQ 1978 141 2195 416 \nQ 2432 710 2432 1261 \nQ 2432 1888 2182 2240 \nQ 1971 2541 1613 2541 \nQ 1357 2541 1168 2390 \nQ 979 2240 979 2035 \nz\n\" transform=\"scale(0.015625)\"/>\n     </defs>\n     <use xlink:href=\"#STIXGeneral-Regular-62\"/>\n     <use xlink:href=\"#STIXGeneral-Regular-77\" x=\"49.999985\"/>\n     <use xlink:href=\"#STIXGeneral-Regular-72\" x=\"122.199966\"/>\n    </g>\n   </g>\n  </g>\n  <g id=\"axes_12\">\n   <g clip-path=\"url(#p199028fd4a)\">\n    <image xlink:href=\"data:image/png;base64,\niVBORw0KGgoAAAANSUhEUgAAAvcAAAAfCAYAAABj9+J9AAABKklEQVR4nO3WSQ6CQBRF0UJxd+5/M9gNgUSNIljUyzmjH1KdiYPblXK+l5nji/nwwZp/7a1x5x72tvberfcuv7Prxu99P1k9WX46ladrfpnXPr/lt299fstv3+L8Q7mNHy+XnHkYxvl6XbZ+y7Pfrd/r/O3v2/H3yb9+8bzGGa3Pte+vNde+f8lcyrywAACAhol7AAAIIe4BACCEuAcAgBDiHgAAQoh7AAAIIe4BACCEuAcAgBDiHgAAQoh7AAAIIe4BACCEuAcAgBDiHgAAQoh7AAAIIe4BACCEuAcAgBDiHgAAQoh7AAAIIe4BACCEuAcAgBDiHgAAQoh7AAAIIe4BACCEuAcAgBDiHgAAQoh7AAAIIe4BACCEuAcAgBDiHgAAQoh7AAAI8QByK8C8aE3nZQAAAABJRU5ErkJggg==\" id=\"imagea8ce4bb82b\" transform=\"scale(1 -1)translate(0 -14.88)\" x=\"50.830945\" y=\"-215.385563\" width=\"364.32\" height=\"14.88\"/>\n   </g>\n   <g id=\"text_13\">\n    <!-- seismic -->\n    <g style=\"fill: #323034\" transform=\"translate(17.189063 225.288771)scale(0.1 -0.1)\">\n     <use xlink:href=\"#STIXGeneral-Regular-73\"/>\n     <use xlink:href=\"#STIXGeneral-Regular-65\" x=\"38.899994\"/>\n     <use xlink:href=\"#STIXGeneral-Regular-69\" x=\"83.299988\"/>\n     <use xlink:href=\"#STIXGeneral-Regular-73\" x=\"111.099976\"/>\n     <use xlink:href=\"#STIXGeneral-Regular-6d\" x=\"149.999969\"/>\n     <use xlink:href=\"#STIXGeneral-Regular-69\" x=\"227.799957\"/>\n     <use xlink:href=\"#STIXGeneral-Regular-63\" x=\"255.599945\"/>\n    </g>\n   </g>\n  </g>\n </g>\n <defs>\n  <clipPath id=\"p0f36b43d8b\">\n   <rect x=\"50.830945\" y=\"22.761562\" width=\"364.032\" height=\"14.612958\"/>\n  </clipPath>\n  <clipPath id=\"pfac5bf15b7\">\n   <rect x=\"50.830945\" y=\"40.297112\" width=\"364.032\" height=\"14.612958\"/>\n  </clipPath>\n  <clipPath id=\"p168e4d1e2f\">\n   <rect x=\"50.830945\" y=\"57.832661\" width=\"364.032\" height=\"14.612958\"/>\n  </clipPath>\n  <clipPath id=\"p4ca3afcf4f\">\n   <rect x=\"50.830945\" y=\"75.36821\" width=\"364.032\" height=\"14.612958\"/>\n  </clipPath>\n  <clipPath id=\"pb07386a5ac\">\n   <rect x=\"50.830945\" y=\"92.90376\" width=\"364.032\" height=\"14.612958\"/>\n  </clipPath>\n  <clipPath id=\"p348bdce973\">\n   <rect x=\"50.830945\" y=\"110.439309\" width=\"364.032\" height=\"14.612958\"/>\n  </clipPath>\n  <clipPath id=\"pebc84b7936\">\n   <rect x=\"50.830945\" y=\"127.974858\" width=\"364.032\" height=\"14.612958\"/>\n  </clipPath>\n  <clipPath id=\"pf69816a122\">\n   <rect x=\"50.830945\" y=\"145.510408\" width=\"364.032\" height=\"14.612958\"/>\n  </clipPath>\n  <clipPath id=\"p6b1c4fdfab\">\n   <rect x=\"50.830945\" y=\"163.045957\" width=\"364.032\" height=\"14.612958\"/>\n  </clipPath>\n  <clipPath id=\"p761db39b29\">\n   <rect x=\"50.830945\" y=\"180.581506\" width=\"364.032\" height=\"14.612958\"/>\n  </clipPath>\n  <clipPath id=\"p55bf1e78de\">\n   <rect x=\"50.830945\" y=\"198.117055\" width=\"364.032\" height=\"14.612958\"/>\n  </clipPath>\n  <clipPath id=\"p199028fd4a\">\n   <rect x=\"50.830945\" y=\"215.652605\" width=\"364.032\" height=\"14.612958\"/>\n  </clipPath>\n </defs>\n</svg>\n",
      "text/plain": [
       "<Figure size 960x507.3 with 12 Axes>"
      ]
     },
     "metadata": {},
     "output_type": "display_data"
    }
   ],
   "source": [
    "# remove input\n",
    "for cmap_category, cmap_list in cmaps[3:4]:\n",
    "    plot_color_gradients(cmap_category, cmap_list)"
   ]
  },
  {
   "cell_type": "markdown",
   "metadata": {},
   "source": [
    "So how do you choose between a diverging or sequential colour scale? Divering colour scales work better when i) there’s a meaningful middle point, ii) there are extremes that you want to emphasise, iii) when differences are more of the story than levels, and iv) when you don't mind that people will have to put in a bit of extra effort to understand the chart relative to the typically more intuitive sequential colour scale."
   ]
  },
  {
   "cell_type": "markdown",
   "metadata": {},
   "source": [
    "Finally, this book uses a colour-blind friendly qualitative scheme (you can find the list of colours in [this](https://github.com/aeturrell/coding-for-economists/blob/main/plot_style.txt) file)."
   ]
  },
  {
   "cell_type": "code",
   "execution_count": 10,
   "metadata": {
    "tags": [
     "remove-input"
    ]
   },
   "outputs": [
    {
     "data": {
      "image/svg+xml": "<?xml version=\"1.0\" encoding=\"utf-8\" standalone=\"no\"?>\n<!DOCTYPE svg PUBLIC \"-//W3C//DTD SVG 1.1//EN\"\n  \"http://www.w3.org/Graphics/SVG/1.1/DTD/svg11.dtd\">\n<svg xmlns:xlink=\"http://www.w3.org/1999/xlink\" width=\"467.870887pt\" height=\"31.032pt\" viewBox=\"0 0 467.870887 31.032\" xmlns=\"http://www.w3.org/2000/svg\" version=\"1.1\">\n <metadata>\n  <rdf:RDF xmlns:dc=\"http://purl.org/dc/elements/1.1/\" xmlns:cc=\"http://creativecommons.org/ns#\" xmlns:rdf=\"http://www.w3.org/1999/02/22-rdf-syntax-ns#\">\n   <cc:Work>\n    <dc:type rdf:resource=\"http://purl.org/dc/dcmitype/StillImage\"/>\n    <dc:date>2022-10-25T08:06:20.161838</dc:date>\n    <dc:format>image/svg+xml</dc:format>\n    <dc:creator>\n     <cc:Agent>\n      <dc:title>Matplotlib v3.5.3, https://matplotlib.org/</dc:title>\n     </cc:Agent>\n    </dc:creator>\n   </cc:Work>\n  </rdf:RDF>\n </metadata>\n <defs>\n  <style type=\"text/css\">*{stroke-linejoin: round; stroke-linecap: butt}</style>\n </defs>\n <g id=\"figure_1\">\n  <g id=\"patch_1\">\n   <path d=\"M 0 31.032 \nL 467.870887 31.032 \nL 467.870887 0 \nL 0 0 \nz\n\" style=\"fill: #ffffff\"/>\n  </g>\n  <g id=\"axes_1\">\n   <g clip-path=\"url(#pa9268f5a75)\">\n    <image xlink:href=\"data:image/png;base64,\niVBORw0KGgoAAAANSUhEUgAAAukAAAAjCAYAAAApKJTwAAABLElEQVR4nO3WoU0DABRF0YLA4WpgFAyedAYWqGMCwgZswQIkCAgJvrYL1FdgGlSrEJ3gX3HOBE+93IvP56/jgjP3i/fpCSkfj4fpCRkP27/pCRnHm5fpCRmvV7vpCTlPt2/TEzK+N+vpCRk/Bx/6b3X3Oz0h5Xq/nJ6Qczk9AAAAOCfSAQAgRqQDAECMSAcAgBiRDgAAMSIdAABiRDoAAMSIdAAAiBHpAAAQI9IBACBGpAMAQIxIBwCAGJEOAAAxIh0AAGJEOgAAxIh0AACIEekAABAj0gEAIEakAwBAjEgHAIAYkQ4AADEiHQAAYkQ6AADEiHQAAIgR6QAAECPSAQAgRqQDAECMSAcAgBiRDgAAMSIdAABiRDoAAMSIdAAAiBHpAAAQI9IBACDmBHdfE9BVsAPTAAAAAElFTkSuQmCC\" id=\"image799ddb5f3c\" transform=\"scale(1 -1)translate(0 -16.8)\" x=\"103.550888\" y=\"-7.032\" width=\"357.6\" height=\"16.8\"/>\n   </g>\n   <g id=\"text_1\">\n    <!-- Coding for Economists -->\n    <g style=\"fill: #323034\" transform=\"translate(7.2 17.841)scale(0.1 -0.1)\">\n     <defs>\n      <path id=\"STIXGeneral-Regular-43\" d=\"M 3930 838 \nL 4051 723 \nQ 3482 -90 2304 -90 \nQ 1376 -90 794 480 \nQ 179 1082 179 2080 \nQ 179 3014 755 3661 \nQ 1357 4326 2310 4326 \nQ 2720 4326 3072 4230 \nQ 3475 4115 3514 4115 \nQ 3725 4115 3782 4326 \nL 3910 4326 \nL 3968 2874 \nL 3821 2874 \nQ 3718 3334 3488 3584 \nQ 3034 4070 2458 4070 \nQ 1747 4070 1334 3548 \nQ 922 3027 922 2182 \nQ 922 1152 1382 653 \nQ 1811 192 2522 192 \nQ 2944 192 3251 339 \nQ 3558 486 3930 838 \nz\n\" transform=\"scale(0.015625)\"/>\n      <path id=\"STIXGeneral-Regular-6f\" d=\"M 3008 1478 \nQ 3008 806 2608 371 \nQ 2208 -64 1568 -64 \nQ 979 -64 582 368 \nQ 186 800 186 1459 \nQ 186 2125 582 2534 \nQ 979 2944 1626 2944 \nQ 2221 2944 2614 2537 \nQ 3008 2131 3008 1478 \nz\nM 2432 1306 \nQ 2432 2035 2112 2445 \nQ 1856 2765 1504 2765 \nQ 1171 2765 966 2493 \nQ 762 2221 762 1747 \nQ 762 928 1101 435 \nQ 1318 115 1677 115 \nQ 2029 115 2230 432 \nQ 2432 749 2432 1306 \nz\n\" transform=\"scale(0.015625)\"/>\n      <path id=\"STIXGeneral-Regular-64\" d=\"M 3142 269 \nL 2202 -64 \nL 2176 -45 \nL 2176 365 \nQ 1869 -64 1357 -64 \nQ 826 -64 499 317 \nQ 173 698 173 1312 \nQ 173 1990 563 2467 \nQ 954 2944 1504 2944 \nQ 1850 2944 2176 2669 \nL 2176 3667 \nQ 2176 3866 2118 3930 \nQ 2061 3994 1882 3994 \nQ 1792 3994 1741 3987 \nL 1741 4090 \nQ 2323 4243 2682 4371 \nL 2714 4358 \nL 2714 730 \nQ 2714 506 2768 435 \nQ 2822 365 2995 365 \nQ 3034 365 3142 371 \nL 3142 269 \nz\nM 2176 653 \nL 2176 2125 \nQ 2176 2381 1981 2573 \nQ 1786 2765 1523 2765 \nQ 1158 2765 940 2438 \nQ 723 2112 723 1568 \nQ 723 979 963 624 \nQ 1203 269 1606 269 \nQ 1907 269 2080 474 \nQ 2176 582 2176 653 \nz\n\" transform=\"scale(0.015625)\"/>\n      <path id=\"STIXGeneral-Regular-69\" d=\"M 1152 4045 \nQ 1152 3904 1056 3811 \nQ 960 3718 819 3718 \nQ 685 3718 592 3811 \nQ 499 3904 499 4045 \nQ 499 4179 595 4275 \nQ 691 4371 826 4371 \nQ 966 4371 1059 4275 \nQ 1152 4179 1152 4045 \nz\nM 1619 0 \nL 102 0 \nL 102 96 \nQ 435 115 521 211 \nQ 608 307 608 666 \nL 608 2118 \nQ 608 2342 563 2432 \nQ 518 2522 397 2522 \nQ 243 2522 128 2490 \nL 128 2592 \nL 1120 2944 \nL 1146 2918 \nL 1146 672 \nQ 1146 314 1226 218 \nQ 1306 122 1619 96 \nL 1619 0 \nz\n\" transform=\"scale(0.015625)\"/>\n      <path id=\"STIXGeneral-Regular-6e\" d=\"M 3104 0 \nL 1773 0 \nL 1779 96 \nQ 2016 115 2096 233 \nQ 2176 352 2176 672 \nL 2176 1946 \nQ 2176 2592 1709 2592 \nQ 1549 2592 1408 2515 \nQ 1267 2438 1050 2227 \nL 1050 461 \nQ 1050 269 1136 192 \nQ 1222 115 1466 96 \nL 1466 0 \nL 115 0 \nL 115 96 \nQ 358 115 435 214 \nQ 512 314 512 602 \nL 512 2157 \nQ 512 2394 467 2483 \nQ 422 2573 288 2573 \nQ 160 2573 102 2547 \nL 102 2656 \nQ 550 2784 979 2944 \nL 1030 2925 \nL 1030 2426 \nL 1037 2426 \nQ 1491 2944 1958 2944 \nQ 2323 2944 2518 2688 \nQ 2714 2432 2714 1958 \nL 2714 544 \nQ 2714 288 2790 205 \nQ 2867 122 3104 96 \nL 3104 0 \nz\n\" transform=\"scale(0.015625)\"/>\n      <path id=\"STIXGeneral-Regular-67\" d=\"M 3008 2483 \nL 2477 2483 \nQ 2598 2208 2598 1946 \nQ 2598 1453 2265 1203 \nQ 1933 954 1600 954 \nQ 1530 954 1357 973 \nL 1235 986 \nQ 1107 947 979 812 \nQ 851 678 851 582 \nQ 851 435 1350 410 \nL 2176 371 \nQ 2528 358 2739 172 \nQ 2950 -13 2950 -314 \nQ 2950 -685 2566 -986 \nQ 2035 -1395 1286 -1395 \nQ 826 -1395 502 -1212 \nQ 179 -1030 179 -774 \nQ 179 -595 320 -419 \nQ 461 -243 806 6 \nQ 602 102 534 172 \nQ 467 243 467 346 \nQ 467 531 762 787 \nQ 909 915 1037 1043 \nQ 717 1203 579 1401 \nQ 442 1600 442 1901 \nQ 442 2336 752 2640 \nQ 1062 2944 1510 2944 \nQ 1766 2944 2022 2848 \nL 2163 2797 \nQ 2349 2733 2515 2733 \nL 3008 2733 \nL 3008 2483 \nz\nM 973 2163 \nL 973 2144 \nQ 973 1683 1155 1398 \nQ 1338 1114 1632 1114 \nQ 1850 1114 1978 1270 \nQ 2106 1427 2106 1690 \nQ 2106 2112 1914 2464 \nQ 1754 2765 1446 2765 \nQ 1222 2765 1097 2605 \nQ 973 2445 973 2163 \nz\nM 2771 -410 \nQ 2771 -230 2595 -163 \nQ 2419 -96 1978 -96 \nQ 1344 -96 941 -13 \nQ 749 -243 688 -348 \nQ 627 -454 627 -563 \nQ 627 -774 880 -902 \nQ 1133 -1030 1555 -1030 \nQ 2099 -1030 2435 -860 \nQ 2771 -691 2771 -410 \nz\n\" transform=\"scale(0.015625)\"/>\n      <path id=\"STIXGeneral-Regular-20\" transform=\"scale(0.015625)\"/>\n      <path id=\"STIXGeneral-Regular-66\" d=\"M 134 2880 \nL 659 2880 \nQ 666 3264 710 3478 \nQ 755 3693 883 3910 \nQ 1152 4371 1786 4371 \nQ 2074 4371 2262 4259 \nQ 2451 4147 2451 3974 \nQ 2451 3866 2374 3789 \nQ 2298 3712 2182 3712 \nQ 2029 3712 1894 3942 \nQ 1741 4192 1555 4192 \nQ 1197 4192 1197 3622 \nL 1197 2880 \nL 1978 2880 \nL 1978 2675 \nL 1197 2675 \nL 1197 666 \nQ 1197 307 1299 208 \nQ 1402 109 1792 96 \nL 1792 0 \nL 128 0 \nL 128 96 \nQ 474 115 566 214 \nQ 659 314 659 666 \nL 659 2675 \nL 134 2675 \nL 134 2880 \nz\n\" transform=\"scale(0.015625)\"/>\n      <path id=\"STIXGeneral-Regular-72\" d=\"M 1024 2931 \nL 1024 2342 \nQ 1267 2688 1430 2816 \nQ 1594 2944 1792 2944 \nQ 1958 2944 2051 2854 \nQ 2144 2765 2144 2605 \nQ 2144 2470 2077 2393 \nQ 2010 2317 1894 2317 \nQ 1773 2317 1638 2445 \nQ 1536 2541 1472 2541 \nQ 1338 2541 1181 2355 \nQ 1024 2170 1024 2016 \nL 1024 576 \nQ 1024 301 1133 205 \nQ 1242 109 1568 96 \nL 1568 0 \nL 32 0 \nL 32 96 \nQ 339 154 412 224 \nQ 486 294 486 538 \nL 486 2138 \nQ 486 2349 438 2435 \nQ 390 2522 269 2522 \nQ 166 2522 45 2496 \nL 45 2598 \nQ 448 2726 992 2944 \nL 1024 2931 \nz\n\" transform=\"scale(0.015625)\"/>\n      <path id=\"STIXGeneral-Regular-45\" d=\"M 3821 1082 \nL 3526 0 \nL 77 0 \nL 77 122 \nQ 442 147 538 252 \nQ 634 358 634 730 \nL 634 3520 \nQ 634 3878 534 3987 \nQ 435 4096 77 4115 \nL 77 4237 \nL 3469 4237 \nL 3494 3322 \nL 3334 3322 \nQ 3264 3750 3085 3872 \nQ 2906 3994 2349 3994 \nL 1510 3994 \nQ 1370 3994 1328 3952 \nQ 1286 3910 1286 3763 \nL 1286 2355 \nL 2253 2355 \nQ 2656 2355 2787 2470 \nQ 2918 2586 2976 2970 \nL 3123 2970 \nL 3123 1472 \nL 2976 1472 \nQ 2918 1875 2790 1984 \nQ 2662 2093 2253 2093 \nL 1286 2093 \nL 1286 538 \nQ 1286 346 1420 291 \nQ 1555 237 1933 237 \nL 2163 237 \nQ 2848 237 3136 403 \nQ 3424 570 3642 1082 \nL 3821 1082 \nz\n\" transform=\"scale(0.015625)\"/>\n      <path id=\"STIXGeneral-Regular-63\" d=\"M 2547 998 \nL 2637 941 \nQ 2362 403 2112 205 \nQ 1786 -64 1376 -64 \nQ 845 -64 502 336 \nQ 160 736 160 1357 \nQ 160 2170 698 2618 \nQ 1094 2944 1562 2944 \nQ 1965 2944 2256 2749 \nQ 2547 2554 2547 2285 \nQ 2547 2176 2457 2096 \nQ 2368 2016 2246 2016 \nQ 2022 2016 1939 2310 \nL 1901 2451 \nQ 1850 2630 1773 2694 \nQ 1696 2758 1523 2758 \nQ 1133 2758 893 2451 \nQ 653 2144 653 1645 \nQ 653 1094 928 745 \nQ 1203 397 1645 397 \nQ 1920 397 2118 528 \nQ 2317 659 2547 998 \nz\n\" transform=\"scale(0.015625)\"/>\n      <path id=\"STIXGeneral-Regular-6d\" d=\"M 4960 0 \nL 3565 0 \nL 3565 96 \nQ 3834 122 3907 208 \nQ 3981 294 3981 576 \nL 3981 1894 \nQ 3981 2278 3869 2444 \nQ 3757 2611 3488 2611 \nQ 3264 2611 3107 2521 \nQ 2950 2432 2803 2221 \nL 2803 608 \nQ 2803 301 2896 201 \nQ 2989 102 3264 96 \nL 3264 0 \nL 1830 0 \nL 1830 96 \nQ 2112 115 2189 188 \nQ 2266 262 2266 550 \nL 2266 1901 \nQ 2266 2611 1850 2611 \nQ 1670 2611 1468 2531 \nQ 1267 2451 1171 2336 \nQ 1088 2240 1088 2227 \nL 1088 448 \nQ 1088 243 1177 176 \nQ 1267 109 1523 96 \nL 1523 0 \nL 102 0 \nL 102 96 \nQ 371 102 460 195 \nQ 550 288 550 563 \nL 550 2150 \nQ 550 2387 499 2480 \nQ 448 2573 326 2573 \nQ 230 2573 122 2547 \nL 122 2656 \nQ 557 2778 1011 2944 \nL 1062 2925 \nL 1062 2451 \nL 1075 2451 \nQ 1363 2752 1584 2848 \nQ 1805 2944 2054 2944 \nQ 2560 2944 2733 2406 \nQ 3232 2944 3776 2944 \nQ 4518 2944 4518 1792 \nL 4518 493 \nQ 4518 282 4582 202 \nQ 4646 122 4794 109 \nL 4960 96 \nL 4960 0 \nz\n\" transform=\"scale(0.015625)\"/>\n      <path id=\"STIXGeneral-Regular-73\" d=\"M 998 1926 \nL 1664 1523 \nQ 1984 1331 2105 1164 \nQ 2227 998 2227 736 \nQ 2227 416 1961 176 \nQ 1696 -64 1331 -64 \nQ 1030 -64 864 -6 \nQ 691 51 570 51 \nQ 461 51 416 -26 \nL 333 -26 \nL 333 979 \nL 435 979 \nQ 538 512 730 294 \nQ 922 77 1248 77 \nQ 1485 77 1632 211 \nQ 1779 346 1779 550 \nQ 1779 845 1440 1030 \nL 1094 1222 \nQ 326 1651 326 2150 \nQ 326 2522 566 2730 \nQ 806 2938 1210 2938 \nQ 1491 2938 1638 2867 \nQ 1754 2816 1818 2816 \nQ 1862 2816 1920 2880 \nL 1990 2880 \nL 2022 2010 \nL 1926 2010 \nQ 1818 2445 1654 2621 \nQ 1491 2797 1203 2797 \nQ 986 2797 854 2688 \nQ 723 2579 723 2362 \nQ 723 2253 796 2128 \nQ 870 2003 998 1926 \nz\n\" transform=\"scale(0.015625)\"/>\n      <path id=\"STIXGeneral-Regular-74\" d=\"M 1702 493 \nL 1786 422 \nQ 1478 -64 1011 -64 \nQ 448 -64 448 749 \nL 448 2675 \nL 109 2675 \nQ 83 2694 83 2720 \nQ 83 2771 192 2842 \nQ 435 2982 813 3526 \nQ 826 3546 874 3606 \nQ 922 3667 941 3706 \nQ 986 3706 986 3622 \nL 986 2880 \nL 1632 2880 \nL 1632 2675 \nL 986 2675 \nL 986 845 \nQ 986 538 1062 403 \nQ 1139 269 1318 269 \nQ 1510 269 1702 493 \nz\n\" transform=\"scale(0.015625)\"/>\n     </defs>\n     <use xlink:href=\"#STIXGeneral-Regular-43\"/>\n     <use xlink:href=\"#STIXGeneral-Regular-6f\" x=\"66.699997\"/>\n     <use xlink:href=\"#STIXGeneral-Regular-64\" x=\"116.699982\"/>\n     <use xlink:href=\"#STIXGeneral-Regular-69\" x=\"166.699966\"/>\n     <use xlink:href=\"#STIXGeneral-Regular-6e\" x=\"194.499954\"/>\n     <use xlink:href=\"#STIXGeneral-Regular-67\" x=\"244.499939\"/>\n     <use xlink:href=\"#STIXGeneral-Regular-20\" x=\"294.499924\"/>\n     <use xlink:href=\"#STIXGeneral-Regular-66\" x=\"319.499908\"/>\n     <use xlink:href=\"#STIXGeneral-Regular-6f\" x=\"352.799896\"/>\n     <use xlink:href=\"#STIXGeneral-Regular-72\" x=\"402.799881\"/>\n     <use xlink:href=\"#STIXGeneral-Regular-20\" x=\"436.099869\"/>\n     <use xlink:href=\"#STIXGeneral-Regular-45\" x=\"461.099854\"/>\n     <use xlink:href=\"#STIXGeneral-Regular-63\" x=\"522.199844\"/>\n     <use xlink:href=\"#STIXGeneral-Regular-6f\" x=\"566.599838\"/>\n     <use xlink:href=\"#STIXGeneral-Regular-6e\" x=\"616.599823\"/>\n     <use xlink:href=\"#STIXGeneral-Regular-6f\" x=\"666.599808\"/>\n     <use xlink:href=\"#STIXGeneral-Regular-6d\" x=\"716.599792\"/>\n     <use xlink:href=\"#STIXGeneral-Regular-69\" x=\"794.39978\"/>\n     <use xlink:href=\"#STIXGeneral-Regular-73\" x=\"822.199768\"/>\n     <use xlink:href=\"#STIXGeneral-Regular-74\" x=\"861.099762\"/>\n     <use xlink:href=\"#STIXGeneral-Regular-73\" x=\"888.89975\"/>\n    </g>\n   </g>\n  </g>\n </g>\n <defs>\n  <clipPath id=\"pa9268f5a75\">\n   <rect x=\"103.550888\" y=\"7.2\" width=\"357.12\" height=\"16.632\"/>\n  </clipPath>\n </defs>\n</svg>\n",
      "text/plain": [
       "<Figure size 960x45 with 1 Axes>"
      ]
     },
     "metadata": {},
     "output_type": "display_data"
    }
   ],
   "source": [
    "# remove input\n",
    "from matplotlib.colors import LinearSegmentedColormap\n",
    "\n",
    "colours = plt.rcParams[\"axes.prop_cycle\"].by_key()[\"color\"]\n",
    "cmap = LinearSegmentedColormap.from_list(\n",
    "    \"coding for economists: qualitative colourmap\", colours, N=len(colours)\n",
    ")\n",
    "\n",
    "fig, ax = plt.subplots(figsize=(6.4, 0.3))\n",
    "ax.imshow(gradient, aspect=\"auto\", cmap=plt.get_cmap(cmap))\n",
    "ax.text(\n",
    "    -0.01,\n",
    "    0.5,\n",
    "    \"Coding for Economists\",\n",
    "    va=\"center\",\n",
    "    ha=\"right\",\n",
    "    fontsize=10,\n",
    "    transform=ax.transAxes,\n",
    ")\n",
    "ax.set_axis_off()\n",
    "plt.show()"
   ]
  },
  {
   "cell_type": "markdown",
   "metadata": {},
   "source": [
    "## Libraries for Data Visualisation\n",
    "\n",
    "In the rest of this chapter, we'll take a look at making visualisations with several of these libraries. But first, let's introduce them.\n",
    "\n",
    "The most important and widely used data visualisation library in Python is [**matplotlib**](https://matplotlib.org/). It was used to make the first image of a black hole {cite:t}`akiyama2019first` and to image the first empirical evidence of gravitational waves {cite:t}`abbott2016observation`. **matplotlib** is an imperative visualisation library: you specify each part of what you want individually to build up an entire picture. It's perhaps the easiest to get started with and the most difficult to master. As well as making plots, it can also be used to make diagrams, animations, and 3D visualisations (which you should use sparingly, if at all).\n",
    "\n",
    "[**seaborn**](https://seaborn.pydata.org) is a popular declarative library that builds on **maplotlib** and works especially well with data that are in a *tidy* format (one row per observation, one column per variable). This book recommends a mixture of **seaborn** and **matplotlib** for most needs. especially for graphs that are not interactive.\n",
    "\n",
    "[**plotly** express](https://plotly.com/python/plotly-express/) is another declarative-leaning library that's suited to web apps and dashboards. This comes highly recommended if you need interactivity out of the box.\n",
    "\n",
    "[**plotnine**](https://plotnine.readthedocs.io) is another declarative plotting library. It adopts a *grammar of graphics* approach. What this means is that *all* visualisations begin with the same command, `ggplot`, and are combinations of layers that address different aspects of a plot, for example points or lines, scale, labels, and so on. It'll be clearer when we come to an example.\n",
    "\n",
    "[**altair**](https://altair-viz.github.io/) is yet another declarative plotting library for Python! It's most suited to interactive graphics on the web, and produces really beautiful charts. Under the hood, it calls a javascript library named **Vega-Lite** that's the sort of thing newspaper data visualisation units might use to make their infographics.\n",
    "\n",
    "**pandas** also has [built-in plotting functions](https://pandas.pydata.org/pandas-docs/stable/user_guide/visualization.html) that you will have seen in the data analysis part of this book. They are of the form `df.plot.*` where `*` could be, for example, `scatter`. These are convenience functions for making a quick plot of your data and they actually use **matplotlib**; we won't see much of these here but you can find them in the data analysis chapter.\n",
    "\n",
    "We're going to start this chapter by finding out a little bit more about each of these data visualisation libraries before looking at some examples of how to make specific plots with all the main libraries. We'll end by looking at some more interesting and advanced plots."
   ]
  },
  {
   "cell_type": "markdown",
   "metadata": {},
   "source": [
    "### Matplotlib\n",
    "\n",
    "For a more in-depth introduction to matplotlib, head over to [this tutorial](https://github.com/rougier/matplotlib-tutorial).\n",
    "\n",
    "Each of these libraries has their own default theme for how it shows plots. Personally, I'm not much of a fan of the **matplotlib** default so the first thing I do is to change it to something more aesthetically pleasing and that uses the kind of fonts you'll see in a paper compiled with latex."
   ]
  },
  {
   "cell_type": "markdown",
   "metadata": {},
   "source": [
    "You'll see we imported `matplotlib.pyplot as plt` above; this is the main part of **matplotlib** that we'll use in practice.\n",
    "\n",
    "There are actually two ways to use **matplotlib**: the 'pyplot API' and the 'object-oriented API'. The pyplot API (application programming interface) gives an experience that's much closer to Matlab and can be useful to make a quick chart. It's very simple to use, for example:"
   ]
  },
  {
   "cell_type": "code",
   "execution_count": null,
   "metadata": {},
   "outputs": [],
   "source": [
    "plt.plot([1, 2, 3, 4], [1, 4, 9, 16])"
   ]
  },
  {
   "cell_type": "markdown",
   "metadata": {},
   "source": [
    "```{admonition} Tip\n",
    ":class: tip\n",
    "**Matplotlib** returns an object when used, eg `[<matplotlib.lines.Line2D...` above. To suppress this, end the command with a semi-colon, `;`.\n",
    "```\n",
    "\n",
    "However, the pyplot API is generally less-flexible and less-useful than the object-oriented API, and for the rest of this chapter we'll be using the object-oriented API.\n",
    "\n",
    "The object-oriented API is most often used by creating two objects: the figure and the axes. You should think of the figure object, `fig`, as the canvas on which you can put any number of charts. Each ax (short for 'axis') object is one chart within a figure. Of course, most of the time you're likely only to have one axis per figure, but in the cases when you don't it's a really useful setup. The plotting of elements such as lines, points, bars, and so, are controlled by the `ax` objects while the overall settings are controlled by `fig`.\n",
    "\n",
    "Let's see an example of a line chart using this object-oriented approach."
   ]
  },
  {
   "cell_type": "code",
   "execution_count": null,
   "metadata": {},
   "outputs": [],
   "source": [
    "fig, ax = plt.subplots()  # Create a figure containing a single axes.\n",
    "ax.scatter([1, 2, 3, 4, 5, 6], [1, 4, 2, 3, 1, 7], s=150, c=\"b\")\n",
    "# Plot some data on the axes."
   ]
  },
  {
   "cell_type": "markdown",
   "metadata": {},
   "source": []
  },
  {
   "cell_type": "markdown",
   "metadata": {},
   "source": [
    "In the above example, we used `ax.scatter` to get a scatter plot, `s=150` to set the area of the points, and `c='b'` to set the color. Many of these features will accept an array instead of a single value and will map them into the plot in the way you'd expect, for instance:"
   ]
  },
  {
   "cell_type": "code",
   "execution_count": null,
   "metadata": {},
   "outputs": [],
   "source": [
    "fig, ax = plt.subplots()\n",
    "ax.scatter(\n",
    "    [1, 2, 3, 4, 5, 6],\n",
    "    [1, 4, 2, 3, 1, 7],\n",
    "    s=np.linspace(300, 2000, 6),\n",
    "    c=[\"b\", \"r\", \"g\", \"k\", \"cyan\", \"yellow\"],\n",
    "    edgecolors=\"k\",\n",
    "    alpha=0.5,\n",
    ");"
   ]
  },
  {
   "cell_type": "markdown",
   "metadata": {},
   "source": [
    "Here we asked for a different colour for each point, an area that's increasing linearly, partly transparent points (default is `alpha=1`, which is a solid colour), and a black edge colour.\n",
    "\n",
    "You can probably begin to see how everything is going to be customisable. We've only seen aspects of the plot that are customisable through the `scatter` keyword so far though; let's now see an example that's a bit more real (and useful!) in which we'll want to add labels, a title, and more. We'll use the Midwest demographics dataset."
   ]
  },
  {
   "cell_type": "code",
   "execution_count": null,
   "metadata": {},
   "outputs": [],
   "source": [
    "df = pd.read_csv(\n",
    "    \"https://vincentarelbundock.github.io/Rdatasets/csv/ggplot2/midwest.csv\",\n",
    "    index_col=\"PID\",\n",
    ").drop(\"Unnamed: 0\", axis=1)\n",
    "df.head()"
   ]
  },
  {
   "cell_type": "code",
   "execution_count": null,
   "metadata": {},
   "outputs": [],
   "source": [
    "fig, ax = plt.subplots()\n",
    "ax.scatter(df[\"area\"], df[\"poptotal\"], edgecolors=\"k\", alpha=0.6)\n",
    "ax.set_xlim(0, 0.1)\n",
    "ax.set_ylim(0, 1e6)\n",
    "ax.set_xlabel(\"Area\")\n",
    "ax.set_ylabel(\"Population\")\n",
    "ax.set_title(\"Area vs. Population\", loc=\"right\");"
   ]
  },
  {
   "cell_type": "markdown",
   "metadata": {},
   "source": [
    "Perhaps you can see from this already that **matplotlib** offers a ton of customisation features *and* that it can be quite verbose.\n",
    "\n",
    "Let's see another couple of customisations that are really useful: formatting axes. The y-axis has already been formatted because we used a specific style file at the top of the page (the line beginning `plt.style.use`) but, on the x-axis, we'll add a percentage suffix on the numbers plus some minor tick marks."
   ]
  },
  {
   "cell_type": "code",
   "execution_count": null,
   "metadata": {},
   "outputs": [],
   "source": [
    "from matplotlib.ticker import AutoMinorLocator\n",
    "\n",
    "fig, ax = plt.subplots()\n",
    "ax.scatter(df[\"area\"], df[\"poptotal\"], edgecolors=\"k\", alpha=0.6)\n",
    "ax.set_xlim(0, 0.1)\n",
    "ax.set_ylim(0, 1e6)\n",
    "ax.set_xlabel(\"Area\")\n",
    "ax.set_ylabel(\"Population\")\n",
    "ax.set_title(\"Area vs. Population\", loc=\"right\")\n",
    "ax.xaxis.set_minor_locator(AutoMinorLocator(4))\n",
    "ax.xaxis.set_major_formatter(\"{x:.2f}%\")\n",
    "ax.ticklabel_format(style=\"sci\", scilimits=(-2, 2), axis=\"y\", useMathText=True);"
   ]
  },
  {
   "cell_type": "markdown",
   "metadata": {},
   "source": [
    "The `AutoMinorLocator(4)` inserts 4 minor tick marks between each major tick mark. The major formatter is `'{x:.2f}%'`, which says print 2 decimal places followed by a % sign. Finally, the `ax.ticklabel_format` option changes the computer science notation to use latex to print a prettier form of the one million signifier.\n",
    "\n",
    "Rather than go through all of the many, many options for customisation, the figure below (from the Matplotlib documentation) gives an overview of the options:\n",
    "\n",
    "![Anatomy of a matplotlib figure](https://matplotlib.org/_images/anatomy.png)\n",
    "\n",
    "Okay a quick overview of what the most important plot elements are:\n",
    "\n",
    "- Figure, or 'fig': the figure keeps track of all the child Axes that are on it and a smattering of 'special' artists (titles, figure legends, etc). A figure can contain any number of Axes, but will typically have at least one.\n",
    "- Axes, or 'ax': this is the plot, the region of the image that traces out the data. A given Figure can contain many Axes, but a given Axes object can only be in one Figure. The Axes contains two (or three in the case of 3D) Axis objects (Axes and Axis are different things!) that record the data limits (you can override these via the `axes.Axes.set_xlim()` and `axes.Axes.set_ylim()` methods). Each Axes object has a title (set via `set_title()`), an x-label (set via `set_xlabel()`), and a y-label set via `set_ylabel()`). When you add, say, a line chart to an Axes object it appears as a Line2D object associated that that axis and it is created by calling a method on an Axes object.\n",
    "- Axis: these are the number-line objects that control the limits of what the viewer can see. They also provide the means to access the ticks (the marks on the axis) and ticklabels (strings labeling the ticks). The location of the ticks is determined by a Locator object and the ticklabel strings are formatted by a Formatter. The combination of Locator and Formatter gives very fine control over the tick locations and labels.\n",
    "\n",
    "You can find a detailed blog post on the ins and outs [here](https://dev.to/skotaro/artist-in-matplotlib---something-i-wanted-to-know-before-spending-tremendous-hours-on-googling-how-tos--31oo). The object-oriented structure of **matplotlib** plots can be confusing at first, but, as we'll see, it pretty much fades into the background when you're making plots.\n",
    "\n",
    "While **matplotlib** is super-customisable, sometimes achieving what you want directly can be a bit verbose. Let's say we want to now differentiate these points with colour according to which state they belong to and add a legend that says which states have which colour. The easiest way to do this is by creating a for loop."
   ]
  },
  {
   "cell_type": "code",
   "execution_count": null,
   "metadata": {},
   "outputs": [],
   "source": [
    "colours = plt.get_cmap(\"Dark2\")(np.linspace(0, 1, len(df[\"state\"].unique())))\n",
    "\n",
    "fig, ax = plt.subplots()\n",
    "for i, state in enumerate(df[\"state\"].unique()):\n",
    "    xf = df.loc[df[\"state\"] == state]\n",
    "    ax.scatter(\n",
    "        xf[\"area\"],\n",
    "        xf[\"poptotal\"],\n",
    "        color=colours[i],\n",
    "        label=state,\n",
    "        s=100,\n",
    "        edgecolor=\"k\",\n",
    "        alpha=0.8,\n",
    "    )\n",
    "ax.set_xlim(0, 0.1)\n",
    "ax.set_ylim(0, 1e6)\n",
    "ax.set_xlabel(\"Area\")\n",
    "ax.set_ylabel(\"Population\")\n",
    "ax.set_title(\"Area vs. Population\", loc=\"center\")\n",
    "ax.xaxis.set_minor_locator(AutoMinorLocator(4))\n",
    "ax.xaxis.set_major_formatter(\"{x:.2f}%\")\n",
    "ax.ticklabel_format(style=\"sci\", scilimits=(-2, 2), axis=\"y\", useMathText=True)\n",
    "ax.legend(title=\"State\", loc=\"upper right\");"
   ]
  },
  {
   "cell_type": "markdown",
   "metadata": {},
   "source": [
    "Okay, so we managed to get what we wanted. We used a colormap to get 5 qualitatively different colours; there are also sequential colormaps for continuous (as opposed to discrete) variables. You can find out more about the colormaps available in base matplotlib [here](https://matplotlib.org/3.1.0/tutorials/colors/colormaps.html). We also subsetted the dataframe and looped over it by state. Matplotlib doesn't always work so well with tidy data. As you saw in this example, we had to loop over the different states. Some of its defaults are a little more friendly when using data that is unstacked, eg with one state per column.\n",
    "\n",
    "However, this was quite verbose; when we come to **seaborn**, we'll see a much easier way of doing this. \n",
    "\n",
    "For now, let's see a couple of other plot types that are useful, beginning with contour plots:"
   ]
  },
  {
   "cell_type": "code",
   "execution_count": null,
   "metadata": {},
   "outputs": [],
   "source": [
    "def f(x, y):\n",
    "    return np.sin(x) ** 10 + np.cos(10 + y * x) * np.cos(x)\n",
    "\n",
    "\n",
    "x = np.linspace(0, 5, 100)\n",
    "y = np.linspace(0, 5, 100)\n",
    "\n",
    "X, Y = np.meshgrid(x, y)\n",
    "Z = f(X, Y)\n",
    "\n",
    "fig, ax = plt.subplots()\n",
    "cf = ax.contourf(X, Y, Z, cmap=\"plasma\")\n",
    "ax.set_title(r\"$f(x,y) = \\sin^{10}(x) + \\cos(x)\\cos\\left(10 + y\\cdot x\\right)$\")\n",
    "cbar = fig.colorbar(cf)"
   ]
  },
  {
   "cell_type": "markdown",
   "metadata": {},
   "source": [
    "This demonstrates creating a heatmap (or contour plot) with a colour bar legend and a title that's rendered with latex. The heatmap uses a perceptually uniform distribution that makes equal changes look equal; **matplotlib** has a few of these. If you need more colours, check out the packages [**colorcet**](https://colorcet.holoviz.org/) and [**palettable**](https://jiffyclub.github.io/palettable/)."
   ]
  },
  {
   "cell_type": "markdown",
   "metadata": {},
   "source": [
    "You can do some really quite amazing things using **matplotlib**'s build what you want philosophy. For instance, you can [build a timeline](https://matplotlib.org/3.1.1/gallery/lines_bars_and_markers/timeline.html#sphx-glr-gallery-lines-bars-and-markers-timeline-py), make [charts with polar axes](https://matplotlib.org/3.1.1/gallery/pie_and_polar_charts/polar_bar.html#sphx-glr-gallery-pie-and-polar-charts-polar-bar-py), and create [XKCD style plots](https://matplotlib.org/3.1.1/gallery/showcase/xkcd.html#sphx-glr-gallery-showcase-xkcd-py).\n",
    "\n",
    "One basic bit of functionality that you might need is to put more than one type of information on a single plot. Using the object-oriented API, this is as simple as calling another method on an `ax` that you've already created. In the example below, we'll call `ax.hist` followed by `ax.plot` to get a the theoretical curve for a normal distribution (aka Gaussian) overlaid on a kernel density estimate based on many draws from the relevant distribution using `numpy`."
   ]
  },
  {
   "cell_type": "code",
   "execution_count": null,
   "metadata": {},
   "outputs": [],
   "source": [
    "rand_draws = np.random.randn(5000)\n",
    "grid_x = np.linspace(-5, 5, 1000)\n",
    "\n",
    "fig, ax = plt.subplots()\n",
    "ax.hist(rand_draws, bins=50, density=True)\n",
    "ax.plot(grid_x, 1 / np.sqrt(2 * np.pi) * np.exp(-(grid_x ** 2) / 2), linewidth=4);"
   ]
  },
  {
   "cell_type": "markdown",
   "metadata": {},
   "source": [
    "Another important class of plots that we should look at are line charts, especially time series. Let's grab the real GDP time series for the UK and US and look at the year-on-year quarterly growth rates (the first few entries will be `NaN` because we switched to growth space)."
   ]
  },
  {
   "cell_type": "code",
   "execution_count": null,
   "metadata": {},
   "outputs": [],
   "source": [
    "import pandas_datareader.data as web\n",
    "\n",
    "ts_start_date = pd.to_datetime(\"1999-01-01\")\n",
    "\n",
    "df = pd.concat(\n",
    "    [\n",
    "        web.DataReader(\"ticker=RGDP\" + x, \"econdb\", start=ts_start_date)\n",
    "        for x in [\"US\", \"UK\"]\n",
    "    ],\n",
    "    axis=1,\n",
    ")\n",
    "df.columns = [\"US\", \"UK\"]\n",
    "df.index.name = \"Date\"\n",
    "df = 100 * df.pct_change(4)\n",
    "df.head()"
   ]
  },
  {
   "cell_type": "markdown",
   "metadata": {},
   "source": [
    "Okay, now the quick way to plot this would be to simply call `df.plot()`. That works fine and doesn't look too bad: it recognises that it's dealing with a datetime and plots sensible tick labels on the x-axis, and it produces a legend for each of the two time series. But let's say we want to make that plot quickly *and* do some fine-tuning with **matplotlib**: how can we? The answer is to create a `fig` and an `ax` and then to ask our dataframe to use the `ax` we already created to plot the data. We can then carry on using the `ax` object in any way we like."
   ]
  },
  {
   "cell_type": "code",
   "execution_count": null,
   "metadata": {},
   "outputs": [],
   "source": [
    "fig, ax = plt.subplots()\n",
    "df.plot(ax=ax)\n",
    "ax.set_title(\"Real GDP growth, %\", loc=\"right\")\n",
    "ax.spines[\"right\"].set_visible(True)\n",
    "ax.spines[\"left\"].set_visible(False)\n",
    "ax.spines[\"top\"].set_visible(False)\n",
    "ax.yaxis.tick_right()\n",
    "# Put tick marks and tick labels on right-hand side"
   ]
  },
  {
   "cell_type": "markdown",
   "metadata": {},
   "source": [
    "We could also have created this chart by looping through the different countries just as we looped through the difference states in the previous example.\n",
    "\n",
    "Let's also see what happens when we use different limits:"
   ]
  },
  {
   "cell_type": "code",
   "execution_count": null,
   "metadata": {},
   "outputs": [],
   "source": [
    "fig, ax = plt.subplots()\n",
    "df.plot(ax=ax)\n",
    "ax.set_title(\"Real GDP growth, %\", loc=\"right\")\n",
    "ax.spines[\"right\"].set_visible(True)\n",
    "ax.spines[\"left\"].set_visible(False)\n",
    "ax.spines[\"top\"].set_visible(False)\n",
    "ax.yaxis.tick_right()  # Put tick marks and tick labels on right-hand side\n",
    "ax.set_xlim(pd.to_datetime(\"2018-01-01\"), pd.to_datetime(\"2021-01-01\"));"
   ]
  },
  {
   "cell_type": "markdown",
   "metadata": {},
   "source": [
    "As you can see, the plot dynamically responded to the shorter time period by putting more details in, here of quarters. You can specify exactly what you want with the tick label formatters that cater to datetimes, but the defaults are pretty well-behaved.\n",
    "\n",
    "Sometimes, you want to show different lines in different panels (or facets, as they are also known). You can do that with **matplotlib** too, though once again it's a build-your-own affair.\n",
    "\n",
    "Let's put these two time series in their own facets to see how it works."
   ]
  },
  {
   "cell_type": "code",
   "execution_count": null,
   "metadata": {},
   "outputs": [],
   "source": [
    "fig, axes = plt.subplots(1, 2)\n",
    "for i, ax in enumerate(axes):\n",
    "    ax.plot(df.index, df.iloc[:, i])\n",
    "    ax.set_title(df.columns[i], loc=\"left\")\n",
    "    ax.yaxis.tick_right()\n",
    "    ax.spines[\"right\"].set_visible(True)\n",
    "    ax.spines[\"left\"].set_visible(False)\n",
    "    ax.spines[\"top\"].set_visible(False)\n",
    "    ax.set_ylim(df.min().min(), df.max().max())\n",
    "fig.suptitle(\"Real GDP growth, %\")\n",
    "plt.tight_layout();"
   ]
  },
  {
   "cell_type": "markdown",
   "metadata": {},
   "source": [
    "Quite a few things are happening here. The first is that we asked for more rows and columns from matplotlib using `plt.subplots(nrows, ncolumns)` and instead of returning a single `ax` it returned a list of axes (here of length 2). We then iterated over those axes using enumerate, which gives an integer `i` and an `ax` from the list, and plotted a column on each axis by subsetting the dataframe one column at a time using `df.iloc[:, i]`. Remember that the first position in `iloc` is for the index values (ie the rows), while the second is for the columns. Again, this was quite a lot of code to get a relatively simple chart done! And that's exactly why we're now going to take a look at the declarative library **seaborn** that wraps **matplotlib**."
   ]
  },
  {
   "cell_type": "markdown",
   "metadata": {},
   "source": [
    "### Seaborn\n",
    "\n",
    "**seaborn** provides a high-level interface for quickly drawing standard charts. It is based on **matplotlib*, which is great because it means you can always tinker if you need to. And it plays very nicely with **pandas** dataframes too, so it can easily fit into your workflow.\n",
    "\n",
    "Here's an overview of the API (application programming interface; basically the commands we can feed the library) for **seaborn**. (NB: this figure excludes the facet option, which combines multiple versions of the below plots.)\n",
    "\n",
    "![seaborn api diagram](https://seaborn.pydata.org/_images/function_overview_8_0.png)\n",
    "\n",
    "Let's see the chart we were just trying to make but rendered in **seaborn**. The first difference is that **seaborn** expects *tidy data*, a concept from the Data part of this book. So first we must transform our data into tidy format.\n",
    "\n"
   ]
  },
  {
   "cell_type": "code",
   "execution_count": null,
   "metadata": {},
   "outputs": [],
   "source": [
    "tidy_df = df.stack().reset_index()\n",
    "tidy_df.columns = [\"Date\", \"Country\", \"Real GDP growth, %\"]\n",
    "tidy_df.head()"
   ]
  },
  {
   "cell_type": "markdown",
   "metadata": {},
   "source": [
    "Okay now let's use seaborn to do the plotting. As with **matplotlib**, the way to get different charts in **seaborn** is a matter of knowing the API names. Here, we'll use `relplot`, which is for facets."
   ]
  },
  {
   "cell_type": "code",
   "execution_count": null,
   "metadata": {},
   "outputs": [],
   "source": [
    "import seaborn as sns\n",
    "\n",
    "sns.relplot(\n",
    "    data=tidy_df,\n",
    "    x=\"Date\",\n",
    "    y=\"Real GDP growth, %\",\n",
    "    hue=\"Country\",\n",
    "    col=\"Country\",\n",
    "    kind=\"line\",\n",
    "    legend=False,\n",
    ");"
   ]
  },
  {
   "cell_type": "markdown",
   "metadata": {},
   "source": [
    "In this case, we got a very similar plot with less effort--and what we do is more generalisable too. As long as we have data in a tidy format, we can specify the columns to seaborn and let it put them in different facets. And facets aren't the only difference it can provide either: you can specify the hue such that it depends on another categorical variable (rather than, as in this case, changing with each facet). Here's an example changing the hue to reflect an extra type of information, region:\n"
   ]
  },
  {
   "cell_type": "code",
   "execution_count": null,
   "metadata": {},
   "outputs": [],
   "source": [
    "# Download RGDP for Canada and France:\n",
    "extra_df = pd.concat(\n",
    "    [\n",
    "        web.DataReader(\"ticker=RGDP\" + x, \"econdb\", start=ts_start_date)\n",
    "        for x in [\"CA\", \"FR\"]\n",
    "    ],\n",
    "    axis=1,\n",
    ")\n",
    "extra_df.columns = [\"CA\", \"FR\"]\n",
    "extra_df.index.name = \"Date\"\n",
    "extra_df = (100 * extra_df.pct_change(4)).stack().reset_index()\n",
    "extra_df.columns = [\"Date\", \"Country\", \"Real GDP growth, %\"]\n",
    "# Add the new data to the tidy dataframe\n",
    "tidy_df = pd.concat([tidy_df, extra_df], axis=0)\n",
    "continent_dict = {\n",
    "    \"CA\": \"North America\",\n",
    "    \"US\": \"North America\",\n",
    "    \"UK\": \"Europe\",\n",
    "    \"FR\": \"Europe\",\n",
    "}\n",
    "tidy_df[\"Region\"] = tidy_df[\"Country\"].map(continent_dict)\n",
    "tidy_df.sample(6)"
   ]
  },
  {
   "cell_type": "code",
   "execution_count": null,
   "metadata": {},
   "outputs": [],
   "source": [
    "sns.relplot(\n",
    "    data=tidy_df,\n",
    "    x=\"Date\",\n",
    "    y=\"Real GDP growth, %\",\n",
    "    hue=\"Region\",\n",
    "    col=\"Country\",\n",
    "    col_wrap=2,\n",
    "    kind=\"line\",\n",
    "    legend=False,\n",
    ");"
   ]
  },
  {
   "cell_type": "markdown",
   "metadata": {},
   "source": [
    "As you can see, we now have two colours: one for each region.\n",
    "\n",
    "Let's see some of the other useful shortcuts that **seaborn** provides over the top of **matplotlib**. First, correlation heatmaps:\n"
   ]
  },
  {
   "cell_type": "code",
   "execution_count": null,
   "metadata": {},
   "outputs": [],
   "source": [
    "# Generate data and create corr mat\n",
    "d = pd.DataFrame(\n",
    "    data=np.random.normal(size=(100, 6)), columns=[\"A\", \"B\", \"C\", \"D\", \"E\", \"F\"]\n",
    ")\n",
    "corr = d.corr()\n",
    "\n",
    "# Generate a mask to cover the upper triangle\n",
    "mask = np.triu(np.ones_like(corr, dtype=bool))\n",
    "\n",
    "# Draw heatmap\n",
    "sns.heatmap(\n",
    "    corr,\n",
    "    mask=mask,\n",
    "    cmap=\"magma\",\n",
    "    vmin=-0.4,\n",
    "    vmax=0.4,\n",
    "    center=0,\n",
    "    square=True,\n",
    "    linewidths=0.5,\n",
    "    cbar_kws={\"shrink\": 0.5},\n",
    ");"
   ]
  },
  {
   "cell_type": "markdown",
   "metadata": {},
   "source": [
    "**seaborn** also offers convenience functions for (continuous) heatmaps, kernel density estimates, and marginal plots:\n"
   ]
  },
  {
   "cell_type": "code",
   "execution_count": null,
   "metadata": {},
   "outputs": [],
   "source": [
    "df = sns.load_dataset(\"penguins\")\n",
    "\n",
    "g = sns.JointGrid(data=df, x=\"body_mass_g\", y=\"bill_depth_mm\", space=0)\n",
    "g.plot_joint(\n",
    "    sns.kdeplot,\n",
    "    fill=True,\n",
    "    clip=((2200, 6800), (10, 25)),\n",
    "    thresh=0,\n",
    "    levels=100,\n",
    "    cmap=\"inferno\",\n",
    ")\n",
    "g.plot_marginals(sns.histplot, color=\"#03051A\", alpha=1, bins=25);"
   ]
  },
  {
   "cell_type": "markdown",
   "metadata": {},
   "source": [
    "And plotting simple linear models according to a category:"
   ]
  },
  {
   "cell_type": "code",
   "execution_count": null,
   "metadata": {},
   "outputs": [],
   "source": [
    "g = sns.lmplot(\n",
    "    data=df,\n",
    "    x=\"bill_length_mm\",\n",
    "    y=\"bill_depth_mm\",\n",
    "    hue=\"species\",\n",
    "    legend=False,\n",
    "    line_kws={\"lw\": 1.0},\n",
    "    height=5,\n",
    "    aspect=1.75,\n",
    ")\n",
    "plt.legend(loc=\"lower left\", frameon=True);"
   ]
  },
  {
   "cell_type": "markdown",
   "metadata": {},
   "source": [
    "And, finally, violin plots:"
   ]
  },
  {
   "cell_type": "code",
   "execution_count": null,
   "metadata": {},
   "outputs": [],
   "source": [
    "tips = sns.load_dataset(\"tips\")\n",
    "sns.violinplot(\n",
    "    data=tips,\n",
    "    x=\"day\",\n",
    "    y=\"total_bill\",\n",
    "    hue=\"smoker\",\n",
    "    split=True,\n",
    "    inner=\"quart\",\n",
    "    linewidth=1,\n",
    ");"
   ]
  },
  {
   "cell_type": "markdown",
   "metadata": {},
   "source": [
    "### Plotnine\n",
    "\n",
    "[**plotnine**](https://plotnine.readthedocs.io/en/stable/) is, like **seaborn**, a declarative library. Unlike **seaborn**, it adopts a 'grammar of graphics' approach inspired by the book 'The Grammar of Graphics' by Leland Wilkinson. **plotnine** is heavily inspired by the API of the popular **ggplot2** plotting package in the statistical programming language R. The point behind the grammar of graphics approach is that users can compose plots by explicitly mapping data to the various elements that make up the plot. It is a particularly effective approach for a whole slew of standard plots created from tidy data.\n",
    "\n",
    "Before playing with **plotnine** though, I found that my preferred settings for **maplotlib** made the (very sensible) defaults for **plotnine** go awry, particularly for facet plots, so I'm going to switch back to the matplotlib defaults:\n"
   ]
  },
  {
   "cell_type": "code",
   "execution_count": null,
   "metadata": {},
   "outputs": [],
   "source": [
    "import matplotlib as mpl\n",
    "\n",
    "mpl.rcParams.update(mpl.rcParamsDefault)"
   ]
  },
  {
   "cell_type": "markdown",
   "metadata": {},
   "source": [
    "Let's take a look at how to do a simple scatter plot, like we saw for **matplotlib**, in **plotnine**. We'll use the *mtcars* dataset."
   ]
  },
  {
   "cell_type": "code",
   "execution_count": null,
   "metadata": {},
   "outputs": [],
   "source": [
    "from plotnine import ggplot, geom_point, aes\n",
    "from plotnine.data import mtcars\n",
    "\n",
    "(ggplot(mtcars, aes(\"wt\", \"mpg\")) + geom_point())"
   ]
  },
  {
   "cell_type": "markdown",
   "metadata": {},
   "source": [
    "Here, `ggplot` is the organising framework for creating a plot and `mtcars` is a dataframe with the data in that we'd like to plot. `aes` stands for aesthetic mapping and it tells **plotnine** which columns of the dataframe to treat as the x and y axis (in that order). Finally, `geom_point` tells **plotnine** to add scatter points to the plot.\n",
    "\n",
    "If we want to add colour, we pass a colour keyword argument to `aes` like so (with 'factor' meaning treat the variable like it's a categorical):\n"
   ]
  },
  {
   "cell_type": "code",
   "execution_count": null,
   "metadata": {},
   "outputs": [],
   "source": [
    "(ggplot(mtcars, aes(\"wt\", \"mpg\", color=\"factor(gear)\")) + geom_point())"
   ]
  },
  {
   "cell_type": "markdown",
   "metadata": {},
   "source": [
    "One of the nice aspects of the grammar of graphics approach, perhaps its best feature, is that switching to other types of 'geom' (aka chart type) is as easy as calling the same code but with a different 'geom' switched in. Note that, because we only imported one element at a time from **plotnine** we do need to explicitly import any other 'geoms' that we'd like to use, as in the next example below. But we *could* have just imported everything from **plotnine** instead using `from plotnine import *`.\n",
    "\n",
    "The next example shows how easy it is to switch between 'geoms'.\n"
   ]
  },
  {
   "cell_type": "code",
   "execution_count": null,
   "metadata": {},
   "outputs": [],
   "source": [
    "from plotnine import geom_smooth\n",
    "\n",
    "(ggplot(mtcars, aes(\"wt\", \"mpg\")) + geom_smooth())"
   ]
  },
  {
   "cell_type": "markdown",
   "metadata": {},
   "source": [
    "Furthermore, we can add *multiple* geoms to the same chart by layering them within the same call to the `ggplot` function:"
   ]
  },
  {
   "cell_type": "code",
   "execution_count": null,
   "metadata": {},
   "outputs": [],
   "source": [
    "(ggplot(mtcars, aes(\"wt\", \"mpg\")) + geom_smooth(color=\"blue\") + geom_point())"
   ]
  },
  {
   "cell_type": "markdown",
   "metadata": {},
   "source": [
    "Just like **seaborn** and **matplotlib**, we can create facet plots too--but this time they're just a variation on the same underlying call to `ggplot`. Let's see that same example of GDP by country rendered with **plotnine**: "
   ]
  },
  {
   "cell_type": "code",
   "execution_count": null,
   "metadata": {},
   "outputs": [],
   "source": [
    "from plotnine import geom_line, facet_wrap, theme, element_text\n",
    "\n",
    "(\n",
    "    ggplot(tidy_df, aes(x=\"Date\", y=\"Real GDP growth, %\", color=\"factor(Region)\"))\n",
    "    + geom_line()\n",
    "    + facet_wrap(\"Country\", nrow=2)\n",
    "    + theme(axis_text_x=element_text(rotation=90))\n",
    ")"
   ]
  },
  {
   "cell_type": "markdown",
   "metadata": {},
   "source": [
    "**plotnine** can do many of the same types of charts as **seaborn**; let's see some similar examples:"
   ]
  },
  {
   "cell_type": "code",
   "execution_count": null,
   "metadata": {},
   "outputs": [],
   "source": [
    "from plotnine import geom_violin, scale_fill_manual\n",
    "\n",
    "(\n",
    "    ggplot(tips, aes(\"day\", \"total_bill\", fill=\"smoker\"))\n",
    "    + geom_violin(tips)\n",
    "    + scale_fill_manual(values=[\"dodgerblue\", \"darkorange\"])\n",
    ")"
   ]
  },
  {
   "cell_type": "code",
   "execution_count": null,
   "metadata": {},
   "outputs": [],
   "source": [
    "from plotnine import labs\n",
    "\n",
    "(\n",
    "    ggplot(df, aes(x=\"bill_length_mm\", y=\"bill_depth_mm\", color=\"factor(species)\"))\n",
    "    + geom_point()\n",
    "    + geom_smooth(method=\"lm\")\n",
    "    + labs(x=\"Bill length (mm)\", y=\"Bill depth (mm)\")\n",
    ")"
   ]
  },
  {
   "cell_type": "markdown",
   "metadata": {},
   "source": [
    "Finally, an example of great practical use during exploratory analysis, the kernel density plot:"
   ]
  },
  {
   "cell_type": "code",
   "execution_count": null,
   "metadata": {},
   "outputs": [],
   "source": [
    "from plotnine import geom_density\n",
    "from plotnine.data import mpg\n",
    "\n",
    "(ggplot(mpg, aes(x=\"cty\", color=\"drv\", fill=\"drv\")) + geom_density(alpha=0.1))"
   ]
  },
  {
   "cell_type": "markdown",
   "metadata": {},
   "source": [
    "### Altair\n",
    "\n",
    "[**Altair**](https://altair-viz.github.io/) is similar to **plotnine** and **seaborn**, in that it's declarative, but it's very dissimilar in its look and feel. It isn't based on **matplotlib** and it's really more suited to displaying graphics on the web than anything else. Under the hood, it uses powerful javascript visualisation libraries. Because you're unlikely to use it in a paper, we won't give it quite the same amount of time or consideration as the other libraries.\n",
    "\n",
    "A note of caution about **altair**: you shouldn't use it for very large datasets (see the guidance [here](https://altair-viz.github.io/user_guide/faq.html#altair-faq-large-notebook)--there is a way around it) and, last time I tried, charts couldn't easily be exported to a PDF friendly format. It's really geared around web visualisation, and very beautiful web vis at that!\n",
    "\n",
    "The first thing to understand about **altair** is that, in a similar way to **plotnine**, the creation of a chart is always the same and it's only the specification of the type of chart that happens differently. Here's a by now familiar scatterplot example:"
   ]
  },
  {
   "cell_type": "code",
   "execution_count": null,
   "metadata": {},
   "outputs": [],
   "source": [
    "import altair as alt\n",
    "from vega_datasets import data\n",
    "\n",
    "cars = data.cars()\n",
    "\n",
    "alt.Chart(cars).mark_circle(size=60).encode(\n",
    "    x=\"Horsepower\", y=\"Miles_per_Gallon\", color=\"Origin\", tooltip=[\"Name\"]\n",
    ").interactive()"
   ]
  },
  {
   "cell_type": "markdown",
   "metadata": {},
   "source": [
    "There's a lot to unpack here! The very basic elements of the chart come from calling\n",
    "\n",
    "```python\n",
    "alt.Chart(cars).mark_circle().encode(\n",
    "    x='Horsepower',\n",
    "    y='Miles_per_Gallon',\n",
    "    color='Origin',\n",
    ")\n",
    "```\n",
    "\n",
    "as this asks for a chart using the (tidy) mtcars dataframe with circles that are coloured by the variable 'gear' treated as an ordinal (aka a category or factor) using `color=gear:O`. I had to specify that this should be  There are some extras. I added bigger circles and interactivity so that you can i) move the chart around as you like and ii) if you hover over any of the points, you will see the 'name' variable for that entry displayed. The latter is achieved via the tooltip keyword argument.\n",
    "\n",
    "As with ggplot, we can add multiple elements to a single plot. In this case, **altair** uses a clever property of Python called overloading to 'overload' the addition operator so that chart1 + chart2 creates a combined chart of both:"
   ]
  },
  {
   "cell_type": "code",
   "execution_count": null,
   "metadata": {},
   "outputs": [],
   "source": [
    "points = (\n",
    "    alt.Chart(cars)\n",
    "    .mark_point()\n",
    "    .encode(x=\"Horsepower\", y=\"Miles_per_Gallon\", tooltip=[\"Name\"])\n",
    ")\n",
    "\n",
    "line = points.transform_loess(\"Horsepower\", \"Miles_per_Gallon\").mark_line(color=\"black\")\n",
    "\n",
    "(points + line).interactive()"
   ]
  },
  {
   "cell_type": "markdown",
   "metadata": {},
   "source": [
    "They have also overloaded other symbols so that charts can be shown in relative positions:"
   ]
  },
  {
   "cell_type": "code",
   "execution_count": null,
   "metadata": {},
   "outputs": [],
   "source": [
    "points = (\n",
    "    alt.Chart(cars)\n",
    "    .mark_circle(size=60)\n",
    "    .encode(x=\"Horsepower\", y=\"Miles_per_Gallon\", color=\"Origin\", tooltip=[\"Name\"])\n",
    ")\n",
    "\n",
    "hist = (\n",
    "    alt.Chart(cars)\n",
    "    .mark_bar()\n",
    "    .encode(\n",
    "        x=\"count()\",\n",
    "        y=alt.Y(\"Miles_per_Gallon:Q\", bin=alt.Bin(maxbins=30)),\n",
    "        color=\"Origin:N\",\n",
    "    )\n",
    ")\n",
    "\n",
    "points | hist"
   ]
  },
  {
   "cell_type": "markdown",
   "metadata": {},
   "source": [
    "Note that `:N` tells **altair** to treat the variable preceeding the colon as a nominal value, ditto `:Q` for quantitative values. Most of the time **altair** will guess what you need, but it's easy to specify it if you need to. More complex combinations of chart arrangements may be achieved with the `alt.hconcat` and `alt.vconcat` functions.\n",
    "\n",
    "Let's now return to some of our favourite examples and see how they look in **altair**."
   ]
  },
  {
   "cell_type": "code",
   "execution_count": null,
   "metadata": {},
   "outputs": [],
   "source": [
    "alt.Chart(tidy_df).mark_line().encode(\n",
    "    x=\"Date:T\",\n",
    "    y=\"Real GDP growth, %\",\n",
    "    color=\"Region:N\",\n",
    "    facet=alt.Facet(\"Country:N\", columns=2),\n",
    ")"
   ]
  },
  {
   "cell_type": "code",
   "execution_count": null,
   "metadata": {},
   "outputs": [],
   "source": [
    "alt.Chart(mpg).transform_density(\n",
    "    density=\"cty\", as_=[\"cty\", \"density\"], groupby=[\"drv\"]\n",
    ").mark_area(fillOpacity=0.8).encode(\n",
    "    x=\"cty:Q\",\n",
    "    y=\"density:Q\",\n",
    "    color=\"drv:N\",\n",
    ")"
   ]
  },
  {
   "cell_type": "code",
   "execution_count": null,
   "metadata": {},
   "outputs": [],
   "source": [
    "chart = (\n",
    "    alt.Chart(df)\n",
    "    .mark_point()\n",
    "    .encode(x=\"bill_length_mm\", y=\"bill_depth_mm\", color=\"species:N\")\n",
    ")\n",
    "\n",
    "(\n",
    "    chart\n",
    "    + chart.transform_regression(\"bill_length_mm\", \"bill_depth_mm\", groupby=[\"species\"])\n",
    "    .mark_line()\n",
    "    .interactive()\n",
    ")"
   ]
  },
  {
   "cell_type": "code",
   "execution_count": null,
   "metadata": {},
   "outputs": [],
   "source": [
    "alt.Chart(tips).transform_density(\n",
    "    \"total_bill\", as_=[\"total_bill\", \"density\"], groupby=[\"day\"]\n",
    ").mark_area(orient=\"horizontal\").encode(\n",
    "    y=\"total_bill:Q\",\n",
    "    color=\"day:N\",\n",
    "    x=alt.X(\n",
    "        \"density:Q\",\n",
    "        stack=\"center\",\n",
    "        impute=None,\n",
    "        title=None,\n",
    "        axis=alt.Axis(labels=False, values=[0], grid=False, ticks=True),\n",
    "    ),\n",
    "    column=alt.Column(\n",
    "        \"day:N\",\n",
    "        header=alt.Header(\n",
    "            titleOrient=\"bottom\",\n",
    "            labelOrient=\"bottom\",\n",
    "            labelPadding=0,\n",
    "        ),\n",
    "    ),\n",
    ").properties(\n",
    "    width=100\n",
    ").configure_facet(\n",
    "    spacing=0\n",
    ").configure_view(\n",
    "    stroke=None\n",
    ")"
   ]
  },
  {
   "cell_type": "markdown",
   "metadata": {},
   "source": [
    "I'm not an expert at **altair**, and there are many more (and, frankly, better) examples in their [gallery](https://altair-viz.github.io/gallery/index.html). It's a really rich tool though and, in expert hands, could be used to create the kind of visualisations that you might see in newspaper.\n",
    "\n",
    "But let's just see what someone who *does* know what they're doing can achieve using it using one of their examples (and how poorly South London is served by tube lines!):"
   ]
  },
  {
   "cell_type": "code",
   "execution_count": null,
   "metadata": {},
   "outputs": [],
   "source": [
    "boroughs = alt.topo_feature(data.londonBoroughs.url, \"boroughs\")\n",
    "tubelines = alt.topo_feature(data.londonTubeLines.url, \"line\")\n",
    "centroids = data.londonCentroids.url\n",
    "\n",
    "background = (\n",
    "    alt.Chart(boroughs)\n",
    "    .mark_geoshape(stroke=\"white\", strokeWidth=2)\n",
    "    .encode(\n",
    "        color=alt.value(\"#eee\"),\n",
    "    )\n",
    "    .properties(width=700, height=500)\n",
    ")\n",
    "\n",
    "labels = (\n",
    "    alt.Chart(centroids)\n",
    "    .mark_text()\n",
    "    .encode(\n",
    "        longitude=\"cx:Q\",\n",
    "        latitude=\"cy:Q\",\n",
    "        text=\"bLabel:N\",\n",
    "        size=alt.value(8),\n",
    "        opacity=alt.value(0.6),\n",
    "    )\n",
    "    .transform_calculate(\n",
    "        \"bLabel\",\n",
    "        \"indexof (datum.name,' ') > 0  ? substring(datum.name,0,indexof(datum.name, ' ')) : datum.name\",\n",
    "    )\n",
    ")\n",
    "\n",
    "line_scale = alt.Scale(\n",
    "    domain=[\n",
    "        \"Bakerloo\",\n",
    "        \"Central\",\n",
    "        \"Circle\",\n",
    "        \"District\",\n",
    "        \"DLR\",\n",
    "        \"Hammersmith & City\",\n",
    "        \"Jubilee\",\n",
    "        \"Metropolitan\",\n",
    "        \"Northern\",\n",
    "        \"Piccadilly\",\n",
    "        \"Victoria\",\n",
    "        \"Waterloo & City\",\n",
    "    ],\n",
    "    range=[\n",
    "        \"rgb(137,78,36)\",\n",
    "        \"rgb(220,36,30)\",\n",
    "        \"rgb(255,206,0)\",\n",
    "        \"rgb(1,114,41)\",\n",
    "        \"rgb(0,175,173)\",\n",
    "        \"rgb(215,153,175)\",\n",
    "        \"rgb(106,114,120)\",\n",
    "        \"rgb(114,17,84)\",\n",
    "        \"rgb(0,0,0)\",\n",
    "        \"rgb(0,24,168)\",\n",
    "        \"rgb(0,160,226)\",\n",
    "        \"rgb(106,187,170)\",\n",
    "    ],\n",
    ")\n",
    "\n",
    "lines = (\n",
    "    alt.Chart(tubelines)\n",
    "    .mark_geoshape(filled=False, strokeWidth=2)\n",
    "    .encode(\n",
    "        alt.Color(\n",
    "            \"id:N\", legend=alt.Legend(title=None, orient=\"bottom-right\", offset=0)\n",
    "        )\n",
    "    )\n",
    ")\n",
    "\n",
    "background + labels + lines"
   ]
  },
  {
   "cell_type": "markdown",
   "metadata": {},
   "source": [
    "### Other Data Visualisation Tools\n",
    "\n",
    "There are tons of data visualisation libraries in Python, so many that most cannot be featured in great detail. Here are a few more that may be worth looking into depending on what you need."
   ]
  },
  {
   "cell_type": "markdown",
   "metadata": {},
   "source": [
    "Here's a quick run down of the other libraries that are available:\n",
    "\n",
    "- [**proplot**](https://proplot.readthedocs.io/en/latest/index.html) aims to be \"A lightweight matplotlib wrapper for making beautiful, publication-quality graphics\", though the style is more similar to how people might make plots in the hard sciences rather than the social sciences. The point of this library is to take some of the verbosity out of **matplotlib**.\n",
    "- if you're using very big data in machine learning models, it might be worth looking at Facebook's [**hiplot**](https://github.com/facebookresearch/hiplot)\n",
    "- [Seaborn image](https://seaborn-image.readthedocs.io/en/latest/) does for image data what **seaborn** does for numerical and categorical data\n",
    "- [Lit](https://pair-code.github.io/lit/) provides an open-source platform for visualization and understanding of NLP models (very impressive)\n",
    "- [Wordcloud](https://github.com/amueller/word_cloud) does exactly what you'd expect (but use word clouds *very* sparingly!)\n",
    "- [VisPy](http://vispy.org) for very large datasets plotted with WebGL and GPU acceleration.\n",
    "- [PyQtGraph](http://www.pyqtgraph.org/), a pure-Python graphics library for PyQt5/PySide2 and intended for use in (heavy) mathematics / scientific / engineering applications (not very user friendly).\n",
    "- [bokeh](https://docs.bokeh.org/en/latest/index.html#) offers interactive web plotting in Python.\n",
    "- [HoloViews](https://holoviews.org/), a library dsigned to make data analysis and visualization seamless and simple with very concise commands (builds on bokeh and matplotlib).\n",
    "- [YellowBrick](https://www.scikit-yb.org/en/latest/) for visualisations of machine learning models and metrics.\n",
    "- [facets](https://pair-code.github.io/facets/) for quickly visualising machine learning features (aka regressors). Also useful for exploratory data analysis.\n",
    "- [chartify](https://github.com/spotify/chartify), Spotify's quick plotting library for data scientists.\n",
    "- [scikit-plot](https://github.com/reiinakano/scikit-plot) offers plotting tools designed around Python's wildy popular scikit-learn machine learning library.\n",
    "- [themepy](https://github.com/petermckeeverPerform/themepy) is an open source theme selector / creator and aesthetic manager for Matplotlib.\n",
    "- [scienceplots](https://github.com/garrettj403/SciencePlots) provides scientific plotting styles--some associated with specific journals--for Matplotlib.\n",
    "- [colour](https://www.colour-science.org/) provides professional level colour tools for Python.\n",
    "- [palettable](https://jiffyclub.github.io/palettable/) has extra colour palettes that work well with Matplotlib.\n",
    "- [colorcet](https://colorcet.holoviz.org/) is a collection of perceptually uniform colourmaps.\n",
    "- [missingno](https://github.com/ResidentMario/missingno) for visualization of missing data.\n",
    "- [bashplotlib](https://github.com/glamp/bashplotlib), for when you want to make visualisations directly from the command line (I don't imagine this will be very often, but always good to know the option is there!)\n",
    "\n",
    "You can see an overview of all Python plotting tools at [PyViz](https://pyviz.org/tools.html)."
   ]
  },
  {
   "cell_type": "markdown",
   "metadata": {},
   "source": [
    "## Review\n",
    "\n",
    "If you know:\n",
    "\n",
    "- ✅ a little bit about how to use data visualisation; and\n",
    "- ✅ what some of the most popular libraries for data vis are in Python\n",
    "\n",
    "then you are well on your way to being a whizz with data vis!"
   ]
  }
 ],
 "metadata": {
  "celltoolbar": "Tags",
  "kernelspec": {
   "display_name": "Python 3.8.12 ('codeforecon')",
   "language": "python",
   "name": "python3"
  },
  "language_info": {
   "codemirror_mode": {
    "name": "ipython",
    "version": 3
   },
   "file_extension": ".py",
   "mimetype": "text/x-python",
   "name": "python",
   "nbconvert_exporter": "python",
   "pygments_lexer": "ipython3",
   "version": "3.8.13"
  },
  "vscode": {
   "interpreter": {
    "hash": "c4570b151692b3082981c89d172815ada9960dee4eb0bedb37dc10c95601d3bd"
   }
  }
 },
 "nbformat": 4,
 "nbformat_minor": 4
}
