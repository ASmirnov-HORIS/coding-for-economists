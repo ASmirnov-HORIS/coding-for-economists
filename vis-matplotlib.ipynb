{
 "cells": [
  {
   "cell_type": "markdown",
   "metadata": {},
   "source": [
    "(vis-matplotlib)=\n",
    "# Powerful Data Visualisation with **Matplotlib**\n"
   ]
  },
  {
   "cell_type": "markdown",
   "metadata": {},
   "source": [
    "## Introduction\n",
    "\n",
    "Here you'll see how to make just about any plot you can possibly imagine using the ferociously powerful *imperative* graphing package, **matplotlib**. If you read on to the chapter on {ref}`vis-narrative`, you'll see just how flexible it is. **matplotlib** is the foundation stone of quite a few other data visualisation libraries, such as **plotlnine** and **seaborn**, which shows how much it can do. It was famously used to create the first ever image of a black hole {cite:t}`akiyama2019first`.\n",
    "\n",
    "It's worth saying that **matplotlib** has a very different philosophy than **seaborn** and **plotnine** though. Apart from being *imperative* rather than *declarative*, it also prefers unstacked data to tidy data: so, to create plots quickly, instead of every line you want to plot being stored in a single column called \"country\" as it would be using tidy data, it prefers *each* column to have a different country in.\n",
    "\n",
    "For a more in-depth introduction to **matplotlib**, head over to [this tutorial](https://github.com/rougier/matplotlib-tutorial). This chapter is indebted to that tutorial, to the excellent [**matplotlib** documentation](https://matplotlib.org/stable/tutorials/index.html), and to the book *Scientific Visualization in Matplotlib* {cite:t}`rougier2021scientific`.\n",
    "\n",
    "As ever, we'll start by importing some key packages and initialising any settings:"
   ]
  },
  {
   "cell_type": "code",
   "execution_count": null,
   "metadata": {},
   "outputs": [],
   "source": [
    "import numpy as np\n",
    "import pandas as pd\n",
    "import matplotlib.pyplot as plt\n",
    "\n",
    "# Set seed for random numbers\n",
    "seed_for_prng = 78557\n",
    "prng = np.random.default_rng(seed_for_prng)  # prng=probabilistic random number generator"
   ]
  },
  {
   "cell_type": "code",
   "execution_count": null,
   "id": "51a55374",
   "metadata": {
    "tags": [
     "remove-cell"
    ]
   },
   "outputs": [],
   "source": [
    "import matplotlib_inline.backend_inline\n",
    "\n",
    "# Plot settings\n",
    "plt.style.use(\n",
    "    #\"https://github.com/aeturrell/coding-for-economists/raw/main/plot_style.txt\"\n",
    "    \"plot_style.txt\"\n",
    ")\n",
    "matplotlib_inline.backend_inline.set_matplotlib_formats(\"svg\")\n",
    "\n",
    "# Set max rows displayed for readability\n",
    "pd.set_option(\"display.max_rows\", 6)\n",
    "pd.set_option(\"display.max_columns\", 7)"
   ]
  },
  {
   "cell_type": "markdown",
   "metadata": {},
   "source": [
    "## Understanding Matplotlib"
   ]
  },
  {
   "cell_type": "markdown",
   "metadata": {},
   "source": [
    "You'll see we imported `matplotlib.pyplot as plt` above; this is the main part of **matplotlib** that we'll use in practice.\n",
    "\n",
    "### The **matplotlib** API\n",
    "\n",
    "**matplotlib** {cite:t}`hunter2007matplotlib` has its origin in an attempt to replicate the plotting functionality of the paid programming language Matlab but has since outgrown these roots and we're going to show you how to use it in the most productive way. It is worth saying, though, that the **matplotlib** API (application programming interface) is huge so there's no way we'll be able to cover *everything* it can do.\n",
    "\n",
    "We'l be using the 'object-oriented API' to use **matplotlib**, and this is the recommended way. This just means that we create objects, like *figures* and *axes*, that have state (they remember what you did to them)."
   ]
  },
  {
   "cell_type": "markdown",
   "metadata": {},
   "source": [
    "The object-oriented API is most often used by creating two fundamental objects that are used by almost every chart: the figure and the axes. You should think of the figure object, `fig`, as the canvas on which you can put any number of charts. Each ax (short for 'axis') object is one chart within a figure. Of course, most of the time you're likely only to have one axis per figure, but in the cases when you don't it's a really useful setup. The plotting of elements such as lines, points, bars, and so, are controlled by the `ax` objects while the overall settings are controlled by `fig`.\n",
    "\n",
    "The most simple chart we can think of would be a line plot. Let's see how to do that:"
   ]
  },
  {
   "cell_type": "code",
   "execution_count": null,
   "metadata": {},
   "outputs": [],
   "source": [
    "fig, ax = plt.subplots()  # Get the figure and one axis as a subplot\n",
    "ax.plot(\n",
    "    [1, 2, 3, 4, 5, 6],  # Add some data on the x and y axes\n",
    "    [1, 4, 2, 3, 1, 7],\n",
    ")\n"
   ]
  },
  {
   "cell_type": "markdown",
   "metadata": {},
   "source": [
    "Notice that, unlike **seaborn**, **matplotlib** will happily accept raw data (but will work with dataframes too).\n",
    "\n",
    "```{admonition} Tip\n",
    ":class: tip\n",
    "**Matplotlib** returns an object when used in certain contexts, eg it might return `[<matplotlib.lines.Line2D at...` above. To suppress this, end the command with a semi-colon, `;`, or call `plt.show()` as the last command.\n",
    "```\n",
    "\n",
    "Let's see an example of a scatter plot using this object-oriented approach. Note that we begin in the same way, with getting a figure and an axis. But now we're going to use `ax.scatter` instead, plus throw in a couple of extra settings (can you guess what they do?)."
   ]
  },
  {
   "cell_type": "code",
   "execution_count": null,
   "metadata": {},
   "outputs": [],
   "source": [
    "fig, ax = plt.subplots()        # Create a figure containing a single axes.\n",
    "ax.scatter(\n",
    "    [1, 2, 3, 4, 5, 6],  # Plot some data on the axes.\n",
    "    [1, 4, 2, 3, 1, 7],\n",
    "    s=150,\n",
    "    c=\"b\"\n",
    "    );"
   ]
  },
  {
   "cell_type": "markdown",
   "metadata": {},
   "source": []
  },
  {
   "cell_type": "markdown",
   "metadata": {},
   "source": [
    "`s=150` sets the area of the points (ie the size of each marker), and `c='b'` sets the colour. Many of these features will accept an *array* of values (like `s = [1, 2, 3, 4, 5, 6]`) instead of a single value and will map them into the plot in the way you'd expect. \n",
    "\n",
    "Let's see that in practice. For the sizes, we'll linearly increment the points between 300 and 2000 in 6 steps. For the colours, we'll just type out six distinct values."
   ]
  },
  {
   "cell_type": "code",
   "execution_count": null,
   "metadata": {},
   "outputs": [],
   "source": [
    "fig, ax = plt.subplots()\n",
    "ax.scatter(\n",
    "    [1, 2, 3, 4, 5, 6],\n",
    "    [1, 4, 2, 3, 1, 7],\n",
    "    s=np.linspace(300, 2000, 6),\n",
    "    c=[\"b\", \"r\", \"g\", \"k\", \"cyan\", \"yellow\"],\n",
    "    edgecolors=\"k\",\n",
    "    alpha=0.5,\n",
    ");"
   ]
  },
  {
   "cell_type": "markdown",
   "metadata": {},
   "source": [
    "We also asked for partly transparent points via the `alpha` setting (the default is `alpha=1`, which is a solid colour), and a black (`color='k'`) line-edge colour.\n",
    "\n",
    "As ever, you can call help on a specific command in order to understand what options (keyword arguments) it accepts. And, in Visual Studio Code, you can just hover over the function or method name.\n",
    "\n",
    "Here is what `help` returns when you run it on the `scatter` method:"
   ]
  },
  {
   "cell_type": "code",
   "execution_count": null,
   "metadata": {
    "tags": [
     "output-scroll"
    ]
   },
   "outputs": [],
   "source": [
    "help(ax.scatter)"
   ]
  },
  {
   "cell_type": "markdown",
   "metadata": {},
   "source": [
    "There are a huge number of options for what to put on axes; the table below gives a guide to the most essential ones for 2D plots.\n",
    "\n",
    "| Code | What it does |\n",
    "|---|---|\n",
    "| `Axes.plot` | Plot y versus x as lines and/or markers. |\n",
    "| `Axes.errorbar` | Plot y versus x as lines and/or markers with attached errorbars. |\n",
    "| `Axes.scatter` | A scatter plot of y vs x |\n",
    "| `Axes.step` | Make a step plot. |\n",
    "| `Axes.loglog` | Make a plot with log scaling on both the x and y axis. |\n",
    "| `Axes.semilogx` | Make a plot with log scaling on the x axis. |\n",
    "| `Axes.semilogy` | Make a plot with log scaling on the y axis. |\n",
    "| `Axes.fill_between` | Fill the area between two horizontal curves. |\n",
    "| `Axes.fill_betweenx` | Fill the area between two vertical curves. |\n",
    "| `Axes.bar` | Make a bar plot. |\n",
    "| `Axes.barh` | Make a horizontal bar plot. |\n",
    "| `Axes.bar_label` | Label a bar plot. |\n",
    "| `Axes.stem` | Create a stem plot. |\n",
    "| `Axes.eventplot` | Plot identical parallel lines at the given positions. |\n",
    "| `Axes.pie` | Plot a pie chart. |\n",
    "| `Axes.stackplot` | Draw a stacked area plot. |\n",
    "| `Axes.broken_barh` | Plot a horizontal sequence of rectangles. |\n",
    "| `Axes.vlines` | Plot vertical lines at each x from ymin to ymax. |\n",
    "| `Axes.hlines` | Plot horizontal lines at each y from xmin to xmax. |\n",
    "| `Axes.axhline` | Add a horizontal line across the Axes. |\n",
    "| `Axes.axhspan` | Add a horizontal span (rectangle) across the Axes. |\n",
    "| `Axes.axvline` | Add a vertical line across the Axes. |\n",
    "| `Axes.axvspan` | Add a vertical span (rectangle) across the Axes. |\n",
    "| `Axes.axline` | Add an infinitely long straight line. |\n",
    "| `Axes.fill` | Plot filled polygons. |\n",
    "| `Axes.boxplot` | Draw a box and whisker plot. |\n",
    "| `Axes.violinplot` | Make a violin plot. |\n",
    "| `Axes.violin` | Drawing function for violin plots. |\n",
    "| `Axes.bxp` | Drawing function for box and whisker plots. |\n",
    "| `Axes.hexbin` | Make a 2D hexagonal binning plot of points x, y. |\n",
    "| `Axes.hist` | Compute and plot a histogram. |\n",
    "| `Axes.hist2d` | Make a 2D histogram plot. |\n",
    "| `Axes.stairs` | A stepwise constant function as a line with bounding edges or a filled plot. |\n",
    "| `Axes.contour` | Plot contour lines. |\n",
    "| `Axes.contourf` | Plot filled contours. |\n",
    "\n",
    "Now, it might not seem like it, but you already have the makings of a wide range of **matplotlib** plots. You just need to follow this recipe:\n",
    "\n",
    "1. `fig, ax = plt.subplots()`\n",
    "2. Choose what you want to put on your axis, for example `axes[0].scatter` or `axes[0].plot`\n",
    "3. Put data into the method you chose in 2 in the required format (and remember you can check the documentation to get the right format; either using `help`, hovering over the method name in Visual Studio Code, or heading to the **matplotlib** documentation, where there are often also examples to look at---here are the [examples for hex bins](https://matplotlib.org/stable/api/_as_gen/matplotlib.axes.Axes.hexbin.html#examples-using-matplotlib-axes-axes-hexbin)).\n"
   ]
  },
  {
   "cell_type": "markdown",
   "metadata": {},
   "source": [
    "### Anatomy of a **matplotlib** graph\n",
    "\n",
    "So, you've made a nice plot and now you want to tweak it. Well, **matplotlib** certainly has a LOT of choice when it comes to tweaking! Rather than go through all of the many, many options for customisation, the figure below (from the documentation) gives an overview of the options:\n",
    "\n",
    "![Anatomy of a matplotlib figure](https://matplotlib.org/_images/anatomy.png)"
   ]
  },
  {
   "cell_type": "markdown",
   "metadata": {},
   "source": [
    "Let's run through a few of the most important plot elements:\n",
    "\n",
    "- **Figure**, or 'fig': the figure keeps track of all the child Axes that are on it and a smattering of 'special' artists (titles, figure legends, etc). A figure can contain any number of Axes, but will typically have at least one if it is to be interesting!\n",
    "\n",
    "- **Axes**, or 'ax': this is the plot, the region of the image that traces out the data. A given Figure can contain many Axes, but a given Axes object can only be in one Figure. The Axes contains two (or three in the case of 3D) Axis objects (Axes and Axis are different things!) that record the data limits (you can override these via the `axes.Axes.set_xlim()` and `axes.Axes.set_ylim()` methods). Each Axes object has a title (set via `set_title()`), an x-label (set via `set_xlabel()`), and a y-label set via `set_ylabel()`). When you add, say, a line chart to an Axes object it appears as a Line2D object associated that that axis and it is created by calling a method on an Axes object.\n",
    "\n",
    "- **Axis**: these are the number-line objects that control the limits of what the viewer can see. They also provide the means to access the ticks (the marks on the axis) and ticklabels (strings labeling the ticks). The location of the ticks is determined by a Locator object and the ticklabel strings are formatted by a Formatter. The combination of Locator and Formatter gives very fine control over the tick locations and labels.\n",
    "\n",
    "- **Markers**: these are what are produced by scatter plots.\n",
    "\n",
    "- **Labels and titles**: text to help the viewers of the chart make sense of what they're seeing.\n",
    "\n",
    "- **Legend**: if needed, contains the key to understand the shapes or colours used in lines or markers or bars (or ...) that are on the chart.\n"
   ]
  },
  {
   "cell_type": "markdown",
   "metadata": {},
   "source": [
    "## Customising Charts\n",
    "\n",
    "While the **matplotlib** API is too extensive for us to cover every detail, it's important to know about some standard customisations that you might need to get going.\n",
    "\n",
    "### Limits and Labels\n",
    "\n",
    "We've only seen aspects of the plot that are customisable through the `scatter` keyword so far; let's now see an example that's a bit more real (and useful!) in which we'll want to add labels, a title, and more. Note that **matplotlib** supports LaTeX equations in text.\n",
    "\n",
    "We'll plot some data from the US Midwest demographics dataset.\n"
   ]
  },
  {
   "cell_type": "code",
   "execution_count": null,
   "metadata": {},
   "outputs": [],
   "source": [
    "df = pd.read_csv(\n",
    "    \"https://vincentarelbundock.github.io/Rdatasets/csv/ggplot2/midwest.csv\",\n",
    "    index_col=\"PID\",\n",
    ").drop(\"Unnamed: 0\", axis=1)\n",
    "df.head()"
   ]
  },
  {
   "cell_type": "markdown",
   "metadata": {},
   "source": [
    "Now, as well as a scatter, let's add some context to the chart:"
   ]
  },
  {
   "cell_type": "code",
   "execution_count": null,
   "metadata": {},
   "outputs": [],
   "source": [
    "fig, ax = plt.subplots()\n",
    "ax.scatter(df[\"area\"], df[\"poptotal\"], edgecolors=\"k\", alpha=0.6)  # Make a scatter plot on \"ax\"\n",
    "ax.set_xlim(0, 0.1)  # Set the limits on the x-axis\n",
    "ax.set_ylim(0, 1e6)  # Set the limits on the y-axis\n",
    "ax.set_xlabel(\"Area\")  # Set the x label\n",
    "ax.set_ylabel(\"Population\")  # Set the y label\n",
    "ax.set_title(\"Area vs. Population\", loc=\"right\");  # Add a title and say where it should go"
   ]
  },
  {
   "cell_type": "markdown",
   "metadata": {},
   "source": [
    "We're not quite done with titles. Often it's useful to have a y-axis title that is horizontal, and so easier to read. And, additionally, it's good practice to have a title that tells the viewer what they should take away from the graph. To achieve both of these together, you can i) use `plt.suptitle` for a figure-level title whose position can be fine-tuned using `x` and `y` keyword arguments; and ii) use `ax.set_title` to provide the y-axis label. The chart below demonstrates this."
   ]
  },
  {
   "cell_type": "code",
   "execution_count": null,
   "metadata": {},
   "outputs": [],
   "source": [
    "fig, ax = plt.subplots()\n",
    "ax.scatter(df[\"area\"], df[\"poptotal\"]/1e6, edgecolors=\"k\", alpha=0.6, s=150)\n",
    "ax.set_ylim(0, None)\n",
    "ax.set_xlim(0, None)\n",
    "ax.set_xlabel(\"Area\")\n",
    "ax.set_title(\"Population (millions)\", loc=\"left\", fontsize=14)\n",
    "plt.suptitle(\"Little correlation between population and area\", y=1.02, x=0.45);"
   ]
  },
  {
   "cell_type": "markdown",
   "metadata": {},
   "source": [
    "### Customising Axes\n",
    "\n",
    "Now we have the makings of a basic chart, with axes labels and even a title. \n",
    "\n",
    "But what we know from the data is that \"Area\" is actually a percentage. We could represent this by doing\n",
    "\n",
    "```python\n",
    "ax.set_xlabel(\"Area, %\")\n",
    "```\n",
    "\n",
    "but as **matplotlib** is infinitely customisable, there is another option too---changing the tick labels.\n",
    "\n",
    "On the x-axis, we'll add a percentage suffix on the numbers plus some minor tick marks."
   ]
  },
  {
   "cell_type": "code",
   "execution_count": null,
   "metadata": {},
   "outputs": [],
   "source": [
    "from matplotlib.ticker import AutoMinorLocator\n",
    "\n",
    "fig, ax = plt.subplots()\n",
    "ax.scatter(df[\"area\"], df[\"poptotal\"], edgecolors=\"k\", alpha=0.6)\n",
    "ax.set_xlim(0, 0.1)\n",
    "ax.set_ylim(0, 1e6)\n",
    "ax.set_xlabel(\"Area\")\n",
    "ax.set_ylabel(\"Population\")\n",
    "ax.set_title(\"Area vs. Population\", loc=\"right\")\n",
    "ax.xaxis.set_minor_locator(AutoMinorLocator(4))  # Add minor tick marks, four between every major one\n",
    "ax.xaxis.set_major_formatter(\"{x:.2f}%\");  # Every x value has 2 decimal places and is followed by a '%' sign"
   ]
  },
  {
   "cell_type": "markdown",
   "metadata": {},
   "source": [
    "The `AutoMinorLocator(4)` inserts 4 minor tick marks between each major tick mark. The major formatter is `'{x:.2f}%'`, which says print 2 decimal places followed by a % sign."
   ]
  },
  {
   "cell_type": "markdown",
   "metadata": {},
   "source": [
    "### Using Loops to Achieve Customisation Effects\n",
    "\n",
    "Let's say we want to now differentiate these points with colour according to which state they belong to and add a legend that says which states have which colour. The easiest way to do this is by creating a `for` loop.\n",
    "\n",
    "We're going to loop over `state`. We do it using `for state in df[\"state\"].unique():`, which runs over states. The different colours are provided by passing `cmap=\"colourmap-name\"`. This generates a different colour for each state and cycles to the next colour each time `ax.scatter` is called in the loop.\n",
    "\n",
    "Now we have colour capturing a new dimension of the data (state), we also need to have a legend that shows which colour each state corresponds to. By passing `lable=state` within the `for` loop, we build up state<==>colour equivalences that appears on the chart when we call `ax.legend`."
   ]
  },
  {
   "cell_type": "code",
   "execution_count": null,
   "metadata": {},
   "outputs": [],
   "source": [
    "fig, ax = plt.subplots()\n",
    "for state in df[\"state\"].unique():\n",
    "    xf = df.loc[df[\"state\"] == state]\n",
    "    ax.scatter(\n",
    "        xf[\"area\"],\n",
    "        xf[\"poptotal\"],\n",
    "        cmap=\"Dark2\",  # Note that we have qualitative data so we use a colour map\n",
    "        label=state,\n",
    "        s=100,\n",
    "        edgecolor=\"k\",\n",
    "        alpha=0.8,\n",
    "    )\n",
    "ax.set_xlim(0, 0.1)\n",
    "ax.set_ylim(0, 1e6)\n",
    "ax.set_xlabel(\"Area\")\n",
    "ax.set_ylabel(\"Population\")\n",
    "ax.set_title(\"Area vs. Population\", loc=\"center\")\n",
    "ax.xaxis.set_minor_locator(AutoMinorLocator(4))\n",
    "ax.xaxis.set_major_formatter(\"{x:.2f}%\")\n",
    "ax.legend(title=\"State\", loc=\"upper right\");"
   ]
  },
  {
   "cell_type": "markdown",
   "metadata": {},
   "source": [
    "We used a colourmap to get 5 qualitatively different colours; there are also sequential colormaps for continuous (as opposed to discrete) variables. You can find out more about the colormaps available in base **matplotlib** [here](https://matplotlib.org/3.1.0/tutorials/colors/colormaps.html)."
   ]
  },
  {
   "cell_type": "markdown",
   "metadata": {},
   "source": [
    "### Adding Text Annotations\n",
    "\n",
    "It's possible to point out specific values with a text label. Adding extra information like this can be useful in all kinds of circumstances; for example, showing the biggest or smallest, drawing attention to a particular story, or simply flagging a special value.\n",
    "\n",
    "Let's add a couple of text annotations. Let's say we want to annotate the county with the biggest area, and the county with the highest population. For the biggest area, we'll just pop the label next to the point. First we need to *find* the position of the point:"
   ]
  },
  {
   "cell_type": "code",
   "execution_count": null,
   "metadata": {},
   "outputs": [],
   "source": [
    "max_area_row = df.iloc[df[\"area\"].argmax()]\n",
    "max_area_row"
   ]
  },
  {
   "cell_type": "markdown",
   "metadata": {},
   "source": [
    "Now we use `ax.annotate` to add this information."
   ]
  },
  {
   "cell_type": "code",
   "execution_count": null,
   "metadata": {},
   "outputs": [],
   "source": [
    "fig, ax = plt.subplots()\n",
    "for state in df[\"state\"].unique():\n",
    "    xf = df.loc[df[\"state\"] == state]\n",
    "    ax.scatter(\n",
    "        xf[\"area\"],\n",
    "        xf[\"poptotal\"],\n",
    "        cmap=\"Dark2\",  # Note that we have qualitative data so we use a colour map\n",
    "        label=state,\n",
    "        s=100,\n",
    "        edgecolor=\"k\",\n",
    "        alpha=0.8,\n",
    "    )\n",
    "ax.set_xlim(0, 0.12)\n",
    "ax.set_ylim(0, 1e6)\n",
    "ax.set_xlabel(\"Area\")\n",
    "ax.set_ylabel(\"Population\")\n",
    "ax.set_title(\"Area vs. Population\", loc=\"center\")\n",
    "ax.legend()\n",
    "ax.annotate(\n",
    "    text=f'Max. area: {max_area_row.loc[\"county\"].title()}',\n",
    "    xy=tuple(max_area_row[[\"area\", \"poptotal\"]]),\n",
    "    );"
   ]
  },
  {
   "cell_type": "markdown",
   "metadata": {},
   "source": [
    "What if we want to put text somewhere *other* than right next to the datapoint? We can do that and have an arrow to connect the label to the data point."
   ]
  },
  {
   "cell_type": "code",
   "execution_count": null,
   "metadata": {},
   "outputs": [],
   "source": [
    "max_pop_row = df.iloc[df[\"poptotal\"].argmax()]\n",
    "\n",
    "fig, ax = plt.subplots()\n",
    "for state in df[\"state\"].unique():\n",
    "    xf = df.loc[df[\"state\"] == state]\n",
    "    ax.scatter(\n",
    "        xf[\"area\"],\n",
    "        xf[\"poptotal\"],\n",
    "        cmap=\"Dark2\",  # Note that we have qualitative data so we use a colour map\n",
    "        label=state,\n",
    "        s=100,\n",
    "        edgecolor=\"k\",\n",
    "        alpha=0.8,\n",
    "    )\n",
    "ax.set_xlim(0, 0.12)\n",
    "ax.set_ylim(0, 6e6)\n",
    "ax.set_xlabel(\"Area\")\n",
    "ax.set_ylabel(\"Population\")\n",
    "ax.set_title(\"Area vs. Population\", loc=\"center\")\n",
    "ax.legend()\n",
    "ax.annotate(\n",
    "    text=f'Max. area: {max_area_row.loc[\"county\"].title()}',\n",
    "    xy=tuple(max_area_row[[\"area\", \"poptotal\"]]),\n",
    "    xytext=(-100, 20),\n",
    "    textcoords=\"offset points\",\n",
    "    arrowprops=dict(arrowstyle=\"->\", connectionstyle=\"angle3\")\n",
    "    )\n",
    "ax.annotate(\n",
    "    text=f'Max. pop: {max_pop_row[\"county\"].title()}',\n",
    "    xy=tuple(max_pop_row[[\"area\", \"poptotal\"]]),\n",
    "    xytext=(-100, -50),\n",
    "    textcoords=\"offset points\",\n",
    "    arrowprops=dict(arrowstyle=\"->\", connectionstyle=\"angle3\")\n",
    ");"
   ]
  },
  {
   "cell_type": "markdown",
   "metadata": {},
   "source": [
    "You can get really creative with text annotations---as the image below, taken from [*Scientific Visualisation: Python + Matplotlib*](https://github.com/rougier/scientific-visualization-book) {cite:t}`rougier2021scientific` shows. You can learn more about text annotations [here](https://matplotlib.org/stable/tutorials/text/annotations.html)."
   ]
  },
  {
   "cell_type": "code",
   "execution_count": null,
   "metadata": {
    "tags": [
     "remove-input"
    ]
   },
   "outputs": [],
   "source": [
    "import matplotlib.patheffects as path_effects\n",
    "\n",
    "fig, axes = plt.subplots(1, 2, figsize=(6, 6))\n",
    "plt.setp(axes, xlim=[-1, +1], xticks=[], ylim=[-1, +1], yticks=[], aspect=1)\n",
    "\n",
    "X = prng.normal(0, 0.35, 1000)\n",
    "Y = prng.normal(0, 0.35, 1000)\n",
    "\n",
    "I = prng.choice(len(X), size=5, replace=False)\n",
    "Px, Py = X[I], Y[I]\n",
    "I = np.argsort(Y[I])[::-1]\n",
    "Px, Py = Px[I], Py[I]\n",
    "\n",
    "for ax in axes:\n",
    "    ax.scatter(X, Y, edgecolor=\"None\", facecolor=\"C1\", alpha=0.5)\n",
    "    ax.scatter(Px, Py, edgecolor=\"black\", facecolor=\"white\", zorder=20)\n",
    "    ax.scatter(Px, Py, edgecolor=\"None\", facecolor=\"C1\", alpha=0.5, zorder=30)\n",
    "\n",
    "# first subplot\n",
    "y, dy = 1.0, 0.125\n",
    "style = \"arc,angleA=-0,angleB=0,armA=-100,armB=0,rad=0\"\n",
    "\n",
    "for i in range(len(I)):\n",
    "    text = axes[0].annotate(\n",
    "        \"Point \" + chr(ord(\"A\") + i),\n",
    "        xy=(Px[i], Py[i]),\n",
    "        xycoords=\"data\",\n",
    "        xytext=(0, 30),\n",
    "        textcoords=\"offset points\",\n",
    "        ha=\"center\",\n",
    "        size=\"small\",\n",
    "        arrowprops=dict(\n",
    "            arrowstyle=\"->\", shrinkA=0, shrinkB=5, color=\"black\", linewidth=0.75\n",
    "        ),\n",
    "    )\n",
    "    text.set_path_effects(\n",
    "        [path_effects.Stroke(linewidth=2, foreground=\"white\"), path_effects.Normal()]\n",
    "    )\n",
    "    text.arrow_patch.set_path_effects(\n",
    "        [path_effects.Stroke(linewidth=2, foreground=\"white\"), path_effects.Normal()]\n",
    "    )\n",
    "\n",
    "# 2nd subplot\n",
    "for i in range(len(I)):\n",
    "    text = axes[1].annotate(\n",
    "        \"Point \" + chr(ord(\"A\") + i),\n",
    "        xy=(Px[i], Py[i]),\n",
    "        xycoords=\"data\",\n",
    "        xytext=(1.25, y - i * dy),\n",
    "        textcoords=\"data\",\n",
    "        arrowprops=dict(\n",
    "            arrowstyle=\"->\",\n",
    "            color=\"black\",\n",
    "            linewidth=0.75,\n",
    "            shrinkA=20,\n",
    "            shrinkB=5,\n",
    "            patchA=None,\n",
    "            patchB=None,\n",
    "            connectionstyle=style,\n",
    "        ),\n",
    "    )\n",
    "    text.arrow_patch.set_path_effects(\n",
    "        [path_effects.Stroke(linewidth=2, foreground=\"white\"), path_effects.Normal()]\n",
    "    )\n",
    "plt.tight_layout();"
   ]
  },
  {
   "cell_type": "markdown",
   "metadata": {},
   "source": [
    "### Special Lines\n",
    "\n",
    "Next, we're going to add some special lines to our chart. This is surprisingly useful in practice, and there are a few commands. If we just want a horizontal or vertical line, our best bet is `ax.axhline` and `ax.axvline` respectively.\n",
    "\n",
    "Let's add a special line to our example to show where the *mean area* of counties appears. First we need the mean area:"
   ]
  },
  {
   "cell_type": "code",
   "execution_count": null,
   "metadata": {},
   "outputs": [],
   "source": [
    "mean_county_area = df[\"area\"].mean()\n",
    "mean_county_area"
   ]
  },
  {
   "cell_type": "markdown",
   "metadata": {},
   "source": [
    "Now we're going to add the line, using `ax.axvline`, but also a corresponding annotation that tells viewers what this line is showing. "
   ]
  },
  {
   "cell_type": "code",
   "execution_count": null,
   "metadata": {},
   "outputs": [],
   "source": [
    "\n",
    "fig, ax = plt.subplots()\n",
    "for state in df[\"state\"].unique():\n",
    "    xf = df.loc[df[\"state\"] == state]\n",
    "    ax.scatter(\n",
    "        xf[\"area\"],\n",
    "        xf[\"poptotal\"],\n",
    "        cmap=\"Dark2\",  # Note that we have qualitative data so we use a colour map\n",
    "        label=state,\n",
    "        s=100,\n",
    "        edgecolor=\"k\",\n",
    "        alpha=0.8,\n",
    "    )\n",
    "ax.set_xlim(0, 0.12)\n",
    "ax.set_ylim(0, 6e6)\n",
    "ax.set_xlabel(\"Area\")\n",
    "ax.set_ylabel(\"Population\")\n",
    "ax.set_title(\"Area vs. Population\", loc=\"center\")\n",
    "ax.legend()\n",
    "ax.annotate(\n",
    "    text=f'Max. area: {max_area_row.loc[\"county\"].title()}',\n",
    "    xy=tuple(max_area_row[[\"area\", \"poptotal\"]]),\n",
    "    xytext=(-100, 20),\n",
    "    textcoords=\"offset points\",\n",
    "    arrowprops=dict(arrowstyle=\"->\", connectionstyle=\"angle3\")\n",
    "    )\n",
    "ax.annotate(\n",
    "    text=f'Max. pop: {max_pop_row[\"county\"].title()}',\n",
    "    xy=tuple(max_pop_row[[\"area\", \"poptotal\"]]),\n",
    "    xytext=(20, -50),\n",
    "    textcoords=\"offset points\",\n",
    "    arrowprops=dict(arrowstyle=\"->\", connectionstyle=\"angle3\")\n",
    ")\n",
    "ax.axvline(x=mean_county_area, linewidth=0.5, linestyle='-.')\n",
    "ax.annotate(\"Mean county area\",\n",
    "            xy=(mean_county_area, 0.5),\n",
    "            xycoords=(\"data\", \"axes fraction\"),\n",
    "            rotation=-90,\n",
    "            fontsize=11);"
   ]
  },
  {
   "cell_type": "markdown",
   "metadata": {},
   "source": [
    "Note that the second co-ordinate of the text annotation is in terms of fraction of the figure's y-axis rather than in the co-ordinates of the data. This is useful because now, whatever else changes in the chart, we know the text will appear half-way up the axis. There are several different co-ordinate systems that **matplotlib** accepts depending on what you're trying to achieve:\n",
    "\n",
    "- the co-ordinates of the *data*, eg area and population in the chart above\n",
    "- the fraction of the figure axes, aka the *\"axes fraction\"*\n",
    "- *offset points*, relative to another point (used for text relative to a data point)\n",
    "- various options using *pixels*\n",
    "- and more, including *polar* co-ordinates\n",
    "\n",
    "You can find out a bit more about the different co-ordinate systems on the [**matplotlib** documentation](https://matplotlib.org/stable/tutorials/advanced/transforms_tutorial.html)."
   ]
  },
  {
   "cell_type": "markdown",
   "metadata": {},
   "source": [
    "## Multiple Charts on one Figure\n",
    "\n",
    "One basic bit of functionality that you might need is to put more than one type of information on a single overall figure. This could mean having multiple subplots or it could be about putting more information on a single set of axes.\n",
    "\n",
    "### Mutiples features on one set of axes\n",
    "\n",
    "This is the kind of task where **matplotlib**'s build-what-you-want philosophy starts to win out. To add another feature on an `ax` that you've already created is as simple as calling `ax.<method>` again. You can add as many features as you like.\n",
    "\n",
    "In the example below, we'll call `ax.hist` followed by `ax.plot` to get a the theoretical curve for a normal distribution (aka Gaussian) overlaid on a kernel density estimate based on many draws from the relevant distribution using **numpy**.\n",
    "\n",
    "While we're at it, let's add an equation that describes the theoretical curve."
   ]
  },
  {
   "cell_type": "code",
   "execution_count": null,
   "metadata": {},
   "outputs": [],
   "source": [
    "rand_draws = prng.standard_normal(5000)\n",
    "grid_x = np.linspace(-5, 5, 1000)\n",
    "\n",
    "fig, ax = plt.subplots()\n",
    "ax.hist(rand_draws, bins=50, density=True, label=\"Data\")\n",
    "ax.plot(\n",
    "    grid_x,\n",
    "    1 / np.sqrt(2 * np.pi) * np.exp(-(grid_x ** 2) / 2),\n",
    "    linewidth=4,\n",
    "    label=r\"$\\frac{1}{2\\pi}e^{-\\frac{x^2}{2}}$\"\n",
    "    )\n",
    "ax.legend(fontsize=14);"
   ]
  },
  {
   "cell_type": "markdown",
   "metadata": {},
   "source": [
    "### Facets\n",
    "\n",
    "Another way to put more information on a single figure is to have different *facets*. To illustrate some of the ideas we're about to see, it's going to be useful to have some data. Let's pull down GDP per capita for a selection of countries."
   ]
  },
  {
   "cell_type": "code",
   "execution_count": null,
   "metadata": {},
   "outputs": [],
   "source": [
    "from pandas_datareader import wb\n",
    "\n",
    "start_year = 2000\n",
    "end_year = 2022\n",
    "\n",
    "df = wb.download(\n",
    "    indicator=[\"NY.GDP.PCAP.KD\"],                  # GDP per capita in 2015 USD\n",
    "    country=[\"US\", \"GB\", \"FR\", \"DE\", \"IT\", \"JP\"],\n",
    "    start=start_year,\n",
    "    end=end_year,\n",
    ")\n",
    "df = df.reset_index()                              # drop country as index (for plots)\n",
    "df[\"year\"] = df[\"year\"].astype(\"int\")              # ensure year is a number\n",
    "# index to that country's value in 2000\n",
    "df[\"GDP per capita\"] = df.groupby(\"country\")[\"NY.GDP.PCAP.KD\"].transform(lambda x: 100*x/x.min())\n",
    "df.head()"
   ]
  },
  {
   "cell_type": "markdown",
   "metadata": {},
   "source": [
    "#### Subplots\n",
    "\n",
    "The first way to put data on multiple charts that are part of the same overall figure is to use the built-in subplot function. `plt.subplots()` accepts arguments for `nrows=` and `ncols=` that we can specify the number of figures with. We have six countries so let's do two rows of three columns.\n",
    "\n",
    "We can use a `for` loop to go over these. Actually, though, the structure of the `axes` object that comes back from `plt.subplots` is a 2x3 matrix (or array), and you can't loop over that. But we can loop over a \"flattened\" version of it, which you can create with `axes.flatten()`.\n",
    "\n",
    "Once we're in the loop, we subset the data by country for each loop and add it to the chart using `ax.plot`. Finally, we'll use the same limits for every subplot to make the chart easier to read.\n",
    "\n",
    "Let's see this with the data we just pulled down."
   ]
  },
  {
   "cell_type": "code",
   "execution_count": null,
   "metadata": {},
   "outputs": [],
   "source": [
    "fig, axes = plt.subplots(2, 3, figsize=(10, 6))\n",
    "for i, ax in enumerate(axes.flatten()):\n",
    "    country = df[\"country\"].unique()[i]\n",
    "    country_df = df.loc[df[\"country\"] == country, :]\n",
    "    ax.plot(country_df[\"year\"], country_df[\"GDP per capita\"],\n",
    "            lw=3, color=plt.rcParams['axes.prop_cycle'].by_key()['color'][i])\n",
    "    ax.set_title(country, loc=\"center\", fontsize=13)\n",
    "    ax.yaxis.tick_right()\n",
    "    ax.spines[\"right\"].set_visible(True)\n",
    "    ax.spines[\"left\"].set_visible(False)\n",
    "    ax.spines[\"top\"].set_visible(False)\n",
    "    ax.set_xlim(start_year, end_year)\n",
    "    ax.set_ylim(df[\"GDP per capita\"].min(), df[\"GDP per capita\"].max())\n",
    "fig.suptitle(f\"GDP per capita (indexed to 100 in {start_year})\", fontsize=15)\n",
    "plt.tight_layout();"
   ]
  },
  {
   "cell_type": "markdown",
   "metadata": {},
   "source": [
    "A nice extra you can do with this sort of chart is to add the other countries but greyed out so that it's clear which country is featured but the cross-country comparison is a bit easier."
   ]
  },
  {
   "cell_type": "code",
   "execution_count": null,
   "metadata": {},
   "outputs": [],
   "source": [
    "fig, axes = plt.subplots(2, 3, figsize=(10, 6))\n",
    "for i, ax in enumerate(axes.flatten()):\n",
    "    country = df[\"country\"].unique()[i]\n",
    "    # grab the other countries\n",
    "    other_countries = [x for x in df[\"country\"].unique() if x!=country]\n",
    "    for other in other_countries:\n",
    "        o_country_df = df.loc[df[\"country\"] == other, :]\n",
    "        ax.plot(o_country_df[\"year\"], o_country_df[\"GDP per capita\"],\n",
    "            lw=1, color=\"k\", alpha=0.1)\n",
    "    country_df = df.loc[df[\"country\"] == country, :]\n",
    "    ax.plot(country_df[\"year\"], country_df[\"GDP per capita\"],\n",
    "            lw=3, color=plt.rcParams['axes.prop_cycle'].by_key()['color'][i])\n",
    "    ax.set_title(country, loc=\"center\", fontsize=13)\n",
    "    ax.yaxis.tick_right()\n",
    "    ax.spines[\"right\"].set_visible(True)\n",
    "    ax.spines[\"left\"].set_visible(False)\n",
    "    ax.spines[\"top\"].set_visible(False)\n",
    "    ax.set_xlim(start_year, end_year)\n",
    "    ax.set_ylim(df[\"GDP per capita\"].min(), df[\"GDP per capita\"].max())\n",
    "fig.suptitle(f\"GDP per capita (indexed to 100 in {start_year})\", fontsize=15)\n",
    "plt.tight_layout();"
   ]
  },
  {
   "cell_type": "markdown",
   "metadata": {},
   "source": [
    "#### Gridspec\n",
    "\n",
    "This is a more complicated way of creating multiple subplots, but it is more flexible too: although it still relies on an underlying grid structure, the units of that grid don't have to all equate to a single subplot. It's easier to see than to describe!\n",
    "\n",
    "Here's an example that shows what's possible:"
   ]
  },
  {
   "cell_type": "code",
   "execution_count": null,
   "metadata": {
    "tags": [
     "remove-input"
    ]
   },
   "outputs": [],
   "source": [
    "import matplotlib.gridspec as gridspec\n",
    "\n",
    "p = plt.rcParams\n",
    "p[\"figure.figsize\"] = 10, 7\n",
    "p[\"font.sans-serif\"] = [\"Roboto Condensed\"]\n",
    "p[\"font.weight\"] = \"light\"\n",
    "p[\"ytick.minor.visible\"] = True\n",
    "p[\"xtick.minor.visible\"] = True\n",
    "p[\"axes.grid\"] = True\n",
    "p[\"grid.color\"] = \"0.5\"\n",
    "p[\"grid.linewidth\"] = 0.2\n",
    "\n",
    "\n",
    "X = np.linspace(-np.pi, np.pi, 257, endpoint=True)\n",
    "C, S = np.cos(X), np.sin(X)\n",
    "\n",
    "fig = plt.figure(constrained_layout=True)\n",
    "nrows, ncols = 3, 3\n",
    "gspec = gridspec.GridSpec(ncols=ncols, nrows=nrows, figure=fig)\n",
    "\n",
    "\n",
    "def plot(ax, text):\n",
    "    ax.set_xlim(0, 1)\n",
    "    ax.set_xticks(np.linspace(0, 1, 5))\n",
    "    ax.set_xlabel(\"X Label\", fontsize=10)\n",
    "    ax.set_ylim(0, 1)\n",
    "    ax.set_yticks(np.linspace(0, 1, 5))\n",
    "    ax.set_ylabel(\"Y Label\", fontsize=10)\n",
    "    ax.text(\n",
    "        0.5, 0.5, text, alpha=0.75, ha=\"center\", va=\"center\", weight=\"bold\", size=12\n",
    "    )\n",
    "    ax.set_title(\"Title\", family=\"Roboto\", weight=500, fontsize=12)\n",
    "\n",
    "\n",
    "for i in range(ncols):\n",
    "    plot(plt.subplot(gspec[0, i]), \"subplot(gspec[0,%d])\" % i)\n",
    "for i in range(1, nrows):\n",
    "    plot(plt.subplot(gspec[i, 0]), \"subplot(gspec[%d,0])\" % i)\n",
    "plot(plt.subplot(gspec[1:, 1:]), \"subplot(gspec[1:,1:])\");"
   ]
  },
  {
   "cell_type": "markdown",
   "metadata": {},
   "source": [
    "Let's say we wanted to really feature a single country more than the others: we might want to give it a full height spot. We can do this with `gridspec`.\n",
    "\n",
    "Taking our example, let's \"focus\" on the UK.\n",
    "\n",
    "GRIDSPEC REALLY NEEDED?"
   ]
  },
  {
   "cell_type": "code",
   "execution_count": null,
   "metadata": {},
   "outputs": [],
   "source": [
    "# import matplotlib.gridspec as gridspec\n",
    "\n",
    "# fig = plt.figure(constrained_layout=True)\n",
    "# nrows, ncols = 3, 3\n",
    "# gspec = gridspec.GridSpec(ncols=ncols, nrows=nrows, figure=fig)\n",
    "# # create a list of the five spots we don't want to feature UK on\n",
    "# non_uk_spots = gspec[:1, :1]\n",
    "# axes = [[fig.add_subplot(gspec[i, j]) for i in [0, j]] for j in [0, 1]]\n",
    "# o_countries_df = df.loc[df[\"country\"]!=\"United Kingdom\", :]\n",
    "# o_country_names = o_country_df[\"country\"].unique()\n",
    "# for i, g_now in enumerate(non_uk_spots):\n",
    "#     # grab the other country's data\n",
    "#     o_country = o_country_names[i]\n",
    "#     o_country_df = o_countries_df.loc[o_countries_df[\"country\"]==o_country, :]\n",
    "#     ax = plt.subplot(g_now)\n",
    "#     ax.plot(o_country_df[\"year\"], o_country_df[\"GDP per capita\"],\n",
    "#             lw=1, color=plt.rcParams['axes.prop_cycle'].by_key()['color'][i])\n",
    "#     ax.set_title(country, loc=\"center\", fontsize=13)\n",
    "#     ax.yaxis.tick_right()\n",
    "#     ax.spines[\"right\"].set_visible(True)\n",
    "#     ax.spines[\"left\"].set_visible(False)\n",
    "#     ax.spines[\"top\"].set_visible(False)\n",
    "#     ax.set_xlim(start_year, end_year)\n",
    "#     ax.set_ylim(df[\"GDP per capita\"].min(), df[\"GDP per capita\"].max())\n",
    "# # fig.suptitle(f\"GDP per capita (indexed to 100 in {start_year})\", fontsize=15)\n",
    "# # plt.tight_layout();\n",
    "# plt.show();"
   ]
  },
  {
   "cell_type": "code",
   "execution_count": null,
   "metadata": {},
   "outputs": [],
   "source": [
    "[[(i, j) for i in [0, 1, 2] if i+j<=2] for j in [0, 1, 2]]"
   ]
  },
  {
   "cell_type": "markdown",
   "metadata": {},
   "source": [
    "## A Tour of **matplotlib** plots\n",
    "\n",
    "Let's see a couple of other plot types that are useful, beginning with contour plots:"
   ]
  },
  {
   "cell_type": "markdown",
   "metadata": {},
   "source": [
    "### More Unusual Charts"
   ]
  },
  {
   "cell_type": "code",
   "execution_count": null,
   "metadata": {},
   "outputs": [],
   "source": [
    "def f(x, y):\n",
    "    return np.sin(x) ** 10 + np.cos(10 + y * x) * np.cos(x)\n",
    "\n",
    "\n",
    "x = np.linspace(0, 5, 100)\n",
    "y = np.linspace(0, 5, 100)\n",
    "\n",
    "X, Y = np.meshgrid(x, y)\n",
    "Z = f(X, Y)\n",
    "\n",
    "fig, ax = plt.subplots()\n",
    "cf = ax.contourf(X, Y, Z, cmap=\"plasma\")\n",
    "ax.set_title(r\"$f(x,y) = \\sin^{10}(x) + \\cos(x)\\cos\\left(10 + y\\cdot x\\right)$\")\n",
    "cbar = fig.colorbar(cf)"
   ]
  },
  {
   "cell_type": "markdown",
   "metadata": {},
   "source": [
    "This demonstrates creating a heatmap (or contour plot) with a colour bar legend and a title that's rendered with latex. The heatmap uses a perceptually uniform distribution that makes equal changes look equal; **matplotlib** has a few of these. If you need more colours, check out the packages [**colorcet**](https://colorcet.holoviz.org/) and [**palettable**](https://jiffyclub.github.io/palettable/)."
   ]
  },
  {
   "cell_type": "markdown",
   "metadata": {},
   "source": [
    "### Multiple Charts on One Axis"
   ]
  },
  {
   "cell_type": "markdown",
   "metadata": {},
   "source": [
    "You can do some really quite amazing things using **matplotlib**'s build what you want philosophy. For instance, you can [build a timeline](https://matplotlib.org/3.1.1/gallery/lines_bars_and_markers/timeline.html#sphx-glr-gallery-lines-bars-and-markers-timeline-py), make [charts with polar axes](https://matplotlib.org/3.1.1/gallery/pie_and_polar_charts/polar_bar.html#sphx-glr-gallery-pie-and-polar-charts-polar-bar-py), and create [XKCD style plots](https://matplotlib.org/3.1.1/gallery/showcase/xkcd.html#sphx-glr-gallery-showcase-xkcd-py).\n",
    "\n",
    "One basic bit of functionality that you might need is to put more than one type of information on a single plot. Using the object-oriented API, this is as simple as calling another method on an `ax` that you've already created. In the example below, we'll call `ax.hist` followed by `ax.plot` to get a the theoretical curve for a normal distribution (aka Gaussian) overlaid on a kernel density estimate based on many draws from the relevant distribution using `numpy`."
   ]
  },
  {
   "cell_type": "code",
   "execution_count": null,
   "metadata": {},
   "outputs": [],
   "source": [
    "rand_draws = prng.standard_normal(5000)\n",
    "grid_x = np.linspace(-5, 5, 1000)\n",
    "\n",
    "fig, ax = plt.subplots()\n",
    "ax.hist(rand_draws, bins=50, density=True)\n",
    "ax.plot(grid_x, 1 / np.sqrt(2 * np.pi) * np.exp(-(grid_x ** 2) / 2), linewidth=4);"
   ]
  },
  {
   "cell_type": "markdown",
   "metadata": {},
   "source": [
    "Another important class of plots that we should look at are line charts, especially time series. Let's grab the real GDP time series for the UK and US and look at the year-on-year quarterly growth rates (the first few entries will be `NaN` because we switched to growth space)."
   ]
  },
  {
   "cell_type": "code",
   "execution_count": null,
   "metadata": {},
   "outputs": [],
   "source": [
    "import pandas_datareader.data as web\n",
    "\n",
    "ts_start_date = pd.to_datetime(\"1999-01-01\")\n",
    "\n",
    "df = pd.concat(\n",
    "    [\n",
    "        web.DataReader(\"ticker=RGDP\" + x, \"econdb\", start=ts_start_date)\n",
    "        for x in [\"US\", \"UK\"]\n",
    "    ],\n",
    "    axis=1,\n",
    ")\n",
    "df.columns = [\"US\", \"UK\"]\n",
    "df.index.name = \"Date\"\n",
    "df = 100 * df.pct_change(4)\n",
    "df.head()"
   ]
  },
  {
   "cell_type": "markdown",
   "metadata": {},
   "source": [
    "Okay, now the quick way to plot this would be to simply call `df.plot()`. That works fine and doesn't look too bad: it recognises that it's dealing with a datetime and plots sensible tick labels on the x-axis, and it produces a legend for each of the two time series. But let's say we want to make that plot quickly *and* do some fine-tuning with **matplotlib**: how can we? The answer is to create a `fig` and an `ax` and then to ask our dataframe to use the `ax` we already created to plot the data. We can then carry on using the `ax` object in any way we like."
   ]
  },
  {
   "cell_type": "code",
   "execution_count": null,
   "metadata": {},
   "outputs": [],
   "source": [
    "fig, ax = plt.subplots()\n",
    "df.plot(ax=ax, lw=3)\n",
    "ax.set_title(\"Real GDP growth, %\", loc=\"right\")\n",
    "ax.spines[\"right\"].set_visible(True)\n",
    "ax.spines[\"left\"].set_visible(False)\n",
    "ax.spines[\"top\"].set_visible(False)\n",
    "ax.yaxis.tick_right()  # Put tick marks and tick labels on right-hand side"
   ]
  },
  {
   "cell_type": "markdown",
   "metadata": {},
   "source": [
    "We could also have created this chart by looping through the different countries just as we looped through the difference states in the previous example.\n",
    "\n",
    "Let's also see what happens when we use different limits:"
   ]
  },
  {
   "cell_type": "code",
   "execution_count": null,
   "metadata": {},
   "outputs": [],
   "source": [
    "fig, ax = plt.subplots()\n",
    "df.plot(ax=ax, lw=3)\n",
    "ax.set_title(\"Real GDP growth, %\", loc=\"right\")\n",
    "ax.spines[\"right\"].set_visible(True)\n",
    "ax.spines[\"left\"].set_visible(False)\n",
    "ax.spines[\"top\"].set_visible(False)\n",
    "ax.yaxis.tick_right()  # Put tick marks and tick labels on right-hand side\n",
    "ax.set_xlim(pd.to_datetime(\"2018-01-01\"), pd.to_datetime(\"2021-01-01\"));"
   ]
  },
  {
   "cell_type": "markdown",
   "metadata": {},
   "source": [
    "As you can see, the plot dynamically responded to the shorter time period by putting more details in, here of quarters. You can specify exactly what you want with the tick label formatters that cater to datetimes, but the defaults are pretty well-behaved.\n",
    "\n",
    "Sometimes, you want to show different lines in different panels (or facets, as they are also known). You can do that with **matplotlib** too, though once again it's a build-your-own affair.\n",
    "\n",
    "Let's put these two time series in their own facets to see how it works."
   ]
  },
  {
   "cell_type": "code",
   "execution_count": null,
   "metadata": {},
   "outputs": [],
   "source": [
    "fig, axes = plt.subplots(1, 2)\n",
    "for i, ax in enumerate(axes):\n",
    "    ax.plot(df.index, df.iloc[:, i], lw=3)\n",
    "    ax.set_title(df.columns[i], loc=\"left\")\n",
    "    ax.yaxis.tick_right()\n",
    "    ax.spines[\"right\"].set_visible(True)\n",
    "    ax.spines[\"left\"].set_visible(False)\n",
    "    ax.spines[\"top\"].set_visible(False)\n",
    "    ax.set_ylim(df.min().min(), df.max().max())\n",
    "fig.suptitle(\"Real GDP growth, %\")\n",
    "plt.tight_layout();"
   ]
  },
  {
   "cell_type": "markdown",
   "metadata": {},
   "source": [
    "Quite a few things are happening here. The first is that we asked for more rows and columns from matplotlib using `plt.subplots(nrows, ncolumns)` and instead of returning a single `ax` it returned a list of axes (here of length 2). We then iterated over those axes using enumerate, which gives an integer `i` and an `ax` from the list, and plotted a column on each axis by subsetting the dataframe one column at a time using `df.iloc[:, i]`. Remember that the first position in `iloc` is for the index values (ie the rows), while the second is for the columns. Again, this was quite a lot of code to get a relatively simple chart done! And that's exactly why we're now going to take a look at the declarative library **seaborn** that wraps **matplotlib**."
   ]
  },
  {
   "cell_type": "markdown",
   "metadata": {},
   "source": [
    "## Some Useful Charts for Economics"
   ]
  },
  {
   "cell_type": "markdown",
   "metadata": {},
   "source": [
    "## Advanced Topics\n",
    "\n",
    "### Creating a style that applies to all charts\n",
    "\n"
   ]
  },
  {
   "cell_type": "markdown",
   "metadata": {},
   "source": [
    "## Fun Charts"
   ]
  }
 ],
 "metadata": {
  "celltoolbar": "Tags",
  "kernelspec": {
   "display_name": "Python 3.8.12 ('codeforecon')",
   "language": "python",
   "name": "python3"
  },
  "language_info": {
   "codemirror_mode": {
    "name": "ipython",
    "version": 3
   },
   "file_extension": ".py",
   "mimetype": "text/x-python",
   "name": "python",
   "nbconvert_exporter": "python",
   "pygments_lexer": "ipython3",
   "version": "3.8.13"
  },
  "vscode": {
   "interpreter": {
    "hash": "c4570b151692b3082981c89d172815ada9960dee4eb0bedb37dc10c95601d3bd"
   }
  }
 },
 "nbformat": 4,
 "nbformat_minor": 4
}
