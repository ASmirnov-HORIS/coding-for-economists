{
 "cells": [
  {
   "cell_type": "markdown",
   "metadata": {},
   "source": [
    "# Data Visualisation Guide\n"
   ]
  },
  {
   "cell_type": "markdown",
   "metadata": {},
   "source": [
    "## Introduction\n",
    "\n",
    "In this chapter, we'll examine the tricks and techniques that will make your data visualisations sing.\n",
    "\n",
    "First, let's import the packages we'll need."
   ]
  },
  {
   "cell_type": "code",
   "execution_count": null,
   "metadata": {},
   "outputs": [],
   "source": [
    "import numpy as np\n",
    "import pandas as pd\n",
    "import matplotlib.pyplot as plt\n",
    "import plotly.express as px\n",
    "from plotnine import (\n",
    "    options,\n",
    "    geom_tile,\n",
    "    scale_size,\n",
    "    scale_x_continuous,\n",
    "    scale_y_continuous,\n",
    "    ggplot,\n",
    "    geom_point,\n",
    "    aes,\n",
    "    ggtitle,\n",
    ")\n",
    "from plotnine.scales import scale_fill_brewer\n",
    "\n",
    "# Set seed for reproducibility\n",
    "np.random.seed(10)\n",
    "# Set max rows displayed for readability\n",
    "pd.set_option(\"display.max_rows\", 6)\n",
    "# Plot settings\n",
    "plt.style.use(\n",
    "    \"https://github.com/aeturrell/coding-for-economists/raw/main/plot_style.txt\"\n",
    ")"
   ]
  },
  {
   "cell_type": "markdown",
   "metadata": {},
   "source": [
    "## The Different Types of Visualisation\n",
    "\n",
    "It's useful to think about three different kinds, or levels, of visualisation:\n",
    "\n",
    "- exploratory\n",
    "\n",
    "- scientific\n",
    "\n",
    "- narrative\n",
    "\n",
    "The first, exploratory visualisation, is the kind that you do when you're looking and data and trying to understand it. Just plotting the data is a really good strategy for getting a feel for any issues there might be. This is perhaps most famously demonstrated by *Anscombe's quartet*: four different datasets with the same mean, standard deviation, and correlation but *very* different data distributions."
   ]
  },
  {
   "cell_type": "code",
   "execution_count": null,
   "metadata": {},
   "outputs": [],
   "source": [
    "# TODO hide input\n",
    "x = [10, 8, 13, 9, 11, 14, 6, 4, 12, 7, 5]\n",
    "y1 = [8.04, 6.95, 7.58, 8.81, 8.33, 9.96, 7.24, 4.26, 10.84, 4.82, 5.68]\n",
    "y2 = [9.14, 8.14, 8.74, 8.77, 9.26, 8.10, 6.13, 3.10, 9.13, 7.26, 4.74]\n",
    "y3 = [7.46, 6.77, 12.74, 7.11, 7.81, 8.84, 6.08, 5.39, 8.15, 6.42, 5.73]\n",
    "x4 = [8, 8, 8, 8, 8, 8, 8, 19, 8, 8, 8]\n",
    "y4 = [6.58, 5.76, 7.71, 8.84, 8.47, 7.04, 5.25, 12.50, 5.56, 7.91, 6.89]\n",
    "\n",
    "datasets = {\"I\": (x, y1), \"II\": (x, y2), \"III\": (x, y3), \"IV\": (x4, y4)}\n",
    "\n",
    "fig, axs = plt.subplots(\n",
    "    2,\n",
    "    2,\n",
    "    sharex=True,\n",
    "    sharey=True,\n",
    "    figsize=(4, 4),\n",
    "    gridspec_kw={\"wspace\": 0.08, \"hspace\": 0.08},\n",
    ")\n",
    "axs[0, 0].set(xlim=(0, 20), ylim=(2, 14))\n",
    "axs[0, 0].set(xticks=(0, 10, 20), yticks=(4, 8, 12))\n",
    "\n",
    "for ax, (label, (x, y)) in zip(axs.flat, datasets.items()):\n",
    "    ax.text(0.1, 0.9, label, fontsize=20, transform=ax.transAxes, va=\"top\")\n",
    "    ax.tick_params(direction=\"in\", top=True, right=True)\n",
    "    ax.plot(x, y, \"o\")\n",
    "\n",
    "    # linear regression\n",
    "    p1, p0 = np.polyfit(x, y, deg=1)  # slope, intercept\n",
    "    ax.axline(xy1=(0, p0), slope=p1, color=\"r\", lw=2)\n",
    "\n",
    "    # add text box for the statistics\n",
    "    stats = (\n",
    "        f\"$\\\\mu$ = {np.mean(y):.2f}\\n\"\n",
    "        f\"$\\\\sigma$ = {np.std(y):.2f}\\n\"\n",
    "        f\"$r$ = {np.corrcoef(x, y)[0][1]:.2f}\"\n",
    "    )\n",
    "    bbox = dict(boxstyle=\"round\", fc=\"blanchedalmond\", ec=\"orange\", alpha=0.5)\n",
    "    ax.text(\n",
    "        0.95,\n",
    "        0.07,\n",
    "        stats,\n",
    "        fontsize=9,\n",
    "        bbox=bbox,\n",
    "        transform=ax.transAxes,\n",
    "        horizontalalignment=\"right\",\n",
    "    )\n",
    "\n",
    "plt.suptitle(\"Anscombe's Quartet\")\n",
    "plt.show()"
   ]
  },
  {
   "cell_type": "markdown",
   "metadata": {},
   "source": [
    "Exploratory visualisation is usually quick and dirty, and flexible too. Some exploratory data viz can be automated, and some of the packages we saw in the chapter on {ref}`exploratory-data-analysis` can do this. For an EDA package that's explicitly built with visalisation in mind, check out [SweetViz](https://github.com/fbdesignpro/sweetviz). Beyond you and perhaps your co-authors/collaborators, not many other people should be seeing your exploratory visualisation.\n",
    "\n",
    "The second kind, scientific visualisation, is the prime cut of your exploratory visualisation. It's the kind of plot you might include in a more technical paper, the picture that says a thousand words. I often think of the first image of a black hole {cite}`akiyama2019first` as a prime example of this. You can get away with having a high density of information in a scientific plot and, in short format journals, you may need to. The journal *Physical Review Letters*, which has an 8 page limit, has a classic of this genre in more or less every issue. Ensuring that important values can be accurately read from the plot is especially important in these kinds of charts.\n",
    "\n",
    "The third and final kind is narrative visualisation. This is the one that requires the most thought in the step where you go from the first view to the end product. It's a visualisation that doesn't just show a picture, but gives an insight. These are the kind of visualisations that you might see in the *Financial Times*, *The Economist*, or on the BBC News website. They come with aids that help the viewer focus on the aspects that the creator wanted them to (you can think of these aids or focuses as doing for visualisation what bold font does for text). They're well worth using in your work, especially if you're trying to communicate a particular narrative, and especially if the people you're communicating with don't have deep knowledge of the topic. You might use them in a paper that you hope will have a wide readership, in a blog post summarising your work, or in a report intended for a policymaker."
   ]
  },
  {
   "cell_type": "markdown",
   "metadata": {},
   "source": [
    "## Narrative Data Visualisation\n",
    "\n",
    "As discussed, the name of the game here is to communicate a particular narrative. Let's see what tricks we can use to help do this.\n",
    "\n",
    "### Drawing Attention to Enhance Narrative Visualisation\n",
    "\n",
    "According to data visualisation master Jon Schwabish's book *Better Data Visusalizations* {cite}`schwabish2021better`, there are 16 ways to draw an audience's attention in a chart:\n",
    "\n",
    "1. Shape\n",
    "2. Enclosure\n",
    "3. Line width\n",
    "4. Saturation\n",
    "5. Colour\n",
    "6. Size\n",
    "7. Markings\n",
    "8. Orientation\n",
    "9. Position\n",
    "10. Sharpness\n",
    "11. Connection\n",
    "12. Length\n",
    "13. 3D\n",
    "14. Curvature\n",
    "15. Density\n",
    "16. Closure\n",
    "\n",
    "![Preattentive Visual Processing, by @jschwabish.](https://github.com/aeturrell/coding-for-economists/raw/main/img/preattentive.png) The different ways to trigger preattentive visual processing, by @jschwabish.\n",
    "\n",
    "But be warned: not all of these are equivalent! It's much easier to perceive differences in length than it is differences in, say, volume. So if you want your audience to be able to make comparisons or quantitative assessments, you need to pick what techniques you use from this list carefully. Roughly in order of how easy they are to perceive quantitatively, the features are: one common axis, two axes, length, slope, angle, parts of whole, area, volume, saturation, and hue.\n",
    "\n",
    "**Shape**\n",
    "\n",
    "Shape can draw the eye. One good example of this is a bubble chart, which is a scatter plot (and so has x and y dimensions) that encodes another dimension through the size of the circles used to denote the location in the x-y plane. The most famous examples are probably the gapminder charts as popularised by Prof Hans Rosling.\n",
    "\n",
    "But another good example is the Treemap. The example bleow, different continents are shown in proportion to their population and we very quickly see that Asia contains most of the world's population."
   ]
  },
  {
   "cell_type": "code",
   "execution_count": null,
   "metadata": {},
   "outputs": [],
   "source": [
    "# World Bank CO2 emissions (metric tons per capita)\n",
    "# https://data.worldbank.org/indicator/EN.ATM.CO2E.PC\n",
    "# World Bank pop\n",
    "# https://data.worldbank.org/indicator/SP.POP.TOTL\n",
    "# country and region codes at http://api.worldbank.org/v2/country\n",
    "from pandas_datareader import wb\n",
    "\n",
    "df = wb.download(\n",
    "    indicator=\"EN.ATM.CO2E.PC\",\n",
    "    country=[\"US\", \"CHN\", \"IND\", \"Z4\", \"Z7\"],\n",
    "    start=2017,\n",
    "    end=2017,\n",
    ")\n",
    "df\n",
    "\n",
    "# create dataset\n",
    "df = pd.DataFrame()\n",
    "\n",
    "height = [3, 12, 5, 18, 45]\n",
    "bars = (\"A\", \"B\", \"C\", \"D\", \"E\")\n",
    "\n",
    "# Choose the width of each bar and their positions\n",
    "width = [0.1, 0.2, 3, 1.5, 0.3]\n",
    "x_pos = [0, 0.3, 2, 4.5, 5.5]\n",
    "\n",
    "# Make the plot\n",
    "plt.bar(x_pos, height, width=width)\n",
    "\n",
    "# Create names on the x-axis\n",
    "plt.xticks(x_pos, bars)\n",
    "\n",
    "# Show graphic\n",
    "plt.show()"
   ]
  },
  {
   "cell_type": "code",
   "execution_count": null,
   "metadata": {},
   "outputs": [],
   "source": []
  },
  {
   "cell_type": "code",
   "execution_count": null,
   "metadata": {},
   "outputs": [],
   "source": []
  },
  {
   "cell_type": "markdown",
   "metadata": {},
   "source": [
    "### 2. Enclosure\n",
    "\n",
    "An enclosure is something that wraps around something else. We'll do an enclosure around some special bars within a bar chart to demonstrate this, making use of the barley data from the **vega_datasets** package (part of another visualization library)."
   ]
  },
  {
   "cell_type": "code",
   "execution_count": null,
   "metadata": {},
   "outputs": [],
   "source": [
    "from vega_datasets import data\n",
    "\n",
    "# Grab data\n",
    "barley = data.barley()\n",
    "barley = pd.DataFrame(barley.groupby([\"variety\"])[\"yield\"].sum())\n",
    "barley = barley.sort_values(by=\"yield\")\n",
    "\n",
    "# Decide on special entries\n",
    "relevant_entries = [\"Peatland\", \"Glabron\", \"No. 462\"]\n",
    "# Find key properties of special entries to enclose: we need the\n",
    "# bottom and the width of rectangle\n",
    "min_pos = min([barley.index.get_loc(x) for x in relevant_entries])\n",
    "max_yield = barley.loc[relevant_entries, \"yield\"].max()\n",
    "\n",
    "# plot standard bar chart\n",
    "fig, ax = plt.subplots()\n",
    "ax.barh(barley[\"yield\"].index, barley[\"yield\"], 0.35, zorder=2, alpha=0.3)\n",
    "# add rectangle to **enclose** special values\n",
    "left, bottom, width, height = (0, min_pos - 0.5, max_yield, len(relevant_entries))\n",
    "rect = plt.Rectangle((left, bottom), width, height, alpha=0.3, zorder=1, lw=0)\n",
    "ax.add_patch(rect)\n",
    "# Add text to explain enclosure\n",
    "ax.annotate(\n",
    "    \"Entries we want \\nto draw attention to\",\n",
    "    xy=(max_yield, min_pos + len(relevant_entries) // 2),\n",
    "    xycoords=\"data\",\n",
    "    xytext=(40, 10),\n",
    "    textcoords=\"offset points\",\n",
    "    arrowprops=dict(arrowstyle=\"->\"),\n",
    ")\n",
    "# Tidy up plot\n",
    "ax.set_xlim(350, None)\n",
    "ax.set_xlabel(\"Yield\")\n",
    "ax.set_title(\"Title\")\n",
    "plt.show()"
   ]
  },
  {
   "cell_type": "markdown",
   "metadata": {},
   "source": [
    "### 3. Line Width\n",
    "\n",
    "For this one, let's get the productivity per worker of several developed nations.\n",
    "\n",
    "\n",
    "\n"
   ]
  },
  {
   "cell_type": "code",
   "execution_count": null,
   "metadata": {},
   "outputs": [],
   "source": [
    "import pandasdmx as pdmx\n",
    "\n",
    "# Get productivity data for select countries since 2010\n",
    "oecd = pdmx.Request(\"OECD\")\n",
    "data = oecd.data(\n",
    "    resource_id=\"PDB_LV\",\n",
    "    key=\"GBR+FRA+CAN+ITA+DEU+JPN+USA.T_GDPHRS.CPC/all?startTime=2010\",\n",
    ").to_pandas()\n",
    "df = pd.DataFrame(data).reset_index()\n",
    "# Renormalise to 2014:\n",
    "loc_vals_2014 = df.loc[df[\"TIME_PERIOD\"] == \"2014\", [\"value\", \"LOCATION\"]]\n",
    "loc_vals_2014 = loc_vals_2014.set_index(\"LOCATION\").to_dict()[\"value\"]\n",
    "df[\"value\"] = df.apply(\n",
    "    lambda x: 100 * x[\"value\"] / loc_vals_2014[x[\"LOCATION\"]], axis=1\n",
    ")\n",
    "df.head()"
   ]
  },
  {
   "cell_type": "markdown",
   "metadata": {},
   "source": [
    "Now let's plot all of the countries but highlight just one, for Japan, to be different via its line width."
   ]
  },
  {
   "cell_type": "code",
   "execution_count": null,
   "metadata": {},
   "outputs": [],
   "source": [
    "fig, ax = plt.subplots()\n",
    "for i, country in enumerate(df[\"LOCATION\"].unique()):\n",
    "    df_sub = df[df[\"LOCATION\"] == country]\n",
    "    if country != \"JPN\":\n",
    "        linewidth = 0.8\n",
    "        zorder = 1\n",
    "    else:\n",
    "        linewidth = 5\n",
    "        zorder = 2\n",
    "    ax.plot(\n",
    "        df_sub[\"TIME_PERIOD\"],\n",
    "        df_sub[\"value\"],\n",
    "        label=country,\n",
    "        lw=linewidth,\n",
    "        zorder=zorder,\n",
    "    )\n",
    "ax.set_title(\"Output per hour worked (2014 = 100)\", loc=\"right\")\n",
    "ax.yaxis.tick_right()\n",
    "fig.autofmt_xdate()\n",
    "ax.spines[\"right\"].set_visible(True)\n",
    "ax.spines[\"left\"].set_visible(False)\n",
    "ax.legend(frameon=False)\n",
    "plt.show()"
   ]
  },
  {
   "cell_type": "markdown",
   "metadata": {},
   "source": [
    "## 4. Saturation\n",
    "\n",
    "Saturation is a parameter that controls how intense colours appear. High saturation colours are more vivid. The easiest way to influence saturation in **matplotlib** is to the change the parameter `alpha`, which actually controls transparency. Setting it to zero means that you won't be able to see the feature it relates to at all. You should also note that some types of graphics do not support transparency, for example .eps files: encapsulated postscript, sometimes required by journals for figures."
   ]
  }
 ],
 "metadata": {
  "celltoolbar": "Tags",
  "interpreter": {
   "hash": "671f4d32165728098ed6607f79d86bfe6b725b450a30021a55936f1af379a247"
  },
  "kernelspec": {
   "display_name": "Python 3.8.6 64-bit ('codeforecon': conda)",
   "name": "python3"
  },
  "language_info": {
   "codemirror_mode": {
    "name": "ipython",
    "version": 3
   },
   "file_extension": ".py",
   "mimetype": "text/x-python",
   "name": "python",
   "nbconvert_exporter": "python",
   "pygments_lexer": "ipython3",
   "version": "3.8.6"
  }
 },
 "nbformat": 4,
 "nbformat_minor": 4
}
