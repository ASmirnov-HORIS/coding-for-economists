{
 "cells": [
  {
   "cell_type": "markdown",
   "source": [
    "(wrkflow-rap)=\n",
    "# Reproducible Analysis\n",
    "\n",
    "## Introduction\n",
    "\n",
    "This chapter will tell you about reproducible analysis and what are sometimes called \"reproducible analytical pipelines\", also known as RAPs. This chapter has benefitted from the \"[Quality Assurance of Code for Analysis and Research](https://best-practice-and-impact.github.io/qa-of-code-guidance)\" book produced by the Best Practice and Impact division of the Office for National Statistics.\n",
    "\n",
    "Reproducibility can mean a lot of things to a lot of different people in a lot of different contexts. Here, we're going to think about the reproducibility of analysis performed by code. That excludes external validity and although it might include robust coding practices, it doesn't include robustness checks.\n",
    "\n",
    "It does include Reproducible Analytical Pipelines (RAPs), which are automated analytical processes. At their best, RAPs use elements of software engineering best practice to ensure that analysis is reproducible.\n",
    "\n",
    "There are different levels and aspects of reproducibile analysis, which we will now step through."
   ],
   "metadata": {}
  },
  {
   "cell_type": "markdown",
   "source": [
    "## Using Modular Code\n",
    "\n",
    "(You may have already met this idea before as the DRY, or \"don't repeat yourself\", concept).\n",
    "\n",
    "How you structure your code can itself aid reproducibility. Let's imagine you have a situation where you want to perform two similar analytical tasks in which the only thing that changes are the inputs and outputs. Let's say, for example, that you want to perform a particular set of operations, perhaps the following:\n",
    "\n",
    "> find the mean from the second entry in a list onwards, add 1, divide by the number of entries in the reduced length list and then print the answer as a score\n",
    "\n",
    "Here's one example of that:"
   ],
   "metadata": {}
  },
  {
   "cell_type": "code",
   "execution_count": 2,
   "source": [
    "import numpy as np\n",
    "\n",
    "list1 = [3, 4, 5, 6, 7, 8]\n",
    "score1 = (np.mean(list1[1:]) + 1)/5\n",
    "print(f\"The score is {score1:.2f}\")"
   ],
   "outputs": [
    {
     "output_type": "stream",
     "name": "stdout",
     "text": [
      "The score is 1.40\n"
     ]
    }
   ],
   "metadata": {}
  },
  {
   "cell_type": "markdown",
   "source": [
    "But now we have imagine we have a second set of variables we'd like to run the same logic on. Naively, you might copy and paste the same code again but replace the list with the new one, like this:"
   ],
   "metadata": {}
  },
  {
   "cell_type": "code",
   "execution_count": 3,
   "source": [
    "list2 = [16, 12, 88, 1, 9, 7, 32, 5]\n",
    "score2 = (np.mean(list2[1:]) + 1)/5\n",
    "print(f\"The score is {score2:.2f}\")"
   ],
   "outputs": [
    {
     "output_type": "stream",
     "name": "stdout",
     "text": [
      "The score is 4.60\n"
     ]
    }
   ],
   "metadata": {}
  },
  {
   "cell_type": "markdown",
   "source": [
    "The problem with this is that we repeated the code even though we wanted to perform the same operation, which is not very efficient.\n",
    "\n",
    "We also expect `score1` and `score2` to be using the same operations, but we can't be sure now because *the code is different*. And indeed, in this case, the copy and paste philosophy has gone wrong. Did you spot the mistake? Instead of dividing by the number of entries in the reduced length list, our copy and paste job saw us dividing by the number of entries in the first case (creating `score1`).\n",
    "\n",
    "What we should have done is create modular code, where the same logic is not repeated but *re-used*. In this case, that's best done with a function like follows:"
   ],
   "metadata": {}
  },
  {
   "cell_type": "code",
   "execution_count": 4,
   "source": [
    "def compute_score(list_input):\n",
    "    \"\"\"find the mean from the second entry in a list onwards,\n",
    "    add 1, divide by the number of entries in the reduced\n",
    "    length list and then print the answer as a score.\n",
    "\n",
    "    Args:\n",
    "        list_input (list[float]): A list of numbers\n",
    "    Returns:\n",
    "        score (float): A computed score\n",
    "    \"\"\"\n",
    "    reduced_list = list_input[1:]\n",
    "    score = (np.mean(reduced_list) + 1)/len(reduced_list)\n",
    "    print(f\"The score is {score:.2f}\")\n",
    "\n",
    "# Just to show it works:\n",
    "compute_score(list1)\n",
    "compute_score(list2)"
   ],
   "outputs": [
    {
     "output_type": "stream",
     "name": "stdout",
     "text": [
      "The score is 1.40\n",
      "The score is 3.29\n"
     ]
    }
   ],
   "metadata": {}
  },
  {
   "cell_type": "markdown",
   "source": [
    "We can now be sure that we get *exactly* the same set of operations applied each time because we put the logic into one function that is called for both lists. And, to avoid any copy and paste errors, we switched from hard-coding the divisor to making it part of the logic of the function (by dividing by `len(reduced_list)`).\n",
    "\n",
    "By putting our logic in a function, we've also made what we are trying to do clearer to the reader—and remember, coders, that reader is most likely to be you in a few months time.\n",
    "\n",
    "Functions help with reproducibile analytical pipelines because you can be sure that even if your inputs change slightly, the same logic or set of operations will be run.\n",
    "\n",
    "Of course, functions do not have to be in the same script (the same `.py` file) as the one you are currently writing your code in. Python allows you to import functions from other scripts.\n",
    "\n",
    "A classic example would be if you had a project that was structured like this:\n",
    "\n",
    "```bash\n",
    "📁 project\n",
    "| main.py\n",
    "| utilities.py\n",
    "| figures.py\n",
    "| README.md\n",
    "```\n",
    "\n",
    "where 'project' is a folder, and the files within it are three Python scripts and a markdown document. Your utilities script might have a really useful function in it that you'd like to use in main.py and figures.py too. You can do this! It's possible to do from 'within' your other scripts. It's also surprisingly simple. Your utilities script might look like:"
   ],
   "metadata": {}
  },
  {
   "cell_type": "code",
   "execution_count": 5,
   "source": [
    "# Contents of utilities.py file\n",
    "def really_useful_func(number):\n",
    "    \"\"\"Performs a really useful operation on input number\n",
    "    and returns the result.\"\"\"\n",
    "    return number*10\n"
   ],
   "outputs": [],
   "metadata": {}
  },
  {
   "cell_type": "markdown",
   "source": [
    "While, to use this function in your main.py script, you'd have:"
   ],
   "metadata": {}
  },
  {
   "cell_type": "code",
   "execution_count": 6,
   "source": [
    "# Contents of main.py\n",
    "import utilities as util_mod\n",
    "\n",
    "print(util_mod.really_useful_func(20))"
   ],
   "outputs": [
    {
     "output_type": "stream",
     "name": "stdout",
     "text": [
      "200\n"
     ]
    }
   ],
   "metadata": {}
  },
  {
   "cell_type": "markdown",
   "source": [
    "And, just as valid, you could import the same function from utilities in a different way in figures.py"
   ],
   "metadata": {}
  },
  {
   "cell_type": "code",
   "execution_count": 7,
   "source": [
    "from utilities import really_useful_func\n",
    "\n",
    "print(really_useful_func(30))"
   ],
   "outputs": [
    {
     "output_type": "stream",
     "name": "stdout",
     "text": [
      "300\n"
     ]
    }
   ],
   "metadata": {}
  },
  {
   "cell_type": "markdown",
   "source": [
    "The technical jargon for what you've just done is to use `utilities.py` as a *module* rather than as a script.\n",
    "\n",
    "```{note}\n",
    "If your script is in a different directory, you will need a relative import. Let's say you've set your project's default directory to the folder \"project\", and the module you'd like to import is in a directory useful, so that it's path is `project/useful/utilities.py`. As before, you're running code from the default directory, `project/main.py`. Then you'll need to import the script within `main.py` using the following: `from useful import utilities as utils`.\n",
    "```\n",
    "\n",
    "The reasons for wanting to be able to import functions (or other code) from other scripts are exactly the same as for functions within scripts: so that you only need write the function once to use it everywhere, and so that you can be sure you are running exactly the same set of operations each time.\n",
    "\n",
    "```{note}\n",
    "If you are in the middle of a coding session and you change the code in a module (external script), your Python kernel will not necessarily know that you have changed the external script. You can either restart the Python kernel, but you lose your variables, or use the built-in `importlib` Python package. For example, to reload an external module named `utilities.py` that had been imported via `import utilities as utils`, you would run `import importlib` and, when you wanted to refresh the module, `importlib.reload(utils)`.\n",
    "```"
   ],
   "metadata": {}
  },
  {
   "cell_type": "markdown",
   "source": [
    "## Project Structure\n",
    "\n",
    "The first principle to guide you should be that **each project lives in its own folder**. Everything for that project will appear somewhere under the top level directory. Do not mix projects in the same folder directory.\n",
    "\n",
    "A typical project structure might look like:\n",
    "\n",
    "```bash\n",
    "📁 project\n",
    "|-- README.md\n",
    "|-- requirements.txt\n",
    "|-- data/\n",
    "|   -- raw_data.csv\n",
    "|-- src/\n",
    "|   -- utilities.py\n",
    "|   -- data_cleaning.py\n",
    "|   -- analysis.py\n",
    "|   -- generate_plots_and_tables.py\n",
    "|-- results/\n",
    "|   -- cleaned_data.csv\n",
    "|   -- derived_data.csv\n",
    "|-- outputs/\n",
    "|   -- latex/\n",
    "|       -- paper.tex\n",
    "|       -- slides.tex\n",
    "|   -- floats/\n",
    "|       -- table.tex\n",
    "|       -- time_series_plot.pdf\n",
    "```\n",
    "\n",
    "Let's take a quick tour through this example project's structure, all of which sits in the \"project\" directory.\n",
    "\n",
    "First we have the README.md, a file full of instructions in a simple text format called *markdown* (=\".md\"). Markdown is kind of like a code language for text and is commonly used to write information in coding projects. It can be \"rendered\" (that is, can be displayed not as code but in a form that is intended to be read) by Visual Studio Code using the markdown all in one extension (see the {ref}`code-where` chapter for more on markdown).\n",
    "\n",
    "The next file, \"requirements.txt\", is one we'll be seeing much more of later in this chapter. For now, all you need to do know is that it is a list of all of the Python packages needed to run the project. Sometimes it might be called \"environment.yml\" instead, or sometimes \"pyproject.toml\".\n",
    "\n",
    "Next we have the data, which is the data as you received it, no matter how poor the format (wishful thinking in this example that it might be a clean csv file and not 400 Excel files!). A really important principle here is that **you should not alter raw data** as it comes to you, but instead treat it as read-only. This is so that you can always trace a path from the raw data you began with to the finished product. Incoming data can and does change surprisingly often so if someone else were to do the \"same\" analysis as you and find a different answer, you want to be able to rule out starting with different input datasets as the cause. Or you may find that your data cleaning script needs adjusting, and you need to repeat all of the operations in your project. Or other good reasons. Always keep a copy of the raw data.\n",
    "\n",
    "The next folder is \"src\", which is short for \"source code\", and it's where your code scripts (.py files) or possibly Jupyter Notebooks (.ipynb files) live. These are nicely separate into the functions they perform: cleaning the data, performing the analysis, and summarising the analysis into figures and tables (also known as floats). The other script, \"utilities.py\", might be imported as module that all of the other scripts can use.\n",
    "\n",
    "The results from running the first two scripts are in the \"results\" folder. First we have a file that saves the results from the intermediate step of the cleaning the data (courtesy of running \"data_cleaning.py\"), then we have the results from \"analysis.py\", the derived data. Derived data might be, for example, the final tabular dataset that you use for a regression.\n",
    "\n",
    "Next up is outputs, which is split into \"latex\" and \"floats\".\n",
    "\n",
    "Latex is a typesetting language that is used for writing reports, slides, journal articles, and more. Importantly for coding and replicability, it can be automated (in a way that, say, Word can't be). Another option here would be markdown, which can also be exported to a wide variety of output formats. The text in a Latex report has to be written, we can't automate that (yet), but the figures and tables that are generated by the \"generate_plots_and_tables.py\" script can be automatically inserted. The same goes for slides written in a variant of Latex called Beamer. You can find more information on the process of automating reports and outputs in the chapter on {ref}`wrkflow-automating-outputs`.\n",
    "\n",
    "Floats means, here at least, tables and figures. These also live in the outputs directory, and are put there by the \"generate_plots_and_tables.py\" script.\n",
    "\n",
    "So that's the structure. There is another important principle here, which follows on from the first: **you should be able to dispose of the results, figures, and tables (ie delete them), without worrying**. If you are working on a project and deleting any outputs that are generated by code scripts would scupper everything, then your project is not reproducible. (This is another reason why you should always keep an \"untouched\" version of the raw data.) If it's feasible to do so time-wise, it is good practice to delete and regenerate your outputs regularly to test that your project is indeed reproducible.\n",
    "\n",
    "TODO\n",
    "There are, of course, many variations on this example project structure. You can find \"cookiecutter\" templates out there that will help you structure your own project (some involve answering some questions about what you need, and what you'd like to call project, and so on), or just get inspiration. Some good templates to check out that can help you structure your project are the UK Government data science, [govcookiecutter](https://github.com/ukgovdatascience/govcookiecutter), this comprehensive Python data science project template known as [cookiecutter-data-science](http://drivendata.github.io/cookiecutter-data-science/), and MY COOKIECUTTER. For advanced users looking to build Python packages that others can install, the [hypermodern Python cookiecutter]() is packed full of amazing features and comes highly recommended."
   ],
   "metadata": {}
  },
  {
   "cell_type": "markdown",
   "source": [
    "## Reproducible Analytical Pipelines\n",
    "\n",
    "We've seen how functions and modules can aid the reproducibility of logic. We've seen the kind of folder and file structure that can aid reproducibility of projects too. But the *order* of operations matters as well! Pipelines organise your analysis in a series of steps that, when executed, perform the same series of operations in the same order. If you arrange your code in a reproducible analytical pipelines, you will know that you can send your code to someone else and, when they run it, the same steps will be executed in the same order.\n",
    "\n",
    "In this section, we'll look at the concept in general as well as some tools that can aid you in creating reproducible analytical pipelines.\n",
    "\n",
    "The first principle of RAPs may be a surprise: you shouldn't use the interactive console interactively (eg by jamming, re-running lines, etc, as you go). A RAP should be able to go from start to finish with zero human interaction during execution, and produce consistent results at the end. This is different to when you're still developing a project, and the interactive console is super useful because you're trying things out. But RAP is for prosperity and needs to work without your intervention!\n",
    "\n",
    "### Directed Acyclic Graphs\n",
    "\n",
    "Directed acyclic graphs pop up in lots of contexts. Here, in a RAP context, we're talking about them because the execution order of your code and scripts should form a directed acyclic graph (DAG). A DAG is a directed graph with no directed cycles (closed loops). It consists of vertices and edges (also called arcs), with each edge directed from one vertex to another, such that following those directions will never form a closed loop. The point is that the set of operations that are performed proceeds like water flowing through a series of rapids: one step after another, with no looping back.\n",
    "\n",
    "This is all a bit abstract and it's a lot easier to just take a look at this visualisation of one. We'll use the example from the previous section."
   ],
   "metadata": {}
  },
  {
   "cell_type": "code",
   "execution_count": 3,
   "source": [
    "import networkx as nx\n",
    "import matplotlib.pyplot as plt\n",
    "\n",
    "graph = nx.DiGraph()\n",
    "graph.add_edges_from(\n",
    "    [\n",
    "        (\"Utilities\", \"Clean A\"),\n",
    "        (\"Utilities\", \"Create figures\"),\n",
    "        (\"Get dataset A\", \"Clean A\"),\n",
    "        (\"Get dataset B\", \"Clean B\"),\n",
    "        (\"Clean A\", \"Merge data\"),\n",
    "        (\"Clean B\", \"Merge data\"),\n",
    "        (\"Merge data\", \"Create figures\"),\n",
    "    ]\n",
    ")\n",
    "colour_node = \"#AFCBFF\"\n",
    "fixed_pos = nx.spring_layout(graph, seed=10, k=20, iterations=100)\n",
    "nx.draw(graph, pos=fixed_pos, with_labels=True, node_size=8000, node_color=colour_node,\n",
    "        node_shape=\"s\")\n",
    "plt.xlim(-1.3, 1.3)\n",
    "plt.ylim(-1.3, 1.3)\n",
    "plt.show();"
   ],
   "outputs": [
    {
     "output_type": "display_data",
     "data": {
      "image/png": "[encoded data removed]",
      "text/plain": [
       "<Figure size 432x288 with 1 Axes>"
      ]
     },
     "metadata": {}
    }
   ],
   "metadata": {}
  },
  {
   "cell_type": "code",
   "execution_count": 11,
   "source": [
    "import daft\n",
    "\n",
    "pgm = daft.PGM(node_ec=\"white\", label_params={\"color\": \"white\"})\n",
    "pgm.add_node(\"Omega\", r\"$\\Omega$\", -1, 4)\n",
    "pgm.add_node(\"gamma\", r\"$\\gamma$\", 0, 4)\n",
    "pgm.add_node(\"obs\", r\"$\\epsilon^{\\mathrm{obs}}_n$\", 1, 4, observed=True)\n",
    "pgm.add_node(\"alpha\", r\"$\\alpha$\", 3, 4)\n",
    "pgm.add_node(\"true\", r\"$\\epsilon^{\\mathrm{true}}_n$\", 2, 4)\n",
    "pgm.add_node(\"sigma\", r\"$\\sigma_n$\", 1, 3)\n",
    "pgm.add_node(\"Sigma\", r\"$\\Sigma$\", 0, 3)\n",
    "pgm.add_node(\"x\", r\"$x_n$\", 2, 3, observed=True)\n",
    "pgm.add_plate([0.5, 2.25, 2, 2.25], label=r\"galaxies $n$\")\n",
    "pgm.add_edge(\"Omega\", \"gamma\")\n",
    "pgm.add_edge(\"gamma\", \"obs\")\n",
    "pgm.add_edge(\"alpha\", \"true\")\n",
    "pgm.add_edge(\"true\", \"obs\")\n",
    "pgm.add_edge(\"x\", \"obs\")\n",
    "pgm.add_edge(\"Sigma\", \"sigma\")\n",
    "pgm.add_edge(\"sigma\", \"obs\")\n",
    "\n",
    "pgm.render(dpi=150);"
   ],
   "outputs": [
    {
     "output_type": "display_data",
     "data": {
      "image/png": "[encoded data removed]",
      "text/plain": [
       "<Figure size 555.118x289.37 with 1 Axes>"
      ]
     },
     "metadata": {}
    }
   ],
   "metadata": {}
  },
  {
   "cell_type": "code",
   "execution_count": null,
   "source": [
    "# TODO try dagitty"
   ],
   "outputs": [],
   "metadata": {}
  },
  {
   "cell_type": "markdown",
   "source": [
    "### Scripting Reproducible Analytical Pipelines\n",
    "\n",
    "There's still a manual step in the above logic. Even with the raw data and the folder structure, someone needs to come along and remember to run the (right) three scripts in the right order. But there's no need to leave running the scripts in the right order to chance.\n",
    "\n",
    "There are a few options to automate the execution order of the scripts. One is to write all the scripts as modules with a main script, \"main.py\", that runs everything else. The contents of main.py might look like this:"
   ],
   "metadata": {}
  },
  {
   "cell_type": "markdown",
   "source": [
    "```python\n",
    "\"\"\" main.py: Master script for project \"project\".\n",
    "\"\"\"\n",
    "\n",
    "import data_cleaning as dc\n",
    "import analysis as analysis\n",
    "import generate_plots_and_tables as gen_outputs\n",
    "\n",
    "dc.run()\n",
    "analysis.run()\n",
    "gen_outputs.run()\n",
    "\n",
    "```\n",
    "\n",
    "With this arrangement, all the user has to know (perhaps from the README.md) is that they need to run \"main.py\" and it will take care of the rest. The code writer (often the same person as the user, but not always) does need to take the extra step of creating the relevant \"run\" functions in each of the three script files too though. And they need to ensure that *they* use main.py when generating their results (rather than running the scripts separately), because otherwise there may be differences."
   ],
   "metadata": {}
  },
  {
   "cell_type": "markdown",
   "source": [
    "### Make for Reproducible Analytical Pipelines\n",
    "\n",
    "Make is a command line tool (to learn more about what the command line is, check out {ref}`wrkflow-command-line`) that helps with automating the execution of a series of processes.\n",
    "\n",
    "To get Make, ...\n",
    "\n"
   ],
   "metadata": {}
  },
  {
   "cell_type": "markdown",
   "source": [
    "## Reproducible Python Environments"
   ],
   "metadata": {}
  },
  {
   "cell_type": "markdown",
   "source": [
    "## Reproducible Computational Environments\n",
    "\n",
    "But it works on my computer!"
   ],
   "metadata": {}
  },
  {
   "cell_type": "markdown",
   "source": [
    "## Saving Your Analysis For Prosperity"
   ],
   "metadata": {}
  },
  {
   "cell_type": "markdown",
   "source": [
    "## An Example"
   ],
   "metadata": {}
  }
 ],
 "metadata": {
  "orig_nbformat": 4,
  "language_info": {
   "name": "python",
   "version": "3.8.6",
   "mimetype": "text/x-python",
   "codemirror_mode": {
    "name": "ipython",
    "version": 3
   },
   "pygments_lexer": "ipython3",
   "nbconvert_exporter": "python",
   "file_extension": ".py"
  },
  "kernelspec": {
   "name": "python3",
   "display_name": "Python 3.8.6 64-bit ('codeforecon': conda)"
  },
  "interpreter": {
   "hash": "671f4d32165728098ed6607f79d86bfe6b725b450a30021a55936f1af379a247"
  }
 },
 "nbformat": 4,
 "nbformat_minor": 2
}